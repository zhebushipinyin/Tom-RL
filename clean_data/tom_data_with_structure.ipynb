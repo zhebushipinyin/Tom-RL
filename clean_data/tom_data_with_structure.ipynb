{
 "cells": [
  {
   "cell_type": "code",
   "execution_count": 20,
   "metadata": {},
   "outputs": [],
   "source": [
    "import json\n",
    "import argparse\n",
    "import numpy as np\n",
    "import pandas as pd\n",
    "import seaborn as sns\n",
    "from datasets import load_dataset, Dataset, load_from_disk\n",
    "import matplotlib.pyplot as plt \n",
    "from transformers import AutoTokenizer"
   ]
  },
  {
   "cell_type": "code",
   "execution_count": 21,
   "metadata": {},
   "outputs": [],
   "source": [
    "df = pd.read_parquet('../data/tom/exploretom/train.parquet')\n",
    "dft = pd.read_parquet('../data/tom/exploretom/test.parquet')"
   ]
  },
  {
   "cell_type": "code",
   "execution_count": 22,
   "metadata": {},
   "outputs": [],
   "source": [
    "tokenizer = AutoTokenizer.from_pretrained(\"Qwen/Qwen2.5-0.5B-Instruct\", trust_remote_code=True)"
   ]
  },
  {
   "cell_type": "code",
   "execution_count": 23,
   "metadata": {},
   "outputs": [
    {
     "data": {
      "text/plain": [
       "2662"
      ]
     },
     "execution_count": 23,
     "metadata": {},
     "output_type": "execute_result"
    }
   ],
   "source": [
    "len(dft)"
   ]
  },
  {
   "cell_type": "code",
   "execution_count": 24,
   "metadata": {},
   "outputs": [
    {
     "name": "stdout",
     "output_type": "stream",
     "text": [
      "<class 'pandas.core.frame.DataFrame'>\n",
      "RangeIndex: 10647 entries, 0 to 10646\n",
      "Data columns (total 23 columns):\n",
      " #   Column                                   Non-Null Count  Dtype  \n",
      "---  ------                                   --------------  -----  \n",
      " 0   story_structure                          10647 non-null  object \n",
      " 1   infilled_story                           10647 non-null  object \n",
      " 2   question                                 10647 non-null  object \n",
      " 3   expected_answer                          10647 non-null  object \n",
      " 4   qprop=params                             10647 non-null  object \n",
      " 5   qprop=nth_order                          10647 non-null  int64  \n",
      " 6   qprop=non_unique_mental_state            10647 non-null  bool   \n",
      " 7   sprop=is_false_belief_story_1st          10647 non-null  bool   \n",
      " 8   sprop=is_false_belief_story_1st_and_2nd  10647 non-null  bool   \n",
      " 9   sprop=story_accuracy_1st_raw             10647 non-null  float64\n",
      " 10  sprop=story_accuracy_1st_infilled        10647 non-null  float64\n",
      " 11  sprop=global_idx                         10647 non-null  int64  \n",
      " 12  param=story_type                         10647 non-null  object \n",
      " 13  param=num_stories_total                  10647 non-null  int64  \n",
      " 14  param=max_sentences                      10647 non-null  int64  \n",
      " 15  param=num_people                         10647 non-null  int64  \n",
      " 16  param=num_moves                          10647 non-null  int64  \n",
      " 17  param=num_rooms                          10647 non-null  int64  \n",
      " 18  data_source                              10647 non-null  object \n",
      " 19  prompt                                   10647 non-null  object \n",
      " 20  ability                                  10647 non-null  object \n",
      " 21  reward_model                             10647 non-null  object \n",
      " 22  extra_info                               10647 non-null  object \n",
      "dtypes: bool(3), float64(2), int64(7), object(11)\n",
      "memory usage: 1.7+ MB\n"
     ]
    }
   ],
   "source": [
    "df.info()"
   ]
  },
  {
   "cell_type": "code",
   "execution_count": 25,
   "metadata": {},
   "outputs": [
    {
     "data": {
      "text/plain": [
       "qprop=non_unique_mental_state  qprop=nth_order  param=num_people\n",
       "False                           1               2                    675\n",
       "                                                3                    340\n",
       "                                                4                    287\n",
       "                                2               2                   1003\n",
       "                                                3                   1352\n",
       "                                                4                   1756\n",
       "True                           -1               2                    230\n",
       "                                                3                    250\n",
       "                                                4                    189\n",
       "                                1               2                     52\n",
       "                                                3                    550\n",
       "                                                4                    720\n",
       "                                2               2                     45\n",
       "                                                3                   1115\n",
       "                                                4                   2083\n",
       "Name: prompt, dtype: int64"
      ]
     },
     "execution_count": 25,
     "metadata": {},
     "output_type": "execute_result"
    }
   ],
   "source": [
    "df.groupby(['qprop=non_unique_mental_state','qprop=nth_order',\"param=num_people\"]).prompt.count()"
   ]
  },
  {
   "cell_type": "code",
   "execution_count": 26,
   "metadata": {},
   "outputs": [
    {
     "data": {
      "text/plain": [
       "<Axes: xlabel='sprop=story_accuracy_1st_infilled', ylabel='Count'>"
      ]
     },
     "execution_count": 26,
     "metadata": {},
     "output_type": "execute_result"
    },
    {
     "data": {
      "image/png": "[encoded data removed]",
      "text/plain": [
       "<Figure size 400x200 with 1 Axes>"
      ]
     },
     "metadata": {},
     "output_type": "display_data"
    },
    {
     "data": {
      "image/png": "[encoded data removed]",
      "text/plain": [
       "<Figure size 400x200 with 1 Axes>"
      ]
     },
     "metadata": {},
     "output_type": "display_data"
    },
    {
     "data": {
      "image/png": "[encoded data removed]",
      "text/plain": [
       "<Figure size 400x200 with 1 Axes>"
      ]
     },
     "metadata": {},
     "output_type": "display_data"
    }
   ],
   "source": [
    "_, ax = plt.subplots(1, 1, figsize=(4, 2))\n",
    "sns.histplot(x=df['sprop=story_accuracy_1st_raw'], ax=ax)\n",
    "\n",
    "_, ax = plt.subplots(1, 1, figsize=(4, 2))\n",
    "sns.histplot(x=df['sprop=story_accuracy_1st_infilled'], ax=ax)\n",
    "\n",
    "_, ax = plt.subplots(1, 1, figsize=(4, 2))\n",
    "sns.histplot(x=dft['sprop=story_accuracy_1st_infilled'], ax=ax)"
   ]
  },
  {
   "cell_type": "code",
   "execution_count": 27,
   "metadata": {},
   "outputs": [],
   "source": [
    "df_train = pd.concat([df, df], ignore_index=True)\n",
    "df_train['story'] = np.concatenate([df.infilled_story.values, df.story_structure.values])\n",
    "df_train['story_type']=['infilled_story']*len(df)+ ['story_structure']*len(df)\n",
    "df_train = df_train.sample(frac=1, random_state=42)\n",
    "df_train = df_train.loc[df_train['sprop=story_accuracy_1st_raw']<0.8]\n",
    "df_train.index = range(len(df_train))\n",
    "df_train = df_train.drop(columns=['infilled_story', 'story_structure'])\n",
    "df_train = df_train.rename(columns={'expected_answer':'answer'})\n",
    "\n",
    "df_test = pd.concat([dft, dft], ignore_index=True)\n",
    "df_test['story'] = np.concatenate([dft.infilled_story.values, dft.story_structure.values])\n",
    "df_test['story_type']=['infilled_story']*len(dft)+ ['story_structure']*len(dft)\n",
    "df_test = df_test.drop(columns=['infilled_story', 'story_structure'])\n",
    "df_test.index = range(len(df_test))\n",
    "df_test = df_test.rename(columns={'expected_answer':'answer'})\n",
    "dft = dft.rename(columns={'expected_answer':'answer'})"
   ]
  },
  {
   "cell_type": "code",
   "execution_count": 28,
   "metadata": {},
   "outputs": [
    {
     "data": {
      "text/plain": [
       "0.854419085188316"
      ]
     },
     "execution_count": 28,
     "metadata": {},
     "output_type": "execute_result"
    }
   ],
   "source": [
    "0.5*len(df_train)/len(df)"
   ]
  },
  {
   "cell_type": "code",
   "execution_count": 29,
   "metadata": {},
   "outputs": [
    {
     "data": {
      "text/html": [
       "<div>\n",
       "<style scoped>\n",
       "    .dataframe tbody tr th:only-of-type {\n",
       "        vertical-align: middle;\n",
       "    }\n",
       "\n",
       "    .dataframe tbody tr th {\n",
       "        vertical-align: top;\n",
       "    }\n",
       "\n",
       "    .dataframe thead th {\n",
       "        text-align: right;\n",
       "    }\n",
       "</style>\n",
       "<table border=\"1\" class=\"dataframe\">\n",
       "  <thead>\n",
       "    <tr style=\"text-align: right;\">\n",
       "      <th></th>\n",
       "      <th>qprop=params</th>\n",
       "      <th>param=num_people</th>\n",
       "      <th>data_source</th>\n",
       "    </tr>\n",
       "  </thead>\n",
       "  <tbody>\n",
       "    <tr>\n",
       "      <th>0</th>\n",
       "      <td>(None, 'bag of gourmet coffee beans', 'ground_...</td>\n",
       "      <td>2</td>\n",
       "      <td>2</td>\n",
       "    </tr>\n",
       "    <tr>\n",
       "      <th>1</th>\n",
       "      <td>(None, 'bag of gourmet coffee beans', 'memory-...</td>\n",
       "      <td>2</td>\n",
       "      <td>2</td>\n",
       "    </tr>\n",
       "  </tbody>\n",
       "</table>\n",
       "</div>"
      ],
      "text/plain": [
       "                                        qprop=params  param=num_people  \\\n",
       "0  (None, 'bag of gourmet coffee beans', 'ground_...                 2   \n",
       "1  (None, 'bag of gourmet coffee beans', 'memory-...                 2   \n",
       "\n",
       "   data_source  \n",
       "0            2  \n",
       "1            2  "
      ]
     },
     "execution_count": 29,
     "metadata": {},
     "output_type": "execute_result"
    }
   ],
   "source": [
    "dfi = df_train.groupby(['qprop=params','param=num_people']).data_source.count().reset_index()\n",
    "dfi.head(2)"
   ]
  },
  {
   "cell_type": "code",
   "execution_count": 30,
   "metadata": {},
   "outputs": [
    {
     "data": {
      "text/plain": [
       "2"
      ]
     },
     "execution_count": 30,
     "metadata": {},
     "output_type": "execute_result"
    }
   ],
   "source": [
    "dfi.data_source.min()"
   ]
  },
  {
   "cell_type": "code",
   "execution_count": 31,
   "metadata": {},
   "outputs": [],
   "source": [
    "# 分层去取样\n",
    "df_sample = df_train.groupby(['qprop=params','param=num_people']).apply(lambda x: x.sample(n=2, replace=False), include_groups=False).reset_index()\n",
    "#else\n",
    "#df_sample = df_train.copy()"
   ]
  },
  {
   "cell_type": "code",
   "execution_count": 32,
   "metadata": {},
   "outputs": [
    {
     "data": {
      "text/plain": [
       "answer\n",
       "no      491\n",
       "yes    3363\n",
       "Name: story, dtype: int64"
      ]
     },
     "execution_count": 32,
     "metadata": {},
     "output_type": "execute_result"
    }
   ],
   "source": [
    "df_sample.loc[df_sample.answer.isin(['yes', 'no'])].groupby(['answer']).story.count()"
   ]
  },
  {
   "cell_type": "code",
   "execution_count": 33,
   "metadata": {},
   "outputs": [
    {
     "data": {
      "text/plain": [
       "qprop=non_unique_mental_state  answer\n",
       "False                          yes       2301\n",
       "True                           no         491\n",
       "                               yes       1062\n",
       "Name: story, dtype: int64"
      ]
     },
     "execution_count": 33,
     "metadata": {},
     "output_type": "execute_result"
    }
   ],
   "source": [
    "df_sample.loc[df_sample.answer.isin(['yes', 'no'])].groupby(['qprop=non_unique_mental_state','answer']).story.count()"
   ]
  },
  {
   "cell_type": "code",
   "execution_count": null,
   "metadata": {},
   "outputs": [],
   "source": []
  },
  {
   "cell_type": "code",
   "execution_count": 34,
   "metadata": {},
   "outputs": [
    {
     "data": {
      "text/plain": [
       "14760"
      ]
     },
     "execution_count": 34,
     "metadata": {},
     "output_type": "execute_result"
    }
   ],
   "source": [
    "len(df_sample)"
   ]
  },
  {
   "cell_type": "code",
   "execution_count": 35,
   "metadata": {},
   "outputs": [],
   "source": [
    "SYSTEM_PROMPT = \"\"\"You are a helpful assistant. The assistant first thinks about the reasoning process in the mind and then provides the user with the answer. The reasoning process and answer are enclosed within <think> </think> and <answer> </answer> tags, respectively, i.e., <think> reasoning process here </think><answer> answer here </answer>.\"\"\"\n",
    "\n",
    "XML_COT_FORMAT = \"\"\"Story: {}\\n Question:{}\"\"\""
   ]
  },
  {
   "cell_type": "code",
   "execution_count": 36,
   "metadata": {},
   "outputs": [
    {
     "name": "stdout",
     "output_type": "stream",
     "text": [
      "<class 'pandas.core.frame.DataFrame'>\n",
      "RangeIndex: 14760 entries, 0 to 14759\n",
      "Data columns (total 24 columns):\n",
      " #   Column                                   Non-Null Count  Dtype  \n",
      "---  ------                                   --------------  -----  \n",
      " 0   qprop=params                             14760 non-null  object \n",
      " 1   param=num_people                         14760 non-null  int64  \n",
      " 2   level_2                                  14760 non-null  int64  \n",
      " 3   question                                 14760 non-null  object \n",
      " 4   answer                                   14760 non-null  object \n",
      " 5   qprop=nth_order                          14760 non-null  int64  \n",
      " 6   qprop=non_unique_mental_state            14760 non-null  bool   \n",
      " 7   sprop=is_false_belief_story_1st          14760 non-null  bool   \n",
      " 8   sprop=is_false_belief_story_1st_and_2nd  14760 non-null  bool   \n",
      " 9   sprop=story_accuracy_1st_raw             14760 non-null  float64\n",
      " 10  sprop=story_accuracy_1st_infilled        14760 non-null  float64\n",
      " 11  sprop=global_idx                         14760 non-null  int64  \n",
      " 12  param=story_type                         14760 non-null  object \n",
      " 13  param=num_stories_total                  14760 non-null  int64  \n",
      " 14  param=max_sentences                      14760 non-null  int64  \n",
      " 15  param=num_moves                          14760 non-null  int64  \n",
      " 16  param=num_rooms                          14760 non-null  int64  \n",
      " 17  data_source                              14760 non-null  object \n",
      " 18  prompt                                   14760 non-null  object \n",
      " 19  ability                                  14760 non-null  object \n",
      " 20  reward_model                             14760 non-null  object \n",
      " 21  extra_info                               14760 non-null  object \n",
      " 22  story                                    14760 non-null  object \n",
      " 23  story_type                               14760 non-null  object \n",
      "dtypes: bool(3), float64(2), int64(8), object(11)\n",
      "memory usage: 2.4+ MB\n"
     ]
    }
   ],
   "source": [
    "df_sample.info()"
   ]
  },
  {
   "cell_type": "code",
   "execution_count": 37,
   "metadata": {},
   "outputs": [],
   "source": [
    "def generate_prompt(x, i):\n",
    "    data = { # type: ignore\n",
    "            'prompt': [\n",
    "                {'role': 'system', 'content': SYSTEM_PROMPT},\n",
    "                {'role': 'user', 'content': XML_COT_FORMAT.format(x['story'], x['question'])}\n",
    "            ],\n",
    "            'answer': x['answer']\n",
    "        }\n",
    "    return data"
   ]
  },
  {
   "cell_type": "code",
   "execution_count": 38,
   "metadata": {},
   "outputs": [],
   "source": [
    "data = Dataset.from_pandas(df_sample)\n",
    "test_data = Dataset.from_pandas(df_test)"
   ]
  },
  {
   "cell_type": "code",
   "execution_count": 39,
   "metadata": {},
   "outputs": [
    {
     "name": "stderr",
     "output_type": "stream",
     "text": [
      "Map: 100%|██████████| 14760/14760 [00:01<00:00, 9239.51 examples/s] \n",
      "Map: 100%|██████████| 5324/5324 [00:00<00:00, 10068.63 examples/s]\n"
     ]
    }
   ],
   "source": [
    "data = data.map(generate_prompt, with_indices=True)\n",
    "test_data = test_data.map(generate_prompt, with_indices=True)"
   ]
  },
  {
   "cell_type": "code",
   "execution_count": 40,
   "metadata": {},
   "outputs": [
    {
     "data": {
      "text/plain": [
       "14760"
      ]
     },
     "execution_count": 40,
     "metadata": {},
     "output_type": "execute_result"
    }
   ],
   "source": [
    "len(data['prompt'])"
   ]
  },
  {
   "cell_type": "code",
   "execution_count": 41,
   "metadata": {},
   "outputs": [
    {
     "data": {
      "text/plain": [
       "<Axes: ylabel='Count'>"
      ]
     },
     "execution_count": 41,
     "metadata": {},
     "output_type": "execute_result"
    },
    {
     "data": {
      "image/png": "[encoded data removed]",
      "text/plain": [
       "<Figure size 400x200 with 1 Axes>"
      ]
     },
     "metadata": {},
     "output_type": "display_data"
    }
   ],
   "source": [
    "token_lengths = []\n",
    "for prompt_list in data['prompt']:\n",
    "    # Each prompt is a list of dictionaries, we want the 'content' of the first dict\n",
    "    # Tokenize the content\n",
    "    tokens = tokenizer.apply_chat_template(prompt_list)\n",
    "    token_lengths.append(len(tokens))\n",
    "\n",
    "token_lengths = np.array(token_lengths)\n",
    "_, ax = plt.subplots(1, 1, figsize=(4, 2))\n",
    "sns.histplot(token_lengths)"
   ]
  },
  {
   "cell_type": "code",
   "execution_count": 42,
   "metadata": {},
   "outputs": [
    {
     "data": {
      "text/plain": [
       "14760"
      ]
     },
     "execution_count": 42,
     "metadata": {},
     "output_type": "execute_result"
    }
   ],
   "source": [
    "len(token_lengths)"
   ]
  },
  {
   "cell_type": "code",
   "execution_count": 43,
   "metadata": {},
   "outputs": [
    {
     "data": {
      "text/plain": [
       "279.0"
      ]
     },
     "execution_count": 43,
     "metadata": {},
     "output_type": "execute_result"
    }
   ],
   "source": [
    "np.median(token_lengths)"
   ]
  },
  {
   "cell_type": "code",
   "execution_count": 54,
   "metadata": {},
   "outputs": [],
   "source": [
    "df_train_ = df_sample.iloc[np.arange(len(token_lengths))[token_lengths<384]]\n",
    "df_train_.index = range(len(df_train_))"
   ]
  },
  {
   "cell_type": "code",
   "execution_count": 55,
   "metadata": {},
   "outputs": [],
   "source": [
    "df_train_full_tom = df_train_.loc[df_train_['qprop=non_unique_mental_state']==True].copy()\n",
    "df_train_full_tom.index = range(len(df_train_full_tom))\n",
    "\n",
    "df_train_no_tom = df_train_.loc[df_train_['qprop=non_unique_mental_state']==False].copy()\n",
    "df_train_no_tom.index = range(len(df_train_no_tom))"
   ]
  },
  {
   "cell_type": "code",
   "execution_count": 56,
   "metadata": {},
   "outputs": [
    {
     "name": "stdout",
     "output_type": "stream",
     "text": [
      "0.5842032140081593 0.5697793926481955\n"
     ]
    }
   ],
   "source": [
    "print(df_train_['sprop=story_accuracy_1st_infilled'].mean(), df_train['sprop=story_accuracy_1st_infilled'].mean())"
   ]
  },
  {
   "cell_type": "code",
   "execution_count": 57,
   "metadata": {},
   "outputs": [
    {
     "data": {
      "text/plain": [
       "10151"
      ]
     },
     "execution_count": 57,
     "metadata": {},
     "output_type": "execute_result"
    }
   ],
   "source": [
    "len(df_train_)"
   ]
  },
  {
   "cell_type": "code",
   "execution_count": 59,
   "metadata": {},
   "outputs": [
    {
     "name": "stderr",
     "output_type": "stream",
     "text": [
      "Map: 100%|██████████| 10151/10151 [00:01<00:00, 9739.60 examples/s]\n",
      "Map: 100%|██████████| 4429/4429 [00:00<00:00, 11900.99 examples/s]\n",
      "Map: 100%|██████████| 5722/5722 [00:00<00:00, 9787.36 examples/s] \n"
     ]
    }
   ],
   "source": [
    "data_train = Dataset.from_pandas(df_train_)\n",
    "data_train = data_train.map(generate_prompt, with_indices=True)\n",
    "\n",
    "data_train_full_tom = Dataset.from_pandas(df_train_full_tom)\n",
    "data_train_full_tom = data_train_full_tom.map(generate_prompt, with_indices=True)\n",
    "\n",
    "data_train_no_tom = Dataset.from_pandas(df_train_no_tom)\n",
    "data_train_no_tom = data_train_no_tom.map(generate_prompt, with_indices=True)"
   ]
  },
  {
   "cell_type": "code",
   "execution_count": 60,
   "metadata": {},
   "outputs": [
    {
     "data": {
      "text/plain": [
       "Dataset({\n",
       "    features: ['qprop=params', 'param=num_people', 'level_2', 'question', 'answer', 'qprop=nth_order', 'qprop=non_unique_mental_state', 'sprop=is_false_belief_story_1st', 'sprop=is_false_belief_story_1st_and_2nd', 'sprop=story_accuracy_1st_raw', 'sprop=story_accuracy_1st_infilled', 'sprop=global_idx', 'param=story_type', 'param=num_stories_total', 'param=max_sentences', 'param=num_moves', 'param=num_rooms', 'data_source', 'prompt', 'ability', 'reward_model', 'extra_info', 'story', 'story_type'],\n",
       "    num_rows: 10151\n",
       "})"
      ]
     },
     "execution_count": 60,
     "metadata": {},
     "output_type": "execute_result"
    }
   ],
   "source": [
    "data_train"
   ]
  },
  {
   "cell_type": "code",
   "execution_count": 61,
   "metadata": {},
   "outputs": [
    {
     "data": {
      "text/plain": [
       "<Axes: ylabel='Count'>"
      ]
     },
     "execution_count": 61,
     "metadata": {},
     "output_type": "execute_result"
    },
    {
     "data": {
      "image/png": "[encoded data removed]",
      "text/plain": [
       "<Figure size 400x200 with 1 Axes>"
      ]
     },
     "metadata": {},
     "output_type": "display_data"
    }
   ],
   "source": [
    "token_lengths = []\n",
    "for prompt_list in data_train['prompt']:\n",
    "    # Each prompt is a list of dictionaries, we want the 'content' of the first dict\n",
    "    # Tokenize the content\n",
    "    tokens = tokenizer.apply_chat_template(prompt_list)\n",
    "    token_lengths.append(len(tokens))\n",
    "\n",
    "token_lengths = np.array(token_lengths)\n",
    "_, ax = plt.subplots(1, 1, figsize=(4, 2))\n",
    "sns.histplot(token_lengths)"
   ]
  },
  {
   "cell_type": "code",
   "execution_count": 163,
   "metadata": {},
   "outputs": [
    {
     "name": "stderr",
     "output_type": "stream",
     "text": [
      "Creating parquet from Arrow format: 100%|██████████| 6/6 [00:00<00:00, 208.13ba/s]\n",
      "Creating parquet from Arrow format: 100%|██████████| 11/11 [00:00<00:00, 376.64ba/s]\n"
     ]
    },
    {
     "data": {
      "text/plain": [
       "28987871"
      ]
     },
     "execution_count": 163,
     "metadata": {},
     "output_type": "execute_result"
    }
   ],
   "source": [
    "test_data.to_parquet('cleaned_test_with_structure.parquet')\n",
    "data_train.to_parquet('cleaned_train_with_structure_384.parquet')"
   ]
  },
  {
   "cell_type": "code",
   "execution_count": 62,
   "metadata": {},
   "outputs": [
    {
     "name": "stderr",
     "output_type": "stream",
     "text": [
      "Creating parquet from Arrow format: 100%|██████████| 5/5 [00:00<00:00, 323.07ba/s]\n",
      "Creating parquet from Arrow format: 100%|██████████| 6/6 [00:00<00:00, 316.37ba/s]\n"
     ]
    },
    {
     "data": {
      "text/plain": [
       "16512034"
      ]
     },
     "execution_count": 62,
     "metadata": {},
     "output_type": "execute_result"
    }
   ],
   "source": [
    "data_train_full_tom.to_parquet('cleaned_train_ft_with_structure_384.parquet')\n",
    "data_train_no_tom.to_parquet('cleaned_train_nt_with_structure_384.parquet')"
   ]
  },
  {
   "cell_type": "code",
   "execution_count": 63,
   "metadata": {},
   "outputs": [
    {
     "name": "stderr",
     "output_type": "stream",
     "text": [
      "Generating train split: 4429 examples [00:00, 356802.64 examples/s]\n"
     ]
    }
   ],
   "source": [
    "train_test_ds = load_dataset('parquet', data_files='cleaned_train_ft_with_structure_384.parquet', split='train[:50%]')"
   ]
  },
  {
   "cell_type": "code",
   "execution_count": 32,
   "metadata": {},
   "outputs": [
    {
     "data": {
      "text/plain": [
       "Dataset({\n",
       "    features: ['qprop=params', 'param=num_people', 'level_2', 'question', 'answer', 'qprop=nth_order', 'qprop=non_unique_mental_state', 'sprop=is_false_belief_story_1st', 'sprop=is_false_belief_story_1st_and_2nd', 'sprop=story_accuracy_1st_raw', 'sprop=story_accuracy_1st_infilled', 'sprop=global_idx', 'param=story_type', 'param=num_stories_total', 'param=max_sentences', 'param=num_moves', 'param=num_rooms', 'data_source', 'prompt', 'ability', 'reward_model', 'extra_info', 'story', 'story_type'],\n",
       "    num_rows: 5723\n",
       "})"
      ]
     },
     "execution_count": 32,
     "metadata": {},
     "output_type": "execute_result"
    }
   ],
   "source": [
    "data_train_full_tom"
   ]
  },
  {
   "cell_type": "code",
   "execution_count": 165,
   "metadata": {},
   "outputs": [
    {
     "data": {
      "text/plain": [
       "Dataset({\n",
       "    features: ['qprop=params', 'param=num_people', 'level_2', 'question', 'answer', 'qprop=nth_order', 'qprop=non_unique_mental_state', 'sprop=is_false_belief_story_1st', 'sprop=is_false_belief_story_1st_and_2nd', 'sprop=story_accuracy_1st_raw', 'sprop=story_accuracy_1st_infilled', 'sprop=global_idx', 'param=story_type', 'param=num_stories_total', 'param=max_sentences', 'param=num_moves', 'param=num_rooms', 'data_source', 'prompt', 'ability', 'reward_model', 'extra_info', 'story', 'story_type'],\n",
       "    num_rows: 10145\n",
       "})"
      ]
     },
     "execution_count": 165,
     "metadata": {},
     "output_type": "execute_result"
    }
   ],
   "source": [
    "data_train"
   ]
  },
  {
   "cell_type": "code",
   "execution_count": 166,
   "metadata": {},
   "outputs": [
    {
     "data": {
      "text/plain": [
       "<Axes: ylabel='count'>"
      ]
     },
     "execution_count": 166,
     "metadata": {},
     "output_type": "execute_result"
    },
    {
     "data": {
      "image/png": "[encoded data removed]",
      "text/plain": [
       "<Figure size 640x480 with 1 Axes>"
      ]
     },
     "metadata": {},
     "output_type": "display_data"
    }
   ],
   "source": [
    "sns.countplot(x=data_train['story_type'])"
   ]
  },
  {
   "cell_type": "code",
   "execution_count": null,
   "metadata": {},
   "outputs": [],
   "source": []
  }
 ],
 "metadata": {
  "kernelspec": {
   "display_name": "vllm",
   "language": "python",
   "name": "python3"
  },
  "language_info": {
   "codemirror_mode": {
    "name": "ipython",
    "version": 3
   },
   "file_extension": ".py",
   "mimetype": "text/x-python",
   "name": "python",
   "nbconvert_exporter": "python",
   "pygments_lexer": "ipython3",
   "version": "3.10.16"
  }
 },
 "nbformat": 4,
 "nbformat_minor": 2
}
