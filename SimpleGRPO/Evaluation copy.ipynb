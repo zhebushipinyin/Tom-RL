{
 "cells": [
  {
   "cell_type": "code",
   "execution_count": 2,
   "metadata": {},
   "outputs": [
    {
     "name": "stderr",
     "output_type": "stream",
     "text": [
      "/home/yilong/miniconda3/envs/vllm/lib/python3.10/site-packages/tqdm/auto.py:21: TqdmWarning: IProgress not found. Please update jupyter and ipywidgets. See https://ipywidgets.readthedocs.io/en/stable/user_install.html\n",
      "  from .autonotebook import tqdm as notebook_tqdm\n"
     ]
    },
    {
     "name": "stdout",
     "output_type": "stream",
     "text": [
      "INFO 03-12 10:05:29 __init__.py:190] Automatically detected platform cuda.\n"
     ]
    },
    {
     "name": "stderr",
     "output_type": "stream",
     "text": [
      "2025-03-12 10:05:29,419\tINFO util.py:154 -- Missing packages: ['ipywidgets']. Run `pip install -U ipywidgets`, then restart the notebook server for rich notebook output.\n"
     ]
    }
   ],
   "source": [
    "%load_ext autoreload\n",
    "%autoreload 2\n",
    "\n",
    "import pandas as pd\n",
    "import seaborn as sns\n",
    "import numpy as np\n",
    "import matplotlib.pyplot as plt \n",
    "from vllm import LLM, SamplingParams\n"
   ]
  },
  {
   "cell_type": "code",
   "execution_count": 3,
   "metadata": {},
   "outputs": [
    {
     "name": "stdout",
     "output_type": "stream",
     "text": [
      "INFO 03-12 10:05:32 config.py:542] This model supports multiple tasks: {'score', 'generate', 'classify', 'reward', 'embed'}. Defaulting to 'generate'.\n",
      "INFO 03-12 10:05:32 llm_engine.py:234] Initializing a V0 LLM engine (v0.7.2) with config: model='outputs/Qwen-0.5B-GRPO-HI/checkpoint-500', speculative_config=None, tokenizer='outputs/Qwen-0.5B-GRPO-HI/checkpoint-500', skip_tokenizer_init=False, tokenizer_mode=auto, revision=None, override_neuron_config=None, tokenizer_revision=None, trust_remote_code=False, dtype=torch.bfloat16, max_seq_len=32768, download_dir=None, load_format=auto, tensor_parallel_size=1, pipeline_parallel_size=1, disable_custom_all_reduce=False, quantization=None, enforce_eager=False, kv_cache_dtype=auto,  device_config=cuda, decoding_config=DecodingConfig(guided_decoding_backend='xgrammar'), observability_config=ObservabilityConfig(otlp_traces_endpoint=None, collect_model_forward_time=False, collect_model_execute_time=False), seed=0, served_model_name=outputs/Qwen-0.5B-GRPO-HI/checkpoint-500, num_scheduler_steps=1, multi_step_stream_outputs=True, enable_prefix_caching=False, chunked_prefill_enabled=False, use_async_output_proc=True, disable_mm_preprocessor_cache=False, mm_processor_kwargs=None, pooler_config=None, compilation_config={\"splitting_ops\":[],\"compile_sizes\":[],\"cudagraph_capture_sizes\":[256,248,240,232,224,216,208,200,192,184,176,168,160,152,144,136,128,120,112,104,96,88,80,72,64,56,48,40,32,24,16,8,4,2,1],\"max_capture_size\":256}, use_cached_outputs=False, \n",
      "WARNING 03-12 10:05:33 interface.py:284] Using 'pin_memory=False' as WSL is detected. This may slow down the performance.\n",
      "INFO 03-12 10:05:33 cuda.py:230] Using Flash Attention backend.\n",
      "INFO 03-12 10:05:33 model_runner.py:1110] Starting to load model outputs/Qwen-0.5B-GRPO-HI/checkpoint-500...\n"
     ]
    },
    {
     "name": "stderr",
     "output_type": "stream",
     "text": [
      "Loading safetensors checkpoint shards:   0% Completed | 0/1 [00:00<?, ?it/s]\n",
      "Loading safetensors checkpoint shards: 100% Completed | 1/1 [00:00<00:00,  2.06it/s]\n",
      "Loading safetensors checkpoint shards: 100% Completed | 1/1 [00:00<00:00,  2.06it/s]\n"
     ]
    },
    {
     "name": "stdout",
     "output_type": "stream",
     "text": [
      "INFO 03-12 10:05:34 model_runner.py:1115] Loading model weights took 0.9277 GB\n"
     ]
    },
    {
     "name": "stderr",
     "output_type": "stream",
     "text": [
      "\n"
     ]
    },
    {
     "name": "stdout",
     "output_type": "stream",
     "text": [
      "INFO 03-12 10:05:35 worker.py:267] Memory profiling takes 0.49 seconds\n",
      "INFO 03-12 10:05:35 worker.py:267] the current vLLM instance can use total_gpu_memory (23.99GiB) x gpu_memory_utilization (0.90) = 21.59GiB\n",
      "INFO 03-12 10:05:35 worker.py:267] model weights take 0.93GiB; non_torch_memory takes 0.08GiB; PyTorch activation peak memory takes 1.44GiB; the rest of the memory reserved for KV Cache is 19.14GiB.\n",
      "INFO 03-12 10:05:35 executor_base.py:110] # CUDA blocks: 104553, # CPU blocks: 21845\n",
      "INFO 03-12 10:05:35 executor_base.py:115] Maximum concurrency for 32768 tokens per request: 51.05x\n",
      "INFO 03-12 10:05:35 model_runner.py:1434] Capturing cudagraphs for decoding. This may lead to unexpected consequences if the model is not static. To run the model in eager mode, set 'enforce_eager=True' or use '--enforce-eager' in the CLI. If out-of-memory error occurs during cudagraph capture, consider decreasing `gpu_memory_utilization` or switching to eager mode. You can also reduce the `max_num_seqs` as needed to decrease memory usage.\n"
     ]
    },
    {
     "name": "stderr",
     "output_type": "stream",
     "text": [
      "Capturing CUDA graph shapes: 100%|██████████| 35/35 [00:08<00:00,  4.00it/s]"
     ]
    },
    {
     "name": "stdout",
     "output_type": "stream",
     "text": [
      "INFO 03-12 10:05:44 model_runner.py:1562] Graph capturing finished in 9 secs, took 0.05 GiB\n",
      "INFO 03-12 10:05:44 llm_engine.py:431] init engine (profile, create kv cache, warmup model) took 10.00 seconds\n"
     ]
    },
    {
     "name": "stderr",
     "output_type": "stream",
     "text": [
      "\n"
     ]
    }
   ],
   "source": [
    "#llm = LLM(model=\"outputs/Qwen-0.5B-GRPO-Tom/checkpoint-563\")\n",
    "#llm = LLM(model=\"outputs/Qwen-0.5B-GRPO-Tom-512/checkpoint-773\")\n",
    "#llm = LLM(model=\"outputs/Qwen-0.5B-GRPO-Tom-512/checkpoint-300\")\n",
    "#llm = LLM(model=\"outputs/Qwen-0.5B-GRPO-Tom-WS/checkpoint-1268\")\n",
    "#llm = LLM(model=\"outputs/Qwen-0.5B-GRPO-Tom-WS/checkpoint-700\")\n",
    "#llm = LLM(model=\"outputs/Qwen-0.5B-GRPO-Tom-FT-WS/checkpoint-400\")\n",
    "llm = LLM(model=\"outputs/Qwen-0.5B-GRPO-HI/checkpoint-500\")\n",
    "#llm = LLM(model=\"outputs/Qwen-0.5B-GRPO-TomC-FT-WS/checkpoint-200\")\n"
   ]
  },
  {
   "cell_type": "code",
   "execution_count": 4,
   "metadata": {},
   "outputs": [],
   "source": [
    "sampling_params = SamplingParams(temperature=0.6, max_tokens=512, top_p = 0.95)"
   ]
  },
  {
   "cell_type": "markdown",
   "metadata": {},
   "source": [
    "# read data"
   ]
  },
  {
   "cell_type": "code",
   "execution_count": 5,
   "metadata": {},
   "outputs": [],
   "source": [
    "from datasets import load_dataset, Dataset\n",
    "import re\n",
    "from tqdm import tqdm\n",
    "import json"
   ]
  },
  {
   "cell_type": "code",
   "execution_count": 6,
   "metadata": {},
   "outputs": [],
   "source": [
    "def extract_xml_answer(text: str) -> str:\n",
    "    answer_pattern = r'<answer>(.*?)</answer>'\n",
    "    matches = list(re.finditer(answer_pattern, text, re.DOTALL))\n",
    "    if not matches:\n",
    "        return None\n",
    "        \n",
    "    final_answer = matches[-1].group(1).strip()\n",
    "    return final_answer\n",
    "\n",
    "\n",
    "\n",
    "def normalize_answer(answer: str) -> str:\n",
    "    \"\"\"Normalizes the answer text for better comparison.\n",
    "    Args:\n",
    "        answer: Raw answer text\n",
    "    Returns:\n",
    "        Normalized answer text\n",
    "    \"\"\"\n",
    "    if answer is None:\n",
    "        return None\n",
    "    # Convert to lowercase\n",
    "    normalized = answer.lower()\n",
    "    # Remove extra whitespace\n",
    "    normalized = re.sub(r'\\s+', ' ', normalized).strip()\n",
    "    # Remove punctuation that doesn't affect meaning\n",
    "    normalized = re.sub(r'[.,;:!?]', '', normalized)\n",
    "    return normalized\n"
   ]
  },
  {
   "cell_type": "code",
   "execution_count": 7,
   "metadata": {},
   "outputs": [],
   "source": [
    "def reward_func_(response, answer):\n",
    "    response_ = extract_xml_answer(response)\n",
    "    norm_response = normalize_answer(response_)\n",
    "    norm_answer = normalize_answer(answer)\n",
    "    if norm_response:\n",
    "        if norm_response == norm_answer:\n",
    "            return 1\n",
    "        elif \"in the \" in norm_response:\n",
    "            if norm_response.split('in the ')[-1] == norm_answer:\n",
    "                return 1\n",
    "        elif \"\\\"\" in norm_response:\n",
    "            if norm_response.split(\"\\\"\")[-1].split(\"\\\"\")[0]== norm_answer:\n",
    "                return 1\n",
    "    \n",
    "    return 0\n",
    "\n",
    "\n",
    "def reward_func(response, answer):\n",
    "    response_ = extract_xml_answer(response)\n",
    "    if response_:\n",
    "        norm_response = normalize_answer(response_)\n",
    "        norm_answer = normalize_answer(answer)\n",
    "        ans_pattern = r\"\\b(?:in|at|on|inside)?\\s*(?:the\\s*)?\" + re.escape(norm_answer) + r\"\\b$\"\n",
    "        match = re.match(ans_pattern, norm_response, re.DOTALL | re.MULTILINE)\n",
    "        if match:\n",
    "            return 1\n",
    "        else:\n",
    "            return 0\n",
    "    return 0"
   ]
  },
  {
   "cell_type": "code",
   "execution_count": 8,
   "metadata": {},
   "outputs": [],
   "source": [
    "def main_func(llm, testset, n, n_repeat=5):\n",
    "    # Initialize result storage\n",
    "    all_results = []\n",
    "    if type(testset)==pd.core.frame.DataFrame:\n",
    "        testset.index = range(len(testset))\n",
    "    # Iterate through test set in chunks of n\n",
    "    with tqdm(range(0, len(testset['prompt']), n), desc=\"Processing batches\") as pbar:\n",
    "        for i in pbar:\n",
    "    #for i in tqdm(range(0, len(testset['prompt']), n), desc=\"Processing batches\"):\n",
    "            # Extract current batch of prompts and answers\n",
    "            batch_prompts = [p for p in testset['prompt'][i:i+n]]\n",
    "            batch_answers = [a for a in testset['answer'][i:i+n]]\n",
    "\n",
    "            # Get outputs from the LLM for the current batch\n",
    "            for k in range(n_repeat):\n",
    "                try:\n",
    "                    outputs = llm.chat(batch_prompts, \n",
    "                                    sampling_params=sampling_params, \n",
    "                                    use_tqdm=False)\n",
    "\n",
    "                    # Check correctness for the batch\n",
    "                    is_correct = [reward_func(each.outputs[0].text, answer) for each, answer in zip(outputs, batch_answers)]\n",
    "                    # Add detailed results for each item in the batch\n",
    "                    for j in range(len(batch_prompts)):\n",
    "                        result_entry = {\n",
    "                            \"prompt\": batch_prompts[j],\n",
    "                            \"answer\": batch_answers[j],\n",
    "                            \"output\": outputs[j].outputs[0].text,  # Assuming this is how to get the output\n",
    "                            \"correctness\": is_correct[j],\n",
    "                            'extract_answer':normalize_answer(extract_xml_answer(outputs[j].outputs[0].text))\n",
    "                        }\n",
    "                        all_results.append(result_entry)\n",
    "                except:\n",
    "                    print(k, i, i+n)\n",
    "                    # for each in batch_prompts:\n",
    "                    #     print(each)\n",
    "                    #correct=[each['correctness'] for each in all_results]\n",
    "                    #print(f\"Correct: {np.mean(np.array(correct).flatten())}\")\n",
    "                    if k == n_repeat-1:\n",
    "                        return all_results\n",
    "                break\n",
    "            \n",
    "            if i%5 == 0:\n",
    "                correct=[each['correctness'] for each in all_results]\n",
    "                pbar.set_postfix(accuracy=np.mean(np.array(correct).flatten()))\n",
    "\n",
    "    # Save results to JSON file\n",
    "    #save_results(all_results)\n",
    "    correct=[each['correctness'] for each in all_results]\n",
    "    print(f\"Correct: {np.mean(np.array(correct).flatten())}\")\n",
    "    return pd.DataFrame(all_results)\n",
    "\n",
    "def save_results(results, filename=\"data/results/evaluation_tom.json\"):\n",
    "    \"\"\"Saves the evaluation results to a JSON file.\"\"\"\n",
    "    with open(filename, mode='w') as file:\n",
    "        json.dump(results, file, indent=4)\n",
    "    print(f\"Results saved to {filename}\")"
   ]
  },
  {
   "cell_type": "code",
   "execution_count": 39,
   "metadata": {},
   "outputs": [
    {
     "name": "stderr",
     "output_type": "stream",
     "text": [
      "Generating train split: 2000 examples [00:00, 149167.94 examples/s]\n"
     ]
    }
   ],
   "source": [
    "testset = load_dataset('parquet', data_files='data/test/ToM_test.parquet')['train']\n",
    "trainset = load_dataset('parquet', data_files='data/train/ToM_train.parquet')['train']"
   ]
  },
  {
   "cell_type": "code",
   "execution_count": 10,
   "metadata": {},
   "outputs": [
    {
     "data": {
      "text/plain": [
       "Dataset({\n",
       "    features: ['deception', 'story_length', 'question_order', 'sample_id', 'story', 'question', 'choices', 'answer', 'question_old', 'answer_old', 'data_source', 'prompt', 'ability', 'reward_model', 'extra_info', 'story_structure', 'infilled_story', 'question_type', 'params', 'nth_order', 'is_interesting', 'story_type', 'story_structure_wn'],\n",
       "    num_rows: 1600\n",
       "})"
      ]
     },
     "execution_count": 10,
     "metadata": {},
     "output_type": "execute_result"
    }
   ],
   "source": [
    "testset"
   ]
  },
  {
   "cell_type": "code",
   "execution_count": 42,
   "metadata": {},
   "outputs": [],
   "source": [
    "df = pd.DataFrame(trainset)\n",
    "dft = pd.DataFrame(testset)\n",
    "df = df.fillna(0)"
   ]
  },
  {
   "cell_type": "code",
   "execution_count": 44,
   "metadata": {},
   "outputs": [
    {
     "data": {
      "text/plain": [
       "<Axes: xlabel='question_order', ylabel='count'>"
      ]
     },
     "execution_count": 44,
     "metadata": {},
     "output_type": "execute_result"
    },
    {
     "data": {
      "image/png": "[encoded data removed]",
      "text/plain": [
       "<Figure size 400x300 with 1 Axes>"
      ]
     },
     "metadata": {},
     "output_type": "display_data"
    }
   ],
   "source": [
    "_, ax = plt.subplots(1,1,figsize=(4, 3))\n",
    "sns.countplot(x='question_order', hue='data_source', data=df)"
   ]
  },
  {
   "cell_type": "code",
   "execution_count": 13,
   "metadata": {},
   "outputs": [
    {
     "name": "stderr",
     "output_type": "stream",
     "text": [
      "Processing batches:   0%|          | 0/320 [00:00<?, ?it/s]"
     ]
    },
    {
     "name": "stdout",
     "output_type": "stream",
     "text": [
      "INFO 03-12 10:06:15 chat_utils.py:332] Detected the chat template content format to be 'string'. You can set `--chat-template-content-format` to override this.\n"
     ]
    },
    {
     "name": "stderr",
     "output_type": "stream",
     "text": [
      "Processing batches: 100%|██████████| 320/320 [01:00<00:00,  5.33it/s, accuracy=0.55] "
     ]
    },
    {
     "name": "stdout",
     "output_type": "stream",
     "text": [
      "Correct: 0.55\n"
     ]
    },
    {
     "name": "stderr",
     "output_type": "stream",
     "text": [
      "\n"
     ]
    }
   ],
   "source": [
    "test_results = main_func(llm, testset, 5, n_repeat=3)"
   ]
  },
  {
   "cell_type": "code",
   "execution_count": 14,
   "metadata": {},
   "outputs": [
    {
     "data": {
      "text/html": [
       "<div>\n",
       "<style scoped>\n",
       "    .dataframe tbody tr th:only-of-type {\n",
       "        vertical-align: middle;\n",
       "    }\n",
       "\n",
       "    .dataframe tbody tr th {\n",
       "        vertical-align: top;\n",
       "    }\n",
       "\n",
       "    .dataframe thead th {\n",
       "        text-align: right;\n",
       "    }\n",
       "</style>\n",
       "<table border=\"1\" class=\"dataframe\">\n",
       "  <thead>\n",
       "    <tr style=\"text-align: right;\">\n",
       "      <th></th>\n",
       "      <th>prompt</th>\n",
       "      <th>answer</th>\n",
       "      <th>output</th>\n",
       "      <th>correctness</th>\n",
       "      <th>extract_answer</th>\n",
       "      <th>question_order</th>\n",
       "      <th>nth_order</th>\n",
       "      <th>data_source</th>\n",
       "      <th>Order</th>\n",
       "    </tr>\n",
       "  </thead>\n",
       "  <tbody>\n",
       "    <tr>\n",
       "      <th>0</th>\n",
       "      <td>[{'content': 'You are a helpful assistant. The...</td>\n",
       "      <td>green_suitcase</td>\n",
       "      <td>&lt;think&gt; Benjamin thinks Emily thinks Evelyn th...</td>\n",
       "      <td>0</td>\n",
       "      <td>the green_basket</td>\n",
       "      <td>4.0</td>\n",
       "      <td>0.0</td>\n",
       "      <td>hi_tom</td>\n",
       "      <td>4.0</td>\n",
       "    </tr>\n",
       "    <tr>\n",
       "      <th>1</th>\n",
       "      <td>[{'content': 'You are a helpful assistant. The...</td>\n",
       "      <td>red_drawer</td>\n",
       "      <td>&lt;think&gt; Hannah thinks Noah thinks Mason thinks...</td>\n",
       "      <td>1</td>\n",
       "      <td>the red_drawer</td>\n",
       "      <td>4.0</td>\n",
       "      <td>0.0</td>\n",
       "      <td>hi_tom</td>\n",
       "      <td>4.0</td>\n",
       "    </tr>\n",
       "    <tr>\n",
       "      <th>2</th>\n",
       "      <td>[{'content': 'You are a helpful assistant. The...</td>\n",
       "      <td>red_drawer</td>\n",
       "      <td>&lt;think&gt; Benjamin thinks Hannah thinks Noah thi...</td>\n",
       "      <td>1</td>\n",
       "      <td>the red_drawer</td>\n",
       "      <td>4.0</td>\n",
       "      <td>0.0</td>\n",
       "      <td>hi_tom</td>\n",
       "      <td>4.0</td>\n",
       "    </tr>\n",
       "    <tr>\n",
       "      <th>3</th>\n",
       "      <td>[{'content': 'You are a helpful assistant. The...</td>\n",
       "      <td>green_pantry</td>\n",
       "      <td>&lt;think&gt; Nathan thinks Chloe thinks Noah thinks...</td>\n",
       "      <td>1</td>\n",
       "      <td>the green_pantry</td>\n",
       "      <td>4.0</td>\n",
       "      <td>0.0</td>\n",
       "      <td>hi_tom</td>\n",
       "      <td>4.0</td>\n",
       "    </tr>\n",
       "    <tr>\n",
       "      <th>4</th>\n",
       "      <td>[{'content': 'You are a helpful assistant. The...</td>\n",
       "      <td>red_crate</td>\n",
       "      <td>&lt;think&gt; Olivia thinks Lily thinks Amelia think...</td>\n",
       "      <td>1</td>\n",
       "      <td>the red_crate</td>\n",
       "      <td>4.0</td>\n",
       "      <td>0.0</td>\n",
       "      <td>hi_tom</td>\n",
       "      <td>4.0</td>\n",
       "    </tr>\n",
       "  </tbody>\n",
       "</table>\n",
       "</div>"
      ],
      "text/plain": [
       "                                              prompt          answer  \\\n",
       "0  [{'content': 'You are a helpful assistant. The...  green_suitcase   \n",
       "1  [{'content': 'You are a helpful assistant. The...      red_drawer   \n",
       "2  [{'content': 'You are a helpful assistant. The...      red_drawer   \n",
       "3  [{'content': 'You are a helpful assistant. The...    green_pantry   \n",
       "4  [{'content': 'You are a helpful assistant. The...       red_crate   \n",
       "\n",
       "                                              output  correctness  \\\n",
       "0  <think> Benjamin thinks Emily thinks Evelyn th...            0   \n",
       "1  <think> Hannah thinks Noah thinks Mason thinks...            1   \n",
       "2  <think> Benjamin thinks Hannah thinks Noah thi...            1   \n",
       "3  <think> Nathan thinks Chloe thinks Noah thinks...            1   \n",
       "4  <think> Olivia thinks Lily thinks Amelia think...            1   \n",
       "\n",
       "     extract_answer  question_order  nth_order data_source  Order  \n",
       "0  the green_basket             4.0        0.0      hi_tom    4.0  \n",
       "1    the red_drawer             4.0        0.0      hi_tom    4.0  \n",
       "2    the red_drawer             4.0        0.0      hi_tom    4.0  \n",
       "3  the green_pantry             4.0        0.0      hi_tom    4.0  \n",
       "4     the red_crate             4.0        0.0      hi_tom    4.0  "
      ]
     },
     "execution_count": 14,
     "metadata": {},
     "output_type": "execute_result"
    }
   ],
   "source": [
    "dfrt = pd.DataFrame(test_results)\n",
    "dfrt['question_order']=testset['question_order']\n",
    "dfrt['nth_order']=testset['nth_order']\n",
    "dfrt['data_source']=testset['data_source']\n",
    "dfrt = dfrt.fillna(0)\n",
    "dfrt['Order']=dfrt.nth_order+dfrt.question_order\n",
    "dfrt.head()"
   ]
  },
  {
   "cell_type": "code",
   "execution_count": 16,
   "metadata": {},
   "outputs": [
    {
     "data": {
      "text/plain": [
       "1600"
      ]
     },
     "execution_count": 16,
     "metadata": {},
     "output_type": "execute_result"
    }
   ],
   "source": [
    "len(testset['data_source'])"
   ]
  },
  {
   "cell_type": "code",
   "execution_count": 17,
   "metadata": {},
   "outputs": [
    {
     "data": {
      "text/plain": [
       "1600"
      ]
     },
     "execution_count": 17,
     "metadata": {},
     "output_type": "execute_result"
    }
   ],
   "source": [
    "len(dfrt)"
   ]
  },
  {
   "cell_type": "code",
   "execution_count": 38,
   "metadata": {},
   "outputs": [
    {
     "data": {
      "text/plain": [
       "<Axes: xlabel='Order', ylabel='count'>"
      ]
     },
     "execution_count": 38,
     "metadata": {},
     "output_type": "execute_result"
    },
    {
     "data": {
      "image/png": "[encoded data removed]",
      "text/plain": [
       "<Figure size 400x300 with 1 Axes>"
      ]
     },
     "metadata": {},
     "output_type": "display_data"
    }
   ],
   "source": [
    "_, ax = plt.subplots(1,1,figsize=(4, 3))\n",
    "sns.countplot(x='Order', hue='data_source', data=dfrt)"
   ]
  },
  {
   "cell_type": "code",
   "execution_count": 37,
   "metadata": {},
   "outputs": [
    {
     "data": {
      "text/plain": [
       "<Axes: xlabel='Order', ylabel='correctness'>"
      ]
     },
     "execution_count": 37,
     "metadata": {},
     "output_type": "execute_result"
    },
    {
     "data": {
      "image/png": "[encoded data removed]",
      "text/plain": [
       "<Figure size 400x300 with 1 Axes>"
      ]
     },
     "metadata": {},
     "output_type": "display_data"
    }
   ],
   "source": [
    "_, ax = plt.subplots(1,1,figsize=(4, 3))\n",
    "sns.pointplot(x='Order', y='correctness', hue='data_source', data=dfrt)"
   ]
  },
  {
   "cell_type": "code",
   "execution_count": 58,
   "metadata": {},
   "outputs": [
    {
     "data": {
      "text/plain": [
       "<Axes: xlabel='data_source', ylabel='correctness'>"
      ]
     },
     "execution_count": 58,
     "metadata": {},
     "output_type": "execute_result"
    },
    {
     "data": {
      "image/png": "[encoded data removed]",
      "text/plain": [
       "<Figure size 400x300 with 1 Axes>"
      ]
     },
     "metadata": {},
     "output_type": "display_data"
    }
   ],
   "source": [
    "_, ax = plt.subplots(1,1,figsize=(4, 3))\n",
    "sns.barplot(x='data_source', y='correctness', hue='data_source', data=dfrt)"
   ]
  },
  {
   "cell_type": "code",
   "execution_count": 59,
   "metadata": {},
   "outputs": [
    {
     "data": {
      "text/plain": [
       "data_source\n",
       "explore_tom    0.468333\n",
       "hi_tom         0.599000\n",
       "Name: correctness, dtype: float64"
      ]
     },
     "execution_count": 59,
     "metadata": {},
     "output_type": "execute_result"
    }
   ],
   "source": [
    "dfrt.groupby('data_source').correctness.mean()"
   ]
  },
  {
   "cell_type": "code",
   "execution_count": 48,
   "metadata": {},
   "outputs": [
    {
     "data": {
      "text/plain": [
       "'<think> Lily made no movements and stayed in the pantry for 1 minute. </think> \\n<answer> The red_treasure_chest </answer>'"
      ]
     },
     "execution_count": 48,
     "metadata": {},
     "output_type": "execute_result"
    }
   ],
   "source": [
    "dfrt.loc[(dfrt.Order==0)&(dfrt.correctness==0)].iloc[0].output"
   ]
  },
  {
   "cell_type": "code",
   "execution_count": 49,
   "metadata": {},
   "outputs": [
    {
     "data": {
      "text/plain": [
       "[{'content': 'You are a helpful assistant. The assistant first thinks about the reasoning process in the mind and then provides the user with the answer. The reasoning process and answer are enclosed within <think> </think> and <answer> </answer> tags, respectively, i.e., <think> reasoning process here </think><answer> answer here </answer>.',\n",
       "  'role': 'system'},\n",
       " {'content': 'Story: Lily lost his watch. Elizabeth, Lily, Avery, Jayden and Oliver entered the pantry. Lily saw a monkey. The spinach is in the red_treasure_chest. Avery lost his phone. Elizabeth made no movements and stayed in the pantry for 1 minute. Elizabeth exited the pantry. Lily made no movements and stayed in the pantry for 1 minute. Lily exited the pantry. Avery moved the spinach to the green_bottle. Oliver likes the red_crate. Avery exited the pantry. Jayden made no movements and stayed in the pantry for 1 minute. Jayden exited the pantry. Avery saw a dog. Oliver made no movements and stayed in the pantry for 1 minute. Oliver exited the pantry. Elizabeth, Lily, Avery, Jayden and Oliver entered the waiting_room. Oliver, Avery and Elizabeth entered the pantry. The potato is in the blue_drawer. Oliver moved the potato to the green_bottle. Oliver exited the pantry. Avery made no movements and stayed in the pantry for 1 minute. Avery exited the pantry. Elizabeth made no movements and stayed in the pantry for 1 minute. Elizabeth exited the pantry. Oliver, Avery and Elizabeth entered the waiting_room. Avery lost his gloves. Avery publicly claimed that potato is in the green_cupboard now. Elizabeth privately told Avery that the potato is in the green_bottle now.\\n Question:Where is the spinach really?',\n",
       "  'role': 'user'}]"
      ]
     },
     "execution_count": 49,
     "metadata": {},
     "output_type": "execute_result"
    }
   ],
   "source": [
    "dfrt.loc[(dfrt.Order==0)&(dfrt.correctness==0)].iloc[0].prompt"
   ]
  },
  {
   "cell_type": "markdown",
   "metadata": {},
   "source": [
    "# Other Set"
   ]
  },
  {
   "cell_type": "code",
   "execution_count": 26,
   "metadata": {},
   "outputs": [
    {
     "name": "stderr",
     "output_type": "stream",
     "text": [
      "Generating train split: 176 examples [00:00, 31129.19 examples/s]\n",
      "Generating train split: 600 examples [00:00, 116287.71 examples/s]\n",
      "Generating train split: 5994 examples [00:00, 780547.62 examples/s]\n",
      "Generating train split: 600 examples [00:00, 149760.91 examples/s]\n",
      "Generating train split: 5994 examples [00:00, 958104.35 examples/s]\n"
     ]
    }
   ],
   "source": [
    "test_faux = load_dataset('parquet', data_files='data/test/test_faux.parquet')['train']\n",
    "test_hitom = load_dataset('parquet', data_files='data/test/test_hitom.parquet')['train']\n",
    "test_tomi = load_dataset('parquet', data_files='data/test/test_tomi.parquet')['train']\n",
    "\n",
    "test_hitom_num = load_dataset('parquet', data_files='data/test/test_hitom_num.parquet')['train']\n",
    "test_tomi_num = load_dataset('parquet', data_files='data/test/test_tomi_num.parquet')['train']"
   ]
  },
  {
   "cell_type": "code",
   "execution_count": 27,
   "metadata": {},
   "outputs": [
    {
     "data": {
      "text/plain": [
       "Dataset({\n",
       "    features: ['deception', 'story_length', 'question_order', 'sample_id', 'story', 'question', 'choices', 'answer', 'question_old', 'answer_old', 'prompt'],\n",
       "    num_rows: 600\n",
       "})"
      ]
     },
     "execution_count": 27,
     "metadata": {},
     "output_type": "execute_result"
    }
   ],
   "source": [
    "test_hitom"
   ]
  },
  {
   "cell_type": "code",
   "execution_count": 28,
   "metadata": {},
   "outputs": [
    {
     "data": {
      "text/plain": [
       "[{'content': 'You are a helpful assistant. The assistant first thinks about the reasoning process in the mind and then provides the user with the answer. The reasoning process and answer are enclosed within <think> </think> and <answer> </answer> tags, respectively, i.e., <think> reasoning process here </think><answer> answer here </answer>.',\n",
       "  'role': 'system'},\n",
       " {'content': 'Story: Charlotte, Isabella, Elizabeth and Owen entered the living_room. lettuce is in the green_drawer. moved the lettuce to the green_bathtub. dislikes the tangerine. exited the living_room. moved the lettuce to the blue_pantry. likes the green_envelope. exited the living_room. made no movements and stayed in the living_room for 1 minute. exited the living_room. dislikes the green_pepper. made no movements and stayed in the living_room for 1 minute. exited the living_room. moved the lettuce to the green_drawer. exited the living_room. Charlotte, Isabella, Elizabeth and Owen entered the waiting_room.\\n Question:Where is the lettuce really?',\n",
       "  'role': 'user'}]"
      ]
     },
     "execution_count": 28,
     "metadata": {},
     "output_type": "execute_result"
    }
   ],
   "source": [
    "test_hitom['prompt'][0]"
   ]
  },
  {
   "cell_type": "code",
   "execution_count": 29,
   "metadata": {},
   "outputs": [
    {
     "name": "stderr",
     "output_type": "stream",
     "text": [
      "Processing batches: 100%|██████████| 120/120 [00:30<00:00,  4.00it/s, accuracy=0.48] "
     ]
    },
    {
     "name": "stdout",
     "output_type": "stream",
     "text": [
      "Correct: 0.48\n"
     ]
    },
    {
     "name": "stderr",
     "output_type": "stream",
     "text": [
      "\n"
     ]
    }
   ],
   "source": [
    "results_hitom = main_func(llm, test_hitom, 5, n_repeat=3)"
   ]
  },
  {
   "cell_type": "code",
   "execution_count": 30,
   "metadata": {},
   "outputs": [
    {
     "name": "stderr",
     "output_type": "stream",
     "text": [
      "Processing batches: 100%|██████████| 120/120 [00:20<00:00,  5.87it/s, accuracy=0.43] "
     ]
    },
    {
     "name": "stdout",
     "output_type": "stream",
     "text": [
      "Correct: 0.43\n"
     ]
    },
    {
     "name": "stderr",
     "output_type": "stream",
     "text": [
      "\n"
     ]
    }
   ],
   "source": [
    "results_hitom_num = main_func(llm, test_hitom_num, 5, n_repeat=3)"
   ]
  },
  {
   "cell_type": "code",
   "execution_count": 31,
   "metadata": {},
   "outputs": [
    {
     "data": {
      "text/plain": [
       "<Axes: ylabel='correctness'>"
      ]
     },
     "execution_count": 31,
     "metadata": {},
     "output_type": "execute_result"
    },
    {
     "data": {
      "image/png": "[encoded data removed]",
      "text/plain": [
       "<Figure size 640x480 with 1 Axes>"
      ]
     },
     "metadata": {},
     "output_type": "display_data"
    }
   ],
   "source": [
    "sns.pointplot(x = test_hitom['question_order'], y = results_hitom['correctness'])"
   ]
  },
  {
   "cell_type": "code",
   "execution_count": 32,
   "metadata": {},
   "outputs": [
    {
     "name": "stderr",
     "output_type": "stream",
     "text": [
      "Processing batches: 100%|██████████| 1199/1199 [03:38<00:00,  5.49it/s, accuracy=0.446]"
     ]
    },
    {
     "name": "stdout",
     "output_type": "stream",
     "text": [
      "Correct: 0.44644644644644643\n"
     ]
    },
    {
     "name": "stderr",
     "output_type": "stream",
     "text": [
      "\n"
     ]
    }
   ],
   "source": [
    "results_tomi = main_func(llm, test_tomi, 5, n_repeat=3)"
   ]
  },
  {
   "cell_type": "code",
   "execution_count": 33,
   "metadata": {},
   "outputs": [
    {
     "data": {
      "text/plain": [
       "Dataset({\n",
       "    features: ['story', 'question', 'answer', 'question_type', 'prompt'],\n",
       "    num_rows: 5994\n",
       "})"
      ]
     },
     "execution_count": 33,
     "metadata": {},
     "output_type": "execute_result"
    }
   ],
   "source": [
    "test_tomi"
   ]
  },
  {
   "cell_type": "code",
   "execution_count": 34,
   "metadata": {},
   "outputs": [
    {
     "data": {
      "text/plain": [
       "<Axes: ylabel='correctness'>"
      ]
     },
     "execution_count": 34,
     "metadata": {},
     "output_type": "execute_result"
    },
    {
     "data": {
      "image/png": "[encoded data removed]",
      "text/plain": [
       "<Figure size 640x480 with 1 Axes>"
      ]
     },
     "metadata": {},
     "output_type": "display_data"
    }
   ],
   "source": [
    "sns.pointplot(x = test_tomi['question_type'], y = results_tomi['correctness'])"
   ]
  },
  {
   "cell_type": "code",
   "execution_count": 35,
   "metadata": {},
   "outputs": [
    {
     "name": "stderr",
     "output_type": "stream",
     "text": [
      "Processing batches: 100%|██████████| 1199/1199 [03:11<00:00,  6.26it/s, accuracy=0.444]"
     ]
    },
    {
     "name": "stdout",
     "output_type": "stream",
     "text": [
      "Correct: 0.4437771104437771\n"
     ]
    },
    {
     "name": "stderr",
     "output_type": "stream",
     "text": [
      "\n"
     ]
    }
   ],
   "source": [
    "results_tomi_num = main_func(llm, test_tomi_num, 5, n_repeat=3)"
   ]
  },
  {
   "cell_type": "code",
   "execution_count": null,
   "metadata": {},
   "outputs": [],
   "source": []
  },
  {
   "cell_type": "code",
   "execution_count": 60,
   "metadata": {},
   "outputs": [
    {
     "name": "stderr",
     "output_type": "stream",
     "text": [
      "Processing batches: 100%|██████████| 36/36 [00:31<00:00,  1.15it/s, accuracy=0.29] "
     ]
    },
    {
     "name": "stdout",
     "output_type": "stream",
     "text": [
      "Correct: 0.2897727272727273\n"
     ]
    },
    {
     "name": "stderr",
     "output_type": "stream",
     "text": [
      "\n"
     ]
    }
   ],
   "source": [
    "results_faux = main_func(llm, test_faux, 5, n_repeat=3)"
   ]
  },
  {
   "cell_type": "code",
   "execution_count": 61,
   "metadata": {},
   "outputs": [],
   "source": [
    "model_name = 'Hi'\n",
    "pd.DataFrame(results_hitom).to_csv('data/results/hitom_{}.csv'.format(model_name), index=False)\n",
    "pd.DataFrame(results_tomi).to_csv('data/results/tomi_{}.csv'.format(model_name), index=False)\n",
    "pd.DataFrame(results_faux).to_csv('data/results/faux_{}.csv'.format(model_name), index=False)"
   ]
  },
  {
   "cell_type": "markdown",
   "metadata": {},
   "source": [
    "# 0.5B Model \n",
    "## WS 384\n",
    "### HiTom\n",
    "Processing batches: 100%|██████████| 120/120 [00:26<00:00,  4.51it/s, accuracy=0.25] \n",
    "\n",
    "Correct: 0.24957264957264957\n",
    "\n",
    "### ToMi\n",
    "Processing batches: 100%|██████████| 1199/1199 [03:20<00:00,  5.97it/s, accuracy=0.409]\n",
    "\n",
    "Correct: 0.4088702928870293\n",
    "\n",
    "### Faux Pas\n",
    "Processing batches: 100%|██████████| 36/36 [00:05<00:00,  7.17it/s, accuracy=0.261]\n",
    "\n",
    "Correct: 0.2608695652173913\n",
    "\n",
    "## NS 512 773ckpt\n",
    "### HiTom\n",
    "Processing batches: 100%|██████████| 120/120 [00:30<00:00,  3.90it/s, accuracy=0.25] \n",
    "\n",
    "Correct: 0.24957264957264957\n",
    "\n",
    "### ToMi\n",
    "Processing batches: 100%|██████████| 1199/1199 [03:21<00:00,  5.94it/s, accuracy=0.391]\n",
    "\n",
    "Correct: 0.3912605042016807\n",
    "\n",
    "### Faux Pas\n",
    "Processing batches: 100%|██████████| 36/36 [00:05<00:00,  6.23it/s, accuracy=0.247]\n",
    "\n",
    "Correct: 0.2469879518072289"
   ]
  },
  {
   "cell_type": "code",
   "execution_count": 57,
   "metadata": {},
   "outputs": [
    {
     "data": {
      "text/plain": [
       "21"
      ]
     },
     "execution_count": 57,
     "metadata": {},
     "output_type": "execute_result"
    }
   ],
   "source": [
    "len(\"Gracie knows that Mila moved the cabbage to the red_bucket. Therefore, Gracie thinks Hannah thinks the cabbage is in the red_bucket.\".split())"
   ]
  },
  {
   "cell_type": "code",
   "execution_count": null,
   "metadata": {},
   "outputs": [],
   "source": []
  }
 ],
 "metadata": {
  "kernelspec": {
   "display_name": "vllm",
   "language": "python",
   "name": "vllm"
  }
 },
 "nbformat": 4,
 "nbformat_minor": 2
}
