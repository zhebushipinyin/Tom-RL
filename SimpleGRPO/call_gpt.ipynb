{
 "cells": [
  {
   "cell_type": "code",
   "execution_count": 19,
   "metadata": {},
   "outputs": [
    {
     "name": "stderr",
     "output_type": "stream",
     "text": [
      "/home/yilong/miniconda3/envs/vllm/lib/python3.10/site-packages/tqdm/auto.py:21: TqdmWarning: IProgress not found. Please update jupyter and ipywidgets. See https://ipywidgets.readthedocs.io/en/stable/user_install.html\n",
      "  from .autonotebook import tqdm as notebook_tqdm\n"
     ]
    }
   ],
   "source": [
    "import numpy as np\n",
    "import pandas as pd\n",
    "import seaborn as sns\n",
    "from datasets import load_dataset, Dataset, load_from_disk\n",
    "import matplotlib.pyplot as plt \n",
    "from openai import AzureOpenAI\n",
    "import json"
   ]
  },
  {
   "cell_type": "code",
   "execution_count": 20,
   "metadata": {},
   "outputs": [],
   "source": [
    "REGION = \"eastus\"\n",
    "MODEL = \"gpt-4o-mini-2024-07-18\"\n",
    "#REGION = \"canadaeast\"\n",
    "#MODEL = \"gpt-35-turbo-0125\"\n",
    "API_KEY = \"bc49699a65744c068ceb605bbc992034\"\n",
    "\n",
    "API_BASE = \"https://api.tonggpt.mybigai.ac.cn/proxy\"\n",
    "ENDPOINT = f\"{API_BASE}/{REGION}\"\n",
    "\n",
    "\n",
    "client = AzureOpenAI(\n",
    "    api_key=API_KEY,\n",
    "    api_version=\"2024-02-01\",\n",
    "    azure_endpoint=ENDPOINT,\n",
    ")"
   ]
  },
  {
   "cell_type": "code",
   "execution_count": 21,
   "metadata": {},
   "outputs": [],
   "source": [
    "test_hitom = load_dataset('parquet', data_files='data/test/test_hitom.parquet')['train']"
   ]
  },
  {
   "cell_type": "code",
   "execution_count": 22,
   "metadata": {},
   "outputs": [
    {
     "data": {
      "text/plain": [
       "Dataset({\n",
       "    features: ['deception', 'story_length', 'question_order', 'sample_id', 'story', 'question', 'choices', 'answer', 'question_old', 'answer_old', 'prompt'],\n",
       "    num_rows: 600\n",
       "})"
      ]
     },
     "execution_count": 22,
     "metadata": {},
     "output_type": "execute_result"
    }
   ],
   "source": [
    "test_hitom"
   ]
  },
  {
   "cell_type": "code",
   "execution_count": 31,
   "metadata": {},
   "outputs": [],
   "source": [
    "SYSTEM_PROMPT = \"\"\"Read the following story and answer the question. Think step-by-step. Provide the answer first,and then explain it. Answer in the following JSON format:\n",
    "{\n",
    "\"answer\": \"answer text\",\n",
    "\"explain\": \"step by step thinking\"\n",
    "}\n",
    "\"\"\"\n",
    "\n",
    "XML_COT_FORMAT = \"\"\"Story: {}\\n Question:{}\"\"\""
   ]
  },
  {
   "cell_type": "code",
   "execution_count": 32,
   "metadata": {},
   "outputs": [
    {
     "data": {
      "text/plain": [
       "'Charlotte, Isabella, Elizabeth and Owen entered the living_room. lettuce is in the green_drawer. moved the lettuce to the green_bathtub. dislikes the tangerine. exited the living_room. moved the lettuce to the blue_pantry. likes the green_envelope. exited the living_room. made no movements and stayed in the living_room for 1 minute. exited the living_room. dislikes the green_pepper. made no movements and stayed in the living_room for 1 minute. exited the living_room. moved the lettuce to the green_drawer. exited the living_room. Charlotte, Isabella, Elizabeth and Owen entered the waiting_room.'"
      ]
     },
     "execution_count": 32,
     "metadata": {},
     "output_type": "execute_result"
    }
   ],
   "source": [
    "test_hitom['story'][0]"
   ]
  },
  {
   "cell_type": "code",
   "execution_count": 33,
   "metadata": {},
   "outputs": [
    {
     "data": {
      "text/plain": [
       "'Where is the lettuce really?'"
      ]
     },
     "execution_count": 33,
     "metadata": {},
     "output_type": "execute_result"
    }
   ],
   "source": [
    "test_hitom['question'][0]"
   ]
  },
  {
   "cell_type": "code",
   "execution_count": 34,
   "metadata": {},
   "outputs": [
    {
     "name": "stdout",
     "output_type": "stream",
     "text": [
      "{\n",
      "\"answer\": \"green_envelope\",\n",
      "\"explain\": \"1. The story states that the banana is initially in the green_envelope. 2. The characters made no movements for 1 minute after entering the bedroom, which means the banana remained in the green_envelope during that time. 3. They then moved the banana to the blue_bottle, but it is not clear if this was a permanent move. 4. After that, they again moved the banana back to the green_envelope. 5. Since the last action mentioned is moving the banana back to the green_envelope, it indicates that the banana is currently in the green_envelope.\"\n",
      "}\n"
     ]
    }
   ],
   "source": [
    "i = 8\n",
    "prompt_task =XML_COT_FORMAT.format(test_hitom['story'][i], test_hitom['question'][i])\n",
    "\n",
    "response = client.chat.completions.create(\n",
    "    model=MODEL,\n",
    "    messages=[{\"role\": \"system\", \"content\":SYSTEM_PROMPT},\n",
    "        {\"role\": \"user\", \"content\": prompt_task}\n",
    "    ],\n",
    "    temperature = 0.2,\n",
    "    top_p = 0.1\n",
    ")\n",
    "\n",
    "print(response.choices[0].message.content)"
   ]
  },
  {
   "cell_type": "code",
   "execution_count": 35,
   "metadata": {},
   "outputs": [
    {
     "data": {
      "text/plain": [
       "{'answer': 'green_envelope',\n",
       " 'explain': '1. The story states that the banana is initially in the green_envelope. 2. The characters made no movements for 1 minute after entering the bedroom, which means the banana remained in the green_envelope during that time. 3. They then moved the banana to the blue_bottle, but it is not clear if this was a permanent move. 4. After that, they again moved the banana back to the green_envelope. 5. Since the last action mentioned is moving the banana back to the green_envelope, it indicates that the banana is currently in the green_envelope.'}"
      ]
     },
     "execution_count": 35,
     "metadata": {},
     "output_type": "execute_result"
    }
   ],
   "source": [
    "eval(response.choices[0].message.content)"
   ]
  },
  {
   "cell_type": "code",
   "execution_count": 38,
   "metadata": {},
   "outputs": [
    {
     "data": {
      "text/plain": [
       "'green_envelope'"
      ]
     },
     "execution_count": 38,
     "metadata": {},
     "output_type": "execute_result"
    }
   ],
   "source": [
    "json.loads(response.choices[0].message.content)['answer']"
   ]
  },
  {
   "cell_type": "code",
   "execution_count": 11,
   "metadata": {},
   "outputs": [
    {
     "data": {
      "text/plain": [
       "'green_drawer'"
      ]
     },
     "execution_count": 11,
     "metadata": {},
     "output_type": "execute_result"
    }
   ],
   "source": [
    "test_hitom['answer'][i]"
   ]
  },
  {
   "cell_type": "code",
   "execution_count": 39,
   "metadata": {},
   "outputs": [],
   "source": [
    "def get_progress(progress, total):\n",
    "    '''获取进度条'''\n",
    "    progress_ratio = progress / total\n",
    "    progress_len = 20\n",
    "    progress_num = int(progress_ratio * 20)\n",
    "    pro_text = '[{:-<20s}] {:.2f}% {} / {}'.format(\n",
    "        '=' * progress_num, progress_ratio * 100, progress, total)\n",
    "    return pro_text"
   ]
  },
  {
   "cell_type": "code",
   "execution_count": 40,
   "metadata": {},
   "outputs": [
    {
     "name": "stdout",
     "output_type": "stream",
     "text": [
      "211 :  {-------------] 35.17% 211 / 600\n",
      "\"answer\": \"green_bathtub\",\n",
      "\"explain\": \"1. The story mentions that the melon was initially in the green_bathtub. 2. It was then moved to the blue_pantry, then to the green_bucket, and finally back to the green_bathtub. 3. Since the last recorded location of the melon is the green_bathtub, that is where it is really located.\"\n",
      "}\n",
      "211 :  {\n",
      "\"answer\": \"green_bathtub\",\n",
      "\"explain\": \"1. The story mentions that the melon was initially in the green_bathtub. 2. It was then moved to the blue_pantry, then to the green_bucket, and finally back to the green_bathtub. 3. Since the last recorded location of the melon is the green_bathtub, that is where it is really located.\"\n",
      "}\n",
      "217 :  {-------------] 36.17% 217 / 600\n",
      "\"answer\": \"green_pantry\",\n",
      "\"explain\": \"1. The eggplant starts in the green_pantry. 2. It is moved to the blue_drawer, then to the green_box. 3. Emily and Jack later find the eggplant in the green_box. 4. They move it to the green_bottle, and then to the green_pantry. 5. Since the last recorded movement of the eggplant is to the green_pantry, that is where it is currently located.\"\n",
      "}\n",
      "217 :  {\n",
      "\"answer\": \"green_pantry\",\n",
      "\"explain\": \"1. The eggplant starts in the green_pantry. 2. It is moved to the blue_drawer, then to the green_box. 3. Emily and Jack later find the eggplant in the green_box. 4. They move it to the green_bottle, and then to the green_pantry. 5. Since the last recorded movement of the eggplant is to the green_pantry, that is where it is currently located.\"\n",
      "}\n",
      "218 :  {-------------] 36.33% 218 / 600\n",
      "\"answer\": \"blue_crate\",\n",
      "\"explain\": \"1. The story mentions that the lime was initially in the blue crate. 2. It was then moved to the green pantry, but there is no indication that it stayed there. 3. The lime was subsequently moved to the green basket, red box, and then back to the blue crate. 4. Since the last recorded movement of the lime was to the blue crate, that is where it is currently located.\"\n",
      "}\n",
      "219 :  {-------------] 36.50% 219 / 600\n",
      "\"answer\": \"blue_crate\",\n",
      "\"explain\": \"To determine the final location of the pear, we need to track its movements throughout the story. Initially, the pear is in the blue_crate. Then, it is moved to the blue_drawer, then to the green_crate, then to the blue_suitcase, and finally back to the blue_crate. Since the last recorded movement of the pear is to the blue_crate, that is where it is really located.\"\n",
      "}\n",
      "219 :  {\n",
      "\"answer\": \"blue_crate\",\n",
      "\"explain\": \"To determine the final location of the pear, we need to track its movements throughout the story. Initially, the pear is in the blue_crate. Then, it is moved to the blue_drawer, then to the green_crate, then to the blue_suitcase, and finally back to the blue_crate. Since the last recorded movement of the pear is to the blue_crate, that is where it is really located.\"\n",
      "}\n",
      "219 :  {\n",
      "\"answer\": \"blue_crate\",\n",
      "\"explain\": \"To determine the final location of the pear, we need to track its movements throughout the story. Initially, the pear is in the blue_crate. Then, it is moved to the blue_drawer, then to the green_crate, then to the blue_suitcase, and finally back to the blue_crate. Since the last recorded movement of the pear is to the blue_crate, that is where it is really located.\"\n",
      "}\n",
      "233 :  {-------------] 38.83% 233 / 600\n",
      "\"answer\": \"The story does not mention William at all.\",\n",
      "\"explain\": \"Step 1: Read the story carefully to identify any mention of William. Step 2: Note that the characters mentioned are Emily, Emma, Isla, and Jackson, with no reference to William. Step 3: Conclude that since William is not mentioned, we cannot determine where he thinks the corn is.\"\n",
      "}\n",
      "238 :  {-------------] 39.67% 238 / 600\n",
      "\"answer\": \"Elizabeth does not have any information about the lime's location.\",\n",
      "\"explain\": \"1. The story does not mention Elizabeth interacting with the lime at any point. 2. Elizabeth is only seen entering the workshop and the waiting room, but there is no indication that she is aware of the lime's movements. 3. Since there is no direct reference to Elizabeth's thoughts or knowledge about the lime, we can conclude that she does not think about it or have any opinion on its location.\"\n",
      "}\n",
      "238 :  {\n",
      "\"answer\": \"Elizabeth does not have any information about the lime's location.\",\n",
      "\"explain\": \"1. The story does not mention Elizabeth interacting with the lime at any point. 2. Elizabeth is only seen entering the workshop and the waiting room, but there is no indication that she is aware of the lime's movements. 3. Since there is no direct reference to Elizabeth's thoughts or knowledge about the lime, we can conclude that she does not think about it or have any opinion on its location.\"\n",
      "}\n",
      "254 :  {=------------] 42.33% 254 / 600\n",
      "\"answer\": \"In the red_pantry\",\n",
      "\"explain\": \"To determine where Abigail thinks Avery thinks the cucumber is, we need to analyze the movements of the cucumber throughout the story. Initially, the cucumber is in the blue_drawer, then it is moved to the blue_container, then to the blue_bathtub, and finally to the red_pantry. Since the last known location of the cucumber is the red_pantry, it is reasonable to conclude that Abigail thinks Avery believes the cucumber is still there, as there is no indication that Avery has seen the cucumber moved after it was placed in the red_pantry.\"\n",
      "}\n",
      "254 :  {\n",
      "\"answer\": \"In the red_pantry\",\n",
      "\"explain\": \"To determine where Abigail thinks Avery thinks the cucumber is, we need to analyze the movements of the cucumber throughout the story. Initially, the cucumber is in the blue_drawer, then it is moved to the blue_container, then to the blue_bathtub, and finally to the red_pantry. Since the last known location of the cucumber is the red_pantry, it is reasonable to conclude that Abigail thinks Avery believes the cucumber is still there, as there is no indication that Avery has seen the cucumber moved after it was placed in the red_pantry.\"\n",
      "}\n",
      "254 :  {\n",
      "\"answer\": \"In the red_pantry\",\n",
      "\"explain\": \"To determine where Abigail thinks Avery thinks the cucumber is, we need to analyze the movements of the cucumber throughout the story. Initially, the cucumber is in the blue_drawer, then it is moved to the blue_container, then to the blue_bathtub, and finally to the red_pantry. Since the last known location of the cucumber is the red_pantry, it is reasonable to conclude that Abigail thinks Avery believes the cucumber is still there, as there is no indication that Avery has seen the cucumber moved after it was placed in the red_pantry.\"\n",
      "}\n",
      "258 :  {=------------] 43.00% 258 / 600\n",
      "\"answer\": \"in the blue_crate\",\n",
      "\"explain\": \"To determine where Alexander thinks Elizabeth thinks the lime is, we need to analyze the movements of the lime throughout the story. The lime was initially in the blue_crate, then moved to the green_pantry, green_basket, red_box, and finally back to the blue_crate. Since the last known location of the lime is the blue_crate, it is reasonable to conclude that Alexander believes Elizabeth thinks the lime is still in the blue_crate, as there is no indication that she was aware of the subsequent movements.\"\n",
      "}\n",
      "266 :  {=------------] 44.33% 266 / 600\n",
      "\"answer\": \"in the blue_pantry\",\n",
      "\"explain\": \"To determine where Noah thinks Lily thinks Hannah thinks the turnip is, we need to analyze the movements of the turnip. Initially, the turnip was in the red_basket. After some movements, it was moved to the blue_pantry by Lily, Hannah, and Elizabeth. Since Lily was the last person to move the turnip and she moved it to the blue_pantry, it is reasonable to conclude that Noah thinks Lily believes Hannah thinks the turnip is in the blue_pantry, as that is the last known location of the turnip after Lily's action.\"\n",
      "}\n",
      "266 :  {\n",
      "\"answer\": \"in the blue_pantry\",\n",
      "\"explain\": \"To determine where Noah thinks Lily thinks Hannah thinks the turnip is, we need to analyze the movements of the turnip. Initially, the turnip was in the red_basket. After some movements, it was moved to the blue_pantry by Lily, Hannah, and Elizabeth. Since Lily was the last person to move the turnip and she moved it to the blue_pantry, it is reasonable to conclude that Noah thinks Lily believes Hannah thinks the turnip is in the blue_pantry, as that is the last known location of the turnip after Lily's action.\"\n",
      "}\n",
      "269 :  {=------------] 44.83% 269 / 600\n",
      "\"answer\": \"blue_bathtub\",\n",
      "\"explain\": \"To determine where Abigail thinks Elizabeth thinks Isla thinks the cabbage is, we need to analyze the movements and preferences stated in the story. Initially, the cabbage is in the blue_bathtub. Later, it is moved to the blue_bottle, and then back to the blue_bathtub. Since Elizabeth and Isla are in the closet and then enter the waiting_room, they are not directly involved in the cabbage's movements. However, since the cabbage was last mentioned to be in the blue_bathtub after Isla's group made movements, it is reasonable to conclude that Abigail thinks Elizabeth believes Isla thinks the cabbage is still in the blue_bathtub, as that was its last known location before the final movements were made.\"\n",
      "}\n",
      "269 :  {\n",
      "\"answer\": \"blue_bathtub\",\n",
      "\"explain\": \"To determine where Abigail thinks Elizabeth thinks Isla thinks the cabbage is, we need to analyze the movements and preferences stated in the story. Initially, the cabbage is in the blue_bathtub. Later, it is moved to the blue_bottle, and then back to the blue_bathtub. Since Elizabeth and Isla are in the closet and then enter the waiting_room, they are not directly involved in the cabbage's movements. However, since the cabbage was last mentioned to be in the blue_bathtub after Isla's group made movements, it is reasonable to conclude that Abigail thinks Elizabeth believes Isla thinks the cabbage is still in the blue_bathtub, as that was its last known location before the final movements were made.\"\n",
      "}\n",
      "273 :  {==-----------] 45.50% 273 / 600\n",
      "\"answer\": \"green_bottle\",\n",
      "\"explain\": \"To determine where Emma thinks Emily thinks William thinks the corn is, we need to analyze the movements of the corn throughout the story. The corn was moved multiple times: first to the green_cupboard, then to the red_envelope, then to the green_bottle, and finally back to the green_bathtub. Since the last known location of the corn before the question is the green_bottle, it is reasonable to conclude that Emma thinks Emily thinks William thinks the corn is in the green_bottle.\"\n",
      "}\n",
      "273 :  {\n",
      "\"answer\": \"green_bottle\",\n",
      "\"explain\": \"To determine where Emma thinks Emily thinks William thinks the corn is, we need to analyze the movements of the corn throughout the story. The corn was moved multiple times: first to the green_cupboard, then to the red_envelope, then to the green_bottle, and finally back to the green_bathtub. Since the last known location of the corn before the question is the green_bottle, it is reasonable to conclude that Emma thinks Emily thinks William thinks the corn is in the green_bottle.\"\n",
      "}\n",
      "274 :  {==-----------] 45.67% 274 / 600\n",
      "\"answer\": \"blue_bathtub\",\n",
      "\"explain\": \"To determine where Hannah thinks Abigail thinks Avery thinks the cucumber is, we need to trace the movements of the cucumber throughout the story. Initially, the cucumber is in the blue_drawer, then it is moved to the blue_container, then to the blue_bathtub, and finally to the red_pantry. However, the last known location of the cucumber before any confusion arises is the blue_bathtub. Since Hannah is aware of the movements and the last known position of the cucumber is the blue_bathtub, it is reasonable to conclude that she thinks Abigail, who is also aware of the cucumber's movements, thinks that Avery, who may not have been present for all movements, thinks the cucumber is still in the blue_bathtub.\"\n",
      "}\n",
      "274 :  {\n",
      "\"answer\": \"blue_bathtub\",\n",
      "\"explain\": \"To determine where Hannah thinks Abigail thinks Avery thinks the cucumber is, we need to trace the movements of the cucumber throughout the story. Initially, the cucumber is in the blue_drawer, then it is moved to the blue_container, then to the blue_bathtub, and finally to the red_pantry. However, the last known location of the cucumber before any confusion arises is the blue_bathtub. Since Hannah is aware of the movements and the last known position of the cucumber is the blue_bathtub, it is reasonable to conclude that she thinks Abigail, who is also aware of the cucumber's movements, thinks that Avery, who may not have been present for all movements, thinks the cucumber is still in the blue_bathtub.\"\n",
      "}\n",
      "284 :  {==-----------] 47.33% 284 / 600\n",
      "\"answer\": \"in the blue_container\",\n",
      "\"explain\": \"1. The story states that the green_pepper was initially in the red_basket and was then moved to the blue_container. 2. Since Abigail is part of the group that entered the living_room and witnessed the movement of the green_pepper, she is aware of its current location. 3. Jackson, who is also part of the group, likely shares this knowledge. 4. Benjamin and Emma are also aware of the green_pepper's location since they were present during the movement. 5. Therefore, Abigail would think that Jackson, knowing the green_pepper was moved, thinks that Benjamin, who also knows this, thinks that Emma, who moved it, thinks the green_pepper is in the blue_container.\"\n",
      "}\n",
      "284 :  {\n",
      "\"answer\": \"in the blue_container\",\n",
      "\"explain\": \"1. The story states that the green_pepper was initially in the red_basket and was then moved to the blue_container. 2. Since Abigail is part of the group that entered the living_room and witnessed the movement of the green_pepper, she is aware of its current location. 3. Jackson, who is also part of the group, likely shares this knowledge. 4. Benjamin and Emma are also aware of the green_pepper's location since they were present during the movement. 5. Therefore, Abigail would think that Jackson, knowing the green_pepper was moved, thinks that Benjamin, who also knows this, thinks that Emma, who moved it, thinks the green_pepper is in the blue_container.\"\n",
      "}\n",
      "284 :  {\n",
      "\"answer\": \"in the blue_container\",\n",
      "\"explain\": \"1. The story states that the green_pepper was initially in the red_basket and was then moved to the blue_container. 2. Since Abigail is part of the group that entered the living_room and witnessed the movement of the green_pepper, she is aware of its current location. 3. Jackson, who is also part of the group, likely shares this knowledge. 4. Benjamin and Emma are also aware of the green_pepper's location since they were present during the movement. 5. Therefore, Abigail would think that Jackson, knowing the green_pepper was moved, thinks that Benjamin, who also knows this, thinks that Emma, who moved it, thinks the green_pepper is in the blue_container.\"\n",
      "}\n",
      "285 :  {==-----------] 47.50% 285 / 600\n",
      "\"answer\": \"in the blue_container\",\n",
      "\"explain\": \"1. The story states that the green_pepper was initially in the red_basket and was then moved to the blue_container. 2. Since Abigail is part of the group that entered the living_room and witnessed the movement of the green_pepper, she is aware of its current location. 3. Jackson, who is also part of the group, likely shares this knowledge. 4. Benjamin and Emma are also aware of the green_pepper's location since they were present during the movement. 5. Therefore, Abigail would think that Jackson, knowing the green_pepper was moved, thinks that Benjamin, who also knows this, thinks that Emma, who moved it, thinks the green_pepper is in the blue_container.\"\n",
      "}\n",
      "285 :  {\n",
      "\"answer\": \"in the blue_container\",\n",
      "\"explain\": \"1. The story states that the green_pepper was initially in the red_basket and was then moved to the blue_container. 2. Since Abigail is part of the group that entered the living_room and witnessed the movement of the green_pepper, she is aware of its current location. 3. Jackson, who is also part of the group, likely shares this knowledge. 4. Benjamin and Emma are also aware of the green_pepper's location since they were present during the movement. 5. Therefore, Abigail would think that Jackson, knowing the green_pepper was moved, thinks that Benjamin, who also knows this, thinks that Emma, who moved it, thinks the green_pepper is in the blue_container.\"\n",
      "}\n",
      "285 :  {\n",
      "\"answer\": \"in the blue_container\",\n",
      "\"explain\": \"1. The story states that the green_pepper was initially in the red_basket and was then moved to the blue_container. 2. Since Abigail is part of the group that entered the living_room and witnessed the movement of the green_pepper, she is aware of its current location. 3. Jackson, who is also part of the group, likely shares this knowledge. 4. Benjamin and Emma are also aware of the green_pepper's location since they were present during the movement. 5. Therefore, Abigail would think that Jackson, knowing the green_pepper was moved, thinks that Benjamin, who also knows this, thinks that Emma, who moved it, thinks the green_pepper is in the blue_container.\"\n",
      "}\n",
      "286 :  {==-----------] 47.67% 286 / 600\n",
      "\"answer\": \"in the blue_container\",\n",
      "\"explain\": \"1. The story states that the green_pepper was initially in the red_basket and was then moved to the blue_container. 2. Since Abigail is part of the group that entered the living_room and witnessed the movement of the green_pepper, she is aware of its current location. 3. Jackson, who is also part of the group, likely shares this knowledge. 4. Benjamin and Emma are also aware of the green_pepper's location since they were present during the movement. 5. Therefore, Abigail would think that Jackson, knowing the green_pepper was moved, thinks that Benjamin, who also knows this, thinks that Emma, who moved it, thinks the green_pepper is in the blue_container.\"\n",
      "}\n",
      "286 :  {\n",
      "\"answer\": \"in the blue_container\",\n",
      "\"explain\": \"1. The story states that the green_pepper was initially in the red_basket and was then moved to the blue_container. 2. Since Abigail is part of the group that entered the living_room and witnessed the movement of the green_pepper, she is aware of its current location. 3. Jackson, who is also part of the group, likely shares this knowledge. 4. Benjamin and Emma are also aware of the green_pepper's location since they were present during the movement. 5. Therefore, Abigail would think that Jackson, knowing the green_pepper was moved, thinks that Benjamin, who also knows this, thinks that Emma, who moved it, thinks the green_pepper is in the blue_container.\"\n",
      "}\n",
      "299 :  {==-----------] 49.83% 299 / 600\n",
      "\"answer\": \"blue_crate\",\n",
      "\"explain\": \"To determine where Aiden thinks Isabella thinks William thinks Noah thinks the pear is, we need to trace the movements of the pear throughout the story. Initially, the pear is in the blue_crate. Aiden, along with others, moved the pear multiple times, but the last recorded movement of the pear was back to the blue_crate after seeing a mouse. Since there are no further movements of the pear mentioned after that, it is reasonable to conclude that Aiden believes the pear is still in the blue_crate. Therefore, Aiden thinks Isabella thinks William thinks Noah thinks the pear is in the blue_crate.\"\n",
      "}\n",
      "305 :  {===----------] 50.83% 305 / 600\n",
      "\"answer\": \"in the blue_drawer\",\n",
      "\"explain\": \"The story states that Emma, Elizabeth, Sophia, and Logan publicly claimed that the asparagus is in the red_crate, but privately told Hannah that the asparagus is in the blue_drawer. Since private information is often more reliable than public claims, we can conclude that the asparagus is really in the blue_drawer.\"\n",
      "}\n",
      "305 :  {\n",
      "\"answer\": \"in the blue_drawer\",\n",
      "\"explain\": \"The story states that Emma, Elizabeth, Sophia, and Logan publicly claimed that the asparagus is in the red_crate, but privately told Hannah that the asparagus is in the blue_drawer. Since private information is often more reliable than public claims, we can conclude that the asparagus is really in the blue_drawer.\"\n",
      "}\n",
      "306 :  {===----------] 51.00% 306 / 600\n",
      "\"answer\": \"green_bucket\",\n",
      "\"explain\": \"1. The story states that the watermelon was initially in the green crate. 2. It was then moved to the green envelope, then to the green bucket, then to the blue pantry, and finally to the green basket. 3. After all these movements, it is important to note that the last known location of the watermelon was in the green basket. 4. However, Jacob privately told Owen that the watermelon is in the green bucket, which indicates that the watermelon was moved back to the green bucket after being in the green basket. 5. Therefore, the watermelon is really in the green bucket.\"\n",
      "}\n",
      "310 :  {===----------] 51.67% 310 / 600\n",
      "\"answer\": \"green_cupboard\",\n",
      "\"explain\": \"1. The story states that the potato was initially in the blue_bathtub. 2. It was then moved to the blue_pantry and exited the study. 3. After that, it was moved to the green_cupboard and exited the study again. 4. The characters made no movements and stayed in the study for 1 minute multiple times, but these actions do not indicate any further movement of the potato. 5. Finally, they publicly claimed the potato was in the blue_bathtub, but privately told Jacob it was in the blue_bottle, which is a misdirection. 6. Since the last confirmed location of the potato was the green_cupboard, that is where it really is.\"\n",
      "}\n",
      "341 :  {====---------] 56.83% 341 / 600\n",
      "\"answer\": \"The story does not provide information about William's thoughts on the carrot's location.\",\n",
      "\"explain\": \"The story mentions Jack, Charlotte, Noah, and Hannah, but there is no mention of a character named William or any indication of what he thinks about the carrot's location. Therefore, we cannot determine where Hannah thinks William thinks the carrot is based on the provided information.\"\n",
      "}\n",
      "341 :  {\n",
      "\"answer\": \"The story does not provide information about William's thoughts on the carrot's location.\",\n",
      "\"explain\": \"The story mentions Jack, Charlotte, Noah, and Hannah, but there is no mention of a character named William or any indication of what he thinks about the carrot's location. Therefore, we cannot determine where Hannah thinks William thinks the carrot is based on the provided information.\"\n",
      "}\n",
      "341 :  {\n",
      "\"answer\": \"The story does not provide information about William's thoughts on the carrot's location.\",\n",
      "\"explain\": \"The story mentions Jack, Charlotte, Noah, and Hannah, but there is no mention of a character named William or any indication of what he thinks about the carrot's location. Therefore, we cannot determine where Hannah thinks William thinks the carrot is based on the provided information.\"\n",
      "}\n",
      "349 :  {====---------] 58.17% 349 / 600\n",
      "\"answer\": \"in the blue_suitcase\",\n",
      "\"explain\": \"1. The story mentions that Owen, Amelia, Jack, and Aiden publicly claimed that the spinach is in the red_container. 2. However, Owen privately told Amelia that the spinach is in the blue_suitcase. 3. Since the question asks where Owen thinks Abigail thinks the spinach is, we need to consider that Abigail is not mentioned in the story, but it can be inferred that Owen believes that Abigail would think the spinach is in the same place he privately told Amelia, which is the blue_suitcase. 4. Therefore, the answer is that Owen thinks Abigail thinks the spinach is in the blue_suitcase.\"\n",
      "}\n",
      "454 :  {========-----] 75.67% 454 / 600\n",
      "\"answer\": \"in the blue_crate\",\n",
      "\"explain\": \"To determine where Amelia thinks Nathan thinks the pear is, we need to analyze the information provided. Nathan moved the pear multiple times, but at the end of the story, he moved it back to the blue_pantry. However, Amelia privately told Amelia that the cherry is in the blue_crate, which suggests that she might think Nathan is confused about the location of the pear. Since Nathan has been moving the pear around and Amelia is aware of this, she might think that Nathan is not aware of its final location and could mistakenly believe it is in the blue_crate, where the cherry was mentioned. Therefore, Amelia thinks Nathan thinks the pear is in the blue_crate.\"\n",
      "}\n",
      "454 :  {\n",
      "\"answer\": \"in the blue_crate\",\n",
      "\"explain\": \"To determine where Amelia thinks Nathan thinks the pear is, we need to analyze the information provided. Nathan moved the pear multiple times, but at the end of the story, he moved it back to the blue_pantry. However, Amelia privately told Amelia that the cherry is in the blue_crate, which suggests that she might think Nathan is confused about the location of the pear. Since Nathan has been moving the pear around and Amelia is aware of this, she might think that Nathan is not aware of its final location and could mistakenly believe it is in the blue_crate, where the cherry was mentioned. Therefore, Amelia thinks Nathan thinks the pear is in the blue_crate.\"\n",
      "}\n",
      "505 :  {=========----] 84.17% 505 / 600\n",
      "\"answer\": \"red_box\",\n",
      "\"explain\": \"1. Initially, the sweet_potato is in the red_box. 2. It is moved to the green_bottle, then back to the green_box, and finally back to the red_box. 3. The last recorded movement of the sweet_potato is to the red_box, and there are no further movements mentioned after that. 4. Therefore, the sweet_potato is really in the red_box.\"\n",
      "}\n",
      "508 :  {=========----] 84.67% 508 / 600\n",
      "\"answer\": \"green_box\",\n",
      "\"explain\": \"1. The story mentions that the carrot was moved multiple times: first to the red_bucket, then to the blue_crate, and finally to the green_box. 2. The last confirmed location of the carrot is in the green_box, as there are no further movements mentioned after that. 3. Although Amelia publicly claimed that the carrot is in the green_treasure_chest, this is not a reliable source since it contradicts the last known location. 4. Therefore, the carrot is really in the green_box.\"\n",
      "}\n",
      "508 :  {\n",
      "\"answer\": \"green_box\",\n",
      "\"explain\": \"1. The story mentions that the carrot was moved multiple times: first to the red_bucket, then to the blue_crate, and finally to the green_box. 2. The last confirmed location of the carrot is in the green_box, as there are no further movements mentioned after that. 3. Although Amelia publicly claimed that the carrot is in the green_treasure_chest, this is not a reliable source since it contradicts the last known location. 4. Therefore, the carrot is really in the green_box.\"\n",
      "}\n",
      "508 :  {\n",
      "\"answer\": \"green_box\",\n",
      "\"explain\": \"1. The story mentions that the carrot was moved multiple times: first to the red_bucket, then to the blue_crate, and finally to the green_box. 2. The last confirmed location of the carrot is in the green_box, as there are no further movements mentioned after that. 3. Although Amelia publicly claimed that the carrot is in the green_treasure_chest, this is not a reliable source since it contradicts the last known location. 4. Therefore, the carrot is really in the green_box.\"\n",
      "}\n",
      "509 :  {=========----] 84.83% 509 / 600\n",
      "\"answer\": \"green_box\",\n",
      "\"explain\": \"1. The story mentions that the carrot was moved multiple times: first to the red_bucket, then to the blue_crate, and finally to the green_box. 2. The last confirmed location of the carrot is in the green_box, as there are no further movements mentioned after that. 3. Although Amelia publicly claimed that the carrot is in the green_treasure_chest, this is not a reliable source since it contradicts the last known location. 4. Therefore, the carrot is really in the green_box.\"\n",
      "}\n",
      "509 :  {\n",
      "\"answer\": \"green_box\",\n",
      "\"explain\": \"1. The story mentions that the carrot was moved multiple times: first to the red_bucket, then to the blue_crate, and finally to the green_box. 2. The last confirmed location of the carrot is in the green_box, as there are no further movements mentioned after that. 3. Although Amelia publicly claimed that the carrot is in the green_treasure_chest, this is not a reliable source since it contradicts the last known location. 4. Therefore, the carrot is really in the green_box.\"\n",
      "}\n",
      "509 :  {\n",
      "\"answer\": \"green_box\",\n",
      "\"explain\": \"1. The story mentions that the carrot was moved multiple times: first to the red_bucket, then to the blue_crate, and finally to the green_box. 2. The last confirmed location of the carrot is in the green_box, as there are no further movements mentioned after that. 3. Although Amelia publicly claimed that the carrot is in the green_treasure_chest, this is not a reliable source since it contradicts the last known location. 4. Therefore, the carrot is really in the green_box.\"\n",
      "}\n",
      "543 :  {===========--] 90.50% 543 / 600\n",
      "\"answer\": \"in the red_drawer\",\n",
      "\"explain\": \"1. The story states that Jack, Ella, Jacob, and Amelia entered the laundry and moved the spinach multiple times. 2. At one point, they privately told Jacob that the spinach is in the red_drawer. 3. Since Jacob was informed that the spinach is in the red_drawer, it can be inferred that he believes the spinach is there. 4. Jackson was told by Jack that the spinach is in the red_crate, but this does not affect Jacob's belief. 5. Therefore, Jackson thinks that Jacob thinks the spinach is in the red_drawer.\"\n",
      "}\n",
      "543 :  {\n",
      "\"answer\": \"in the red_drawer\",\n",
      "\"explain\": \"1. The story states that Jack, Ella, Jacob, and Amelia entered the laundry and moved the spinach multiple times. 2. At one point, they privately told Jacob that the spinach is in the red_drawer. 3. Since Jacob was informed that the spinach is in the red_drawer, it can be inferred that he believes the spinach is there. 4. Jackson was told by Jack that the spinach is in the red_crate, but this does not affect Jacob's belief. 5. Therefore, Jackson thinks that Jacob thinks the spinach is in the red_drawer.\"\n",
      "}\n",
      "543 :  {\n",
      "\"answer\": \"in the red_drawer\",\n",
      "\"explain\": \"1. The story states that Jack, Ella, Jacob, and Amelia entered the laundry and moved the spinach multiple times. 2. At one point, they privately told Jacob that the spinach is in the red_drawer. 3. Since Jacob was informed that the spinach is in the red_drawer, it can be inferred that he believes the spinach is there. 4. Jackson was told by Jack that the spinach is in the red_crate, but this does not affect Jacob's belief. 5. Therefore, Jackson thinks that Jacob thinks the spinach is in the red_drawer.\"\n",
      "}\n",
      "569 :  {===========--] 94.83% 569 / 600\n",
      "\"answer\": \"in the blue_container\",\n",
      "\"explain\": \"To determine where Elizabeth thinks Carter thinks Isla thinks the watermelon is, we need to analyze the information provided in the story. Elizabeth publicly claimed that the watermelon is in the red_envelope, but privately told Carter that it is in the blue_container. Since Carter and Elizabeth entered the kitchen and found the watermelon in the blue_cupboard, they moved it to the red_envelope and then to the green_bucket, and finally to the blue_container. Elizabeth knows that Carter is aware of the watermelon being in the blue_container. However, since Isla was not present during the private conversation between Elizabeth and Carter, Elizabeth might assume that Isla is still unaware of the watermelon being in the blue_container. Therefore, Elizabeth thinks that Carter believes Isla thinks the watermelon is still in the blue_container, as that is the last known location they moved it to before the conversation. Thus, the answer is that Elizabeth thinks Carter thinks Isla thinks the watermelon is in the blue_container.\"\n",
      "}\n",
      "569 :  {\n",
      "\"answer\": \"in the blue_container\",\n",
      "\"explain\": \"To determine where Elizabeth thinks Carter thinks Isla thinks the watermelon is, we need to analyze the information provided in the story. Elizabeth publicly claimed that the watermelon is in the red_envelope, but privately told Carter that it is in the blue_container. Since Carter and Elizabeth entered the kitchen and found the watermelon in the blue_cupboard, they moved it to the red_envelope and then to the green_bucket, and finally to the blue_container. Elizabeth knows that Carter is aware of the watermelon being in the blue_container. However, since Isla was not present during the private conversation between Elizabeth and Carter, Elizabeth might assume that Isla is still unaware of the watermelon being in the blue_container. Therefore, Elizabeth thinks that Carter believes Isla thinks the watermelon is still in the blue_container, as that is the last known location they moved it to before the conversation. Thus, the answer is that Elizabeth thinks Carter thinks Isla thinks the watermelon is in the blue_container.\"\n",
      "}\n",
      "569 :  {\n",
      "\"answer\": \"in the blue_container\",\n",
      "\"explain\": \"To determine where Elizabeth thinks Carter thinks Isla thinks the watermelon is, we need to analyze the information provided in the story. Elizabeth publicly claimed that the watermelon is in the red_envelope, but privately told Carter that it is in the blue_container. Since Carter and Elizabeth entered the kitchen and found the watermelon in the blue_cupboard, they moved it to the red_envelope and then to the green_bucket, and finally to the blue_container. Elizabeth knows that Carter is aware of the watermelon being in the blue_container. However, since Isla was not present during the private conversation between Elizabeth and Carter, Elizabeth might assume that Isla is still unaware of the watermelon being in the blue_container. Therefore, Elizabeth thinks that Carter believes Isla thinks the watermelon is still in the blue_container, as that is the last known location they moved it to before the conversation. Thus, the answer is that Elizabeth thinks Carter thinks Isla thinks the watermelon is in the blue_container.\"\n",
      "}\n",
      "574 :  {============-] 95.67% 574 / 600\n",
      "\"answer\": \"red_container\",\n",
      "\"explain\": \"To determine where Avery thinks Nathan thinks Abigail thinks the carrot is, we need to analyze the information provided in the story. Initially, Emma, Avery, Isabella, and Abigail publicly claimed that the carrot is in the red_envelope. However, later on, Abigail, Avery, and Isabella publicly claimed that the carrot is in the red_container. Since Nathan was privately told by Abigail that the carrot is in the green_crate, it indicates that there is a discrepancy between what they publicly claimed and what they privately communicated. Therefore, Avery likely believes that Nathan thinks Abigail is still aligned with the earlier public claim of the carrot being in the red_container, as that was the last public statement made by the group before the private communication to Nathan about the green_crate.\"\n",
      "}\n",
      "582 :  {============-] 97.00% 582 / 600\n",
      "\"answer\": \"green_treasure_chest\",\n",
      "\"explain\": \"To determine where Evelyn thinks Ella thinks Owen thinks Aiden thinks the melon is, we need to follow the chain of information provided in the story. Owen, Isla, Aiden, and Evelyn entered the waiting room and privately told Ella that the melon is in the green_treasure_chest. This means that Ella believes the melon is in the green_treasure_chest. However, Owen also privately told Aiden that the melon is in the blue_suitcase. Therefore, Aiden thinks the melon is in the blue_suitcase. Since Evelyn is trying to deduce where Ella thinks Owen thinks Aiden thinks the melon is, we can conclude that Evelyn thinks Ella believes the melon is in the green_treasure_chest, as that was the information given to Ella directly. Thus, the answer is green_treasure_chest.\"\n",
      "}\n",
      "582 :  {\n",
      "\"answer\": \"green_treasure_chest\",\n",
      "\"explain\": \"To determine where Evelyn thinks Ella thinks Owen thinks Aiden thinks the melon is, we need to follow the chain of information provided in the story. Owen, Isla, Aiden, and Evelyn entered the waiting room and privately told Ella that the melon is in the green_treasure_chest. This means that Ella believes the melon is in the green_treasure_chest. However, Owen also privately told Aiden that the melon is in the blue_suitcase. Therefore, Aiden thinks the melon is in the blue_suitcase. Since Evelyn is trying to deduce where Ella thinks Owen thinks Aiden thinks the melon is, we can conclude that Evelyn thinks Ella believes the melon is in the green_treasure_chest, as that was the information given to Ella directly. Thus, the answer is green_treasure_chest.\"\n",
      "}\n",
      "582 :  {\n",
      "\"answer\": \"green_treasure_chest\",\n",
      "\"explain\": \"To determine where Evelyn thinks Ella thinks Owen thinks Aiden thinks the melon is, we need to follow the chain of information provided in the story. Owen, Isla, Aiden, and Evelyn entered the waiting room and privately told Ella that the melon is in the green_treasure_chest. This means that Ella believes the melon is in the green_treasure_chest. However, Owen also privately told Aiden that the melon is in the blue_suitcase. Therefore, Aiden thinks the melon is in the blue_suitcase. Since Evelyn is trying to deduce where Ella thinks Owen thinks Aiden thinks the melon is, we can conclude that Evelyn thinks Ella believes the melon is in the green_treasure_chest, as that was the information given to Ella directly. Thus, the answer is green_treasure_chest.\"\n",
      "}\n",
      "590 :  {============-] 98.33% 590 / 600\n",
      "\"answer\": \"green_bathtub\",\n",
      "\"explain\": \"To determine where Benjamin thinks Charlotte thinks Emily thinks Mila thinks the persimmon is, we need to analyze the statements made in the story. Mila and Benjamin, along with Emma and Charlotte, publicly claimed that the persimmon is in the green_bucket. However, privately, Mila told Emily that the persimmon is in the green_bathtub. Since Benjamin is aware of the private conversation, he would think that Charlotte believes Emily thinks Mila thinks the persimmon is in the green_bathtub, as that is the last known location communicated privately.\"\n",
      "}\n",
      "590 :  {\n",
      "\"answer\": \"green_bathtub\",\n",
      "\"explain\": \"To determine where Benjamin thinks Charlotte thinks Emily thinks Mila thinks the persimmon is, we need to analyze the statements made in the story. Mila and Benjamin, along with Emma and Charlotte, publicly claimed that the persimmon is in the green_bucket. However, privately, Mila told Emily that the persimmon is in the green_bathtub. Since Benjamin is aware of the private conversation, he would think that Charlotte believes Emily thinks Mila thinks the persimmon is in the green_bathtub, as that is the last known location communicated privately.\"\n",
      "}\n",
      "591 :  {============-] 98.50% 591 / 600\n",
      "\"answer\": \"in the blue_suitcase\",\n",
      "\"explain\": \"To determine where Amelia thinks Jack thinks Benjamin thinks Abigail thinks the spinach is, we need to analyze the information provided in the story. Amelia publicly claimed that the spinach is in the green_pantry, but privately told Jack that it is in the blue_suitcase. Since there is no mention of Abigail in the story, we can assume that Abigail is not involved in the spinach's location. Therefore, the last known location of the spinach that Amelia communicated to Jack is in the blue_suitcase. Thus, Amelia thinks Jack thinks Benjamin thinks Abigail thinks the spinach is in the blue_suitcase.\"\n",
      "}\n",
      "592 :  {============-] 98.67% 592 / 600\n",
      "\"answer\": \"green_cupboard\",\n",
      "\"explain\": \"1. Nathan privately told Isabella that the spinach is in the green_cupboard. 2. This means Nathan believes Isabella knows the spinach's location. 3. Nathan also privately told Noah that the spinach is in the green_pantry, which indicates he thinks Noah has a different belief about the spinach's location. 4. Since Nathan is aware of what he told Isabella, he likely assumes that Isabella would relay this information to Hannah. 5. Therefore, Nathan thinks that Isabella thinks Hannah believes the spinach is in the green_cupboard, as that is the information Nathan provided to Isabella.\"\n",
      "}\n",
      "[===================-] 99.83% 599 / 600\r"
     ]
    }
   ],
   "source": [
    "results = {'outputs':[], 'answer':[], 'i':[]}\n",
    "for i in range(len(test_hitom)):\n",
    "    print(get_progress(i, len(test_hitom)), end = '\\r')\n",
    "    for j in range(3):\n",
    "        try:\n",
    "            prompt_task =XML_COT_FORMAT.format(test_hitom['story'][i], test_hitom['question'][i])\n",
    "\n",
    "            response = client.chat.completions.create(\n",
    "                model=MODEL,\n",
    "                messages=[{\"role\": \"system\", \"content\":SYSTEM_PROMPT},\n",
    "                    {\"role\": \"user\", \"content\": prompt_task}\n",
    "                ],\n",
    "                temperature = 0.2,\n",
    "                top_p = 0.1\n",
    "            ) \n",
    "            results['outputs'].append(json.loads(response.choices[0].message.content))\n",
    "            results['answer'].append(test_hitom['answer'][i])\n",
    "            results['i'].append(i)\n",
    "            break\n",
    "        except:\n",
    "            print(i, ': ', response.choices[0].message.content)"
   ]
  },
  {
   "cell_type": "code",
   "execution_count": 48,
   "metadata": {},
   "outputs": [],
   "source": [
    "ik  = []\n",
    "for i in range(600):\n",
    "    if i not in results['i']:\n",
    "        ik.append(i)"
   ]
  },
  {
   "cell_type": "code",
   "execution_count": 49,
   "metadata": {},
   "outputs": [
    {
     "name": "stdout",
     "output_type": "stream",
     "text": [
      "254 :  {\n",
      "\"answer\": \"blue_treasure_chest\",\n",
      "\"explain\": \"1. The spinach starts in the green_drawer. 2. It is moved to the green_pantry, then to the red_container, and back to the green_drawer. 3. After that, it is moved to the green_cupboard, then to the blue_treasure_chest. 4. The last known location of the spinach is the blue_treasure_chest, as there are no further movements mentioned after that.\"\n",
      "}\n",
      "582 :  {\n",
      "\"answer\": \"in the green_bathtub\",\n",
      "\"explain\": \"To determine where Charlotte thinks Emily thinks Mila thinks the persimmon is, we need to analyze the information provided in the story. Mila, Benjamin, Emma, and Charlotte entered the waiting room and publicly claimed that the persimmon is in the green_bucket. However, Mila privately told Emily that the persimmon is in the green_bathtub. Since Charlotte is aware of the public claim but not the private conversation, she would assume that Emily believes Mila thinks the persimmon is in the green_bucket. However, since Emily knows the truth from Mila, Charlotte would think that Emily believes Mila thinks the persimmon is in the green_bathtub, as that is what Mila told her privately. Therefore, Charlotte thinks Emily thinks Mila thinks the persimmon is in the green_bathtub.\"\n",
      "}\n"
     ]
    }
   ],
   "source": [
    "results2 = {'outputs':[], 'answer':[], 'i':[]}\n",
    "for i in ik:\n",
    "    print(i, end = '\\r')\n",
    "    for j in range(3):\n",
    "        try:\n",
    "            prompt_task =XML_COT_FORMAT.format(test_hitom['story'][i], test_hitom['question'][i])\n",
    "\n",
    "            response = client.chat.completions.create(\n",
    "                model=MODEL,\n",
    "                messages=[{\"role\": \"system\", \"content\":SYSTEM_PROMPT},\n",
    "                    {\"role\": \"user\", \"content\": prompt_task}\n",
    "                ],\n",
    "                temperature = 0.2,\n",
    "                top_p = 0.1\n",
    "            ) \n",
    "            results2['outputs'].append(json.loads(response.choices[0].message.content))\n",
    "            results2['answer'].append(test_hitom['answer'][i])\n",
    "            results2['i'].append(i)\n",
    "            break\n",
    "        except:\n",
    "            print(i, ': ', response.choices[0].message.content)"
   ]
  },
  {
   "cell_type": "code",
   "execution_count": 51,
   "metadata": {},
   "outputs": [
    {
     "data": {
      "text/plain": [
       "[219, 254, 284, 285, 341, 508, 509, 543, 569, 582]"
      ]
     },
     "execution_count": 51,
     "metadata": {},
     "output_type": "execute_result"
    }
   ],
   "source": [
    "results2['i']\n"
   ]
  },
  {
   "cell_type": "code",
   "execution_count": 56,
   "metadata": {},
   "outputs": [
    {
     "data": {
      "text/html": [
       "<div>\n",
       "<style scoped>\n",
       "    .dataframe tbody tr th:only-of-type {\n",
       "        vertical-align: middle;\n",
       "    }\n",
       "\n",
       "    .dataframe tbody tr th {\n",
       "        vertical-align: top;\n",
       "    }\n",
       "\n",
       "    .dataframe thead th {\n",
       "        text-align: right;\n",
       "    }\n",
       "</style>\n",
       "<table border=\"1\" class=\"dataframe\">\n",
       "  <thead>\n",
       "    <tr style=\"text-align: right;\">\n",
       "      <th></th>\n",
       "      <th>outputs</th>\n",
       "      <th>answer</th>\n",
       "      <th>i</th>\n",
       "    </tr>\n",
       "  </thead>\n",
       "  <tbody>\n",
       "    <tr>\n",
       "      <th>0</th>\n",
       "      <td>{'answer': 'green_drawer', 'explain': '1. The ...</td>\n",
       "      <td>green_drawer</td>\n",
       "      <td>0</td>\n",
       "    </tr>\n",
       "    <tr>\n",
       "      <th>1</th>\n",
       "      <td>{'answer': 'blue_container', 'explain': '1. Th...</td>\n",
       "      <td>blue_container</td>\n",
       "      <td>1</td>\n",
       "    </tr>\n",
       "  </tbody>\n",
       "</table>\n",
       "</div>"
      ],
      "text/plain": [
       "                                             outputs          answer  i\n",
       "0  {'answer': 'green_drawer', 'explain': '1. The ...    green_drawer  0\n",
       "1  {'answer': 'blue_container', 'explain': '1. Th...  blue_container  1"
      ]
     },
     "execution_count": 56,
     "metadata": {},
     "output_type": "execute_result"
    }
   ],
   "source": [
    "df = pd.concat([pd.DataFrame(results), pd.DataFrame(results2)], ignore_index=True)\n",
    "df.sort_values(by='i', inplace=True, ignore_index=True)\n",
    "df.head(2)"
   ]
  },
  {
   "cell_type": "code",
   "execution_count": 67,
   "metadata": {},
   "outputs": [],
   "source": [
    "import re\n",
    "\n",
    "def extract_xml_answer(text: str) -> str:\n",
    "    answer_pattern = r'<answer>(.*?)</answer>'\n",
    "    matches = list(re.finditer(answer_pattern, text, re.DOTALL))\n",
    "    if not matches:\n",
    "        return None\n",
    "        \n",
    "    final_answer = matches[-1].group(1).strip()\n",
    "    return final_answer\n",
    "\n",
    "\n",
    "\n",
    "def normalize_answer(answer: str) -> str:\n",
    "    \"\"\"Normalizes the answer text for better comparison.\n",
    "    Args:\n",
    "        answer: Raw answer text\n",
    "    Returns:\n",
    "        Normalized answer text\n",
    "    \"\"\"\n",
    "    if answer is None:\n",
    "        return None\n",
    "    # Convert to lowercase\n",
    "    normalized = answer.lower()\n",
    "    # Remove extra whitespace\n",
    "    normalized = re.sub(r'\\s+', ' ', normalized).strip()\n",
    "    # Remove punctuation that doesn't affect meaning\n",
    "    normalized = re.sub(r'[.,;:!?]', '', normalized)\n",
    "    return normalized\n",
    "\n",
    "\n",
    "def reward_func(response, answer):\n",
    "    response_ = response\n",
    "    #response_ = extract_xml_answer(response)\n",
    "    if response_:\n",
    "        norm_response = normalize_answer(response_)\n",
    "        norm_answer = normalize_answer(answer)\n",
    "        ans_pattern = r\"\\b(?:in|at|on|inside)?\\s*(?:the\\s*)?\" + re.escape(norm_answer) + r\"\\b$\"\n",
    "        match = re.match(ans_pattern, norm_response, re.DOTALL | re.MULTILINE)\n",
    "        if match:\n",
    "            return 1\n",
    "        else:\n",
    "            return 0\n",
    "    return 0"
   ]
  },
  {
   "cell_type": "code",
   "execution_count": 68,
   "metadata": {},
   "outputs": [],
   "source": [
    "correct = [reward_func(each['answer'], ans) for each, ans in zip(df.outputs, df.answer)]"
   ]
  },
  {
   "cell_type": "code",
   "execution_count": 69,
   "metadata": {},
   "outputs": [
    {
     "data": {
      "text/plain": [
       "'green_drawer'"
      ]
     },
     "execution_count": 69,
     "metadata": {},
     "output_type": "execute_result"
    }
   ],
   "source": [
    "df.outputs[0]['answer']"
   ]
  },
  {
   "cell_type": "code",
   "execution_count": 73,
   "metadata": {},
   "outputs": [],
   "source": [
    "for each in ['deception','question_order','question']:\n",
    "    df[each]=test_hitom[each]"
   ]
  },
  {
   "cell_type": "code",
   "execution_count": 74,
   "metadata": {},
   "outputs": [
    {
     "data": {
      "text/html": [
       "<div>\n",
       "<style scoped>\n",
       "    .dataframe tbody tr th:only-of-type {\n",
       "        vertical-align: middle;\n",
       "    }\n",
       "\n",
       "    .dataframe tbody tr th {\n",
       "        vertical-align: top;\n",
       "    }\n",
       "\n",
       "    .dataframe thead th {\n",
       "        text-align: right;\n",
       "    }\n",
       "</style>\n",
       "<table border=\"1\" class=\"dataframe\">\n",
       "  <thead>\n",
       "    <tr style=\"text-align: right;\">\n",
       "      <th></th>\n",
       "      <th>outputs</th>\n",
       "      <th>answer</th>\n",
       "      <th>i</th>\n",
       "      <th>reward</th>\n",
       "      <th>deception</th>\n",
       "      <th>question_order</th>\n",
       "      <th>question</th>\n",
       "    </tr>\n",
       "  </thead>\n",
       "  <tbody>\n",
       "    <tr>\n",
       "      <th>0</th>\n",
       "      <td>{'answer': 'green_drawer', 'explain': '1. The ...</td>\n",
       "      <td>green_drawer</td>\n",
       "      <td>0</td>\n",
       "      <td>1</td>\n",
       "      <td>False</td>\n",
       "      <td>0</td>\n",
       "      <td>Where is the lettuce really?</td>\n",
       "    </tr>\n",
       "    <tr>\n",
       "      <th>1</th>\n",
       "      <td>{'answer': 'blue_container', 'explain': '1. Th...</td>\n",
       "      <td>blue_container</td>\n",
       "      <td>1</td>\n",
       "      <td>1</td>\n",
       "      <td>False</td>\n",
       "      <td>0</td>\n",
       "      <td>Where is the tomato really?</td>\n",
       "    </tr>\n",
       "  </tbody>\n",
       "</table>\n",
       "</div>"
      ],
      "text/plain": [
       "                                             outputs          answer  i  \\\n",
       "0  {'answer': 'green_drawer', 'explain': '1. The ...    green_drawer  0   \n",
       "1  {'answer': 'blue_container', 'explain': '1. Th...  blue_container  1   \n",
       "\n",
       "   reward  deception  question_order                      question  \n",
       "0       1      False               0  Where is the lettuce really?  \n",
       "1       1      False               0   Where is the tomato really?  "
      ]
     },
     "execution_count": 74,
     "metadata": {},
     "output_type": "execute_result"
    }
   ],
   "source": [
    "df.head(2)"
   ]
  },
  {
   "cell_type": "code",
   "execution_count": 75,
   "metadata": {},
   "outputs": [
    {
     "data": {
      "text/plain": [
       "<Axes: xlabel='question_order', ylabel='reward'>"
      ]
     },
     "execution_count": 75,
     "metadata": {},
     "output_type": "execute_result"
    },
    {
     "data": {
      "image/png": "[encoded data removed]",
      "text/plain": [
       "<Figure size 400x300 with 1 Axes>"
      ]
     },
     "metadata": {},
     "output_type": "display_data"
    }
   ],
   "source": [
    "_, ax = plt.subplots(1,1,figsize=(4, 3))\n",
    "sns.pointplot(x='question_order', y='reward', data=df)"
   ]
  },
  {
   "cell_type": "code",
   "execution_count": 78,
   "metadata": {},
   "outputs": [
    {
     "data": {
      "text/plain": [
       "<Axes: xlabel='question_order', ylabel='reward'>"
      ]
     },
     "execution_count": 78,
     "metadata": {},
     "output_type": "execute_result"
    },
    {
     "data": {
      "image/png": "[encoded data removed]",
      "text/plain": [
       "<Figure size 400x300 with 1 Axes>"
      ]
     },
     "metadata": {},
     "output_type": "display_data"
    }
   ],
   "source": [
    "_, ax = plt.subplots(1,1,figsize=(4, 3))\n",
    "sns.pointplot(x='question_order', y='reward', hue='deception', data=df)"
   ]
  },
  {
   "cell_type": "code",
   "execution_count": 79,
   "metadata": {},
   "outputs": [
    {
     "data": {
      "text/plain": [
       "0.4066666666666667"
      ]
     },
     "execution_count": 79,
     "metadata": {},
     "output_type": "execute_result"
    }
   ],
   "source": [
    "df.reward.mean()"
   ]
  },
  {
   "cell_type": "code",
   "execution_count": 77,
   "metadata": {},
   "outputs": [],
   "source": [
    "df.to_csv('data/results/base/hittom_gpt4omini.csv', index=False)"
   ]
  },
  {
   "cell_type": "code",
   "execution_count": null,
   "metadata": {},
   "outputs": [],
   "source": []
  }
 ],
 "metadata": {
  "kernelspec": {
   "display_name": "vllm",
   "language": "python",
   "name": "vllm"
  },
  "language_info": {
   "codemirror_mode": {
    "name": "ipython",
    "version": 3
   },
   "file_extension": ".py",
   "mimetype": "text/x-python",
   "name": "python",
   "nbconvert_exporter": "python",
   "pygments_lexer": "ipython3",
   "version": "3.10.16"
  }
 },
 "nbformat": 4,
 "nbformat_minor": 2
}
