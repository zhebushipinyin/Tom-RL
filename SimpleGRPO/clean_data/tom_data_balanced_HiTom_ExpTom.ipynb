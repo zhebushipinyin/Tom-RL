{
 "cells": [
  {
   "cell_type": "code",
   "execution_count": 9,
   "metadata": {},
   "outputs": [],
   "source": [
    "import json\n",
    "import argparse\n",
    "import numpy as np\n",
    "import pandas as pd\n",
    "import seaborn as sns\n",
    "from datasets import load_dataset, Dataset, load_from_disk\n",
    "import matplotlib.pyplot as plt \n",
    "from transformers import AutoTokenizer"
   ]
  },
  {
   "cell_type": "code",
   "execution_count": 62,
   "metadata": {},
   "outputs": [],
   "source": [
    "df = pd.read_parquet('../../data/cleaned_tom/hi_tom_train_2000.parquet')\n",
    "dfh = pd.read_parquet('../../data/cleaned_tom/hi_tom_explore_tom_test_hint.parquet')\n",
    "dfe = pd.read_parquet('../data/ToM_train_800.parquet')\n",
    "dft = pd.read_parquet('../data/ToM_test_1066.parquet')"
   ]
  },
  {
   "cell_type": "code",
   "execution_count": 63,
   "metadata": {},
   "outputs": [
    {
     "name": "stdout",
     "output_type": "stream",
     "text": [
      "2000 1600 800\n"
     ]
    }
   ],
   "source": [
    "print(len(df), len(dfh), len(dfe))"
   ]
  },
  {
   "cell_type": "code",
   "execution_count": 64,
   "metadata": {},
   "outputs": [],
   "source": [
    "dfe['data_source'] = 'explore_tom'\n",
    "dft['data_source'] = 'explore_tom'"
   ]
  },
  {
   "cell_type": "code",
   "execution_count": 65,
   "metadata": {},
   "outputs": [],
   "source": [
    "tokenizer = AutoTokenizer.from_pretrained(\"Qwen/Qwen2.5-0.5B-Instruct\", trust_remote_code=True)"
   ]
  },
  {
   "cell_type": "code",
   "execution_count": 66,
   "metadata": {},
   "outputs": [
    {
     "name": "stdout",
     "output_type": "stream",
     "text": [
      "<class 'pandas.core.frame.DataFrame'>\n",
      "RangeIndex: 2000 entries, 0 to 1999\n",
      "Data columns (total 15 columns):\n",
      " #   Column          Non-Null Count  Dtype \n",
      "---  ------          --------------  ----- \n",
      " 0   deception       2000 non-null   bool  \n",
      " 1   story_length    2000 non-null   int64 \n",
      " 2   question_order  2000 non-null   int64 \n",
      " 3   sample_id       2000 non-null   int64 \n",
      " 4   story           2000 non-null   object\n",
      " 5   question        2000 non-null   object\n",
      " 6   choices         2000 non-null   object\n",
      " 7   answer          2000 non-null   object\n",
      " 8   question_old    2000 non-null   object\n",
      " 9   answer_old      2000 non-null   object\n",
      " 10  data_source     2000 non-null   object\n",
      " 11  prompt          2000 non-null   object\n",
      " 12  ability         2000 non-null   object\n",
      " 13  reward_model    2000 non-null   object\n",
      " 14  extra_info      2000 non-null   object\n",
      "dtypes: bool(1), int64(3), object(11)\n",
      "memory usage: 220.8+ KB\n"
     ]
    }
   ],
   "source": [
    "df.info()"
   ]
  },
  {
   "cell_type": "code",
   "execution_count": 67,
   "metadata": {},
   "outputs": [
    {
     "name": "stdout",
     "output_type": "stream",
     "text": [
      "<class 'pandas.core.frame.DataFrame'>\n",
      "RangeIndex: 800 entries, 0 to 799\n",
      "Data columns (total 11 columns):\n",
      " #   Column              Non-Null Count  Dtype \n",
      "---  ------              --------------  ----- \n",
      " 0   story_structure     800 non-null    object\n",
      " 1   infilled_story      800 non-null    object\n",
      " 2   question            800 non-null    object\n",
      " 3   answer              800 non-null    object\n",
      " 4   question_type       800 non-null    object\n",
      " 5   params              800 non-null    object\n",
      " 6   nth_order           800 non-null    int64 \n",
      " 7   is_interesting      800 non-null    bool  \n",
      " 8   story_type          800 non-null    object\n",
      " 9   story_structure_wn  800 non-null    object\n",
      " 10  data_source         800 non-null    object\n",
      "dtypes: bool(1), int64(1), object(9)\n",
      "memory usage: 63.4+ KB\n"
     ]
    }
   ],
   "source": [
    "dfe.info()"
   ]
  },
  {
   "cell_type": "code",
   "execution_count": 68,
   "metadata": {},
   "outputs": [],
   "source": [
    "dfs = df.groupby(['answer']).story.count().reset_index()"
   ]
  },
  {
   "cell_type": "code",
   "execution_count": 69,
   "metadata": {},
   "outputs": [
    {
     "data": {
      "text/html": [
       "<div>\n",
       "<style scoped>\n",
       "    .dataframe tbody tr th:only-of-type {\n",
       "        vertical-align: middle;\n",
       "    }\n",
       "\n",
       "    .dataframe tbody tr th {\n",
       "        vertical-align: top;\n",
       "    }\n",
       "\n",
       "    .dataframe thead th {\n",
       "        text-align: right;\n",
       "    }\n",
       "</style>\n",
       "<table border=\"1\" class=\"dataframe\">\n",
       "  <thead>\n",
       "    <tr style=\"text-align: right;\">\n",
       "      <th></th>\n",
       "      <th>answer</th>\n",
       "      <th>story</th>\n",
       "    </tr>\n",
       "  </thead>\n",
       "  <tbody>\n",
       "    <tr>\n",
       "      <th>0</th>\n",
       "      <td>blue_drawer</td>\n",
       "      <td>84</td>\n",
       "    </tr>\n",
       "    <tr>\n",
       "      <th>1</th>\n",
       "      <td>green_basket</td>\n",
       "      <td>82</td>\n",
       "    </tr>\n",
       "    <tr>\n",
       "      <th>2</th>\n",
       "      <td>red_drawer</td>\n",
       "      <td>80</td>\n",
       "    </tr>\n",
       "    <tr>\n",
       "      <th>3</th>\n",
       "      <td>red_bottle</td>\n",
       "      <td>79</td>\n",
       "    </tr>\n",
       "    <tr>\n",
       "      <th>4</th>\n",
       "      <td>green_bottle</td>\n",
       "      <td>77</td>\n",
       "    </tr>\n",
       "    <tr>\n",
       "      <th>5</th>\n",
       "      <td>green_box</td>\n",
       "      <td>77</td>\n",
       "    </tr>\n",
       "    <tr>\n",
       "      <th>6</th>\n",
       "      <td>blue_bucket</td>\n",
       "      <td>75</td>\n",
       "    </tr>\n",
       "    <tr>\n",
       "      <th>7</th>\n",
       "      <td>blue_treasure_chest</td>\n",
       "      <td>74</td>\n",
       "    </tr>\n",
       "    <tr>\n",
       "      <th>8</th>\n",
       "      <td>red_bucket</td>\n",
       "      <td>73</td>\n",
       "    </tr>\n",
       "    <tr>\n",
       "      <th>9</th>\n",
       "      <td>green_suitcase</td>\n",
       "      <td>73</td>\n",
       "    </tr>\n",
       "    <tr>\n",
       "      <th>10</th>\n",
       "      <td>blue_container</td>\n",
       "      <td>72</td>\n",
       "    </tr>\n",
       "    <tr>\n",
       "      <th>11</th>\n",
       "      <td>green_cupboard</td>\n",
       "      <td>69</td>\n",
       "    </tr>\n",
       "    <tr>\n",
       "      <th>12</th>\n",
       "      <td>blue_box</td>\n",
       "      <td>69</td>\n",
       "    </tr>\n",
       "    <tr>\n",
       "      <th>13</th>\n",
       "      <td>blue_bathtub</td>\n",
       "      <td>68</td>\n",
       "    </tr>\n",
       "    <tr>\n",
       "      <th>14</th>\n",
       "      <td>blue_basket</td>\n",
       "      <td>68</td>\n",
       "    </tr>\n",
       "    <tr>\n",
       "      <th>15</th>\n",
       "      <td>red_container</td>\n",
       "      <td>67</td>\n",
       "    </tr>\n",
       "    <tr>\n",
       "      <th>16</th>\n",
       "      <td>green_pantry</td>\n",
       "      <td>66</td>\n",
       "    </tr>\n",
       "    <tr>\n",
       "      <th>17</th>\n",
       "      <td>green_treasure_chest</td>\n",
       "      <td>65</td>\n",
       "    </tr>\n",
       "    <tr>\n",
       "      <th>18</th>\n",
       "      <td>blue_suitcase</td>\n",
       "      <td>65</td>\n",
       "    </tr>\n",
       "    <tr>\n",
       "      <th>19</th>\n",
       "      <td>red_suitcase</td>\n",
       "      <td>65</td>\n",
       "    </tr>\n",
       "  </tbody>\n",
       "</table>\n",
       "</div>"
      ],
      "text/plain": [
       "                  answer  story\n",
       "0            blue_drawer     84\n",
       "1           green_basket     82\n",
       "2             red_drawer     80\n",
       "3             red_bottle     79\n",
       "4           green_bottle     77\n",
       "5              green_box     77\n",
       "6            blue_bucket     75\n",
       "7    blue_treasure_chest     74\n",
       "8             red_bucket     73\n",
       "9         green_suitcase     73\n",
       "10        blue_container     72\n",
       "11        green_cupboard     69\n",
       "12              blue_box     69\n",
       "13          blue_bathtub     68\n",
       "14           blue_basket     68\n",
       "15         red_container     67\n",
       "16          green_pantry     66\n",
       "17  green_treasure_chest     65\n",
       "18         blue_suitcase     65\n",
       "19          red_suitcase     65"
      ]
     },
     "execution_count": 69,
     "metadata": {},
     "output_type": "execute_result"
    }
   ],
   "source": [
    "dfs = dfs.sort_values(by='story', ascending=False, ignore_index=True)\n",
    "dfs.head(20)"
   ]
  },
  {
   "cell_type": "code",
   "execution_count": 70,
   "metadata": {},
   "outputs": [
    {
     "data": {
      "text/plain": [
       "0    Where does Lily think Gracie thinks Jackson th...\n",
       "1    Where does Noah think Emily thinks Mila thinks...\n",
       "2          Where does Oliver really think the peas is?\n",
       "3    Where does Isabella think Amelia thinks the ap...\n",
       "4    Where does Mason think Olivia thinks Nathan th...\n",
       "5                            Where is the peas really?\n",
       "6    Where does Gracie think Jackson thinks the pum...\n",
       "7    Where does Isabella think Amelia thinks the on...\n",
       "8    Where does Isla think Elizabeth thinks the pin...\n",
       "9    Where does Alexander really think the broccoli...\n",
       "Name: question, dtype: object"
      ]
     },
     "execution_count": 70,
     "metadata": {},
     "output_type": "execute_result"
    }
   ],
   "source": [
    "df.question[:10]"
   ]
  },
  {
   "cell_type": "code",
   "execution_count": 71,
   "metadata": {},
   "outputs": [],
   "source": [
    "#SYSTEM_PROMPT = \"\"\"You are a helpful assistant. First, think through the question internally before providing the final answer. The reasoning process and answer are enclosed within <think> </think> and <answer> </answer> tags, respectively, i.e., <think> step by step reasoning here </think><answer> answer here </answer>\"\"\"\n",
    "\n",
    "SYSTEM_PROMPT = \"\"\"You are a helpful assistant. The assistant first thinks about the reasoning process in the mind and then provides the user with the answer. The reasoning process and answer are enclosed within <think> </think> and <answer> </answer> tags, respectively, i.e., <think> reasoning process here </think><answer> answer here </answer>.\"\"\""
   ]
  },
  {
   "cell_type": "code",
   "execution_count": 72,
   "metadata": {},
   "outputs": [],
   "source": [
    "XML_COT_FORMAT = \"\"\"Story: {}\\n Question:{}\"\"\""
   ]
  },
  {
   "cell_type": "code",
   "execution_count": 73,
   "metadata": {},
   "outputs": [],
   "source": [
    "def get_prompts(dft):\n",
    "    prompt = []\n",
    "    for i in range(len(dft)):\n",
    "        if dft['data_source'][i] == 'explore_tom':\n",
    "            prompt.append( [\n",
    "                    {'role': 'system', 'content': SYSTEM_PROMPT},\n",
    "                    {'role': 'user', 'content': XML_COT_FORMAT.format(dft['story_structure'][i], dft['question'][i])}\n",
    "                ])\n",
    "        else:\n",
    "            prompt.append( [\n",
    "                    {'role': 'system', 'content': SYSTEM_PROMPT},\n",
    "                    {'role': 'user', 'content': XML_COT_FORMAT.format(dft['story'][i], dft['question'][i])}\n",
    "                ])\n",
    "    return prompt"
   ]
  },
  {
   "cell_type": "code",
   "execution_count": 74,
   "metadata": {},
   "outputs": [],
   "source": [
    "prompts = get_prompts(df)\n",
    "df['prompt'] = prompts\n",
    "\n",
    "prompts = get_prompts(dfe)\n",
    "dfe['prompt'] = prompts\n",
    "\n",
    "prompts = get_prompts(dfh)\n",
    "dfh['prompt'] = prompts\n",
    "\n",
    "prompts = get_prompts(dft)\n",
    "dft['prompt'] = prompts"
   ]
  },
  {
   "cell_type": "code",
   "execution_count": 75,
   "metadata": {},
   "outputs": [],
   "source": [
    "dfe['story'] = dfe.story_structure\n",
    "dft['story'] = dft.story_structure"
   ]
  },
  {
   "cell_type": "code",
   "execution_count": 76,
   "metadata": {},
   "outputs": [
    {
     "data": {
      "text/html": [
       "<div>\n",
       "<style scoped>\n",
       "    .dataframe tbody tr th:only-of-type {\n",
       "        vertical-align: middle;\n",
       "    }\n",
       "\n",
       "    .dataframe tbody tr th {\n",
       "        vertical-align: top;\n",
       "    }\n",
       "\n",
       "    .dataframe thead th {\n",
       "        text-align: right;\n",
       "    }\n",
       "</style>\n",
       "<table border=\"1\" class=\"dataframe\">\n",
       "  <thead>\n",
       "    <tr style=\"text-align: right;\">\n",
       "      <th></th>\n",
       "      <th>story_structure</th>\n",
       "      <th>infilled_story</th>\n",
       "      <th>question</th>\n",
       "      <th>answer</th>\n",
       "      <th>question_type</th>\n",
       "      <th>params</th>\n",
       "      <th>nth_order</th>\n",
       "      <th>is_interesting</th>\n",
       "      <th>story_type</th>\n",
       "      <th>story_structure_wn</th>\n",
       "      <th>data_source</th>\n",
       "      <th>prompt</th>\n",
       "      <th>story</th>\n",
       "    </tr>\n",
       "  </thead>\n",
       "  <tbody>\n",
       "    <tr>\n",
       "      <th>0</th>\n",
       "      <td>Jasmine entered the briefing room. Sydney ente...</td>\n",
       "      <td>The dim lighting of the briefing room cast a s...</td>\n",
       "      <td>In which container does Jasmine think that Syd...</td>\n",
       "      <td>plastic storage bin</td>\n",
       "      <td>container_location-False</td>\n",
       "      <td>(['Jasmine', 'Sydney'], 'tactical flashlight',...</td>\n",
       "      <td>2</td>\n",
       "      <td>True</td>\n",
       "      <td>allbutfantom+asymmetric</td>\n",
       "      <td>1 Jasmine entered the briefing room\\n2 Sydney ...</td>\n",
       "      <td>explore_tom</td>\n",
       "      <td>[{'role': 'system', 'content': 'You are a help...</td>\n",
       "      <td>Jasmine entered the briefing room. Sydney ente...</td>\n",
       "    </tr>\n",
       "    <tr>\n",
       "      <th>1</th>\n",
       "      <td>Austin entered the multipurpose room. Austin m...</td>\n",
       "      <td>The multipurpose room at the community center ...</td>\n",
       "      <td>In which room does Sophia think that Bryce wil...</td>\n",
       "      <td>multipurpose room</td>\n",
       "      <td>room_location-True</td>\n",
       "      <td>(['Sophia', 'Bryce'], 'cardboard box', 'room_l...</td>\n",
       "      <td>2</td>\n",
       "      <td>False</td>\n",
       "      <td>tomi+object-state</td>\n",
       "      <td>1 Austin entered the multipurpose room\\n2 Aust...</td>\n",
       "      <td>explore_tom</td>\n",
       "      <td>[{'role': 'system', 'content': 'You are a help...</td>\n",
       "      <td>Austin entered the multipurpose room. Austin m...</td>\n",
       "    </tr>\n",
       "  </tbody>\n",
       "</table>\n",
       "</div>"
      ],
      "text/plain": [
       "                                     story_structure  \\\n",
       "0  Jasmine entered the briefing room. Sydney ente...   \n",
       "1  Austin entered the multipurpose room. Austin m...   \n",
       "\n",
       "                                      infilled_story  \\\n",
       "0  The dim lighting of the briefing room cast a s...   \n",
       "1  The multipurpose room at the community center ...   \n",
       "\n",
       "                                            question               answer  \\\n",
       "0  In which container does Jasmine think that Syd...  plastic storage bin   \n",
       "1  In which room does Sophia think that Bryce wil...    multipurpose room   \n",
       "\n",
       "              question_type  \\\n",
       "0  container_location-False   \n",
       "1        room_location-True   \n",
       "\n",
       "                                              params  nth_order  \\\n",
       "0  (['Jasmine', 'Sydney'], 'tactical flashlight',...          2   \n",
       "1  (['Sophia', 'Bryce'], 'cardboard box', 'room_l...          2   \n",
       "\n",
       "   is_interesting               story_type  \\\n",
       "0            True  allbutfantom+asymmetric   \n",
       "1           False        tomi+object-state   \n",
       "\n",
       "                                  story_structure_wn  data_source  \\\n",
       "0  1 Jasmine entered the briefing room\\n2 Sydney ...  explore_tom   \n",
       "1  1 Austin entered the multipurpose room\\n2 Aust...  explore_tom   \n",
       "\n",
       "                                              prompt  \\\n",
       "0  [{'role': 'system', 'content': 'You are a help...   \n",
       "1  [{'role': 'system', 'content': 'You are a help...   \n",
       "\n",
       "                                               story  \n",
       "0  Jasmine entered the briefing room. Sydney ente...  \n",
       "1  Austin entered the multipurpose room. Austin m...  "
      ]
     },
     "execution_count": 76,
     "metadata": {},
     "output_type": "execute_result"
    }
   ],
   "source": [
    "dfe.head(2)"
   ]
  },
  {
   "cell_type": "code",
   "execution_count": 77,
   "metadata": {},
   "outputs": [
    {
     "data": {
      "text/html": [
       "<div>\n",
       "<style scoped>\n",
       "    .dataframe tbody tr th:only-of-type {\n",
       "        vertical-align: middle;\n",
       "    }\n",
       "\n",
       "    .dataframe tbody tr th {\n",
       "        vertical-align: top;\n",
       "    }\n",
       "\n",
       "    .dataframe thead th {\n",
       "        text-align: right;\n",
       "    }\n",
       "</style>\n",
       "<table border=\"1\" class=\"dataframe\">\n",
       "  <thead>\n",
       "    <tr style=\"text-align: right;\">\n",
       "      <th></th>\n",
       "      <th>deception</th>\n",
       "      <th>story_length</th>\n",
       "      <th>question_order</th>\n",
       "      <th>sample_id</th>\n",
       "      <th>story</th>\n",
       "      <th>question</th>\n",
       "      <th>choices</th>\n",
       "      <th>answer</th>\n",
       "      <th>question_old</th>\n",
       "      <th>answer_old</th>\n",
       "      <th>data_source</th>\n",
       "      <th>prompt</th>\n",
       "      <th>ability</th>\n",
       "      <th>reward_model</th>\n",
       "      <th>extra_info</th>\n",
       "    </tr>\n",
       "  </thead>\n",
       "  <tbody>\n",
       "    <tr>\n",
       "      <th>0</th>\n",
       "      <td>True</td>\n",
       "      <td>2</td>\n",
       "      <td>3</td>\n",
       "      <td>96</td>\n",
       "      <td>Lily, Hannah, Emma, Jackson and Gracie entered...</td>\n",
       "      <td>Where does Lily think Gracie thinks Jackson th...</td>\n",
       "      <td>A. green_drawer, B. red_container, C. blue_box...</td>\n",
       "      <td>green_cupboard</td>\n",
       "      <td>Where does Lily think Gracie thinks Jackson th...</td>\n",
       "      <td>green_cupboard</td>\n",
       "      <td>hi_tom</td>\n",
       "      <td>[{'role': 'system', 'content': 'You are a help...</td>\n",
       "      <td>theory_of_mind</td>\n",
       "      <td>{'ground_truth': 'green_cupboard', 'style': 'r...</td>\n",
       "      <td>{'deception': True, 'question_order': 3, 'stor...</td>\n",
       "    </tr>\n",
       "    <tr>\n",
       "      <th>1</th>\n",
       "      <td>False</td>\n",
       "      <td>1</td>\n",
       "      <td>3</td>\n",
       "      <td>29</td>\n",
       "      <td>Mila, Benjamin, Emily, Noah and Isabella enter...</td>\n",
       "      <td>Where does Noah think Emily thinks Mila thinks...</td>\n",
       "      <td>A. red_crate, B. red_bottle, C. blue_drawer, D...</td>\n",
       "      <td>red_crate</td>\n",
       "      <td>Where does Noah think Emily thinks Mila thinks...</td>\n",
       "      <td>red_crate</td>\n",
       "      <td>hi_tom</td>\n",
       "      <td>[{'role': 'system', 'content': 'You are a help...</td>\n",
       "      <td>theory_of_mind</td>\n",
       "      <td>{'ground_truth': 'red_crate', 'style': 'rule'}</td>\n",
       "      <td>{'deception': False, 'question_order': 3, 'sto...</td>\n",
       "    </tr>\n",
       "  </tbody>\n",
       "</table>\n",
       "</div>"
      ],
      "text/plain": [
       "   deception  story_length  question_order  sample_id  \\\n",
       "0       True             2               3         96   \n",
       "1      False             1               3         29   \n",
       "\n",
       "                                               story  \\\n",
       "0  Lily, Hannah, Emma, Jackson and Gracie entered...   \n",
       "1  Mila, Benjamin, Emily, Noah and Isabella enter...   \n",
       "\n",
       "                                            question  \\\n",
       "0  Where does Lily think Gracie thinks Jackson th...   \n",
       "1  Where does Noah think Emily thinks Mila thinks...   \n",
       "\n",
       "                                             choices          answer  \\\n",
       "0  A. green_drawer, B. red_container, C. blue_box...  green_cupboard   \n",
       "1  A. red_crate, B. red_bottle, C. blue_drawer, D...       red_crate   \n",
       "\n",
       "                                        question_old      answer_old  \\\n",
       "0  Where does Lily think Gracie thinks Jackson th...  green_cupboard   \n",
       "1  Where does Noah think Emily thinks Mila thinks...       red_crate   \n",
       "\n",
       "  data_source                                             prompt  \\\n",
       "0      hi_tom  [{'role': 'system', 'content': 'You are a help...   \n",
       "1      hi_tom  [{'role': 'system', 'content': 'You are a help...   \n",
       "\n",
       "          ability                                       reward_model  \\\n",
       "0  theory_of_mind  {'ground_truth': 'green_cupboard', 'style': 'r...   \n",
       "1  theory_of_mind     {'ground_truth': 'red_crate', 'style': 'rule'}   \n",
       "\n",
       "                                          extra_info  \n",
       "0  {'deception': True, 'question_order': 3, 'stor...  \n",
       "1  {'deception': False, 'question_order': 3, 'sto...  "
      ]
     },
     "execution_count": 77,
     "metadata": {},
     "output_type": "execute_result"
    }
   ],
   "source": [
    "df.head(2)"
   ]
  },
  {
   "cell_type": "code",
   "execution_count": null,
   "metadata": {},
   "outputs": [],
   "source": []
  },
  {
   "cell_type": "code",
   "execution_count": 78,
   "metadata": {},
   "outputs": [],
   "source": [
    "col = ['prompt', 'answer', 'data_source', 'question', 'story']"
   ]
  },
  {
   "cell_type": "code",
   "execution_count": 79,
   "metadata": {},
   "outputs": [],
   "source": [
    "dfr = pd.concat([df.loc[:, col], dfe.loc[:, col]], ignore_index=True)\n",
    "dfr = dfr.sample(frac=1, replace=False, ignore_index=True)"
   ]
  },
  {
   "cell_type": "code",
   "execution_count": 80,
   "metadata": {},
   "outputs": [],
   "source": [
    "data = Dataset.from_pandas(dfr)"
   ]
  },
  {
   "cell_type": "code",
   "execution_count": 81,
   "metadata": {},
   "outputs": [
    {
     "data": {
      "text/plain": [
       "2800"
      ]
     },
     "execution_count": 81,
     "metadata": {},
     "output_type": "execute_result"
    }
   ],
   "source": [
    "len(data['prompt'])"
   ]
  },
  {
   "cell_type": "code",
   "execution_count": 82,
   "metadata": {},
   "outputs": [
    {
     "data": {
      "text/plain": [
       "<Axes: ylabel='Count'>"
      ]
     },
     "execution_count": 82,
     "metadata": {},
     "output_type": "execute_result"
    },
    {
     "data": {
      "image/png": "[encoded data removed]",
      "text/plain": [
       "<Figure size 400x200 with 1 Axes>"
      ]
     },
     "metadata": {},
     "output_type": "display_data"
    }
   ],
   "source": [
    "token_lengths = []\n",
    "for prompt_list in data['prompt']:\n",
    "    # Each prompt is a list of dictionaries, we want the 'content' of the first dict\n",
    "    # Tokenize the content\n",
    "    tokens = tokenizer.apply_chat_template(prompt_list)\n",
    "    token_lengths.append(len(tokens))\n",
    "\n",
    "token_lengths = np.array(token_lengths)\n",
    "_, ax = plt.subplots(1, 1, figsize=(4, 2))\n",
    "sns.histplot(token_lengths)"
   ]
  },
  {
   "cell_type": "code",
   "execution_count": 83,
   "metadata": {},
   "outputs": [
    {
     "data": {
      "text/plain": [
       "Dataset({\n",
       "    features: ['prompt', 'answer', 'data_source', 'question', 'story'],\n",
       "    num_rows: 2800\n",
       "})"
      ]
     },
     "execution_count": 83,
     "metadata": {},
     "output_type": "execute_result"
    }
   ],
   "source": [
    "data"
   ]
  },
  {
   "cell_type": "code",
   "execution_count": 36,
   "metadata": {},
   "outputs": [
    {
     "name": "stderr",
     "output_type": "stream",
     "text": [
      "Creating parquet from Arrow format: 100%|██████████| 3/3 [00:00<00:00, 395.08ba/s]\n"
     ]
    },
    {
     "data": {
      "text/plain": [
       "6867600"
      ]
     },
     "execution_count": 36,
     "metadata": {},
     "output_type": "execute_result"
    }
   ],
   "source": [
    "data.to_parquet('../data/train/ToM_train_HiEx.parquet')"
   ]
  },
  {
   "cell_type": "markdown",
   "metadata": {},
   "source": [
    "**Verl**"
   ]
  },
  {
   "cell_type": "code",
   "execution_count": null,
   "metadata": {},
   "outputs": [],
   "source": [
    "# add a row to each data item that represents a unique id\n",
    "def make_map_fn(split):\n",
    "\n",
    "    def process_fn(example, idx):\n",
    "        question = example.pop('question')\n",
    "\n",
    "        question = SYSTEM_PROMPT + \" Question: \" + question\n",
    "\n",
    "        solution = example.pop('answer')\n",
    "        data = {\n",
    "            \"data_source\": 'MATH_Hard',\n",
    "            \"prompt\": [{\n",
    "                \"role\": \"user\",\n",
    "                \"content\": question\n",
    "            }],\n",
    "            \"ability\": \"math\",\n",
    "            \"reward_model\": {\n",
    "                \"style\": \"rule\",\n",
    "                \"ground_truth\": solution\n",
    "            },\n",
    "            \"extra_info\": {\n",
    "                'split': split,\n",
    "                'index': idx\n",
    "            }\n",
    "        }\n",
    "        return data\n",
    "\n",
    "    return process_fn"
   ]
  },
  {
   "cell_type": "code",
   "execution_count": 85,
   "metadata": {},
   "outputs": [
    {
     "data": {
      "text/plain": [
       "Dataset({\n",
       "    features: ['prompt', 'answer', 'data_source', 'question', 'story'],\n",
       "    num_rows: 2800\n",
       "})"
      ]
     },
     "execution_count": 85,
     "metadata": {},
     "output_type": "execute_result"
    }
   ],
   "source": [
    "data"
   ]
  },
  {
   "cell_type": "code",
   "execution_count": null,
   "metadata": {},
   "outputs": [],
   "source": []
  },
  {
   "cell_type": "code",
   "execution_count": null,
   "metadata": {},
   "outputs": [],
   "source": []
  },
  {
   "cell_type": "code",
   "execution_count": null,
   "metadata": {},
   "outputs": [],
   "source": []
  },
  {
   "cell_type": "code",
   "execution_count": null,
   "metadata": {},
   "outputs": [],
   "source": []
  },
  {
   "cell_type": "code",
   "execution_count": 43,
   "metadata": {},
   "outputs": [],
   "source": [
    "extra_info = []\n",
    "for i, row in dft.iterrows():\n",
    "    extra_info.append({'question_type':row['question_type'], \n",
    "                       'question_order':row['nth_order'],\n",
    "                       'is_interesting':row['is_interesting'],\n",
    "                       'story_type':row['story_type']\n",
    "                       })\n",
    "dft['extra_info'] = extra_info"
   ]
  },
  {
   "cell_type": "code",
   "execution_count": 41,
   "metadata": {},
   "outputs": [
    {
     "data": {
      "text/html": [
       "<div>\n",
       "<style scoped>\n",
       "    .dataframe tbody tr th:only-of-type {\n",
       "        vertical-align: middle;\n",
       "    }\n",
       "\n",
       "    .dataframe tbody tr th {\n",
       "        vertical-align: top;\n",
       "    }\n",
       "\n",
       "    .dataframe thead th {\n",
       "        text-align: right;\n",
       "    }\n",
       "</style>\n",
       "<table border=\"1\" class=\"dataframe\">\n",
       "  <thead>\n",
       "    <tr style=\"text-align: right;\">\n",
       "      <th></th>\n",
       "      <th>deception</th>\n",
       "      <th>story_length</th>\n",
       "      <th>question_order</th>\n",
       "      <th>sample_id</th>\n",
       "      <th>story</th>\n",
       "      <th>question</th>\n",
       "      <th>choices</th>\n",
       "      <th>answer</th>\n",
       "      <th>question_old</th>\n",
       "      <th>answer_old</th>\n",
       "      <th>...</th>\n",
       "      <th>reward_model</th>\n",
       "      <th>extra_info</th>\n",
       "      <th>story_structure</th>\n",
       "      <th>infilled_story</th>\n",
       "      <th>question_type</th>\n",
       "      <th>params</th>\n",
       "      <th>nth_order</th>\n",
       "      <th>is_interesting</th>\n",
       "      <th>story_type</th>\n",
       "      <th>story_structure_wn</th>\n",
       "    </tr>\n",
       "  </thead>\n",
       "  <tbody>\n",
       "    <tr>\n",
       "      <th>0</th>\n",
       "      <td>False</td>\n",
       "      <td>1.0</td>\n",
       "      <td>4.0</td>\n",
       "      <td>89.0</td>\n",
       "      <td>Benjamin, Emily, Mason, Evelyn and Jackson ent...</td>\n",
       "      <td>Where does Jackson think Benjamin thinks Emily...</td>\n",
       "      <td>A. green_treasure_chest, B. green_bottle, C. g...</td>\n",
       "      <td>green_suitcase</td>\n",
       "      <td>Where does Jackson think Benjamin thinks Emily...</td>\n",
       "      <td>green_suitcase</td>\n",
       "      <td>...</td>\n",
       "      <td>{'ground_truth': 'green_suitcase', 'style': 'r...</td>\n",
       "      <td>{'deception': False, 'question_order': 4, 'sto...</td>\n",
       "      <td>None</td>\n",
       "      <td>None</td>\n",
       "      <td>None</td>\n",
       "      <td>None</td>\n",
       "      <td>NaN</td>\n",
       "      <td>None</td>\n",
       "      <td>None</td>\n",
       "      <td>None</td>\n",
       "    </tr>\n",
       "    <tr>\n",
       "      <th>1</th>\n",
       "      <td>True</td>\n",
       "      <td>3.0</td>\n",
       "      <td>4.0</td>\n",
       "      <td>46.0</td>\n",
       "      <td>Mason, Noah, Hannah, Ethan and Alexander enter...</td>\n",
       "      <td>Where does Hannah think Noah thinks Mason thin...</td>\n",
       "      <td>A. green_box, B. blue_container, C. blue_pantr...</td>\n",
       "      <td>red_drawer</td>\n",
       "      <td>Where does Hannah think Noah thinks Mason thin...</td>\n",
       "      <td>red_drawer</td>\n",
       "      <td>...</td>\n",
       "      <td>{'ground_truth': 'red_drawer', 'style': 'rule'}</td>\n",
       "      <td>{'deception': True, 'question_order': 4, 'stor...</td>\n",
       "      <td>None</td>\n",
       "      <td>None</td>\n",
       "      <td>None</td>\n",
       "      <td>None</td>\n",
       "      <td>NaN</td>\n",
       "      <td>None</td>\n",
       "      <td>None</td>\n",
       "      <td>None</td>\n",
       "    </tr>\n",
       "  </tbody>\n",
       "</table>\n",
       "<p>2 rows × 23 columns</p>\n",
       "</div>"
      ],
      "text/plain": [
       "  deception  story_length  question_order  sample_id  \\\n",
       "0     False           1.0             4.0       89.0   \n",
       "1      True           3.0             4.0       46.0   \n",
       "\n",
       "                                               story  \\\n",
       "0  Benjamin, Emily, Mason, Evelyn and Jackson ent...   \n",
       "1  Mason, Noah, Hannah, Ethan and Alexander enter...   \n",
       "\n",
       "                                            question  \\\n",
       "0  Where does Jackson think Benjamin thinks Emily...   \n",
       "1  Where does Hannah think Noah thinks Mason thin...   \n",
       "\n",
       "                                             choices          answer  \\\n",
       "0  A. green_treasure_chest, B. green_bottle, C. g...  green_suitcase   \n",
       "1  A. green_box, B. blue_container, C. blue_pantr...      red_drawer   \n",
       "\n",
       "                                        question_old      answer_old  ...  \\\n",
       "0  Where does Jackson think Benjamin thinks Emily...  green_suitcase  ...   \n",
       "1  Where does Hannah think Noah thinks Mason thin...      red_drawer  ...   \n",
       "\n",
       "                                        reward_model  \\\n",
       "0  {'ground_truth': 'green_suitcase', 'style': 'r...   \n",
       "1    {'ground_truth': 'red_drawer', 'style': 'rule'}   \n",
       "\n",
       "                                          extra_info story_structure  \\\n",
       "0  {'deception': False, 'question_order': 4, 'sto...            None   \n",
       "1  {'deception': True, 'question_order': 4, 'stor...            None   \n",
       "\n",
       "  infilled_story question_type params nth_order is_interesting story_type  \\\n",
       "0           None          None   None       NaN           None       None   \n",
       "1           None          None   None       NaN           None       None   \n",
       "\n",
       "   story_structure_wn  \n",
       "0                None  \n",
       "1                None  \n",
       "\n",
       "[2 rows x 23 columns]"
      ]
     },
     "execution_count": 41,
     "metadata": {},
     "output_type": "execute_result"
    }
   ],
   "source": [
    "dfh[:1000].head(2)"
   ]
  },
  {
   "cell_type": "code",
   "execution_count": 46,
   "metadata": {},
   "outputs": [
    {
     "name": "stderr",
     "output_type": "stream",
     "text": [
      "Generating train split: 5994 examples [00:00, 952911.28 examples/s]\n"
     ]
    }
   ],
   "source": [
    "test_tomi = load_dataset('parquet', data_files='../data/test/test_tomi.parquet')['train']"
   ]
  },
  {
   "cell_type": "code",
   "execution_count": 49,
   "metadata": {},
   "outputs": [],
   "source": [
    "dftomi = pd.DataFrame(test_tomi)"
   ]
  },
  {
   "cell_type": "code",
   "execution_count": 50,
   "metadata": {},
   "outputs": [
    {
     "data": {
      "text/html": [
       "<div>\n",
       "<style scoped>\n",
       "    .dataframe tbody tr th:only-of-type {\n",
       "        vertical-align: middle;\n",
       "    }\n",
       "\n",
       "    .dataframe tbody tr th {\n",
       "        vertical-align: top;\n",
       "    }\n",
       "\n",
       "    .dataframe thead th {\n",
       "        text-align: right;\n",
       "    }\n",
       "</style>\n",
       "<table border=\"1\" class=\"dataframe\">\n",
       "  <thead>\n",
       "    <tr style=\"text-align: right;\">\n",
       "      <th></th>\n",
       "      <th>story</th>\n",
       "      <th>question</th>\n",
       "      <th>answer</th>\n",
       "      <th>question_type</th>\n",
       "      <th>question_type2</th>\n",
       "      <th>prompt</th>\n",
       "    </tr>\n",
       "  </thead>\n",
       "  <tbody>\n",
       "    <tr>\n",
       "      <th>0</th>\n",
       "      <td>Jackson entered the hall. Chloe entered the ha...</td>\n",
       "      <td>Where was the boots at the beginning?</td>\n",
       "      <td>bathtub</td>\n",
       "      <td>true_belief</td>\n",
       "      <td>memory</td>\n",
       "      <td>[{'content': 'You are a helpful assistant. The...</td>\n",
       "    </tr>\n",
       "    <tr>\n",
       "      <th>1</th>\n",
       "      <td>Jackson entered the hall. Chloe entered the ha...</td>\n",
       "      <td>Where will Chloe look for the boots?</td>\n",
       "      <td>pantry</td>\n",
       "      <td>true_belief</td>\n",
       "      <td>first_order_1_no_tom</td>\n",
       "      <td>[{'content': 'You are a helpful assistant. The...</td>\n",
       "    </tr>\n",
       "  </tbody>\n",
       "</table>\n",
       "</div>"
      ],
      "text/plain": [
       "                                               story  \\\n",
       "0  Jackson entered the hall. Chloe entered the ha...   \n",
       "1  Jackson entered the hall. Chloe entered the ha...   \n",
       "\n",
       "                                question   answer question_type  \\\n",
       "0  Where was the boots at the beginning?  bathtub   true_belief   \n",
       "1   Where will Chloe look for the boots?   pantry   true_belief   \n",
       "\n",
       "         question_type2                                             prompt  \n",
       "0                memory  [{'content': 'You are a helpful assistant. The...  \n",
       "1  first_order_1_no_tom  [{'content': 'You are a helpful assistant. The...  "
      ]
     },
     "execution_count": 50,
     "metadata": {},
     "output_type": "execute_result"
    }
   ],
   "source": [
    "dftomi.head(2)"
   ]
  },
  {
   "cell_type": "code",
   "execution_count": 51,
   "metadata": {},
   "outputs": [],
   "source": [
    "extra_info = []\n",
    "for i, row in dftomi.iterrows():\n",
    "    extra_info.append({'question_type':row['question_type'], \n",
    "                       'question_type2':row['question_type2']\n",
    "                       })\n",
    "dftomi['extra_info'] = extra_info"
   ]
  },
  {
   "cell_type": "code",
   "execution_count": 52,
   "metadata": {},
   "outputs": [],
   "source": [
    "dftomi['data_source']='tomi'"
   ]
  },
  {
   "cell_type": "code",
   "execution_count": 53,
   "metadata": {},
   "outputs": [],
   "source": [
    "col_test = ['prompt', 'answer', 'data_source', 'question', 'story', 'extra_info']"
   ]
  },
  {
   "cell_type": "code",
   "execution_count": 57,
   "metadata": {},
   "outputs": [],
   "source": [
    "df_test = pd.concat([dft.loc[:, col_test], dfh.loc[:, col_test], dftomi.loc[:, col_test]], ignore_index=True)\n",
    "df_test = df_test.sample(frac=1, replace=False, ignore_index=True)"
   ]
  },
  {
   "cell_type": "code",
   "execution_count": 58,
   "metadata": {},
   "outputs": [
    {
     "data": {
      "text/plain": [
       "8660"
      ]
     },
     "execution_count": 58,
     "metadata": {},
     "output_type": "execute_result"
    }
   ],
   "source": [
    "len(df_test)"
   ]
  },
  {
   "cell_type": "code",
   "execution_count": 59,
   "metadata": {},
   "outputs": [
    {
     "data": {
      "text/plain": [
       "data_source\n",
       "explore_tom    1066\n",
       "hi_tom         1000\n",
       "tomi           5994\n",
       "Name: story, dtype: int64"
      ]
     },
     "execution_count": 59,
     "metadata": {},
     "output_type": "execute_result"
    }
   ],
   "source": [
    "df_test.groupby('data_source').story.count()"
   ]
  },
  {
   "cell_type": "code",
   "execution_count": null,
   "metadata": {},
   "outputs": [
    {
     "name": "stderr",
     "output_type": "stream",
     "text": [
      "Creating parquet from Arrow format: 100%|██████████| 9/9 [00:00<00:00, 473.77ba/s]\n"
     ]
    },
    {
     "data": {
      "text/plain": [
       "13345802"
      ]
     },
     "execution_count": 60,
     "metadata": {},
     "output_type": "execute_result"
    }
   ],
   "source": [
    "data = Dataset.from_pandas(df_test)\n",
    "data.to_parquet('../data/test/ToM_test_HiExTi.parquet')"
   ]
  },
  {
   "cell_type": "code",
   "execution_count": 61,
   "metadata": {},
   "outputs": [
    {
     "data": {
      "text/plain": [
       "Dataset({\n",
       "    features: ['prompt', 'answer', 'data_source', 'question', 'story', 'extra_info'],\n",
       "    num_rows: 8660\n",
       "})"
      ]
     },
     "execution_count": 61,
     "metadata": {},
     "output_type": "execute_result"
    }
   ],
   "source": [
    "data"
   ]
  },
  {
   "cell_type": "code",
   "execution_count": null,
   "metadata": {},
   "outputs": [],
   "source": []
  }
 ],
 "metadata": {
  "kernelspec": {
   "display_name": "vllm",
   "language": "python",
   "name": "python3"
  },
  "language_info": {
   "codemirror_mode": {
    "name": "ipython",
    "version": 3
   },
   "file_extension": ".py",
   "mimetype": "text/x-python",
   "name": "python",
   "nbconvert_exporter": "python",
   "pygments_lexer": "ipython3",
   "version": "3.10.16"
  }
 },
 "nbformat": 4,
 "nbformat_minor": 2
}
