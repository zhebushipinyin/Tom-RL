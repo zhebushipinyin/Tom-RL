{
 "cells": [
  {
   "cell_type": "code",
   "execution_count": 84,
   "metadata": {},
   "outputs": [],
   "source": [
    "import json\n",
    "import argparse\n",
    "import numpy as np\n",
    "import pandas as pd\n",
    "import seaborn as sns\n",
    "from datasets import load_dataset, Dataset, load_from_disk\n",
    "import matplotlib.pyplot as plt \n",
    "from transformers import AutoTokenizer"
   ]
  },
  {
   "cell_type": "code",
   "execution_count": 85,
   "metadata": {},
   "outputs": [],
   "source": [
    "df = pd.read_parquet('../../data/cleaned_tom/0317_ckpt/hi_tom_train_2000.parquet')\n",
    "dfh = pd.read_parquet('../../data/cleaned_tom/0317_ckpt/hi_tom_explore_tom_test_hint.parquet')\n",
    "dfe = pd.read_parquet('../data/ToM_train_1200.parquet')\n",
    "dft = pd.read_parquet('../data/ToM_test_1066.parquet')"
   ]
  },
  {
   "cell_type": "code",
   "execution_count": 86,
   "metadata": {},
   "outputs": [
    {
     "name": "stdout",
     "output_type": "stream",
     "text": [
      "2000 1600 1200\n"
     ]
    }
   ],
   "source": [
    "print(len(df), len(dfh), len(dfe))"
   ]
  },
  {
   "cell_type": "code",
   "execution_count": 87,
   "metadata": {},
   "outputs": [],
   "source": [
    "dfe['data_source'] = 'explore_tom'\n",
    "dft['data_source'] = 'explore_tom'"
   ]
  },
  {
   "cell_type": "code",
   "execution_count": 88,
   "metadata": {},
   "outputs": [],
   "source": [
    "tokenizer = AutoTokenizer.from_pretrained(\"Qwen/Qwen2.5-0.5B-Instruct\", trust_remote_code=True)"
   ]
  },
  {
   "cell_type": "code",
   "execution_count": 89,
   "metadata": {},
   "outputs": [
    {
     "name": "stdout",
     "output_type": "stream",
     "text": [
      "<class 'pandas.core.frame.DataFrame'>\n",
      "RangeIndex: 2000 entries, 0 to 1999\n",
      "Data columns (total 15 columns):\n",
      " #   Column          Non-Null Count  Dtype \n",
      "---  ------          --------------  ----- \n",
      " 0   deception       2000 non-null   bool  \n",
      " 1   story_length    2000 non-null   int64 \n",
      " 2   question_order  2000 non-null   int64 \n",
      " 3   sample_id       2000 non-null   int64 \n",
      " 4   story           2000 non-null   object\n",
      " 5   question        2000 non-null   object\n",
      " 6   choices         2000 non-null   object\n",
      " 7   answer          2000 non-null   object\n",
      " 8   question_old    2000 non-null   object\n",
      " 9   answer_old      2000 non-null   object\n",
      " 10  data_source     2000 non-null   object\n",
      " 11  prompt          2000 non-null   object\n",
      " 12  ability         2000 non-null   object\n",
      " 13  reward_model    2000 non-null   object\n",
      " 14  extra_info      2000 non-null   object\n",
      "dtypes: bool(1), int64(3), object(11)\n",
      "memory usage: 220.8+ KB\n"
     ]
    }
   ],
   "source": [
    "df.info()"
   ]
  },
  {
   "cell_type": "code",
   "execution_count": 90,
   "metadata": {},
   "outputs": [
    {
     "data": {
      "text/plain": [
       "array([{'content': '<|im_start|>system\\nYou are a helpful assistant. The assistant first thinks about the reasoning process in the mind and then provides the user with the answer. The reasoning process and answer are enclosed within <think> </think> and <answer> </answer> tags, respectively, i.e., <think> reasoning process here </think><answer> answer here </answer>. Now the user asks you to solve a theory of mind reasoning problem. After thinking, when you finally reach a conclusion, clearly state your answer within <answer> </answer> tags.\\n<|im_end|>\\n<|im_start|>user\\nLily, Hannah, Emma, Jackson and Gracie entered the patio. The pumpkin is in the green_cupboard. Lily made no movements and stayed in the patio for 1 minute. Lily exited the patio. Hannah made no movements and stayed in the patio for 1 minute. Hannah exited the patio. Emma made no movements and stayed in the patio for 1 minute. Emma exited the patio. Jackson made no movements and stayed in the patio for 1 minute. Jackson exited the patio. Gracie moved the pumpkin to the green_cupboard. Gracie exited the patio. Lily, Hannah, Emma, Jackson and Gracie entered the waiting_room. Hannah, Lily and Emma entered the patio. The pumpkin is in the green_cupboard. Hannah moved the pumpkin to the green_basket. Hannah exited the patio. Lily made no movements and stayed in the patio for 1 minute. Lily exited the patio. Emma moved the pumpkin to the blue_basket. Emma exited the patio. Hannah, Lily and Emma entered the waiting_room. Emma publicly claimed that pumpkin is in the green_pantry now. Hannah lost his watch. Hannah privately told Emma that the pumpkin is in the green_cupboard now.\\n\\nWhere does Lily think Gracie thinks Jackson thinks the pumpkin is?\\n<|im_end|>\\n<|im_start|>assistant\\n<think>', 'role': 'user'}],\n",
       "      dtype=object)"
      ]
     },
     "execution_count": 90,
     "metadata": {},
     "output_type": "execute_result"
    }
   ],
   "source": [
    "df.prompt[0]"
   ]
  },
  {
   "cell_type": "code",
   "execution_count": 91,
   "metadata": {},
   "outputs": [],
   "source": [
    "dfs = df.groupby(['answer']).story.count().reset_index()"
   ]
  },
  {
   "cell_type": "code",
   "execution_count": 92,
   "metadata": {},
   "outputs": [],
   "source": [
    "#SYSTEM_PROMPT = \"\"\"You are a helpful assistant. First, think through the question internally before providing the final answer. The reasoning process and answer are enclosed within <think> </think> and <answer> </answer> tags, respectively, i.e., <think> step by step reasoning here </think><answer> answer here </answer>\"\"\"\n",
    "\n",
    "SYSTEM_PROMPT = \"\"\"You are a helpful assistant. The assistant first thinks about the reasoning process in the mind and then provides the user with the answer. The reasoning process and answer are enclosed within <think> </think> and <answer> </answer> tags, respectively, i.e., <think> reasoning process here </think><answer> answer here </answer>.\"\"\""
   ]
  },
  {
   "cell_type": "code",
   "execution_count": 93,
   "metadata": {},
   "outputs": [],
   "source": [
    "XML_COT_FORMAT = \"\"\"Story: {}\\n Question:{}\"\"\""
   ]
  },
  {
   "cell_type": "code",
   "execution_count": 94,
   "metadata": {},
   "outputs": [],
   "source": [
    "def get_prompts(dft):\n",
    "    prompt = []\n",
    "    for i in range(len(dft)):\n",
    "        if dft['data_source'][i] == 'explore_tom':\n",
    "            prompt.append( [\n",
    "                    {'role': 'system', 'content': SYSTEM_PROMPT},\n",
    "                    {'role': 'user', 'content': XML_COT_FORMAT.format(dft['story_structure'][i], dft['question'][i])}\n",
    "                ])\n",
    "        else:\n",
    "            prompt.append( [\n",
    "                    {'role': 'system', 'content': SYSTEM_PROMPT},\n",
    "                    {'role': 'user', 'content': XML_COT_FORMAT.format(dft['story'][i], dft['question'][i])}\n",
    "                ])\n",
    "    return prompt"
   ]
  },
  {
   "cell_type": "code",
   "execution_count": 95,
   "metadata": {},
   "outputs": [],
   "source": [
    "prompts = get_prompts(df)\n",
    "df['prompt'] = prompts\n",
    "\n",
    "prompts = get_prompts(dfe)\n",
    "dfe['prompt'] = prompts\n",
    "\n",
    "prompts = get_prompts(dfh)\n",
    "dfh['prompt'] = prompts\n",
    "\n",
    "prompts = get_prompts(dft)\n",
    "dft['prompt'] = prompts"
   ]
  },
  {
   "cell_type": "code",
   "execution_count": 96,
   "metadata": {},
   "outputs": [],
   "source": [
    "dfe['story'] = dfe.story_structure\n",
    "dft['story'] = dft.story_structure"
   ]
  },
  {
   "cell_type": "code",
   "execution_count": 139,
   "metadata": {},
   "outputs": [
    {
     "data": {
      "text/html": [
       "<div>\n",
       "<style scoped>\n",
       "    .dataframe tbody tr th:only-of-type {\n",
       "        vertical-align: middle;\n",
       "    }\n",
       "\n",
       "    .dataframe tbody tr th {\n",
       "        vertical-align: top;\n",
       "    }\n",
       "\n",
       "    .dataframe thead th {\n",
       "        text-align: right;\n",
       "    }\n",
       "</style>\n",
       "<table border=\"1\" class=\"dataframe\">\n",
       "  <thead>\n",
       "    <tr style=\"text-align: right;\">\n",
       "      <th></th>\n",
       "      <th>story_structure</th>\n",
       "      <th>infilled_story</th>\n",
       "      <th>question</th>\n",
       "      <th>answer</th>\n",
       "      <th>question_type</th>\n",
       "      <th>params</th>\n",
       "      <th>nth_order</th>\n",
       "      <th>is_interesting</th>\n",
       "      <th>story_type</th>\n",
       "      <th>story_structure_wn</th>\n",
       "      <th>data_source</th>\n",
       "      <th>prompt</th>\n",
       "      <th>story</th>\n",
       "      <th>extra_info</th>\n",
       "    </tr>\n",
       "  </thead>\n",
       "  <tbody>\n",
       "  </tbody>\n",
       "</table>\n",
       "</div>"
      ],
      "text/plain": [
       "Empty DataFrame\n",
       "Columns: [story_structure, infilled_story, question, answer, question_type, params, nth_order, is_interesting, story_type, story_structure_wn, data_source, prompt, story, extra_info]\n",
       "Index: []"
      ]
     },
     "execution_count": 139,
     "metadata": {},
     "output_type": "execute_result"
    }
   ],
   "source": [
    "dft.loc[dft.story.isna()]"
   ]
  },
  {
   "cell_type": "code",
   "execution_count": 124,
   "metadata": {},
   "outputs": [
    {
     "data": {
      "text/html": [
       "<div>\n",
       "<style scoped>\n",
       "    .dataframe tbody tr th:only-of-type {\n",
       "        vertical-align: middle;\n",
       "    }\n",
       "\n",
       "    .dataframe tbody tr th {\n",
       "        vertical-align: top;\n",
       "    }\n",
       "\n",
       "    .dataframe thead th {\n",
       "        text-align: right;\n",
       "    }\n",
       "</style>\n",
       "<table border=\"1\" class=\"dataframe\">\n",
       "  <thead>\n",
       "    <tr style=\"text-align: right;\">\n",
       "      <th></th>\n",
       "      <th>story_structure</th>\n",
       "      <th>infilled_story</th>\n",
       "      <th>question</th>\n",
       "      <th>answer</th>\n",
       "      <th>question_type</th>\n",
       "      <th>params</th>\n",
       "      <th>nth_order</th>\n",
       "      <th>is_interesting</th>\n",
       "      <th>story_type</th>\n",
       "      <th>story_structure_wn</th>\n",
       "      <th>data_source</th>\n",
       "      <th>prompt</th>\n",
       "      <th>story</th>\n",
       "      <th>extra_info</th>\n",
       "    </tr>\n",
       "  </thead>\n",
       "  <tbody>\n",
       "    <tr>\n",
       "      <th>0</th>\n",
       "      <td>Justin entered the planning room. Justin moved...</td>\n",
       "      <td>The planning room was dimly lit, the soft glow...</td>\n",
       "      <td>In which room does Justin think that Cameron w...</td>\n",
       "      <td>planning room</td>\n",
       "      <td>room_location-True</td>\n",
       "      <td>(['Justin', 'Cameron'], 'wooden desk drawer', ...</td>\n",
       "      <td>2</td>\n",
       "      <td>False</td>\n",
       "      <td>tomi+object-state+asymmetric</td>\n",
       "      <td>1 Justin entered the planning room\\n2 Justin m...</td>\n",
       "      <td>explore_tom</td>\n",
       "      <td>[{'role': 'system', 'content': 'You are a help...</td>\n",
       "      <td>Justin entered the planning room. Justin moved...</td>\n",
       "      <td>{'question_type': 'room_location-True', 'quest...</td>\n",
       "    </tr>\n",
       "    <tr>\n",
       "      <th>1</th>\n",
       "      <td>Riley entered the hotel suite. Riley moved the...</td>\n",
       "      <td>The luxurious hotel suite, with its polished w...</td>\n",
       "      <td>In which room does Addison think that Riley wi...</td>\n",
       "      <td>hotel suite</td>\n",
       "      <td>room_location-True</td>\n",
       "      <td>(['Addison', 'Riley'], 'silver picture frame',...</td>\n",
       "      <td>2</td>\n",
       "      <td>False</td>\n",
       "      <td>tomi+object-state</td>\n",
       "      <td>1 Riley entered the hotel suite\\n2 Riley moved...</td>\n",
       "      <td>explore_tom</td>\n",
       "      <td>[{'role': 'system', 'content': 'You are a help...</td>\n",
       "      <td>Riley entered the hotel suite. Riley moved the...</td>\n",
       "      <td>{'question_type': 'room_location-True', 'quest...</td>\n",
       "    </tr>\n",
       "    <tr>\n",
       "      <th>2</th>\n",
       "      <td>Madison entered the press box. Madison retuned...</td>\n",
       "      <td>The sun began to set behind the sports stadium...</td>\n",
       "      <td>In which room does Madison think that Eric wil...</td>\n",
       "      <td>press box</td>\n",
       "      <td>room_location-True</td>\n",
       "      <td>(['Madison', 'Eric'], 'walkie-talkie', 'room_l...</td>\n",
       "      <td>2</td>\n",
       "      <td>False</td>\n",
       "      <td>tomi-object-state</td>\n",
       "      <td>1 Madison entered the press box\\n2 Madison ret...</td>\n",
       "      <td>explore_tom</td>\n",
       "      <td>[{'role': 'system', 'content': 'You are a help...</td>\n",
       "      <td>Madison entered the press box. Madison retuned...</td>\n",
       "      <td>{'question_type': 'room_location-True', 'quest...</td>\n",
       "    </tr>\n",
       "    <tr>\n",
       "      <th>3</th>\n",
       "      <td>Mason entered the consulate meeting room. Maso...</td>\n",
       "      <td>The consulate meeting room stood dimly lit, it...</td>\n",
       "      <td>In which container will Peyton search for the ...</td>\n",
       "      <td>leather briefcase</td>\n",
       "      <td>container_location-True</td>\n",
       "      <td>(['Peyton'], 'silver letter opener', 'containe...</td>\n",
       "      <td>1</td>\n",
       "      <td>False</td>\n",
       "      <td>tomi+info-exchange</td>\n",
       "      <td>1 Mason entered the consulate meeting room\\n2 ...</td>\n",
       "      <td>explore_tom</td>\n",
       "      <td>[{'role': 'system', 'content': 'You are a help...</td>\n",
       "      <td>Mason entered the consulate meeting room. Maso...</td>\n",
       "      <td>{'question_type': 'container_location-True', '...</td>\n",
       "    </tr>\n",
       "    <tr>\n",
       "      <th>4</th>\n",
       "      <td>Cameron entered the planning room. Cameron mov...</td>\n",
       "      <td>The planning room was a cozy space filled with...</td>\n",
       "      <td>In which room does Cameron think that Olivia w...</td>\n",
       "      <td>planning room</td>\n",
       "      <td>room_location-True</td>\n",
       "      <td>(['Cameron', 'Olivia'], 'canvas backpack', 'ro...</td>\n",
       "      <td>2</td>\n",
       "      <td>False</td>\n",
       "      <td>tomi</td>\n",
       "      <td>1 Cameron entered the planning room\\n2 Cameron...</td>\n",
       "      <td>explore_tom</td>\n",
       "      <td>[{'role': 'system', 'content': 'You are a help...</td>\n",
       "      <td>Cameron entered the planning room. Cameron mov...</td>\n",
       "      <td>{'question_type': 'room_location-True', 'quest...</td>\n",
       "    </tr>\n",
       "    <tr>\n",
       "      <th>...</th>\n",
       "      <td>...</td>\n",
       "      <td>...</td>\n",
       "      <td>...</td>\n",
       "      <td>...</td>\n",
       "      <td>...</td>\n",
       "      <td>...</td>\n",
       "      <td>...</td>\n",
       "      <td>...</td>\n",
       "      <td>...</td>\n",
       "      <td>...</td>\n",
       "      <td>...</td>\n",
       "      <td>...</td>\n",
       "      <td>...</td>\n",
       "      <td>...</td>\n",
       "    </tr>\n",
       "    <tr>\n",
       "      <th>1061</th>\n",
       "      <td>Olivia entered the library study room. Noah to...</td>\n",
       "      <td>The sun cast a warm glow over the university's...</td>\n",
       "      <td>In which container does Olivia think that Harp...</td>\n",
       "      <td>backpack</td>\n",
       "      <td>container_location-True</td>\n",
       "      <td>(['Olivia', 'Harper'], 'pocket-sized notebook'...</td>\n",
       "      <td>2</td>\n",
       "      <td>False</td>\n",
       "      <td>all+asymmetric</td>\n",
       "      <td>1 Olivia entered the library study room\\n2 Noa...</td>\n",
       "      <td>explore_tom</td>\n",
       "      <td>[{'role': 'system', 'content': 'You are a help...</td>\n",
       "      <td>Olivia entered the library study room. Noah to...</td>\n",
       "      <td>{'question_type': 'container_location-True', '...</td>\n",
       "    </tr>\n",
       "    <tr>\n",
       "      <th>1062</th>\n",
       "      <td>Mia entered the hospital staff lounge. Jasmine...</td>\n",
       "      <td>The hospital staff lounge was quiet, its only ...</td>\n",
       "      <td>In which container was the stethoscope at the ...</td>\n",
       "      <td>canvas bag</td>\n",
       "      <td>memory-container_location</td>\n",
       "      <td>(None, 'stethoscope', 'memory-container_locati...</td>\n",
       "      <td>-1</td>\n",
       "      <td>True</td>\n",
       "      <td>tomi</td>\n",
       "      <td>1 Mia entered the hospital staff lounge\\n2 Jas...</td>\n",
       "      <td>explore_tom</td>\n",
       "      <td>[{'role': 'system', 'content': 'You are a help...</td>\n",
       "      <td>Mia entered the hospital staff lounge. Jasmine...</td>\n",
       "      <td>{'question_type': 'memory-container_location',...</td>\n",
       "    </tr>\n",
       "    <tr>\n",
       "      <th>1063</th>\n",
       "      <td>Emily entered the conservation lab. Emily move...</td>\n",
       "      <td>The museum's conservation lab was a quiet spac...</td>\n",
       "      <td>In which container will Emily search for the s...</td>\n",
       "      <td>velvet case</td>\n",
       "      <td>container_location-True</td>\n",
       "      <td>(['Emily'], 'small, antique pocket watch', 'co...</td>\n",
       "      <td>1</td>\n",
       "      <td>False</td>\n",
       "      <td>tomi+asymmetric</td>\n",
       "      <td>1 Emily entered the conservation lab\\n2 Emily ...</td>\n",
       "      <td>explore_tom</td>\n",
       "      <td>[{'role': 'system', 'content': 'You are a help...</td>\n",
       "      <td>Emily entered the conservation lab. Emily move...</td>\n",
       "      <td>{'question_type': 'container_location-True', '...</td>\n",
       "    </tr>\n",
       "    <tr>\n",
       "      <th>1064</th>\n",
       "      <td>Charlotte entered the green room. Charlotte mo...</td>\n",
       "      <td>The green room was dimly lit with only a few f...</td>\n",
       "      <td>In which room does Charlotte think that Liam w...</td>\n",
       "      <td>green room</td>\n",
       "      <td>room_location-True</td>\n",
       "      <td>(['Charlotte', 'Liam'], 'black leather wallet'...</td>\n",
       "      <td>2</td>\n",
       "      <td>False</td>\n",
       "      <td>tomi+asymmetric</td>\n",
       "      <td>1 Charlotte entered the green room\\n2 Charlott...</td>\n",
       "      <td>explore_tom</td>\n",
       "      <td>[{'role': 'system', 'content': 'You are a help...</td>\n",
       "      <td>Charlotte entered the green room. Charlotte mo...</td>\n",
       "      <td>{'question_type': 'room_location-True', 'quest...</td>\n",
       "    </tr>\n",
       "    <tr>\n",
       "      <th>1065</th>\n",
       "      <td>Kennedy entered the collaborative study room. ...</td>\n",
       "      <td>The large wooden table in the center of the co...</td>\n",
       "      <td>In which room does Landon think that William w...</td>\n",
       "      <td>collaborative study room</td>\n",
       "      <td>room_location-True</td>\n",
       "      <td>(['Landon', 'William'], 'backpack', 'room_loca...</td>\n",
       "      <td>2</td>\n",
       "      <td>False</td>\n",
       "      <td>tomi+object-state</td>\n",
       "      <td>1 Kennedy entered the collaborative study room...</td>\n",
       "      <td>explore_tom</td>\n",
       "      <td>[{'role': 'system', 'content': 'You are a help...</td>\n",
       "      <td>Kennedy entered the collaborative study room. ...</td>\n",
       "      <td>{'question_type': 'room_location-True', 'quest...</td>\n",
       "    </tr>\n",
       "  </tbody>\n",
       "</table>\n",
       "<p>1066 rows × 14 columns</p>\n",
       "</div>"
      ],
      "text/plain": [
       "                                        story_structure  \\\n",
       "0     Justin entered the planning room. Justin moved...   \n",
       "1     Riley entered the hotel suite. Riley moved the...   \n",
       "2     Madison entered the press box. Madison retuned...   \n",
       "3     Mason entered the consulate meeting room. Maso...   \n",
       "4     Cameron entered the planning room. Cameron mov...   \n",
       "...                                                 ...   \n",
       "1061  Olivia entered the library study room. Noah to...   \n",
       "1062  Mia entered the hospital staff lounge. Jasmine...   \n",
       "1063  Emily entered the conservation lab. Emily move...   \n",
       "1064  Charlotte entered the green room. Charlotte mo...   \n",
       "1065  Kennedy entered the collaborative study room. ...   \n",
       "\n",
       "                                         infilled_story  \\\n",
       "0     The planning room was dimly lit, the soft glow...   \n",
       "1     The luxurious hotel suite, with its polished w...   \n",
       "2     The sun began to set behind the sports stadium...   \n",
       "3     The consulate meeting room stood dimly lit, it...   \n",
       "4     The planning room was a cozy space filled with...   \n",
       "...                                                 ...   \n",
       "1061  The sun cast a warm glow over the university's...   \n",
       "1062  The hospital staff lounge was quiet, its only ...   \n",
       "1063  The museum's conservation lab was a quiet spac...   \n",
       "1064  The green room was dimly lit with only a few f...   \n",
       "1065  The large wooden table in the center of the co...   \n",
       "\n",
       "                                               question  \\\n",
       "0     In which room does Justin think that Cameron w...   \n",
       "1     In which room does Addison think that Riley wi...   \n",
       "2     In which room does Madison think that Eric wil...   \n",
       "3     In which container will Peyton search for the ...   \n",
       "4     In which room does Cameron think that Olivia w...   \n",
       "...                                                 ...   \n",
       "1061  In which container does Olivia think that Harp...   \n",
       "1062  In which container was the stethoscope at the ...   \n",
       "1063  In which container will Emily search for the s...   \n",
       "1064  In which room does Charlotte think that Liam w...   \n",
       "1065  In which room does Landon think that William w...   \n",
       "\n",
       "                        answer              question_type  \\\n",
       "0                planning room         room_location-True   \n",
       "1                  hotel suite         room_location-True   \n",
       "2                    press box         room_location-True   \n",
       "3            leather briefcase    container_location-True   \n",
       "4                planning room         room_location-True   \n",
       "...                        ...                        ...   \n",
       "1061                  backpack    container_location-True   \n",
       "1062                canvas bag  memory-container_location   \n",
       "1063               velvet case    container_location-True   \n",
       "1064                green room         room_location-True   \n",
       "1065  collaborative study room         room_location-True   \n",
       "\n",
       "                                                 params  nth_order  \\\n",
       "0     (['Justin', 'Cameron'], 'wooden desk drawer', ...          2   \n",
       "1     (['Addison', 'Riley'], 'silver picture frame',...          2   \n",
       "2     (['Madison', 'Eric'], 'walkie-talkie', 'room_l...          2   \n",
       "3     (['Peyton'], 'silver letter opener', 'containe...          1   \n",
       "4     (['Cameron', 'Olivia'], 'canvas backpack', 'ro...          2   \n",
       "...                                                 ...        ...   \n",
       "1061  (['Olivia', 'Harper'], 'pocket-sized notebook'...          2   \n",
       "1062  (None, 'stethoscope', 'memory-container_locati...         -1   \n",
       "1063  (['Emily'], 'small, antique pocket watch', 'co...          1   \n",
       "1064  (['Charlotte', 'Liam'], 'black leather wallet'...          2   \n",
       "1065  (['Landon', 'William'], 'backpack', 'room_loca...          2   \n",
       "\n",
       "      is_interesting                    story_type  \\\n",
       "0              False  tomi+object-state+asymmetric   \n",
       "1              False             tomi+object-state   \n",
       "2              False             tomi-object-state   \n",
       "3              False            tomi+info-exchange   \n",
       "4              False                          tomi   \n",
       "...              ...                           ...   \n",
       "1061           False                all+asymmetric   \n",
       "1062            True                          tomi   \n",
       "1063           False               tomi+asymmetric   \n",
       "1064           False               tomi+asymmetric   \n",
       "1065           False             tomi+object-state   \n",
       "\n",
       "                                     story_structure_wn  data_source  \\\n",
       "0     1 Justin entered the planning room\\n2 Justin m...  explore_tom   \n",
       "1     1 Riley entered the hotel suite\\n2 Riley moved...  explore_tom   \n",
       "2     1 Madison entered the press box\\n2 Madison ret...  explore_tom   \n",
       "3     1 Mason entered the consulate meeting room\\n2 ...  explore_tom   \n",
       "4     1 Cameron entered the planning room\\n2 Cameron...  explore_tom   \n",
       "...                                                 ...          ...   \n",
       "1061  1 Olivia entered the library study room\\n2 Noa...  explore_tom   \n",
       "1062  1 Mia entered the hospital staff lounge\\n2 Jas...  explore_tom   \n",
       "1063  1 Emily entered the conservation lab\\n2 Emily ...  explore_tom   \n",
       "1064  1 Charlotte entered the green room\\n2 Charlott...  explore_tom   \n",
       "1065  1 Kennedy entered the collaborative study room...  explore_tom   \n",
       "\n",
       "                                                 prompt  \\\n",
       "0     [{'role': 'system', 'content': 'You are a help...   \n",
       "1     [{'role': 'system', 'content': 'You are a help...   \n",
       "2     [{'role': 'system', 'content': 'You are a help...   \n",
       "3     [{'role': 'system', 'content': 'You are a help...   \n",
       "4     [{'role': 'system', 'content': 'You are a help...   \n",
       "...                                                 ...   \n",
       "1061  [{'role': 'system', 'content': 'You are a help...   \n",
       "1062  [{'role': 'system', 'content': 'You are a help...   \n",
       "1063  [{'role': 'system', 'content': 'You are a help...   \n",
       "1064  [{'role': 'system', 'content': 'You are a help...   \n",
       "1065  [{'role': 'system', 'content': 'You are a help...   \n",
       "\n",
       "                                                  story  \\\n",
       "0     Justin entered the planning room. Justin moved...   \n",
       "1     Riley entered the hotel suite. Riley moved the...   \n",
       "2     Madison entered the press box. Madison retuned...   \n",
       "3     Mason entered the consulate meeting room. Maso...   \n",
       "4     Cameron entered the planning room. Cameron mov...   \n",
       "...                                                 ...   \n",
       "1061  Olivia entered the library study room. Noah to...   \n",
       "1062  Mia entered the hospital staff lounge. Jasmine...   \n",
       "1063  Emily entered the conservation lab. Emily move...   \n",
       "1064  Charlotte entered the green room. Charlotte mo...   \n",
       "1065  Kennedy entered the collaborative study room. ...   \n",
       "\n",
       "                                             extra_info  \n",
       "0     {'question_type': 'room_location-True', 'quest...  \n",
       "1     {'question_type': 'room_location-True', 'quest...  \n",
       "2     {'question_type': 'room_location-True', 'quest...  \n",
       "3     {'question_type': 'container_location-True', '...  \n",
       "4     {'question_type': 'room_location-True', 'quest...  \n",
       "...                                                 ...  \n",
       "1061  {'question_type': 'container_location-True', '...  \n",
       "1062  {'question_type': 'memory-container_location',...  \n",
       "1063  {'question_type': 'container_location-True', '...  \n",
       "1064  {'question_type': 'room_location-True', 'quest...  \n",
       "1065  {'question_type': 'room_location-True', 'quest...  \n",
       "\n",
       "[1066 rows x 14 columns]"
      ]
     },
     "execution_count": 124,
     "metadata": {},
     "output_type": "execute_result"
    }
   ],
   "source": [
    "dft"
   ]
  },
  {
   "cell_type": "code",
   "execution_count": 97,
   "metadata": {},
   "outputs": [
    {
     "data": {
      "text/html": [
       "<div>\n",
       "<style scoped>\n",
       "    .dataframe tbody tr th:only-of-type {\n",
       "        vertical-align: middle;\n",
       "    }\n",
       "\n",
       "    .dataframe tbody tr th {\n",
       "        vertical-align: top;\n",
       "    }\n",
       "\n",
       "    .dataframe thead th {\n",
       "        text-align: right;\n",
       "    }\n",
       "</style>\n",
       "<table border=\"1\" class=\"dataframe\">\n",
       "  <thead>\n",
       "    <tr style=\"text-align: right;\">\n",
       "      <th></th>\n",
       "      <th>story_structure</th>\n",
       "      <th>infilled_story</th>\n",
       "      <th>question</th>\n",
       "      <th>answer</th>\n",
       "      <th>question_type</th>\n",
       "      <th>params</th>\n",
       "      <th>nth_order</th>\n",
       "      <th>is_interesting</th>\n",
       "      <th>story_type</th>\n",
       "      <th>story_structure_wn</th>\n",
       "      <th>data_source</th>\n",
       "      <th>prompt</th>\n",
       "      <th>story</th>\n",
       "    </tr>\n",
       "  </thead>\n",
       "  <tbody>\n",
       "    <tr>\n",
       "      <th>0</th>\n",
       "      <td>Jasmine entered the hospital staff lounge. Jas...</td>\n",
       "      <td>The hospital staff lounge, a small room filled...</td>\n",
       "      <td>In which container does Amelia think that Madi...</td>\n",
       "      <td>wooden chest</td>\n",
       "      <td>container_location-True</td>\n",
       "      <td>(['Amelia', 'Madison'], 'stethoscope', 'contai...</td>\n",
       "      <td>2</td>\n",
       "      <td>True</td>\n",
       "      <td>tomi+info-exchange+asymmetric</td>\n",
       "      <td>1 Jasmine entered the hospital staff lounge\\n2...</td>\n",
       "      <td>explore_tom</td>\n",
       "      <td>[{'role': 'system', 'content': 'You are a help...</td>\n",
       "      <td>Jasmine entered the hospital staff lounge. Jas...</td>\n",
       "    </tr>\n",
       "    <tr>\n",
       "      <th>1</th>\n",
       "      <td>Jasmine entered the hospital staff lounge. Jas...</td>\n",
       "      <td>The hospital staff lounge, a small room filled...</td>\n",
       "      <td>In which container was the stethoscope before ...</td>\n",
       "      <td>canvas bag</td>\n",
       "      <td>memory_before_event-container_location</td>\n",
       "      <td>(None, 'stethoscope', 'memory_before_event-con...</td>\n",
       "      <td>-1</td>\n",
       "      <td>True</td>\n",
       "      <td>tomi+info-exchange+asymmetric</td>\n",
       "      <td>1 Jasmine entered the hospital staff lounge\\n2...</td>\n",
       "      <td>explore_tom</td>\n",
       "      <td>[{'role': 'system', 'content': 'You are a help...</td>\n",
       "      <td>Jasmine entered the hospital staff lounge. Jas...</td>\n",
       "    </tr>\n",
       "  </tbody>\n",
       "</table>\n",
       "</div>"
      ],
      "text/plain": [
       "                                     story_structure  \\\n",
       "0  Jasmine entered the hospital staff lounge. Jas...   \n",
       "1  Jasmine entered the hospital staff lounge. Jas...   \n",
       "\n",
       "                                      infilled_story  \\\n",
       "0  The hospital staff lounge, a small room filled...   \n",
       "1  The hospital staff lounge, a small room filled...   \n",
       "\n",
       "                                            question        answer  \\\n",
       "0  In which container does Amelia think that Madi...  wooden chest   \n",
       "1  In which container was the stethoscope before ...    canvas bag   \n",
       "\n",
       "                            question_type  \\\n",
       "0                 container_location-True   \n",
       "1  memory_before_event-container_location   \n",
       "\n",
       "                                              params  nth_order  \\\n",
       "0  (['Amelia', 'Madison'], 'stethoscope', 'contai...          2   \n",
       "1  (None, 'stethoscope', 'memory_before_event-con...         -1   \n",
       "\n",
       "   is_interesting                     story_type  \\\n",
       "0            True  tomi+info-exchange+asymmetric   \n",
       "1            True  tomi+info-exchange+asymmetric   \n",
       "\n",
       "                                  story_structure_wn  data_source  \\\n",
       "0  1 Jasmine entered the hospital staff lounge\\n2...  explore_tom   \n",
       "1  1 Jasmine entered the hospital staff lounge\\n2...  explore_tom   \n",
       "\n",
       "                                              prompt  \\\n",
       "0  [{'role': 'system', 'content': 'You are a help...   \n",
       "1  [{'role': 'system', 'content': 'You are a help...   \n",
       "\n",
       "                                               story  \n",
       "0  Jasmine entered the hospital staff lounge. Jas...  \n",
       "1  Jasmine entered the hospital staff lounge. Jas...  "
      ]
     },
     "execution_count": 97,
     "metadata": {},
     "output_type": "execute_result"
    }
   ],
   "source": [
    "dfe.head(2)"
   ]
  },
  {
   "cell_type": "code",
   "execution_count": 98,
   "metadata": {},
   "outputs": [
    {
     "data": {
      "text/plain": [
       "is_interesting  question_type                         \n",
       "False           container_location-False                   11\n",
       "                container_location-True                   162\n",
       "                room_location-False                         4\n",
       "                room_location-True                        423\n",
       "True            container_location-False                   76\n",
       "                container_location-True                    90\n",
       "                ground_truth-container_location           118\n",
       "                ground_truth-room_location                 21\n",
       "                memory-container_location                 121\n",
       "                memory-room_location                       19\n",
       "                memory_before_event-container_location    146\n",
       "                memory_before_event-room_location           3\n",
       "                room_location-False                         2\n",
       "                room_location-True                          4\n",
       "Name: answer, dtype: int64"
      ]
     },
     "execution_count": 98,
     "metadata": {},
     "output_type": "execute_result"
    }
   ],
   "source": [
    "dfe.groupby(['is_interesting', 'question_type', ]).answer.count()"
   ]
  },
  {
   "cell_type": "code",
   "execution_count": 99,
   "metadata": {},
   "outputs": [
    {
     "data": {
      "text/html": [
       "<div>\n",
       "<style scoped>\n",
       "    .dataframe tbody tr th:only-of-type {\n",
       "        vertical-align: middle;\n",
       "    }\n",
       "\n",
       "    .dataframe tbody tr th {\n",
       "        vertical-align: top;\n",
       "    }\n",
       "\n",
       "    .dataframe thead th {\n",
       "        text-align: right;\n",
       "    }\n",
       "</style>\n",
       "<table border=\"1\" class=\"dataframe\">\n",
       "  <thead>\n",
       "    <tr style=\"text-align: right;\">\n",
       "      <th></th>\n",
       "      <th>deception</th>\n",
       "      <th>story_length</th>\n",
       "      <th>question_order</th>\n",
       "      <th>sample_id</th>\n",
       "      <th>story</th>\n",
       "      <th>question</th>\n",
       "      <th>choices</th>\n",
       "      <th>answer</th>\n",
       "      <th>question_old</th>\n",
       "      <th>answer_old</th>\n",
       "      <th>data_source</th>\n",
       "      <th>prompt</th>\n",
       "      <th>ability</th>\n",
       "      <th>reward_model</th>\n",
       "      <th>extra_info</th>\n",
       "    </tr>\n",
       "  </thead>\n",
       "  <tbody>\n",
       "    <tr>\n",
       "      <th>0</th>\n",
       "      <td>True</td>\n",
       "      <td>2</td>\n",
       "      <td>3</td>\n",
       "      <td>96</td>\n",
       "      <td>Lily, Hannah, Emma, Jackson and Gracie entered...</td>\n",
       "      <td>Where does Lily think Gracie thinks Jackson th...</td>\n",
       "      <td>A. green_drawer, B. red_container, C. blue_box...</td>\n",
       "      <td>green_cupboard</td>\n",
       "      <td>Where does Lily think Gracie thinks Jackson th...</td>\n",
       "      <td>green_cupboard</td>\n",
       "      <td>hi_tom</td>\n",
       "      <td>[{'role': 'system', 'content': 'You are a help...</td>\n",
       "      <td>theory_of_mind</td>\n",
       "      <td>{'ground_truth': 'green_cupboard', 'style': 'r...</td>\n",
       "      <td>{'deception': True, 'question_order': 3, 'stor...</td>\n",
       "    </tr>\n",
       "    <tr>\n",
       "      <th>1</th>\n",
       "      <td>False</td>\n",
       "      <td>1</td>\n",
       "      <td>3</td>\n",
       "      <td>29</td>\n",
       "      <td>Mila, Benjamin, Emily, Noah and Isabella enter...</td>\n",
       "      <td>Where does Noah think Emily thinks Mila thinks...</td>\n",
       "      <td>A. red_crate, B. red_bottle, C. blue_drawer, D...</td>\n",
       "      <td>red_crate</td>\n",
       "      <td>Where does Noah think Emily thinks Mila thinks...</td>\n",
       "      <td>red_crate</td>\n",
       "      <td>hi_tom</td>\n",
       "      <td>[{'role': 'system', 'content': 'You are a help...</td>\n",
       "      <td>theory_of_mind</td>\n",
       "      <td>{'ground_truth': 'red_crate', 'style': 'rule'}</td>\n",
       "      <td>{'deception': False, 'question_order': 3, 'sto...</td>\n",
       "    </tr>\n",
       "  </tbody>\n",
       "</table>\n",
       "</div>"
      ],
      "text/plain": [
       "   deception  story_length  question_order  sample_id  \\\n",
       "0       True             2               3         96   \n",
       "1      False             1               3         29   \n",
       "\n",
       "                                               story  \\\n",
       "0  Lily, Hannah, Emma, Jackson and Gracie entered...   \n",
       "1  Mila, Benjamin, Emily, Noah and Isabella enter...   \n",
       "\n",
       "                                            question  \\\n",
       "0  Where does Lily think Gracie thinks Jackson th...   \n",
       "1  Where does Noah think Emily thinks Mila thinks...   \n",
       "\n",
       "                                             choices          answer  \\\n",
       "0  A. green_drawer, B. red_container, C. blue_box...  green_cupboard   \n",
       "1  A. red_crate, B. red_bottle, C. blue_drawer, D...       red_crate   \n",
       "\n",
       "                                        question_old      answer_old  \\\n",
       "0  Where does Lily think Gracie thinks Jackson th...  green_cupboard   \n",
       "1  Where does Noah think Emily thinks Mila thinks...       red_crate   \n",
       "\n",
       "  data_source                                             prompt  \\\n",
       "0      hi_tom  [{'role': 'system', 'content': 'You are a help...   \n",
       "1      hi_tom  [{'role': 'system', 'content': 'You are a help...   \n",
       "\n",
       "          ability                                       reward_model  \\\n",
       "0  theory_of_mind  {'ground_truth': 'green_cupboard', 'style': 'r...   \n",
       "1  theory_of_mind     {'ground_truth': 'red_crate', 'style': 'rule'}   \n",
       "\n",
       "                                          extra_info  \n",
       "0  {'deception': True, 'question_order': 3, 'stor...  \n",
       "1  {'deception': False, 'question_order': 3, 'sto...  "
      ]
     },
     "execution_count": 99,
     "metadata": {},
     "output_type": "execute_result"
    }
   ],
   "source": [
    "df.head(2)"
   ]
  },
  {
   "cell_type": "code",
   "execution_count": 100,
   "metadata": {},
   "outputs": [],
   "source": [
    "col = ['prompt', 'answer', 'data_source', 'question', 'story']"
   ]
  },
  {
   "cell_type": "code",
   "execution_count": 101,
   "metadata": {},
   "outputs": [],
   "source": [
    "dfr = pd.concat([df.loc[:, col], dfe.loc[:, col]], ignore_index=True)\n",
    "dfr = dfr.sample(frac=1, replace=False, ignore_index=True)"
   ]
  },
  {
   "cell_type": "code",
   "execution_count": 123,
   "metadata": {},
   "outputs": [
    {
     "data": {
      "text/html": [
       "<div>\n",
       "<style scoped>\n",
       "    .dataframe tbody tr th:only-of-type {\n",
       "        vertical-align: middle;\n",
       "    }\n",
       "\n",
       "    .dataframe tbody tr th {\n",
       "        vertical-align: top;\n",
       "    }\n",
       "\n",
       "    .dataframe thead th {\n",
       "        text-align: right;\n",
       "    }\n",
       "</style>\n",
       "<table border=\"1\" class=\"dataframe\">\n",
       "  <thead>\n",
       "    <tr style=\"text-align: right;\">\n",
       "      <th></th>\n",
       "      <th>prompt</th>\n",
       "      <th>answer</th>\n",
       "      <th>data_source</th>\n",
       "      <th>question</th>\n",
       "      <th>story</th>\n",
       "    </tr>\n",
       "  </thead>\n",
       "  <tbody>\n",
       "    <tr>\n",
       "      <th>0</th>\n",
       "      <td>[{'role': 'system', 'content': 'You are a help...</td>\n",
       "      <td>blue_basket</td>\n",
       "      <td>hi_tom</td>\n",
       "      <td>Where does Evelyn really think the apple is?</td>\n",
       "      <td>Oliver, Avery, Emma, Isabella and Evelyn enter...</td>\n",
       "    </tr>\n",
       "    <tr>\n",
       "      <th>1</th>\n",
       "      <td>[{'role': 'system', 'content': 'You are a help...</td>\n",
       "      <td>blue_basket</td>\n",
       "      <td>hi_tom</td>\n",
       "      <td>Where does Isabella think Benjamin thinks the ...</td>\n",
       "      <td>Isla, Isabella, Benjamin, Jack and Gracie ente...</td>\n",
       "    </tr>\n",
       "    <tr>\n",
       "      <th>2</th>\n",
       "      <td>[{'role': 'system', 'content': 'You are a help...</td>\n",
       "      <td>leather briefcase</td>\n",
       "      <td>explore_tom</td>\n",
       "      <td>In which container will Liam search for the si...</td>\n",
       "      <td>Kaylee entered the hotel lobby. Kaylee moved t...</td>\n",
       "    </tr>\n",
       "    <tr>\n",
       "      <th>3</th>\n",
       "      <td>[{'role': 'system', 'content': 'You are a help...</td>\n",
       "      <td>plastic storage bin</td>\n",
       "      <td>explore_tom</td>\n",
       "      <td>In which container was the waterproof flashlig...</td>\n",
       "      <td>Avery entered the control room. Avery moved th...</td>\n",
       "    </tr>\n",
       "    <tr>\n",
       "      <th>4</th>\n",
       "      <td>[{'role': 'system', 'content': 'You are a help...</td>\n",
       "      <td>green_basket</td>\n",
       "      <td>hi_tom</td>\n",
       "      <td>Where does Alexander think Ava thinks Evelyn t...</td>\n",
       "      <td>Ava, Emma, Evelyn, Avery and Alexander entered...</td>\n",
       "    </tr>\n",
       "    <tr>\n",
       "      <th>...</th>\n",
       "      <td>...</td>\n",
       "      <td>...</td>\n",
       "      <td>...</td>\n",
       "      <td>...</td>\n",
       "      <td>...</td>\n",
       "    </tr>\n",
       "    <tr>\n",
       "      <th>3195</th>\n",
       "      <td>[{'role': 'system', 'content': 'You are a help...</td>\n",
       "      <td>blue_basket</td>\n",
       "      <td>hi_tom</td>\n",
       "      <td>Where does Mason think Elizabeth thinks Noah t...</td>\n",
       "      <td>Chloe, Noah, Isla, Elizabeth and Mason entered...</td>\n",
       "    </tr>\n",
       "    <tr>\n",
       "      <th>3196</th>\n",
       "      <td>[{'role': 'system', 'content': 'You are a help...</td>\n",
       "      <td>blue_bucket</td>\n",
       "      <td>hi_tom</td>\n",
       "      <td>Where is the sweet_potato really?</td>\n",
       "      <td>Olivia lost his watch. Oliver, Charlotte, Mila...</td>\n",
       "    </tr>\n",
       "    <tr>\n",
       "      <th>3197</th>\n",
       "      <td>[{'role': 'system', 'content': 'You are a help...</td>\n",
       "      <td>blue_bathtub</td>\n",
       "      <td>hi_tom</td>\n",
       "      <td>Where does Ella really think the onion is?</td>\n",
       "      <td>Ella dislikes the onion. Gracie, Oliver, Ameli...</td>\n",
       "    </tr>\n",
       "    <tr>\n",
       "      <th>3198</th>\n",
       "      <td>[{'role': 'system', 'content': 'You are a help...</td>\n",
       "      <td>red_crate</td>\n",
       "      <td>hi_tom</td>\n",
       "      <td>Where is the potato really?</td>\n",
       "      <td>Ava, Emma, Jackson, Isabella and Evelyn entere...</td>\n",
       "    </tr>\n",
       "    <tr>\n",
       "      <th>3199</th>\n",
       "      <td>[{'role': 'system', 'content': 'You are a help...</td>\n",
       "      <td>black nylon backpack</td>\n",
       "      <td>explore_tom</td>\n",
       "      <td>In which container does Abigail think that Mor...</td>\n",
       "      <td>Kayla entered the backstage tent. Kayla moved ...</td>\n",
       "    </tr>\n",
       "  </tbody>\n",
       "</table>\n",
       "<p>3200 rows × 5 columns</p>\n",
       "</div>"
      ],
      "text/plain": [
       "                                                 prompt                answer  \\\n",
       "0     [{'role': 'system', 'content': 'You are a help...           blue_basket   \n",
       "1     [{'role': 'system', 'content': 'You are a help...           blue_basket   \n",
       "2     [{'role': 'system', 'content': 'You are a help...     leather briefcase   \n",
       "3     [{'role': 'system', 'content': 'You are a help...   plastic storage bin   \n",
       "4     [{'role': 'system', 'content': 'You are a help...          green_basket   \n",
       "...                                                 ...                   ...   \n",
       "3195  [{'role': 'system', 'content': 'You are a help...           blue_basket   \n",
       "3196  [{'role': 'system', 'content': 'You are a help...           blue_bucket   \n",
       "3197  [{'role': 'system', 'content': 'You are a help...          blue_bathtub   \n",
       "3198  [{'role': 'system', 'content': 'You are a help...             red_crate   \n",
       "3199  [{'role': 'system', 'content': 'You are a help...  black nylon backpack   \n",
       "\n",
       "      data_source                                           question  \\\n",
       "0          hi_tom       Where does Evelyn really think the apple is?   \n",
       "1          hi_tom  Where does Isabella think Benjamin thinks the ...   \n",
       "2     explore_tom  In which container will Liam search for the si...   \n",
       "3     explore_tom  In which container was the waterproof flashlig...   \n",
       "4          hi_tom  Where does Alexander think Ava thinks Evelyn t...   \n",
       "...           ...                                                ...   \n",
       "3195       hi_tom  Where does Mason think Elizabeth thinks Noah t...   \n",
       "3196       hi_tom                  Where is the sweet_potato really?   \n",
       "3197       hi_tom         Where does Ella really think the onion is?   \n",
       "3198       hi_tom                        Where is the potato really?   \n",
       "3199  explore_tom  In which container does Abigail think that Mor...   \n",
       "\n",
       "                                                  story  \n",
       "0     Oliver, Avery, Emma, Isabella and Evelyn enter...  \n",
       "1     Isla, Isabella, Benjamin, Jack and Gracie ente...  \n",
       "2     Kaylee entered the hotel lobby. Kaylee moved t...  \n",
       "3     Avery entered the control room. Avery moved th...  \n",
       "4     Ava, Emma, Evelyn, Avery and Alexander entered...  \n",
       "...                                                 ...  \n",
       "3195  Chloe, Noah, Isla, Elizabeth and Mason entered...  \n",
       "3196  Olivia lost his watch. Oliver, Charlotte, Mila...  \n",
       "3197  Ella dislikes the onion. Gracie, Oliver, Ameli...  \n",
       "3198  Ava, Emma, Jackson, Isabella and Evelyn entere...  \n",
       "3199  Kayla entered the backstage tent. Kayla moved ...  \n",
       "\n",
       "[3200 rows x 5 columns]"
      ]
     },
     "execution_count": 123,
     "metadata": {},
     "output_type": "execute_result"
    }
   ],
   "source": [
    "dfr"
   ]
  },
  {
   "cell_type": "code",
   "execution_count": 102,
   "metadata": {},
   "outputs": [],
   "source": [
    "data = Dataset.from_pandas(dfr)"
   ]
  },
  {
   "cell_type": "code",
   "execution_count": 62,
   "metadata": {},
   "outputs": [
    {
     "data": {
      "text/plain": [
       "3200"
      ]
     },
     "execution_count": 62,
     "metadata": {},
     "output_type": "execute_result"
    }
   ],
   "source": [
    "len(data['prompt'])"
   ]
  },
  {
   "cell_type": "code",
   "execution_count": 63,
   "metadata": {},
   "outputs": [
    {
     "data": {
      "text/plain": [
       "<Axes: ylabel='Count'>"
      ]
     },
     "execution_count": 63,
     "metadata": {},
     "output_type": "execute_result"
    },
    {
     "data": {
      "image/png": "[encoded data removed]",
      "text/plain": [
       "<Figure size 400x200 with 1 Axes>"
      ]
     },
     "metadata": {},
     "output_type": "display_data"
    }
   ],
   "source": [
    "token_lengths = []\n",
    "for prompt_list in data['prompt']:\n",
    "    # Each prompt is a list of dictionaries, we want the 'content' of the first dict\n",
    "    # Tokenize the content\n",
    "    tokens = tokenizer.apply_chat_template(prompt_list)\n",
    "    token_lengths.append(len(tokens))\n",
    "\n",
    "token_lengths = np.array(token_lengths)\n",
    "_, ax = plt.subplots(1, 1, figsize=(4, 2))\n",
    "sns.histplot(token_lengths)"
   ]
  },
  {
   "cell_type": "code",
   "execution_count": 64,
   "metadata": {},
   "outputs": [
    {
     "data": {
      "text/plain": [
       "Dataset({\n",
       "    features: ['prompt', 'answer', 'data_source', 'question', 'story'],\n",
       "    num_rows: 3200\n",
       "})"
      ]
     },
     "execution_count": 64,
     "metadata": {},
     "output_type": "execute_result"
    }
   ],
   "source": [
    "data"
   ]
  },
  {
   "cell_type": "code",
   "execution_count": 65,
   "metadata": {},
   "outputs": [
    {
     "name": "stderr",
     "output_type": "stream",
     "text": [
      "Creating parquet from Arrow format: 100%|██████████| 4/4 [00:00<00:00, 458.57ba/s]\n"
     ]
    },
    {
     "data": {
      "text/plain": [
       "7598692"
      ]
     },
     "execution_count": 65,
     "metadata": {},
     "output_type": "execute_result"
    }
   ],
   "source": [
    "data.to_parquet('../data/train/ToM_train_HiEx.parquet')"
   ]
  },
  {
   "cell_type": "markdown",
   "metadata": {},
   "source": [
    "**Verl**"
   ]
  },
  {
   "cell_type": "code",
   "execution_count": 66,
   "metadata": {},
   "outputs": [
    {
     "data": {
      "text/plain": [
       "'You are a helpful assistant. The assistant first thinks about the reasoning process in the mind and then provides the user with the answer. The reasoning process and answer are enclosed within <think> </think> and <answer> </answer> tags, respectively, i.e., <think> reasoning process here </think><answer> answer here </answer>.'"
      ]
     },
     "execution_count": 66,
     "metadata": {},
     "output_type": "execute_result"
    }
   ],
   "source": [
    "SYSTEM_PROMPT"
   ]
  },
  {
   "cell_type": "code",
   "execution_count": 67,
   "metadata": {},
   "outputs": [],
   "source": [
    "# add a row to each data item that represents a unique id\n",
    "def make_map_fn(split):\n",
    "\n",
    "    def process_fn(example, idx):\n",
    "        question = example.pop('question')\n",
    "        story = example.pop('story')\n",
    "        question = SYSTEM_PROMPT + f\"\"\" Read the following story and answer the question. Story: {story}\\n Question:{question}\"\"\"\n",
    "\n",
    "        solution = example.pop('answer')\n",
    "        data = {\n",
    "            \"data_source\": 'HiTom+ExploreTom',\n",
    "            \"prompt\": [{\n",
    "                \"role\": \"user\",\n",
    "                \"content\": question\n",
    "            }],\n",
    "            \"ability\": \"tom\",\n",
    "            \"reward_model\": {\n",
    "                \"style\": \"rule\",\n",
    "                \"ground_truth\": solution\n",
    "            },\n",
    "            \"extra_info\": {\n",
    "                'split': split,\n",
    "                'index': idx\n",
    "            }\n",
    "        }\n",
    "        return data\n",
    "\n",
    "    return process_fn"
   ]
  },
  {
   "cell_type": "code",
   "execution_count": 68,
   "metadata": {},
   "outputs": [
    {
     "name": "stderr",
     "output_type": "stream",
     "text": [
      "Map: 100%|██████████| 3200/3200 [00:00<00:00, 36610.59 examples/s]\n"
     ]
    }
   ],
   "source": [
    "train_dataset_verl = data.map(function=make_map_fn('train'), with_indices=True)"
   ]
  },
  {
   "cell_type": "code",
   "execution_count": 42,
   "metadata": {},
   "outputs": [
    {
     "name": "stderr",
     "output_type": "stream",
     "text": [
      "Creating parquet from Arrow format: 100%|██████████| 4/4 [00:00<00:00, 635.93ba/s]\n"
     ]
    },
    {
     "data": {
      "text/plain": [
       "4683079"
      ]
     },
     "execution_count": 42,
     "metadata": {},
     "output_type": "execute_result"
    }
   ],
   "source": [
    "train_dataset_verl.to_parquet('../data/test/ToM_train_HiExTi_verl.parquet')"
   ]
  },
  {
   "cell_type": "code",
   "execution_count": 111,
   "metadata": {},
   "outputs": [],
   "source": [
    "extra_info = []\n",
    "for i, row in dft.iterrows():\n",
    "    extra_info.append({'question_type':row['question_type'], \n",
    "                       'question_order':row['nth_order'],\n",
    "                       'is_interesting':row['is_interesting'],\n",
    "                       'story_type':row['story_type']\n",
    "                       })\n",
    "dft['extra_info'] = extra_info"
   ]
  },
  {
   "cell_type": "code",
   "execution_count": 112,
   "metadata": {},
   "outputs": [
    {
     "data": {
      "text/html": [
       "<div>\n",
       "<style scoped>\n",
       "    .dataframe tbody tr th:only-of-type {\n",
       "        vertical-align: middle;\n",
       "    }\n",
       "\n",
       "    .dataframe tbody tr th {\n",
       "        vertical-align: top;\n",
       "    }\n",
       "\n",
       "    .dataframe thead th {\n",
       "        text-align: right;\n",
       "    }\n",
       "</style>\n",
       "<table border=\"1\" class=\"dataframe\">\n",
       "  <thead>\n",
       "    <tr style=\"text-align: right;\">\n",
       "      <th></th>\n",
       "      <th>deception</th>\n",
       "      <th>story_length</th>\n",
       "      <th>question_order</th>\n",
       "      <th>sample_id</th>\n",
       "      <th>story</th>\n",
       "      <th>question</th>\n",
       "      <th>choices</th>\n",
       "      <th>answer</th>\n",
       "      <th>question_old</th>\n",
       "      <th>answer_old</th>\n",
       "      <th>...</th>\n",
       "      <th>reward_model</th>\n",
       "      <th>extra_info</th>\n",
       "      <th>story_structure</th>\n",
       "      <th>infilled_story</th>\n",
       "      <th>question_type</th>\n",
       "      <th>params</th>\n",
       "      <th>nth_order</th>\n",
       "      <th>is_interesting</th>\n",
       "      <th>story_type</th>\n",
       "      <th>story_structure_wn</th>\n",
       "    </tr>\n",
       "  </thead>\n",
       "  <tbody>\n",
       "    <tr>\n",
       "      <th>0</th>\n",
       "      <td>False</td>\n",
       "      <td>1.0</td>\n",
       "      <td>4.0</td>\n",
       "      <td>89.0</td>\n",
       "      <td>Benjamin, Emily, Mason, Evelyn and Jackson ent...</td>\n",
       "      <td>Where does Jackson think Benjamin thinks Emily...</td>\n",
       "      <td>A. green_treasure_chest, B. green_bottle, C. g...</td>\n",
       "      <td>green_suitcase</td>\n",
       "      <td>Where does Jackson think Benjamin thinks Emily...</td>\n",
       "      <td>green_suitcase</td>\n",
       "      <td>...</td>\n",
       "      <td>{'ground_truth': 'green_suitcase', 'style': 'r...</td>\n",
       "      <td>{'deception': False, 'question_order': 4, 'sto...</td>\n",
       "      <td>None</td>\n",
       "      <td>None</td>\n",
       "      <td>None</td>\n",
       "      <td>None</td>\n",
       "      <td>NaN</td>\n",
       "      <td>None</td>\n",
       "      <td>None</td>\n",
       "      <td>None</td>\n",
       "    </tr>\n",
       "    <tr>\n",
       "      <th>1</th>\n",
       "      <td>True</td>\n",
       "      <td>3.0</td>\n",
       "      <td>4.0</td>\n",
       "      <td>46.0</td>\n",
       "      <td>Mason, Noah, Hannah, Ethan and Alexander enter...</td>\n",
       "      <td>Where does Hannah think Noah thinks Mason thin...</td>\n",
       "      <td>A. green_box, B. blue_container, C. blue_pantr...</td>\n",
       "      <td>red_drawer</td>\n",
       "      <td>Where does Hannah think Noah thinks Mason thin...</td>\n",
       "      <td>red_drawer</td>\n",
       "      <td>...</td>\n",
       "      <td>{'ground_truth': 'red_drawer', 'style': 'rule'}</td>\n",
       "      <td>{'deception': True, 'question_order': 4, 'stor...</td>\n",
       "      <td>None</td>\n",
       "      <td>None</td>\n",
       "      <td>None</td>\n",
       "      <td>None</td>\n",
       "      <td>NaN</td>\n",
       "      <td>None</td>\n",
       "      <td>None</td>\n",
       "      <td>None</td>\n",
       "    </tr>\n",
       "  </tbody>\n",
       "</table>\n",
       "<p>2 rows × 23 columns</p>\n",
       "</div>"
      ],
      "text/plain": [
       "  deception  story_length  question_order  sample_id  \\\n",
       "0     False           1.0             4.0       89.0   \n",
       "1      True           3.0             4.0       46.0   \n",
       "\n",
       "                                               story  \\\n",
       "0  Benjamin, Emily, Mason, Evelyn and Jackson ent...   \n",
       "1  Mason, Noah, Hannah, Ethan and Alexander enter...   \n",
       "\n",
       "                                            question  \\\n",
       "0  Where does Jackson think Benjamin thinks Emily...   \n",
       "1  Where does Hannah think Noah thinks Mason thin...   \n",
       "\n",
       "                                             choices          answer  \\\n",
       "0  A. green_treasure_chest, B. green_bottle, C. g...  green_suitcase   \n",
       "1  A. green_box, B. blue_container, C. blue_pantr...      red_drawer   \n",
       "\n",
       "                                        question_old      answer_old  ...  \\\n",
       "0  Where does Jackson think Benjamin thinks Emily...  green_suitcase  ...   \n",
       "1  Where does Hannah think Noah thinks Mason thin...      red_drawer  ...   \n",
       "\n",
       "                                        reward_model  \\\n",
       "0  {'ground_truth': 'green_suitcase', 'style': 'r...   \n",
       "1    {'ground_truth': 'red_drawer', 'style': 'rule'}   \n",
       "\n",
       "                                          extra_info story_structure  \\\n",
       "0  {'deception': False, 'question_order': 4, 'sto...            None   \n",
       "1  {'deception': True, 'question_order': 4, 'stor...            None   \n",
       "\n",
       "  infilled_story question_type params nth_order is_interesting story_type  \\\n",
       "0           None          None   None       NaN           None       None   \n",
       "1           None          None   None       NaN           None       None   \n",
       "\n",
       "   story_structure_wn  \n",
       "0                None  \n",
       "1                None  \n",
       "\n",
       "[2 rows x 23 columns]"
      ]
     },
     "execution_count": 112,
     "metadata": {},
     "output_type": "execute_result"
    }
   ],
   "source": [
    "dfh[:1000].head(2)"
   ]
  },
  {
   "cell_type": "code",
   "execution_count": 113,
   "metadata": {},
   "outputs": [],
   "source": [
    "test_tomi = load_dataset('parquet', data_files='../data/test/test_tomi.parquet')['train']"
   ]
  },
  {
   "cell_type": "code",
   "execution_count": 114,
   "metadata": {},
   "outputs": [],
   "source": [
    "dftomi = pd.DataFrame(test_tomi)"
   ]
  },
  {
   "cell_type": "code",
   "execution_count": 115,
   "metadata": {},
   "outputs": [
    {
     "data": {
      "text/html": [
       "<div>\n",
       "<style scoped>\n",
       "    .dataframe tbody tr th:only-of-type {\n",
       "        vertical-align: middle;\n",
       "    }\n",
       "\n",
       "    .dataframe tbody tr th {\n",
       "        vertical-align: top;\n",
       "    }\n",
       "\n",
       "    .dataframe thead th {\n",
       "        text-align: right;\n",
       "    }\n",
       "</style>\n",
       "<table border=\"1\" class=\"dataframe\">\n",
       "  <thead>\n",
       "    <tr style=\"text-align: right;\">\n",
       "      <th></th>\n",
       "      <th>story</th>\n",
       "      <th>question</th>\n",
       "      <th>answer</th>\n",
       "      <th>question_type</th>\n",
       "      <th>question_type2</th>\n",
       "      <th>prompt</th>\n",
       "    </tr>\n",
       "  </thead>\n",
       "  <tbody>\n",
       "    <tr>\n",
       "      <th>0</th>\n",
       "      <td>Jackson entered the hall. Chloe entered the ha...</td>\n",
       "      <td>Where was the boots at the beginning?</td>\n",
       "      <td>bathtub</td>\n",
       "      <td>true_belief</td>\n",
       "      <td>memory</td>\n",
       "      <td>[{'content': 'You are a helpful assistant. The...</td>\n",
       "    </tr>\n",
       "    <tr>\n",
       "      <th>1</th>\n",
       "      <td>Jackson entered the hall. Chloe entered the ha...</td>\n",
       "      <td>Where will Chloe look for the boots?</td>\n",
       "      <td>pantry</td>\n",
       "      <td>true_belief</td>\n",
       "      <td>first_order_1_no_tom</td>\n",
       "      <td>[{'content': 'You are a helpful assistant. The...</td>\n",
       "    </tr>\n",
       "  </tbody>\n",
       "</table>\n",
       "</div>"
      ],
      "text/plain": [
       "                                               story  \\\n",
       "0  Jackson entered the hall. Chloe entered the ha...   \n",
       "1  Jackson entered the hall. Chloe entered the ha...   \n",
       "\n",
       "                                question   answer question_type  \\\n",
       "0  Where was the boots at the beginning?  bathtub   true_belief   \n",
       "1   Where will Chloe look for the boots?   pantry   true_belief   \n",
       "\n",
       "         question_type2                                             prompt  \n",
       "0                memory  [{'content': 'You are a helpful assistant. The...  \n",
       "1  first_order_1_no_tom  [{'content': 'You are a helpful assistant. The...  "
      ]
     },
     "execution_count": 115,
     "metadata": {},
     "output_type": "execute_result"
    }
   ],
   "source": [
    "dftomi.head(2)"
   ]
  },
  {
   "cell_type": "code",
   "execution_count": 116,
   "metadata": {},
   "outputs": [],
   "source": [
    "extra_info = []\n",
    "for i, row in dftomi.iterrows():\n",
    "    extra_info.append({'question_type':row['question_type'], \n",
    "                       'question_type2':row['question_type2']\n",
    "                       })\n",
    "dftomi['extra_info'] = extra_info"
   ]
  },
  {
   "cell_type": "code",
   "execution_count": 117,
   "metadata": {},
   "outputs": [],
   "source": [
    "dftomi['data_source']='tomi'"
   ]
  },
  {
   "cell_type": "code",
   "execution_count": 118,
   "metadata": {},
   "outputs": [],
   "source": [
    "col_test = ['prompt', 'answer', 'data_source', 'question', 'story', 'extra_info']"
   ]
  },
  {
   "cell_type": "code",
   "execution_count": 144,
   "metadata": {},
   "outputs": [],
   "source": [
    "df_test = pd.concat([dft.loc[:, col_test], dfh.loc[dfh.data_source!='explore_tom', col_test], dftomi.loc[:, col_test]], ignore_index=True)\n",
    "df_test = df_test.sample(frac=1, replace=False, ignore_index=True)"
   ]
  },
  {
   "cell_type": "markdown",
   "metadata": {},
   "source": [
    "Exp 57\t1009\n",
    "72\t928\n",
    "876\t5118\n",
    "\n"
   ]
  },
  {
   "cell_type": "code",
   "execution_count": 145,
   "metadata": {},
   "outputs": [
    {
     "data": {
      "text/plain": [
       "array([False])"
      ]
     },
     "execution_count": 145,
     "metadata": {},
     "output_type": "execute_result"
    }
   ],
   "source": [
    "np.unique(df_test.story.isna())"
   ]
  },
  {
   "cell_type": "code",
   "execution_count": 146,
   "metadata": {},
   "outputs": [
    {
     "data": {
      "text/html": [
       "<div>\n",
       "<style scoped>\n",
       "    .dataframe tbody tr th:only-of-type {\n",
       "        vertical-align: middle;\n",
       "    }\n",
       "\n",
       "    .dataframe tbody tr th {\n",
       "        vertical-align: top;\n",
       "    }\n",
       "\n",
       "    .dataframe thead th {\n",
       "        text-align: right;\n",
       "    }\n",
       "</style>\n",
       "<table border=\"1\" class=\"dataframe\">\n",
       "  <thead>\n",
       "    <tr style=\"text-align: right;\">\n",
       "      <th></th>\n",
       "      <th>prompt</th>\n",
       "      <th>answer</th>\n",
       "      <th>data_source</th>\n",
       "      <th>question</th>\n",
       "      <th>story</th>\n",
       "      <th>extra_info</th>\n",
       "    </tr>\n",
       "  </thead>\n",
       "  <tbody>\n",
       "  </tbody>\n",
       "</table>\n",
       "</div>"
      ],
      "text/plain": [
       "Empty DataFrame\n",
       "Columns: [prompt, answer, data_source, question, story, extra_info]\n",
       "Index: []"
      ]
     },
     "execution_count": 146,
     "metadata": {},
     "output_type": "execute_result"
    }
   ],
   "source": [
    "df_test.loc[df_test.story.isna()]"
   ]
  },
  {
   "cell_type": "code",
   "execution_count": 147,
   "metadata": {},
   "outputs": [
    {
     "data": {
      "text/html": [
       "<div>\n",
       "<style scoped>\n",
       "    .dataframe tbody tr th:only-of-type {\n",
       "        vertical-align: middle;\n",
       "    }\n",
       "\n",
       "    .dataframe tbody tr th {\n",
       "        vertical-align: top;\n",
       "    }\n",
       "\n",
       "    .dataframe thead th {\n",
       "        text-align: right;\n",
       "    }\n",
       "</style>\n",
       "<table border=\"1\" class=\"dataframe\">\n",
       "  <thead>\n",
       "    <tr style=\"text-align: right;\">\n",
       "      <th></th>\n",
       "      <th>prompt</th>\n",
       "      <th>answer</th>\n",
       "      <th>data_source</th>\n",
       "      <th>question</th>\n",
       "      <th>story</th>\n",
       "      <th>extra_info</th>\n",
       "    </tr>\n",
       "  </thead>\n",
       "  <tbody>\n",
       "  </tbody>\n",
       "</table>\n",
       "</div>"
      ],
      "text/plain": [
       "Empty DataFrame\n",
       "Columns: [prompt, answer, data_source, question, story, extra_info]\n",
       "Index: []"
      ]
     },
     "execution_count": 147,
     "metadata": {},
     "output_type": "execute_result"
    }
   ],
   "source": [
    "df_test.loc[df_test.story=='None']"
   ]
  },
  {
   "cell_type": "code",
   "execution_count": 148,
   "metadata": {},
   "outputs": [
    {
     "data": {
      "text/plain": [
       "8060"
      ]
     },
     "execution_count": 148,
     "metadata": {},
     "output_type": "execute_result"
    }
   ],
   "source": [
    "len(df_test)"
   ]
  },
  {
   "cell_type": "code",
   "execution_count": 149,
   "metadata": {},
   "outputs": [
    {
     "data": {
      "text/plain": [
       "story\n",
       "Abigail dislikes the pear Emma entered the playroom. Abigail entered the playroom. The pear is in the bucket. Emma exited the playroom. Lily entered the playroom. Abigail moved the pear to the treasure_chest. Emma entered the playroom.                                                                                                                                                                                                                                                                                                                                                                                                                                                                                                                                                                                                                                                                                                                                                                                                                                                                                                                                                                                                                                                                                                                                                                                                                                                                                                                                                                                                                                                                                                                                                                                                                                                               6\n",
       "Abigail dislikes the persimmon Lucas entered the playroom. Abigail entered the playroom. The strawberry is in the cupboard. Abigail exited the playroom. Abigail entered the laundry. Lucas moved the strawberry to the bucket.                                                                                                                                                                                                                                                                                                                                                                                                                                                                                                                                                                                                                                                                                                                                                                                                                                                                                                                                                                                                                                                                                                                                                                                                                                                                                                                                                                                                                                                                                                                                                                                                                                                                           6\n",
       "Abigail entered the back_yard. Benjamin likes the sweater William entered the back_yard. Benjamin hates the asparagus The cap is in the bottle. Abigail exited the back_yard. William moved the cap to the crate. William exited the back_yard. Abigail entered the back_yard.                                                                                                                                                                                                                                                                                                                                                                                                                                                                                                                                                                                                                                                                                                                                                                                                                                                                                                                                                                                                                                                                                                                                                                                                                                                                                                                                                                                                                                                                                                                                                                                                                            6\n",
       "Abigail entered the back_yard. Hannah entered the back_yard. The trousers is in the crate. Abigail moved the trousers to the suitcase. Benjamin entered the back_yard. Hannah exited the back_yard. Abigail exited the back_yard. Hannah entered the hallway.                                                                                                                                                                                                                                                                                                                                                                                                                                                                                                                                                                                                                                                                                                                                                                                                                                                                                                                                                                                                                                                                                                                                                                                                                                                                                                                                                                                                                                                                                                                                                                                                                                             6\n",
       "Abigail entered the back_yard. Hunter entered the back_yard. Ethan entered the back_yard. The strawberry is in the treasure_chest. Abigail moved the strawberry to the bucket. Ethan exited the back_yard. Ethan entered the hallway.                                                                                                                                                                                                                                                                                                                                                                                                                                                                                                                                                                                                                                                                                                                                                                                                                                                                                                                                                                                                                                                                                                                                                                                                                                                                                                                                                                                                                                                                                                                                                                                                                                                                     6\n",
       "                                                                                                                                                                                                                                                                                                                                                                                                                                                                                                                                                                                                                                                                                                                                                                                                                                                                                                                                                                                                                                                                                                                                                                                                                                                                                                                                                                                                                                                                                                                                                                                                                                                                                                                                                                                                                                                                                                         ..\n",
       "William, Oliver, Jayden, James and Emily entered the pantry. The celery is in the blue_pantry. William made no movements and stayed in the pantry for 1 minute. William exited the pantry. Jayden dislikes the broccoli. Oliver made no movements and stayed in the pantry for 1 minute. Oliver exited the pantry. Jayden moved the celery to the red_suitcase. Jayden exited the pantry. James made no movements and stayed in the pantry for 1 minute. James exited the pantry. Emily made no movements and stayed in the pantry for 1 minute. Emily exited the pantry. William, Oliver, Jayden, James and Emily entered the waiting_room. Jayden saw a monkey. Jayden publicly claimed that celery is in the green_pantry now. Emily privately told Jayden that the celery is in the red_suitcase now. Oliver, William and Emily entered the pantry. The apple is in the red_treasure_chest. Oliver moved the apple to the blue_pantry. Oliver exited the pantry. William moved the apple to the red_suitcase. William exited the pantry. Emily moved the apple to the green_treasure_chest. Emily exited the pantry. Oliver, William and Emily entered the waiting_room. Jayden, Emily, William and James entered the living_room. The broccoli is in the green_bottle. Jayden moved the broccoli to the blue_treasure_chest. Jayden exited the living_room. Emily made no movements and stayed in the living_room for 1 minute. Emily exited the living_room. William made no movements and stayed in the living_room for 1 minute. William exited the living_room. James made no movements and stayed in the living_room for 1 minute. Emily lost his gloves. James exited the living_room. Jayden, Emily, William and James entered the waiting_room. Emily publicly claimed that broccoli is in the green_bottle now. James privately told William that the broccoli is in the red_bucket now.    1\n",
       "Wyatt entered the conservation lab. Wyatt inscribed the winner's name of the antique fair on the back of the small, antique pocket watch with acid-free markers. Wyatt moved the small, antique pocket watch to the leather pouch, which is also located in the conservation lab. While this action was happening, Jasmine witnessed this action in secret (and only this action). Wyatt left the conservation lab. Wyatt entered the conservation lab. Wyatt moved the small, antique pocket watch to the metal safe, which is also located in the conservation lab. Jasmine entered the conservation lab. Wyatt moved the small, antique pocket watch to the wooden box, which is also located in the conservation lab. Emily entered the conservation lab.                                                                                                                                                                                                                                                                                                                                                                                                                                                                                                                                                                                                                                                                                                                                                                                                                                                                                                                                                                                                                                                                                                                                             6\n",
       "Wyatt entered the storage gallery. Wyatt moved the small, antique pocket watch to the leather pouch, which is also located in the storage gallery. Wyatt told privately to Brody that the small, antique pocket watch is in the storage gallery. Wyatt told privately to Jasmine that the small, antique pocket watch is in the leather pouch. While this action was happening, Brody witnessed this action in secret (and only this action); also, Jasmine got distracted and did not realize what happened, without anyone noticing the brief lack of attention, and going back to paying attention immediately after the action was finished. Emily entered the conservation lab. Wyatt moved the small, antique pocket watch to the wooden box, which is also located in the storage gallery. Brody told privately to Emily that the small, antique pocket watch is in the storage gallery. Wyatt moved the small, antique pocket watch to the conservation lab, leaving the wooden box in its original location.                                                                                                                                                                                                                                                                                                                                                                                                                                                                                                                                                                                                                                                                                                                                                                                                                                                                                     6\n",
       "Zoe entered the airport staff lounge. Elijah entered the airport staff lounge. Zoe stepped on the pocket watch Elijah left the airport staff lounge. Zoe moved the pocket watch to the metal lunchbox, which is also located in the airport staff lounge.                                                                                                                                                                                                                                                                                                                                                                                                                                                                                                                                                                                                                                                                                                                                                                                                                                                                                                                                                                                                                                                                                                                                                                                                                                                                                                                                                                                                                                                                                                                                                                                                                                                 1\n",
       "Zoe entered the arrangement room. Zoe moved the silver locket to the leather wallet, which is also located in the arrangement room. Zoe told privately to Emily that the silver locket is in the leather wallet. While this action was happening, Emily got distracted and did not realize what happened, without anyone noticing the brief lack of attention, and going back to paying attention immediately after the action was finished. Emily entered the arrangement room. Zoe told out loud that the silver locket is in the leather wallet. Emily moved the silver locket to the velvet pouch, which is also located in the arrangement room. Zoe left the arrangement room. Zoe entered the arrangement room. Zoe moved the silver locket to the wooden box, which is also located in the arrangement room.                                                                                                                                                                                                                                                                                                                                                                                                                                                                                                                                                                                                                                                                                                                                                                                                                                                                                                                                                                                                                                                                                      2\n",
       "Name: question, Length: 1891, dtype: int64"
      ]
     },
     "execution_count": 149,
     "metadata": {},
     "output_type": "execute_result"
    }
   ],
   "source": [
    "df_test.groupby('story').question.count()"
   ]
  },
  {
   "cell_type": "code",
   "execution_count": 122,
   "metadata": {},
   "outputs": [
    {
     "data": {
      "text/html": [
       "<div>\n",
       "<style scoped>\n",
       "    .dataframe tbody tr th:only-of-type {\n",
       "        vertical-align: middle;\n",
       "    }\n",
       "\n",
       "    .dataframe tbody tr th {\n",
       "        vertical-align: top;\n",
       "    }\n",
       "\n",
       "    .dataframe thead th {\n",
       "        text-align: right;\n",
       "    }\n",
       "</style>\n",
       "<table border=\"1\" class=\"dataframe\">\n",
       "  <thead>\n",
       "    <tr style=\"text-align: right;\">\n",
       "      <th></th>\n",
       "      <th>prompt</th>\n",
       "      <th>answer</th>\n",
       "      <th>data_source</th>\n",
       "      <th>question</th>\n",
       "      <th>story</th>\n",
       "      <th>extra_info</th>\n",
       "    </tr>\n",
       "  </thead>\n",
       "  <tbody>\n",
       "    <tr>\n",
       "      <th>0</th>\n",
       "      <td>[{'role': 'system', 'content': 'You are a help...</td>\n",
       "      <td>red_box</td>\n",
       "      <td>hi_tom</td>\n",
       "      <td>Where is the cucumber really?</td>\n",
       "      <td>Hannah, Emily, Olivia, Evelyn and Amelia enter...</td>\n",
       "      <td>{'deception': True, 'question_order': 0, 'stor...</td>\n",
       "    </tr>\n",
       "    <tr>\n",
       "      <th>1</th>\n",
       "      <td>[{'role': 'system', 'content': 'You are a help...</td>\n",
       "      <td>red_pantry</td>\n",
       "      <td>hi_tom</td>\n",
       "      <td>Where does Emily think Lily thinks Isabella th...</td>\n",
       "      <td>Hannah, Chloe, Emily, Lily and Isabella entere...</td>\n",
       "      <td>{'deception': False, 'question_order': 4, 'sto...</td>\n",
       "    </tr>\n",
       "    <tr>\n",
       "      <th>2</th>\n",
       "      <td>[{'content': 'You are a helpful assistant. The...</td>\n",
       "      <td>bucket</td>\n",
       "      <td>tomi</td>\n",
       "      <td>Where was the slacks at the beginning?</td>\n",
       "      <td>William entered the workshop. Logan entered th...</td>\n",
       "      <td>{'question_type': 'true_belief', 'question_typ...</td>\n",
       "    </tr>\n",
       "    <tr>\n",
       "      <th>3</th>\n",
       "      <td>[{'content': 'You are a helpful assistant. The...</td>\n",
       "      <td>cupboard</td>\n",
       "      <td>tomi</td>\n",
       "      <td>Where does Alexander think that Noah searches ...</td>\n",
       "      <td>Alexander entered the kitchen. Noah entered th...</td>\n",
       "      <td>{'question_type': 'true_belief', 'question_typ...</td>\n",
       "    </tr>\n",
       "    <tr>\n",
       "      <th>4</th>\n",
       "      <td>[{'content': 'You are a helpful assistant. The...</td>\n",
       "      <td>container</td>\n",
       "      <td>tomi</td>\n",
       "      <td>Where will Amelia look for the trousers?</td>\n",
       "      <td>Oliver hates the hat Charlotte entered the bat...</td>\n",
       "      <td>{'question_type': 'second_order_false_belief',...</td>\n",
       "    </tr>\n",
       "    <tr>\n",
       "      <th>...</th>\n",
       "      <td>...</td>\n",
       "      <td>...</td>\n",
       "      <td>...</td>\n",
       "      <td>...</td>\n",
       "      <td>...</td>\n",
       "      <td>...</td>\n",
       "    </tr>\n",
       "    <tr>\n",
       "      <th>8655</th>\n",
       "      <td>[{'role': 'system', 'content': 'You are a help...</td>\n",
       "      <td>red_box</td>\n",
       "      <td>hi_tom</td>\n",
       "      <td>Where does Mason think Jackson thinks Oliver t...</td>\n",
       "      <td>Jackson, Oliver, Avery, Mason and Aria entered...</td>\n",
       "      <td>{'deception': False, 'question_order': 4, 'sto...</td>\n",
       "    </tr>\n",
       "    <tr>\n",
       "      <th>8656</th>\n",
       "      <td>[{'content': 'You are a helpful assistant. The...</td>\n",
       "      <td>drawer</td>\n",
       "      <td>tomi</td>\n",
       "      <td>Where will Jack look for the apple?</td>\n",
       "      <td>Jacob entered the dining_room. Jack loves the ...</td>\n",
       "      <td>{'question_type': 'true_belief', 'question_typ...</td>\n",
       "    </tr>\n",
       "    <tr>\n",
       "      <th>8657</th>\n",
       "      <td>[{'role': 'system', 'content': 'You are a help...</td>\n",
       "      <td>cocktail lounge</td>\n",
       "      <td>explore_tom</td>\n",
       "      <td>In which room does William think that Ava will...</td>\n",
       "      <td>Ava entered the cocktail lounge. William enter...</td>\n",
       "      <td>{'question_type': 'room_location-True', 'quest...</td>\n",
       "    </tr>\n",
       "    <tr>\n",
       "      <th>8658</th>\n",
       "      <td>[{'content': 'You are a helpful assistant. The...</td>\n",
       "      <td>box</td>\n",
       "      <td>tomi</td>\n",
       "      <td>Where is the sweater really?</td>\n",
       "      <td>Hannah entered the playroom. Jacob entered the...</td>\n",
       "      <td>{'question_type': 'second_order_false_belief',...</td>\n",
       "    </tr>\n",
       "    <tr>\n",
       "      <th>8659</th>\n",
       "      <td>[{'role': 'system', 'content': 'You are a help...</td>\n",
       "      <td>production room</td>\n",
       "      <td>explore_tom</td>\n",
       "      <td>In which room does Lachlan think that Aubrey w...</td>\n",
       "      <td>None</td>\n",
       "      <td>{'deception': None, 'question_order': None, 's...</td>\n",
       "    </tr>\n",
       "  </tbody>\n",
       "</table>\n",
       "<p>8660 rows × 6 columns</p>\n",
       "</div>"
      ],
      "text/plain": [
       "                                                 prompt           answer  \\\n",
       "0     [{'role': 'system', 'content': 'You are a help...          red_box   \n",
       "1     [{'role': 'system', 'content': 'You are a help...       red_pantry   \n",
       "2     [{'content': 'You are a helpful assistant. The...           bucket   \n",
       "3     [{'content': 'You are a helpful assistant. The...         cupboard   \n",
       "4     [{'content': 'You are a helpful assistant. The...        container   \n",
       "...                                                 ...              ...   \n",
       "8655  [{'role': 'system', 'content': 'You are a help...          red_box   \n",
       "8656  [{'content': 'You are a helpful assistant. The...           drawer   \n",
       "8657  [{'role': 'system', 'content': 'You are a help...  cocktail lounge   \n",
       "8658  [{'content': 'You are a helpful assistant. The...              box   \n",
       "8659  [{'role': 'system', 'content': 'You are a help...  production room   \n",
       "\n",
       "      data_source                                           question  \\\n",
       "0          hi_tom                      Where is the cucumber really?   \n",
       "1          hi_tom  Where does Emily think Lily thinks Isabella th...   \n",
       "2            tomi             Where was the slacks at the beginning?   \n",
       "3            tomi  Where does Alexander think that Noah searches ...   \n",
       "4            tomi           Where will Amelia look for the trousers?   \n",
       "...           ...                                                ...   \n",
       "8655       hi_tom  Where does Mason think Jackson thinks Oliver t...   \n",
       "8656         tomi                Where will Jack look for the apple?   \n",
       "8657  explore_tom  In which room does William think that Ava will...   \n",
       "8658         tomi                       Where is the sweater really?   \n",
       "8659  explore_tom  In which room does Lachlan think that Aubrey w...   \n",
       "\n",
       "                                                  story  \\\n",
       "0     Hannah, Emily, Olivia, Evelyn and Amelia enter...   \n",
       "1     Hannah, Chloe, Emily, Lily and Isabella entere...   \n",
       "2     William entered the workshop. Logan entered th...   \n",
       "3     Alexander entered the kitchen. Noah entered th...   \n",
       "4     Oliver hates the hat Charlotte entered the bat...   \n",
       "...                                                 ...   \n",
       "8655  Jackson, Oliver, Avery, Mason and Aria entered...   \n",
       "8656  Jacob entered the dining_room. Jack loves the ...   \n",
       "8657  Ava entered the cocktail lounge. William enter...   \n",
       "8658  Hannah entered the playroom. Jacob entered the...   \n",
       "8659                                               None   \n",
       "\n",
       "                                             extra_info  \n",
       "0     {'deception': True, 'question_order': 0, 'stor...  \n",
       "1     {'deception': False, 'question_order': 4, 'sto...  \n",
       "2     {'question_type': 'true_belief', 'question_typ...  \n",
       "3     {'question_type': 'true_belief', 'question_typ...  \n",
       "4     {'question_type': 'second_order_false_belief',...  \n",
       "...                                                 ...  \n",
       "8655  {'deception': False, 'question_order': 4, 'sto...  \n",
       "8656  {'question_type': 'true_belief', 'question_typ...  \n",
       "8657  {'question_type': 'room_location-True', 'quest...  \n",
       "8658  {'question_type': 'second_order_false_belief',...  \n",
       "8659  {'deception': None, 'question_order': None, 's...  \n",
       "\n",
       "[8660 rows x 6 columns]"
      ]
     },
     "execution_count": 122,
     "metadata": {},
     "output_type": "execute_result"
    }
   ],
   "source": [
    "df_test"
   ]
  },
  {
   "cell_type": "code",
   "execution_count": 150,
   "metadata": {},
   "outputs": [
    {
     "name": "stderr",
     "output_type": "stream",
     "text": [
      "Creating parquet from Arrow format: 100%|██████████| 9/9 [00:00<00:00, 465.72ba/s]\n"
     ]
    },
    {
     "data": {
      "text/plain": [
       "10798423"
      ]
     },
     "execution_count": 150,
     "metadata": {},
     "output_type": "execute_result"
    }
   ],
   "source": [
    "data = Dataset.from_pandas(df_test)\n",
    "\n",
    "data.to_parquet('../data/test/ToM_test_HiExTi.parquet')"
   ]
  },
  {
   "cell_type": "code",
   "execution_count": 38,
   "metadata": {},
   "outputs": [],
   "source": [
    "data_test = Dataset.from_pandas(df_test)"
   ]
  },
  {
   "cell_type": "code",
   "execution_count": null,
   "metadata": {},
   "outputs": [],
   "source": []
  },
  {
   "cell_type": "code",
   "execution_count": 80,
   "metadata": {},
   "outputs": [],
   "source": [
    "# add a row to each data item that represents a unique id\n",
    "def make_map_fn_test(split):\n",
    "\n",
    "    def process_fn(example, idx):\n",
    "        question = example.pop('question')\n",
    "        story = example.pop('story')\n",
    "        question = SYSTEM_PROMPT + f\"\"\" Read the following story and answer the question. Story: {story}\\n Question:{question}\"\"\"\n",
    "\n",
    "        solution = example.pop('answer')\n",
    "        data = {\n",
    "            \"prompt\": [{\n",
    "                \"role\": \"user\",\n",
    "                \"content\": question\n",
    "            }],\n",
    "            \"ability\": \"tom\",\n",
    "            \"reward_model\": {\n",
    "                \"style\": \"rule\",\n",
    "                \"ground_truth\": solution\n",
    "            },\n",
    "        }\n",
    "        return data\n",
    "\n",
    "    return process_fn"
   ]
  },
  {
   "cell_type": "code",
   "execution_count": 81,
   "metadata": {},
   "outputs": [
    {
     "name": "stderr",
     "output_type": "stream",
     "text": [
      "Map: 100%|██████████| 8660/8660 [00:00<00:00, 27910.67 examples/s]\n"
     ]
    }
   ],
   "source": [
    "test_dataset_verl = data_test.map(function=make_map_fn_test('train'), with_indices=True)"
   ]
  },
  {
   "cell_type": "code",
   "execution_count": 82,
   "metadata": {},
   "outputs": [
    {
     "name": "stderr",
     "output_type": "stream",
     "text": [
      "Creating parquet from Arrow format: 100%|██████████| 9/9 [00:00<00:00, 603.26ba/s]\n"
     ]
    },
    {
     "data": {
      "text/plain": [
       "9758322"
      ]
     },
     "execution_count": 82,
     "metadata": {},
     "output_type": "execute_result"
    }
   ],
   "source": [
    "test_dataset_verl.to_parquet('../data/test/ToM_test_HiExTi_verl.parquet')"
   ]
  },
  {
   "cell_type": "code",
   "execution_count": null,
   "metadata": {},
   "outputs": [],
   "source": []
  }
 ],
 "metadata": {
  "kernelspec": {
   "display_name": "vllm",
   "language": "python",
   "name": "python3"
  },
  "language_info": {
   "codemirror_mode": {
    "name": "ipython",
    "version": 3
   },
   "file_extension": ".py",
   "mimetype": "text/x-python",
   "name": "python",
   "nbconvert_exporter": "python",
   "pygments_lexer": "ipython3",
   "version": "3.10.16"
  }
 },
 "nbformat": 4,
 "nbformat_minor": 2
}
