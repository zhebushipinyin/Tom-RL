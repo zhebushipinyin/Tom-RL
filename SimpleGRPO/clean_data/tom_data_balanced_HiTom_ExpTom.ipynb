{
 "cells": [
  {
   "cell_type": "code",
   "execution_count": 2,
   "metadata": {},
   "outputs": [
    {
     "name": "stderr",
     "output_type": "stream",
     "text": [
      "/home/yilong/miniconda3/envs/vllm/lib/python3.10/site-packages/tqdm/auto.py:21: TqdmWarning: IProgress not found. Please update jupyter and ipywidgets. See https://ipywidgets.readthedocs.io/en/stable/user_install.html\n",
      "  from .autonotebook import tqdm as notebook_tqdm\n"
     ]
    }
   ],
   "source": [
    "import json\n",
    "import argparse\n",
    "import numpy as np\n",
    "import pandas as pd\n",
    "import seaborn as sns\n",
    "from datasets import load_dataset, Dataset, load_from_disk\n",
    "import matplotlib.pyplot as plt \n",
    "from transformers import AutoTokenizer"
   ]
  },
  {
   "cell_type": "code",
   "execution_count": 3,
   "metadata": {},
   "outputs": [],
   "source": [
    "df = pd.read_parquet('../../data/cleaned_tom/0317_ckpt/hi_tom_train_2000.parquet')\n",
    "dfh = pd.read_parquet('../../data/cleaned_tom/0317_ckpt/hi_tom_explore_tom_test_hint.parquet')\n",
    "dfe = pd.read_parquet('../data/ToM_train_1200.parquet')\n",
    "dft = pd.read_parquet('../data/ToM_test_1066.parquet')\n",
    "dfexp = pd.read_csv('../data/expert_tom_data.csv')"
   ]
  },
  {
   "cell_type": "code",
   "execution_count": 4,
   "metadata": {},
   "outputs": [
    {
     "name": "stdout",
     "output_type": "stream",
     "text": [
      "2000 1600 1200 27\n"
     ]
    }
   ],
   "source": [
    "print(len(df), len(dfh), len(dfe), len(dfexp))"
   ]
  },
  {
   "cell_type": "code",
   "execution_count": 5,
   "metadata": {},
   "outputs": [],
   "source": [
    "dfe['data_source'] = 'explore_tom'\n",
    "dft['data_source'] = 'explore_tom'"
   ]
  },
  {
   "cell_type": "code",
   "execution_count": 6,
   "metadata": {},
   "outputs": [],
   "source": [
    "tokenizer = AutoTokenizer.from_pretrained(\"Qwen/Qwen2.5-0.5B-Instruct\", trust_remote_code=True)"
   ]
  },
  {
   "cell_type": "code",
   "execution_count": 7,
   "metadata": {},
   "outputs": [],
   "source": [
    "dfs = df.groupby(['answer']).story.count().reset_index()"
   ]
  },
  {
   "cell_type": "code",
   "execution_count": 8,
   "metadata": {},
   "outputs": [],
   "source": [
    "#SYSTEM_PROMPT = \"\"\"You are a helpful assistant. First, think through the question internally before providing the final answer. The reasoning process and answer are enclosed within <think> </think> and <answer> </answer> tags, respectively, i.e., <think> step by step reasoning here </think><answer> answer here </answer>\"\"\"\n",
    "\n",
    "SYSTEM_PROMPT = \"\"\"You are a helpful assistant. The assistant first thinks about the reasoning process in the mind and then provides the user with the answer. The reasoning process and answer are enclosed within <think> </think> and <answer> </answer> tags, respectively, i.e., <think> reasoning process here </think><answer> answer here </answer>.\"\"\""
   ]
  },
  {
   "cell_type": "code",
   "execution_count": 9,
   "metadata": {},
   "outputs": [],
   "source": [
    "XML_COT_FORMAT = \"\"\"Story: {}\\n Question:{}\"\"\""
   ]
  },
  {
   "cell_type": "code",
   "execution_count": 10,
   "metadata": {},
   "outputs": [],
   "source": [
    "def get_prompts(dft):\n",
    "    prompt = []\n",
    "    for i in range(len(dft)):\n",
    "        if dft['data_source'][i] == 'explore_tom':\n",
    "            prompt.append( [\n",
    "                    {'role': 'system', 'content': SYSTEM_PROMPT},\n",
    "                    {'role': 'user', 'content': XML_COT_FORMAT.format(dft['story_structure'][i], dft['question'][i])}\n",
    "                ])\n",
    "        else:\n",
    "            prompt.append( [\n",
    "                    {'role': 'system', 'content': SYSTEM_PROMPT},\n",
    "                    {'role': 'user', 'content': XML_COT_FORMAT.format(dft['story'][i], dft['question'][i])}\n",
    "                ])\n",
    "    return prompt"
   ]
  },
  {
   "cell_type": "code",
   "execution_count": 12,
   "metadata": {},
   "outputs": [],
   "source": [
    "prompts = get_prompts(df)\n",
    "df['prompt'] = prompts\n",
    "\n",
    "prompts = get_prompts(dfe)\n",
    "dfe['prompt'] = prompts\n",
    "\n",
    "prompts = get_prompts(dfh)\n",
    "dfh['prompt'] = prompts\n",
    "\n",
    "prompts = get_prompts(dft)\n",
    "dft['prompt'] = prompts\n",
    "\n",
    "prompts = get_prompts(dfexp)\n",
    "dfexp['prompt'] = prompts"
   ]
  },
  {
   "cell_type": "code",
   "execution_count": 13,
   "metadata": {},
   "outputs": [],
   "source": [
    "dfe['story'] = dfe.story_structure\n",
    "dft['story'] = dft.story_structure"
   ]
  },
  {
   "cell_type": "code",
   "execution_count": 14,
   "metadata": {},
   "outputs": [
    {
     "data": {
      "text/html": [
       "<div>\n",
       "<style scoped>\n",
       "    .dataframe tbody tr th:only-of-type {\n",
       "        vertical-align: middle;\n",
       "    }\n",
       "\n",
       "    .dataframe tbody tr th {\n",
       "        vertical-align: top;\n",
       "    }\n",
       "\n",
       "    .dataframe thead th {\n",
       "        text-align: right;\n",
       "    }\n",
       "</style>\n",
       "<table border=\"1\" class=\"dataframe\">\n",
       "  <thead>\n",
       "    <tr style=\"text-align: right;\">\n",
       "      <th></th>\n",
       "      <th>story_structure</th>\n",
       "      <th>infilled_story</th>\n",
       "      <th>question</th>\n",
       "      <th>answer</th>\n",
       "      <th>question_type</th>\n",
       "      <th>params</th>\n",
       "      <th>nth_order</th>\n",
       "      <th>is_interesting</th>\n",
       "      <th>story_type</th>\n",
       "      <th>story_structure_wn</th>\n",
       "      <th>data_source</th>\n",
       "      <th>prompt</th>\n",
       "      <th>story</th>\n",
       "    </tr>\n",
       "  </thead>\n",
       "  <tbody>\n",
       "  </tbody>\n",
       "</table>\n",
       "</div>"
      ],
      "text/plain": [
       "Empty DataFrame\n",
       "Columns: [story_structure, infilled_story, question, answer, question_type, params, nth_order, is_interesting, story_type, story_structure_wn, data_source, prompt, story]\n",
       "Index: []"
      ]
     },
     "execution_count": 14,
     "metadata": {},
     "output_type": "execute_result"
    }
   ],
   "source": [
    "dft.loc[dft.story.isna()]"
   ]
  },
  {
   "cell_type": "code",
   "execution_count": 16,
   "metadata": {},
   "outputs": [
    {
     "data": {
      "text/plain": [
       "is_interesting  question_type                         \n",
       "False           container_location-False                   11\n",
       "                container_location-True                   162\n",
       "                room_location-False                         4\n",
       "                room_location-True                        423\n",
       "True            container_location-False                   76\n",
       "                container_location-True                    90\n",
       "                ground_truth-container_location           118\n",
       "                ground_truth-room_location                 21\n",
       "                memory-container_location                 121\n",
       "                memory-room_location                       19\n",
       "                memory_before_event-container_location    146\n",
       "                memory_before_event-room_location           3\n",
       "                room_location-False                         2\n",
       "                room_location-True                          4\n",
       "Name: answer, dtype: int64"
      ]
     },
     "execution_count": 16,
     "metadata": {},
     "output_type": "execute_result"
    }
   ],
   "source": [
    "dfe.groupby(['is_interesting', 'question_type', ]).answer.count()"
   ]
  },
  {
   "cell_type": "code",
   "execution_count": 17,
   "metadata": {},
   "outputs": [
    {
     "data": {
      "text/html": [
       "<div>\n",
       "<style scoped>\n",
       "    .dataframe tbody tr th:only-of-type {\n",
       "        vertical-align: middle;\n",
       "    }\n",
       "\n",
       "    .dataframe tbody tr th {\n",
       "        vertical-align: top;\n",
       "    }\n",
       "\n",
       "    .dataframe thead th {\n",
       "        text-align: right;\n",
       "    }\n",
       "</style>\n",
       "<table border=\"1\" class=\"dataframe\">\n",
       "  <thead>\n",
       "    <tr style=\"text-align: right;\">\n",
       "      <th></th>\n",
       "      <th>deception</th>\n",
       "      <th>story_length</th>\n",
       "      <th>question_order</th>\n",
       "      <th>sample_id</th>\n",
       "      <th>story</th>\n",
       "      <th>question</th>\n",
       "      <th>choices</th>\n",
       "      <th>answer</th>\n",
       "      <th>question_old</th>\n",
       "      <th>answer_old</th>\n",
       "      <th>data_source</th>\n",
       "      <th>prompt</th>\n",
       "      <th>ability</th>\n",
       "      <th>reward_model</th>\n",
       "      <th>extra_info</th>\n",
       "    </tr>\n",
       "  </thead>\n",
       "  <tbody>\n",
       "    <tr>\n",
       "      <th>0</th>\n",
       "      <td>True</td>\n",
       "      <td>2</td>\n",
       "      <td>3</td>\n",
       "      <td>96</td>\n",
       "      <td>Lily, Hannah, Emma, Jackson and Gracie entered...</td>\n",
       "      <td>Where does Lily think Gracie thinks Jackson th...</td>\n",
       "      <td>A. green_drawer, B. red_container, C. blue_box...</td>\n",
       "      <td>green_cupboard</td>\n",
       "      <td>Where does Lily think Gracie thinks Jackson th...</td>\n",
       "      <td>green_cupboard</td>\n",
       "      <td>hi_tom</td>\n",
       "      <td>[{'role': 'system', 'content': 'You are a help...</td>\n",
       "      <td>theory_of_mind</td>\n",
       "      <td>{'ground_truth': 'green_cupboard', 'style': 'r...</td>\n",
       "      <td>{'deception': True, 'question_order': 3, 'stor...</td>\n",
       "    </tr>\n",
       "    <tr>\n",
       "      <th>1</th>\n",
       "      <td>False</td>\n",
       "      <td>1</td>\n",
       "      <td>3</td>\n",
       "      <td>29</td>\n",
       "      <td>Mila, Benjamin, Emily, Noah and Isabella enter...</td>\n",
       "      <td>Where does Noah think Emily thinks Mila thinks...</td>\n",
       "      <td>A. red_crate, B. red_bottle, C. blue_drawer, D...</td>\n",
       "      <td>red_crate</td>\n",
       "      <td>Where does Noah think Emily thinks Mila thinks...</td>\n",
       "      <td>red_crate</td>\n",
       "      <td>hi_tom</td>\n",
       "      <td>[{'role': 'system', 'content': 'You are a help...</td>\n",
       "      <td>theory_of_mind</td>\n",
       "      <td>{'ground_truth': 'red_crate', 'style': 'rule'}</td>\n",
       "      <td>{'deception': False, 'question_order': 3, 'sto...</td>\n",
       "    </tr>\n",
       "  </tbody>\n",
       "</table>\n",
       "</div>"
      ],
      "text/plain": [
       "   deception  story_length  question_order  sample_id  \\\n",
       "0       True             2               3         96   \n",
       "1      False             1               3         29   \n",
       "\n",
       "                                               story  \\\n",
       "0  Lily, Hannah, Emma, Jackson and Gracie entered...   \n",
       "1  Mila, Benjamin, Emily, Noah and Isabella enter...   \n",
       "\n",
       "                                            question  \\\n",
       "0  Where does Lily think Gracie thinks Jackson th...   \n",
       "1  Where does Noah think Emily thinks Mila thinks...   \n",
       "\n",
       "                                             choices          answer  \\\n",
       "0  A. green_drawer, B. red_container, C. blue_box...  green_cupboard   \n",
       "1  A. red_crate, B. red_bottle, C. blue_drawer, D...       red_crate   \n",
       "\n",
       "                                        question_old      answer_old  \\\n",
       "0  Where does Lily think Gracie thinks Jackson th...  green_cupboard   \n",
       "1  Where does Noah think Emily thinks Mila thinks...       red_crate   \n",
       "\n",
       "  data_source                                             prompt  \\\n",
       "0      hi_tom  [{'role': 'system', 'content': 'You are a help...   \n",
       "1      hi_tom  [{'role': 'system', 'content': 'You are a help...   \n",
       "\n",
       "          ability                                       reward_model  \\\n",
       "0  theory_of_mind  {'ground_truth': 'green_cupboard', 'style': 'r...   \n",
       "1  theory_of_mind     {'ground_truth': 'red_crate', 'style': 'rule'}   \n",
       "\n",
       "                                          extra_info  \n",
       "0  {'deception': True, 'question_order': 3, 'stor...  \n",
       "1  {'deception': False, 'question_order': 3, 'sto...  "
      ]
     },
     "execution_count": 17,
     "metadata": {},
     "output_type": "execute_result"
    }
   ],
   "source": [
    "df.head(2)"
   ]
  },
  {
   "cell_type": "code",
   "execution_count": 18,
   "metadata": {},
   "outputs": [],
   "source": [
    "col = ['prompt', 'answer', 'data_source', 'question', 'story']"
   ]
  },
  {
   "cell_type": "code",
   "execution_count": 19,
   "metadata": {},
   "outputs": [],
   "source": [
    "dfr = pd.concat([df.loc[:, col], dfe.loc[:, col]], ignore_index=True)\n",
    "dfr = dfr.sample(frac=1, replace=False, ignore_index=True)"
   ]
  },
  {
   "cell_type": "code",
   "execution_count": 20,
   "metadata": {},
   "outputs": [
    {
     "data": {
      "text/html": [
       "<div>\n",
       "<style scoped>\n",
       "    .dataframe tbody tr th:only-of-type {\n",
       "        vertical-align: middle;\n",
       "    }\n",
       "\n",
       "    .dataframe tbody tr th {\n",
       "        vertical-align: top;\n",
       "    }\n",
       "\n",
       "    .dataframe thead th {\n",
       "        text-align: right;\n",
       "    }\n",
       "</style>\n",
       "<table border=\"1\" class=\"dataframe\">\n",
       "  <thead>\n",
       "    <tr style=\"text-align: right;\">\n",
       "      <th></th>\n",
       "      <th>prompt</th>\n",
       "      <th>answer</th>\n",
       "      <th>data_source</th>\n",
       "      <th>question</th>\n",
       "      <th>story</th>\n",
       "    </tr>\n",
       "  </thead>\n",
       "  <tbody>\n",
       "    <tr>\n",
       "      <th>0</th>\n",
       "      <td>[{'role': 'system', 'content': 'You are a help...</td>\n",
       "      <td>green_cupboard</td>\n",
       "      <td>hi_tom</td>\n",
       "      <td>Where does Alexander think Evelyn thinks Emma ...</td>\n",
       "      <td>Alexander, Emma, Aria, Evelyn and Charlotte en...</td>\n",
       "    </tr>\n",
       "    <tr>\n",
       "      <th>1</th>\n",
       "      <td>[{'role': 'system', 'content': 'You are a help...</td>\n",
       "      <td>red_crate</td>\n",
       "      <td>hi_tom</td>\n",
       "      <td>Where is the radish really?</td>\n",
       "      <td>Evelyn dislikes the lime. Amelia, Ava, Isabell...</td>\n",
       "    </tr>\n",
       "    <tr>\n",
       "      <th>2</th>\n",
       "      <td>[{'role': 'system', 'content': 'You are a help...</td>\n",
       "      <td>blue_bathtub</td>\n",
       "      <td>hi_tom</td>\n",
       "      <td>Where is the cherry really?</td>\n",
       "      <td>Lily, Avery, Charlotte, Gracie and William ent...</td>\n",
       "    </tr>\n",
       "    <tr>\n",
       "      <th>3</th>\n",
       "      <td>[{'role': 'system', 'content': 'You are a help...</td>\n",
       "      <td>backstage tent</td>\n",
       "      <td>explore_tom</td>\n",
       "      <td>In which room does Amelia think that Abigail w...</td>\n",
       "      <td>Abigail entered the backstage tent. Abigail mo...</td>\n",
       "    </tr>\n",
       "    <tr>\n",
       "      <th>4</th>\n",
       "      <td>[{'role': 'system', 'content': 'You are a help...</td>\n",
       "      <td>red_crate</td>\n",
       "      <td>hi_tom</td>\n",
       "      <td>Where is the potato really?</td>\n",
       "      <td>Isla, Mila, Jackson, Mason and Evelyn entered ...</td>\n",
       "    </tr>\n",
       "    <tr>\n",
       "      <th>...</th>\n",
       "      <td>...</td>\n",
       "      <td>...</td>\n",
       "      <td>...</td>\n",
       "      <td>...</td>\n",
       "      <td>...</td>\n",
       "    </tr>\n",
       "    <tr>\n",
       "      <th>3195</th>\n",
       "      <td>[{'role': 'system', 'content': 'You are a help...</td>\n",
       "      <td>blue_basket</td>\n",
       "      <td>hi_tom</td>\n",
       "      <td>Where does Olivia think Ella thinks the pumpki...</td>\n",
       "      <td>Olivia, Ella, Lily, Chloe and Evelyn entered t...</td>\n",
       "    </tr>\n",
       "    <tr>\n",
       "      <th>3196</th>\n",
       "      <td>[{'role': 'system', 'content': 'You are a help...</td>\n",
       "      <td>blue_drawer</td>\n",
       "      <td>hi_tom</td>\n",
       "      <td>Where does William really think the lettuce is?</td>\n",
       "      <td>Amelia, Jayden, William, Isla and Alexander en...</td>\n",
       "    </tr>\n",
       "    <tr>\n",
       "      <th>3197</th>\n",
       "      <td>[{'role': 'system', 'content': 'You are a help...</td>\n",
       "      <td>red_drawer</td>\n",
       "      <td>hi_tom</td>\n",
       "      <td>Where is the corn really?</td>\n",
       "      <td>James, Lily, Benjamin, Gracie and Aria entered...</td>\n",
       "    </tr>\n",
       "    <tr>\n",
       "      <th>3198</th>\n",
       "      <td>[{'role': 'system', 'content': 'You are a help...</td>\n",
       "      <td>operations room</td>\n",
       "      <td>explore_tom</td>\n",
       "      <td>In which room does Owen think that Charlotte w...</td>\n",
       "      <td>Austin entered the briefing room. Austin enter...</td>\n",
       "    </tr>\n",
       "    <tr>\n",
       "      <th>3199</th>\n",
       "      <td>[{'role': 'system', 'content': 'You are a help...</td>\n",
       "      <td>wooden chest</td>\n",
       "      <td>explore_tom</td>\n",
       "      <td>In which container does Olivia think that Juli...</td>\n",
       "      <td>Julia entered the hospital staff lounge. Olivi...</td>\n",
       "    </tr>\n",
       "  </tbody>\n",
       "</table>\n",
       "<p>3200 rows × 5 columns</p>\n",
       "</div>"
      ],
      "text/plain": [
       "                                                 prompt           answer  \\\n",
       "0     [{'role': 'system', 'content': 'You are a help...   green_cupboard   \n",
       "1     [{'role': 'system', 'content': 'You are a help...        red_crate   \n",
       "2     [{'role': 'system', 'content': 'You are a help...     blue_bathtub   \n",
       "3     [{'role': 'system', 'content': 'You are a help...   backstage tent   \n",
       "4     [{'role': 'system', 'content': 'You are a help...        red_crate   \n",
       "...                                                 ...              ...   \n",
       "3195  [{'role': 'system', 'content': 'You are a help...      blue_basket   \n",
       "3196  [{'role': 'system', 'content': 'You are a help...      blue_drawer   \n",
       "3197  [{'role': 'system', 'content': 'You are a help...       red_drawer   \n",
       "3198  [{'role': 'system', 'content': 'You are a help...  operations room   \n",
       "3199  [{'role': 'system', 'content': 'You are a help...     wooden chest   \n",
       "\n",
       "      data_source                                           question  \\\n",
       "0          hi_tom  Where does Alexander think Evelyn thinks Emma ...   \n",
       "1          hi_tom                        Where is the radish really?   \n",
       "2          hi_tom                        Where is the cherry really?   \n",
       "3     explore_tom  In which room does Amelia think that Abigail w...   \n",
       "4          hi_tom                        Where is the potato really?   \n",
       "...           ...                                                ...   \n",
       "3195       hi_tom  Where does Olivia think Ella thinks the pumpki...   \n",
       "3196       hi_tom    Where does William really think the lettuce is?   \n",
       "3197       hi_tom                          Where is the corn really?   \n",
       "3198  explore_tom  In which room does Owen think that Charlotte w...   \n",
       "3199  explore_tom  In which container does Olivia think that Juli...   \n",
       "\n",
       "                                                  story  \n",
       "0     Alexander, Emma, Aria, Evelyn and Charlotte en...  \n",
       "1     Evelyn dislikes the lime. Amelia, Ava, Isabell...  \n",
       "2     Lily, Avery, Charlotte, Gracie and William ent...  \n",
       "3     Abigail entered the backstage tent. Abigail mo...  \n",
       "4     Isla, Mila, Jackson, Mason and Evelyn entered ...  \n",
       "...                                                 ...  \n",
       "3195  Olivia, Ella, Lily, Chloe and Evelyn entered t...  \n",
       "3196  Amelia, Jayden, William, Isla and Alexander en...  \n",
       "3197  James, Lily, Benjamin, Gracie and Aria entered...  \n",
       "3198  Austin entered the briefing room. Austin enter...  \n",
       "3199  Julia entered the hospital staff lounge. Olivi...  \n",
       "\n",
       "[3200 rows x 5 columns]"
      ]
     },
     "execution_count": 20,
     "metadata": {},
     "output_type": "execute_result"
    }
   ],
   "source": [
    "dfr"
   ]
  },
  {
   "cell_type": "code",
   "execution_count": 21,
   "metadata": {},
   "outputs": [],
   "source": [
    "data = Dataset.from_pandas(dfr)"
   ]
  },
  {
   "cell_type": "code",
   "execution_count": 22,
   "metadata": {},
   "outputs": [
    {
     "data": {
      "text/plain": [
       "3200"
      ]
     },
     "execution_count": 22,
     "metadata": {},
     "output_type": "execute_result"
    }
   ],
   "source": [
    "len(data['prompt'])"
   ]
  },
  {
   "cell_type": "code",
   "execution_count": 63,
   "metadata": {},
   "outputs": [
    {
     "data": {
      "text/plain": [
       "<Axes: ylabel='Count'>"
      ]
     },
     "execution_count": 63,
     "metadata": {},
     "output_type": "execute_result"
    },
    {
     "data": {
      "image/png": "[encoded data removed]",
      "text/plain": [
       "<Figure size 400x200 with 1 Axes>"
      ]
     },
     "metadata": {},
     "output_type": "display_data"
    }
   ],
   "source": [
    "token_lengths = []\n",
    "for prompt_list in data['prompt']:\n",
    "    # Each prompt is a list of dictionaries, we want the 'content' of the first dict\n",
    "    # Tokenize the content\n",
    "    tokens = tokenizer.apply_chat_template(prompt_list)\n",
    "    token_lengths.append(len(tokens))\n",
    "\n",
    "token_lengths = np.array(token_lengths)\n",
    "_, ax = plt.subplots(1, 1, figsize=(4, 2))\n",
    "sns.histplot(token_lengths)"
   ]
  },
  {
   "cell_type": "code",
   "execution_count": 64,
   "metadata": {},
   "outputs": [
    {
     "data": {
      "text/plain": [
       "Dataset({\n",
       "    features: ['prompt', 'answer', 'data_source', 'question', 'story'],\n",
       "    num_rows: 3200\n",
       "})"
      ]
     },
     "execution_count": 64,
     "metadata": {},
     "output_type": "execute_result"
    }
   ],
   "source": [
    "data"
   ]
  },
  {
   "cell_type": "code",
   "execution_count": 65,
   "metadata": {},
   "outputs": [
    {
     "name": "stderr",
     "output_type": "stream",
     "text": [
      "Creating parquet from Arrow format: 100%|██████████| 4/4 [00:00<00:00, 458.57ba/s]\n"
     ]
    },
    {
     "data": {
      "text/plain": [
       "7598692"
      ]
     },
     "execution_count": 65,
     "metadata": {},
     "output_type": "execute_result"
    }
   ],
   "source": [
    "data.to_parquet('../data/train/ToM_train_HiEx.parquet')"
   ]
  },
  {
   "cell_type": "markdown",
   "metadata": {},
   "source": [
    "**Verl**"
   ]
  },
  {
   "cell_type": "code",
   "execution_count": 67,
   "metadata": {},
   "outputs": [],
   "source": [
    "# add a row to each data item that represents a unique id\n",
    "def make_map_fn(split):\n",
    "\n",
    "    def process_fn(example, idx):\n",
    "        question = example.pop('question')\n",
    "        story = example.pop('story')\n",
    "        question = SYSTEM_PROMPT + f\"\"\" Read the following story and answer the question. Story: {story}\\n Question:{question}\"\"\"\n",
    "\n",
    "        solution = example.pop('answer')\n",
    "        data = {\n",
    "            \"data_source\": 'HiTom+ExploreTom',\n",
    "            \"prompt\": [{\n",
    "                \"role\": \"user\",\n",
    "                \"content\": question\n",
    "            }],\n",
    "            \"ability\": \"tom\",\n",
    "            \"reward_model\": {\n",
    "                \"style\": \"rule\",\n",
    "                \"ground_truth\": solution\n",
    "            },\n",
    "            \"extra_info\": {\n",
    "                'split': split,\n",
    "                'index': idx\n",
    "            }\n",
    "        }\n",
    "        return data\n",
    "\n",
    "    return process_fn"
   ]
  },
  {
   "cell_type": "code",
   "execution_count": 68,
   "metadata": {},
   "outputs": [
    {
     "name": "stderr",
     "output_type": "stream",
     "text": [
      "Map: 100%|██████████| 3200/3200 [00:00<00:00, 36610.59 examples/s]\n"
     ]
    }
   ],
   "source": [
    "train_dataset_verl = data.map(function=make_map_fn('train'), with_indices=True)"
   ]
  },
  {
   "cell_type": "code",
   "execution_count": 42,
   "metadata": {},
   "outputs": [
    {
     "name": "stderr",
     "output_type": "stream",
     "text": [
      "Creating parquet from Arrow format: 100%|██████████| 4/4 [00:00<00:00, 635.93ba/s]\n"
     ]
    },
    {
     "data": {
      "text/plain": [
       "4683079"
      ]
     },
     "execution_count": 42,
     "metadata": {},
     "output_type": "execute_result"
    }
   ],
   "source": [
    "train_dataset_verl.to_parquet('../data/test/ToM_train_HiExTi_verl.parquet')"
   ]
  },
  {
   "cell_type": "code",
   "execution_count": 30,
   "metadata": {},
   "outputs": [],
   "source": [
    "extra_info = []\n",
    "for i, row in dft.iterrows():\n",
    "    extra_info.append({'question_type':row['question_type'], \n",
    "                       'question_order':row['nth_order'],\n",
    "                       'is_interesting':row['is_interesting'],\n",
    "                       'story_type':row['story_type']\n",
    "                       })\n",
    "dft['extra_info'] = extra_info"
   ]
  },
  {
   "cell_type": "code",
   "execution_count": 31,
   "metadata": {},
   "outputs": [
    {
     "data": {
      "text/html": [
       "<div>\n",
       "<style scoped>\n",
       "    .dataframe tbody tr th:only-of-type {\n",
       "        vertical-align: middle;\n",
       "    }\n",
       "\n",
       "    .dataframe tbody tr th {\n",
       "        vertical-align: top;\n",
       "    }\n",
       "\n",
       "    .dataframe thead th {\n",
       "        text-align: right;\n",
       "    }\n",
       "</style>\n",
       "<table border=\"1\" class=\"dataframe\">\n",
       "  <thead>\n",
       "    <tr style=\"text-align: right;\">\n",
       "      <th></th>\n",
       "      <th>deception</th>\n",
       "      <th>story_length</th>\n",
       "      <th>question_order</th>\n",
       "      <th>sample_id</th>\n",
       "      <th>story</th>\n",
       "      <th>question</th>\n",
       "      <th>choices</th>\n",
       "      <th>answer</th>\n",
       "      <th>question_old</th>\n",
       "      <th>answer_old</th>\n",
       "      <th>...</th>\n",
       "      <th>reward_model</th>\n",
       "      <th>extra_info</th>\n",
       "      <th>story_structure</th>\n",
       "      <th>infilled_story</th>\n",
       "      <th>question_type</th>\n",
       "      <th>params</th>\n",
       "      <th>nth_order</th>\n",
       "      <th>is_interesting</th>\n",
       "      <th>story_type</th>\n",
       "      <th>story_structure_wn</th>\n",
       "    </tr>\n",
       "  </thead>\n",
       "  <tbody>\n",
       "    <tr>\n",
       "      <th>0</th>\n",
       "      <td>False</td>\n",
       "      <td>1.0</td>\n",
       "      <td>4.0</td>\n",
       "      <td>89.0</td>\n",
       "      <td>Benjamin, Emily, Mason, Evelyn and Jackson ent...</td>\n",
       "      <td>Where does Jackson think Benjamin thinks Emily...</td>\n",
       "      <td>A. green_treasure_chest, B. green_bottle, C. g...</td>\n",
       "      <td>green_suitcase</td>\n",
       "      <td>Where does Jackson think Benjamin thinks Emily...</td>\n",
       "      <td>green_suitcase</td>\n",
       "      <td>...</td>\n",
       "      <td>{'ground_truth': 'green_suitcase', 'style': 'r...</td>\n",
       "      <td>{'deception': False, 'question_order': 4, 'sto...</td>\n",
       "      <td>None</td>\n",
       "      <td>None</td>\n",
       "      <td>None</td>\n",
       "      <td>None</td>\n",
       "      <td>NaN</td>\n",
       "      <td>None</td>\n",
       "      <td>None</td>\n",
       "      <td>None</td>\n",
       "    </tr>\n",
       "    <tr>\n",
       "      <th>1</th>\n",
       "      <td>True</td>\n",
       "      <td>3.0</td>\n",
       "      <td>4.0</td>\n",
       "      <td>46.0</td>\n",
       "      <td>Mason, Noah, Hannah, Ethan and Alexander enter...</td>\n",
       "      <td>Where does Hannah think Noah thinks Mason thin...</td>\n",
       "      <td>A. green_box, B. blue_container, C. blue_pantr...</td>\n",
       "      <td>red_drawer</td>\n",
       "      <td>Where does Hannah think Noah thinks Mason thin...</td>\n",
       "      <td>red_drawer</td>\n",
       "      <td>...</td>\n",
       "      <td>{'ground_truth': 'red_drawer', 'style': 'rule'}</td>\n",
       "      <td>{'deception': True, 'question_order': 4, 'stor...</td>\n",
       "      <td>None</td>\n",
       "      <td>None</td>\n",
       "      <td>None</td>\n",
       "      <td>None</td>\n",
       "      <td>NaN</td>\n",
       "      <td>None</td>\n",
       "      <td>None</td>\n",
       "      <td>None</td>\n",
       "    </tr>\n",
       "  </tbody>\n",
       "</table>\n",
       "<p>2 rows × 23 columns</p>\n",
       "</div>"
      ],
      "text/plain": [
       "  deception  story_length  question_order  sample_id  \\\n",
       "0     False           1.0             4.0       89.0   \n",
       "1      True           3.0             4.0       46.0   \n",
       "\n",
       "                                               story  \\\n",
       "0  Benjamin, Emily, Mason, Evelyn and Jackson ent...   \n",
       "1  Mason, Noah, Hannah, Ethan and Alexander enter...   \n",
       "\n",
       "                                            question  \\\n",
       "0  Where does Jackson think Benjamin thinks Emily...   \n",
       "1  Where does Hannah think Noah thinks Mason thin...   \n",
       "\n",
       "                                             choices          answer  \\\n",
       "0  A. green_treasure_chest, B. green_bottle, C. g...  green_suitcase   \n",
       "1  A. green_box, B. blue_container, C. blue_pantr...      red_drawer   \n",
       "\n",
       "                                        question_old      answer_old  ...  \\\n",
       "0  Where does Jackson think Benjamin thinks Emily...  green_suitcase  ...   \n",
       "1  Where does Hannah think Noah thinks Mason thin...      red_drawer  ...   \n",
       "\n",
       "                                        reward_model  \\\n",
       "0  {'ground_truth': 'green_suitcase', 'style': 'r...   \n",
       "1    {'ground_truth': 'red_drawer', 'style': 'rule'}   \n",
       "\n",
       "                                          extra_info story_structure  \\\n",
       "0  {'deception': False, 'question_order': 4, 'sto...            None   \n",
       "1  {'deception': True, 'question_order': 4, 'stor...            None   \n",
       "\n",
       "  infilled_story question_type params nth_order is_interesting story_type  \\\n",
       "0           None          None   None       NaN           None       None   \n",
       "1           None          None   None       NaN           None       None   \n",
       "\n",
       "   story_structure_wn  \n",
       "0                None  \n",
       "1                None  \n",
       "\n",
       "[2 rows x 23 columns]"
      ]
     },
     "execution_count": 31,
     "metadata": {},
     "output_type": "execute_result"
    }
   ],
   "source": [
    "dfh[:1000].head(2)"
   ]
  },
  {
   "cell_type": "code",
   "execution_count": 32,
   "metadata": {},
   "outputs": [],
   "source": [
    "test_tomi = load_dataset('parquet', data_files='../data/test/test_tomi.parquet')['train']"
   ]
  },
  {
   "cell_type": "code",
   "execution_count": 33,
   "metadata": {},
   "outputs": [],
   "source": [
    "dftomi = pd.DataFrame(test_tomi)"
   ]
  },
  {
   "cell_type": "code",
   "execution_count": 34,
   "metadata": {},
   "outputs": [
    {
     "data": {
      "text/html": [
       "<div>\n",
       "<style scoped>\n",
       "    .dataframe tbody tr th:only-of-type {\n",
       "        vertical-align: middle;\n",
       "    }\n",
       "\n",
       "    .dataframe tbody tr th {\n",
       "        vertical-align: top;\n",
       "    }\n",
       "\n",
       "    .dataframe thead th {\n",
       "        text-align: right;\n",
       "    }\n",
       "</style>\n",
       "<table border=\"1\" class=\"dataframe\">\n",
       "  <thead>\n",
       "    <tr style=\"text-align: right;\">\n",
       "      <th></th>\n",
       "      <th>story</th>\n",
       "      <th>question</th>\n",
       "      <th>answer</th>\n",
       "      <th>question_type</th>\n",
       "      <th>question_type2</th>\n",
       "      <th>prompt</th>\n",
       "    </tr>\n",
       "  </thead>\n",
       "  <tbody>\n",
       "    <tr>\n",
       "      <th>0</th>\n",
       "      <td>Jackson entered the hall. Chloe entered the ha...</td>\n",
       "      <td>Where was the boots at the beginning?</td>\n",
       "      <td>bathtub</td>\n",
       "      <td>true_belief</td>\n",
       "      <td>memory</td>\n",
       "      <td>[{'content': 'You are a helpful assistant. The...</td>\n",
       "    </tr>\n",
       "    <tr>\n",
       "      <th>1</th>\n",
       "      <td>Jackson entered the hall. Chloe entered the ha...</td>\n",
       "      <td>Where will Chloe look for the boots?</td>\n",
       "      <td>pantry</td>\n",
       "      <td>true_belief</td>\n",
       "      <td>first_order_1_no_tom</td>\n",
       "      <td>[{'content': 'You are a helpful assistant. The...</td>\n",
       "    </tr>\n",
       "  </tbody>\n",
       "</table>\n",
       "</div>"
      ],
      "text/plain": [
       "                                               story  \\\n",
       "0  Jackson entered the hall. Chloe entered the ha...   \n",
       "1  Jackson entered the hall. Chloe entered the ha...   \n",
       "\n",
       "                                question   answer question_type  \\\n",
       "0  Where was the boots at the beginning?  bathtub   true_belief   \n",
       "1   Where will Chloe look for the boots?   pantry   true_belief   \n",
       "\n",
       "         question_type2                                             prompt  \n",
       "0                memory  [{'content': 'You are a helpful assistant. The...  \n",
       "1  first_order_1_no_tom  [{'content': 'You are a helpful assistant. The...  "
      ]
     },
     "execution_count": 34,
     "metadata": {},
     "output_type": "execute_result"
    }
   ],
   "source": [
    "dftomi.head(2)"
   ]
  },
  {
   "cell_type": "code",
   "execution_count": 35,
   "metadata": {},
   "outputs": [],
   "source": [
    "extra_info = []\n",
    "for i, row in dftomi.iterrows():\n",
    "    extra_info.append({'question_type':row['question_type'], \n",
    "                       'question_type2':row['question_type2']\n",
    "                       })\n",
    "dftomi['extra_info'] = extra_info"
   ]
  },
  {
   "cell_type": "code",
   "execution_count": 36,
   "metadata": {},
   "outputs": [],
   "source": [
    "dftomi['data_source']='tomi'"
   ]
  },
  {
   "cell_type": "code",
   "execution_count": 37,
   "metadata": {},
   "outputs": [],
   "source": [
    "col_test = ['prompt', 'answer', 'data_source', 'question', 'story', 'extra_info']"
   ]
  },
  {
   "cell_type": "code",
   "execution_count": 38,
   "metadata": {},
   "outputs": [],
   "source": [
    "df_test = pd.concat([dft.loc[:, col_test], dfh.loc[dfh.data_source!='explore_tom', col_test], dftomi.loc[:, col_test]], ignore_index=True)\n",
    "df_test = df_test.sample(frac=1, replace=False, ignore_index=True)"
   ]
  },
  {
   "cell_type": "markdown",
   "metadata": {},
   "source": [
    "Exp 57\t1009\n",
    "72\t928\n",
    "876\t5118\n",
    "\n"
   ]
  },
  {
   "cell_type": "code",
   "execution_count": 39,
   "metadata": {},
   "outputs": [
    {
     "data": {
      "text/plain": [
       "8060"
      ]
     },
     "execution_count": 39,
     "metadata": {},
     "output_type": "execute_result"
    }
   ],
   "source": [
    "len(df_test)"
   ]
  },
  {
   "cell_type": "code",
   "execution_count": 40,
   "metadata": {},
   "outputs": [
    {
     "data": {
      "text/plain": [
       "story\n",
       "Abigail dislikes the pear Emma entered the playroom. Abigail entered the playroom. The pear is in the bucket. Emma exited the playroom. Lily entered the playroom. Abigail moved the pear to the treasure_chest. Emma entered the playroom.                                                                                                                                                                                                                                                                                                                                                                                                                                                                                                                                                                                                                                                                                                                                                                                                                                                                                                                                                                                                                                                                                                                                                                                                                                                                                                                                                                                                                                                                                                                                                                                                                                                               6\n",
       "Abigail dislikes the persimmon Lucas entered the playroom. Abigail entered the playroom. The strawberry is in the cupboard. Abigail exited the playroom. Abigail entered the laundry. Lucas moved the strawberry to the bucket.                                                                                                                                                                                                                                                                                                                                                                                                                                                                                                                                                                                                                                                                                                                                                                                                                                                                                                                                                                                                                                                                                                                                                                                                                                                                                                                                                                                                                                                                                                                                                                                                                                                                           6\n",
       "Abigail entered the back_yard. Benjamin likes the sweater William entered the back_yard. Benjamin hates the asparagus The cap is in the bottle. Abigail exited the back_yard. William moved the cap to the crate. William exited the back_yard. Abigail entered the back_yard.                                                                                                                                                                                                                                                                                                                                                                                                                                                                                                                                                                                                                                                                                                                                                                                                                                                                                                                                                                                                                                                                                                                                                                                                                                                                                                                                                                                                                                                                                                                                                                                                                            6\n",
       "Abigail entered the back_yard. Hannah entered the back_yard. The trousers is in the crate. Abigail moved the trousers to the suitcase. Benjamin entered the back_yard. Hannah exited the back_yard. Abigail exited the back_yard. Hannah entered the hallway.                                                                                                                                                                                                                                                                                                                                                                                                                                                                                                                                                                                                                                                                                                                                                                                                                                                                                                                                                                                                                                                                                                                                                                                                                                                                                                                                                                                                                                                                                                                                                                                                                                             6\n",
       "Abigail entered the back_yard. Hunter entered the back_yard. Ethan entered the back_yard. The strawberry is in the treasure_chest. Abigail moved the strawberry to the bucket. Ethan exited the back_yard. Ethan entered the hallway.                                                                                                                                                                                                                                                                                                                                                                                                                                                                                                                                                                                                                                                                                                                                                                                                                                                                                                                                                                                                                                                                                                                                                                                                                                                                                                                                                                                                                                                                                                                                                                                                                                                                     6\n",
       "                                                                                                                                                                                                                                                                                                                                                                                                                                                                                                                                                                                                                                                                                                                                                                                                                                                                                                                                                                                                                                                                                                                                                                                                                                                                                                                                                                                                                                                                                                                                                                                                                                                                                                                                                                                                                                                                                                         ..\n",
       "William, Oliver, Jayden, James and Emily entered the pantry. The celery is in the blue_pantry. William made no movements and stayed in the pantry for 1 minute. William exited the pantry. Jayden dislikes the broccoli. Oliver made no movements and stayed in the pantry for 1 minute. Oliver exited the pantry. Jayden moved the celery to the red_suitcase. Jayden exited the pantry. James made no movements and stayed in the pantry for 1 minute. James exited the pantry. Emily made no movements and stayed in the pantry for 1 minute. Emily exited the pantry. William, Oliver, Jayden, James and Emily entered the waiting_room. Jayden saw a monkey. Jayden publicly claimed that celery is in the green_pantry now. Emily privately told Jayden that the celery is in the red_suitcase now. Oliver, William and Emily entered the pantry. The apple is in the red_treasure_chest. Oliver moved the apple to the blue_pantry. Oliver exited the pantry. William moved the apple to the red_suitcase. William exited the pantry. Emily moved the apple to the green_treasure_chest. Emily exited the pantry. Oliver, William and Emily entered the waiting_room. Jayden, Emily, William and James entered the living_room. The broccoli is in the green_bottle. Jayden moved the broccoli to the blue_treasure_chest. Jayden exited the living_room. Emily made no movements and stayed in the living_room for 1 minute. Emily exited the living_room. William made no movements and stayed in the living_room for 1 minute. William exited the living_room. James made no movements and stayed in the living_room for 1 minute. Emily lost his gloves. James exited the living_room. Jayden, Emily, William and James entered the waiting_room. Emily publicly claimed that broccoli is in the green_bottle now. James privately told William that the broccoli is in the red_bucket now.    1\n",
       "Wyatt entered the conservation lab. Wyatt inscribed the winner's name of the antique fair on the back of the small, antique pocket watch with acid-free markers. Wyatt moved the small, antique pocket watch to the leather pouch, which is also located in the conservation lab. While this action was happening, Jasmine witnessed this action in secret (and only this action). Wyatt left the conservation lab. Wyatt entered the conservation lab. Wyatt moved the small, antique pocket watch to the metal safe, which is also located in the conservation lab. Jasmine entered the conservation lab. Wyatt moved the small, antique pocket watch to the wooden box, which is also located in the conservation lab. Emily entered the conservation lab.                                                                                                                                                                                                                                                                                                                                                                                                                                                                                                                                                                                                                                                                                                                                                                                                                                                                                                                                                                                                                                                                                                                                             6\n",
       "Wyatt entered the storage gallery. Wyatt moved the small, antique pocket watch to the leather pouch, which is also located in the storage gallery. Wyatt told privately to Brody that the small, antique pocket watch is in the storage gallery. Wyatt told privately to Jasmine that the small, antique pocket watch is in the leather pouch. While this action was happening, Brody witnessed this action in secret (and only this action); also, Jasmine got distracted and did not realize what happened, without anyone noticing the brief lack of attention, and going back to paying attention immediately after the action was finished. Emily entered the conservation lab. Wyatt moved the small, antique pocket watch to the wooden box, which is also located in the storage gallery. Brody told privately to Emily that the small, antique pocket watch is in the storage gallery. Wyatt moved the small, antique pocket watch to the conservation lab, leaving the wooden box in its original location.                                                                                                                                                                                                                                                                                                                                                                                                                                                                                                                                                                                                                                                                                                                                                                                                                                                                                     6\n",
       "Zoe entered the airport staff lounge. Elijah entered the airport staff lounge. Zoe stepped on the pocket watch Elijah left the airport staff lounge. Zoe moved the pocket watch to the metal lunchbox, which is also located in the airport staff lounge.                                                                                                                                                                                                                                                                                                                                                                                                                                                                                                                                                                                                                                                                                                                                                                                                                                                                                                                                                                                                                                                                                                                                                                                                                                                                                                                                                                                                                                                                                                                                                                                                                                                 1\n",
       "Zoe entered the arrangement room. Zoe moved the silver locket to the leather wallet, which is also located in the arrangement room. Zoe told privately to Emily that the silver locket is in the leather wallet. While this action was happening, Emily got distracted and did not realize what happened, without anyone noticing the brief lack of attention, and going back to paying attention immediately after the action was finished. Emily entered the arrangement room. Zoe told out loud that the silver locket is in the leather wallet. Emily moved the silver locket to the velvet pouch, which is also located in the arrangement room. Zoe left the arrangement room. Zoe entered the arrangement room. Zoe moved the silver locket to the wooden box, which is also located in the arrangement room.                                                                                                                                                                                                                                                                                                                                                                                                                                                                                                                                                                                                                                                                                                                                                                                                                                                                                                                                                                                                                                                                                      2\n",
       "Name: question, Length: 1891, dtype: int64"
      ]
     },
     "execution_count": 40,
     "metadata": {},
     "output_type": "execute_result"
    }
   ],
   "source": [
    "df_test.groupby('story').question.count()"
   ]
  },
  {
   "cell_type": "code",
   "execution_count": 41,
   "metadata": {},
   "outputs": [
    {
     "data": {
      "text/html": [
       "<div>\n",
       "<style scoped>\n",
       "    .dataframe tbody tr th:only-of-type {\n",
       "        vertical-align: middle;\n",
       "    }\n",
       "\n",
       "    .dataframe tbody tr th {\n",
       "        vertical-align: top;\n",
       "    }\n",
       "\n",
       "    .dataframe thead th {\n",
       "        text-align: right;\n",
       "    }\n",
       "</style>\n",
       "<table border=\"1\" class=\"dataframe\">\n",
       "  <thead>\n",
       "    <tr style=\"text-align: right;\">\n",
       "      <th></th>\n",
       "      <th>prompt</th>\n",
       "      <th>answer</th>\n",
       "      <th>data_source</th>\n",
       "      <th>question</th>\n",
       "      <th>story</th>\n",
       "      <th>extra_info</th>\n",
       "    </tr>\n",
       "  </thead>\n",
       "  <tbody>\n",
       "    <tr>\n",
       "      <th>0</th>\n",
       "      <td>[{'role': 'system', 'content': 'You are a help...</td>\n",
       "      <td>black nylon backpack</td>\n",
       "      <td>explore_tom</td>\n",
       "      <td>In which container will Abigail search for the...</td>\n",
       "      <td>Kayla entered the backstage tent. Kayla moved ...</td>\n",
       "      <td>{'question_type': 'container_location-True', '...</td>\n",
       "    </tr>\n",
       "    <tr>\n",
       "      <th>1</th>\n",
       "      <td>[{'content': 'You are a helpful assistant. The...</td>\n",
       "      <td>treasure_chest</td>\n",
       "      <td>tomi</td>\n",
       "      <td>Where does Aiden think that Jack searches for ...</td>\n",
       "      <td>Aiden entered the garden. Aiden likes the slip...</td>\n",
       "      <td>{'question_type': 'false_belief', 'question_ty...</td>\n",
       "    </tr>\n",
       "    <tr>\n",
       "      <th>2</th>\n",
       "      <td>[{'content': 'You are a helpful assistant. The...</td>\n",
       "      <td>suitcase</td>\n",
       "      <td>tomi</td>\n",
       "      <td>Where will Ava look for the slacks?</td>\n",
       "      <td>Ava entered the garden. Hunter entered the gar...</td>\n",
       "      <td>{'question_type': 'false_belief', 'question_ty...</td>\n",
       "    </tr>\n",
       "    <tr>\n",
       "      <th>3</th>\n",
       "      <td>[{'content': 'You are a helpful assistant. The...</td>\n",
       "      <td>envelope</td>\n",
       "      <td>tomi</td>\n",
       "      <td>Where was the celery at the beginning?</td>\n",
       "      <td>Hunter is in the garden. Jayden entered the ba...</td>\n",
       "      <td>{'question_type': 'true_belief', 'question_typ...</td>\n",
       "    </tr>\n",
       "    <tr>\n",
       "      <th>4</th>\n",
       "      <td>[{'role': 'system', 'content': 'You are a help...</td>\n",
       "      <td>red_drawer</td>\n",
       "      <td>hi_tom</td>\n",
       "      <td>Where is the asparagus really?</td>\n",
       "      <td>Hannah, Mason, Jackson, Ella and James entered...</td>\n",
       "      <td>{'deception': False, 'question_order': 0, 'sto...</td>\n",
       "    </tr>\n",
       "    <tr>\n",
       "      <th>...</th>\n",
       "      <td>...</td>\n",
       "      <td>...</td>\n",
       "      <td>...</td>\n",
       "      <td>...</td>\n",
       "      <td>...</td>\n",
       "      <td>...</td>\n",
       "    </tr>\n",
       "    <tr>\n",
       "      <th>8055</th>\n",
       "      <td>[{'role': 'system', 'content': 'You are a help...</td>\n",
       "      <td>cardboard file box</td>\n",
       "      <td>explore_tom</td>\n",
       "      <td>In which container was the pocket-sized notebo...</td>\n",
       "      <td>Justin entered the student lounge. Justin move...</td>\n",
       "      <td>{'question_type': 'memory_before_event-contain...</td>\n",
       "    </tr>\n",
       "    <tr>\n",
       "      <th>8056</th>\n",
       "      <td>[{'role': 'system', 'content': 'You are a help...</td>\n",
       "      <td>green_cupboard</td>\n",
       "      <td>hi_tom</td>\n",
       "      <td>Where does Jackson think Isabella thinks Natha...</td>\n",
       "      <td>Jackson, Nathan, Isabella, Lily and Ella enter...</td>\n",
       "      <td>{'deception': False, 'question_order': 4, 'sto...</td>\n",
       "    </tr>\n",
       "    <tr>\n",
       "      <th>8057</th>\n",
       "      <td>[{'role': 'system', 'content': 'You are a help...</td>\n",
       "      <td>blue_crate</td>\n",
       "      <td>hi_tom</td>\n",
       "      <td>Where does Jack think Benjamin thinks the toma...</td>\n",
       "      <td>Emma, Jack, Alexander, Benjamin and Emily ente...</td>\n",
       "      <td>{'deception': False, 'question_order': 2, 'sto...</td>\n",
       "    </tr>\n",
       "    <tr>\n",
       "      <th>8058</th>\n",
       "      <td>[{'content': 'You are a helpful assistant. The...</td>\n",
       "      <td>treasure_chest</td>\n",
       "      <td>tomi</td>\n",
       "      <td>Where will Chloe look for the apple?</td>\n",
       "      <td>Chloe hates the potato Mason likes the suit Ja...</td>\n",
       "      <td>{'question_type': 'second_order_false_belief',...</td>\n",
       "    </tr>\n",
       "    <tr>\n",
       "      <th>8059</th>\n",
       "      <td>[{'role': 'system', 'content': 'You are a help...</td>\n",
       "      <td>green_bathtub</td>\n",
       "      <td>hi_tom</td>\n",
       "      <td>Where does Oliver think James thinks Benjamin ...</td>\n",
       "      <td>Benjamin likes the green_bathtub. Charlotte, J...</td>\n",
       "      <td>{'deception': False, 'question_order': 4, 'sto...</td>\n",
       "    </tr>\n",
       "  </tbody>\n",
       "</table>\n",
       "<p>8060 rows × 6 columns</p>\n",
       "</div>"
      ],
      "text/plain": [
       "                                                 prompt                answer  \\\n",
       "0     [{'role': 'system', 'content': 'You are a help...  black nylon backpack   \n",
       "1     [{'content': 'You are a helpful assistant. The...        treasure_chest   \n",
       "2     [{'content': 'You are a helpful assistant. The...              suitcase   \n",
       "3     [{'content': 'You are a helpful assistant. The...              envelope   \n",
       "4     [{'role': 'system', 'content': 'You are a help...            red_drawer   \n",
       "...                                                 ...                   ...   \n",
       "8055  [{'role': 'system', 'content': 'You are a help...    cardboard file box   \n",
       "8056  [{'role': 'system', 'content': 'You are a help...        green_cupboard   \n",
       "8057  [{'role': 'system', 'content': 'You are a help...            blue_crate   \n",
       "8058  [{'content': 'You are a helpful assistant. The...        treasure_chest   \n",
       "8059  [{'role': 'system', 'content': 'You are a help...         green_bathtub   \n",
       "\n",
       "      data_source                                           question  \\\n",
       "0     explore_tom  In which container will Abigail search for the...   \n",
       "1            tomi  Where does Aiden think that Jack searches for ...   \n",
       "2            tomi                Where will Ava look for the slacks?   \n",
       "3            tomi             Where was the celery at the beginning?   \n",
       "4          hi_tom                     Where is the asparagus really?   \n",
       "...           ...                                                ...   \n",
       "8055  explore_tom  In which container was the pocket-sized notebo...   \n",
       "8056       hi_tom  Where does Jackson think Isabella thinks Natha...   \n",
       "8057       hi_tom  Where does Jack think Benjamin thinks the toma...   \n",
       "8058         tomi               Where will Chloe look for the apple?   \n",
       "8059       hi_tom  Where does Oliver think James thinks Benjamin ...   \n",
       "\n",
       "                                                  story  \\\n",
       "0     Kayla entered the backstage tent. Kayla moved ...   \n",
       "1     Aiden entered the garden. Aiden likes the slip...   \n",
       "2     Ava entered the garden. Hunter entered the gar...   \n",
       "3     Hunter is in the garden. Jayden entered the ba...   \n",
       "4     Hannah, Mason, Jackson, Ella and James entered...   \n",
       "...                                                 ...   \n",
       "8055  Justin entered the student lounge. Justin move...   \n",
       "8056  Jackson, Nathan, Isabella, Lily and Ella enter...   \n",
       "8057  Emma, Jack, Alexander, Benjamin and Emily ente...   \n",
       "8058  Chloe hates the potato Mason likes the suit Ja...   \n",
       "8059  Benjamin likes the green_bathtub. Charlotte, J...   \n",
       "\n",
       "                                             extra_info  \n",
       "0     {'question_type': 'container_location-True', '...  \n",
       "1     {'question_type': 'false_belief', 'question_ty...  \n",
       "2     {'question_type': 'false_belief', 'question_ty...  \n",
       "3     {'question_type': 'true_belief', 'question_typ...  \n",
       "4     {'deception': False, 'question_order': 0, 'sto...  \n",
       "...                                                 ...  \n",
       "8055  {'question_type': 'memory_before_event-contain...  \n",
       "8056  {'deception': False, 'question_order': 4, 'sto...  \n",
       "8057  {'deception': False, 'question_order': 2, 'sto...  \n",
       "8058  {'question_type': 'second_order_false_belief',...  \n",
       "8059  {'deception': False, 'question_order': 4, 'sto...  \n",
       "\n",
       "[8060 rows x 6 columns]"
      ]
     },
     "execution_count": 41,
     "metadata": {},
     "output_type": "execute_result"
    }
   ],
   "source": [
    "df_test"
   ]
  },
  {
   "cell_type": "code",
   "execution_count": 150,
   "metadata": {},
   "outputs": [
    {
     "name": "stderr",
     "output_type": "stream",
     "text": [
      "Creating parquet from Arrow format: 100%|██████████| 9/9 [00:00<00:00, 465.72ba/s]\n"
     ]
    },
    {
     "data": {
      "text/plain": [
       "10798423"
      ]
     },
     "execution_count": 150,
     "metadata": {},
     "output_type": "execute_result"
    }
   ],
   "source": [
    "data = Dataset.from_pandas(df_test)\n",
    "\n",
    "data.to_parquet('../data/test/ToM_test_HiExTi.parquet')"
   ]
  },
  {
   "cell_type": "code",
   "execution_count": 38,
   "metadata": {},
   "outputs": [],
   "source": [
    "data_test = Dataset.from_pandas(df_test)"
   ]
  },
  {
   "cell_type": "code",
   "execution_count": 52,
   "metadata": {},
   "outputs": [],
   "source": [
    "dfexp['extra_info']={'question_type':'expert'}"
   ]
  },
  {
   "cell_type": "code",
   "execution_count": 53,
   "metadata": {},
   "outputs": [],
   "source": [
    "df_test_all = pd.concat([dft.loc[:, col_test], dfh.loc[dfh.data_source!='explore_tom', col_test], dftomi.loc[:, col_test], dfexp.loc[:, col_test]], ignore_index=True)\n",
    "#df_test_all = df_test_all.sample(frac=1, replace=False, ignore_index=True)"
   ]
  },
  {
   "cell_type": "markdown",
   "metadata": {},
   "source": []
  },
  {
   "cell_type": "code",
   "execution_count": 54,
   "metadata": {},
   "outputs": [
    {
     "name": "stderr",
     "output_type": "stream",
     "text": [
      "Creating parquet from Arrow format: 100%|██████████| 9/9 [00:00<00:00, 790.72ba/s]\n"
     ]
    },
    {
     "data": {
      "text/plain": [
       "10827846"
      ]
     },
     "execution_count": 54,
     "metadata": {},
     "output_type": "execute_result"
    }
   ],
   "source": [
    "data = Dataset.from_pandas(df_test_all)\n",
    "\n",
    "data.to_parquet('../data/test/ToM_test_all.parquet')"
   ]
  },
  {
   "cell_type": "code",
   "execution_count": 80,
   "metadata": {},
   "outputs": [],
   "source": [
    "# add a row to each data item that represents a unique id\n",
    "def make_map_fn_test(split):\n",
    "\n",
    "    def process_fn(example, idx):\n",
    "        question = example.pop('question')\n",
    "        story = example.pop('story')\n",
    "        question = SYSTEM_PROMPT + f\"\"\" Read the following story and answer the question. Story: {story}\\n Question:{question}\"\"\"\n",
    "\n",
    "        solution = example.pop('answer')\n",
    "        data = {\n",
    "            \"prompt\": [{\n",
    "                \"role\": \"user\",\n",
    "                \"content\": question\n",
    "            }],\n",
    "            \"ability\": \"tom\",\n",
    "            \"reward_model\": {\n",
    "                \"style\": \"rule\",\n",
    "                \"ground_truth\": solution\n",
    "            },\n",
    "        }\n",
    "        return data\n",
    "\n",
    "    return process_fn"
   ]
  },
  {
   "cell_type": "code",
   "execution_count": 81,
   "metadata": {},
   "outputs": [
    {
     "name": "stderr",
     "output_type": "stream",
     "text": [
      "Map: 100%|██████████| 8660/8660 [00:00<00:00, 27910.67 examples/s]\n"
     ]
    }
   ],
   "source": [
    "test_dataset_verl = data_test.map(function=make_map_fn_test('train'), with_indices=True)"
   ]
  },
  {
   "cell_type": "code",
   "execution_count": 82,
   "metadata": {},
   "outputs": [
    {
     "name": "stderr",
     "output_type": "stream",
     "text": [
      "Creating parquet from Arrow format: 100%|██████████| 9/9 [00:00<00:00, 603.26ba/s]\n"
     ]
    },
    {
     "data": {
      "text/plain": [
       "9758322"
      ]
     },
     "execution_count": 82,
     "metadata": {},
     "output_type": "execute_result"
    }
   ],
   "source": [
    "test_dataset_verl.to_parquet('../data/test/ToM_test_HiExTi_verl.parquet')"
   ]
  },
  {
   "cell_type": "code",
   "execution_count": null,
   "metadata": {},
   "outputs": [],
   "source": []
  }
 ],
 "metadata": {
  "kernelspec": {
   "display_name": "vllm",
   "language": "python",
   "name": "python3"
  },
  "language_info": {
   "codemirror_mode": {
    "name": "ipython",
    "version": 3
   },
   "file_extension": ".py",
   "mimetype": "text/x-python",
   "name": "python",
   "nbconvert_exporter": "python",
   "pygments_lexer": "ipython3",
   "version": "3.10.16"
  }
 },
 "nbformat": 4,
 "nbformat_minor": 2
}
