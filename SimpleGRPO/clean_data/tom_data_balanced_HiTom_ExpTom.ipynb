{
 "cells": [
  {
   "cell_type": "code",
   "execution_count": 1,
   "metadata": {},
   "outputs": [
    {
     "name": "stderr",
     "output_type": "stream",
     "text": [
      "/home/yilong/miniconda3/envs/vllm/lib/python3.10/site-packages/tqdm/auto.py:21: TqdmWarning: IProgress not found. Please update jupyter and ipywidgets. See https://ipywidgets.readthedocs.io/en/stable/user_install.html\n",
      "  from .autonotebook import tqdm as notebook_tqdm\n"
     ]
    }
   ],
   "source": [
    "import json\n",
    "import argparse\n",
    "import numpy as np\n",
    "import pandas as pd\n",
    "import seaborn as sns\n",
    "from datasets import load_dataset, Dataset, load_from_disk\n",
    "import matplotlib.pyplot as plt \n",
    "from transformers import AutoTokenizer"
   ]
  },
  {
   "cell_type": "code",
   "execution_count": 3,
   "metadata": {},
   "outputs": [],
   "source": [
    "df = pd.read_parquet('../../data/cleaned_tom/hi_tom_train_2000.parquet')\n",
    "dfh = pd.read_parquet('../../data/cleaned_tom/hi_tom_explore_tom_test_hint.parquet')\n",
    "dfe = pd.read_parquet('../data/ToM_train_800.parquet')"
   ]
  },
  {
   "cell_type": "code",
   "execution_count": 4,
   "metadata": {},
   "outputs": [
    {
     "name": "stdout",
     "output_type": "stream",
     "text": [
      "2000 1600 800\n"
     ]
    }
   ],
   "source": [
    "print(len(df), len(dfh), len(dfe))"
   ]
  },
  {
   "cell_type": "code",
   "execution_count": 16,
   "metadata": {},
   "outputs": [],
   "source": [
    "dfe['data_source'] = 'explore_tom'"
   ]
  },
  {
   "cell_type": "code",
   "execution_count": 5,
   "metadata": {},
   "outputs": [],
   "source": [
    "tokenizer = AutoTokenizer.from_pretrained(\"Qwen/Qwen2.5-0.5B-Instruct\", trust_remote_code=True)"
   ]
  },
  {
   "cell_type": "code",
   "execution_count": 6,
   "metadata": {},
   "outputs": [
    {
     "name": "stdout",
     "output_type": "stream",
     "text": [
      "<class 'pandas.core.frame.DataFrame'>\n",
      "RangeIndex: 2000 entries, 0 to 1999\n",
      "Data columns (total 15 columns):\n",
      " #   Column          Non-Null Count  Dtype \n",
      "---  ------          --------------  ----- \n",
      " 0   deception       2000 non-null   bool  \n",
      " 1   story_length    2000 non-null   int64 \n",
      " 2   question_order  2000 non-null   int64 \n",
      " 3   sample_id       2000 non-null   int64 \n",
      " 4   story           2000 non-null   object\n",
      " 5   question        2000 non-null   object\n",
      " 6   choices         2000 non-null   object\n",
      " 7   answer          2000 non-null   object\n",
      " 8   question_old    2000 non-null   object\n",
      " 9   answer_old      2000 non-null   object\n",
      " 10  data_source     2000 non-null   object\n",
      " 11  prompt          2000 non-null   object\n",
      " 12  ability         2000 non-null   object\n",
      " 13  reward_model    2000 non-null   object\n",
      " 14  extra_info      2000 non-null   object\n",
      "dtypes: bool(1), int64(3), object(11)\n",
      "memory usage: 220.8+ KB\n"
     ]
    }
   ],
   "source": [
    "df.info()"
   ]
  },
  {
   "cell_type": "code",
   "execution_count": 7,
   "metadata": {},
   "outputs": [
    {
     "name": "stdout",
     "output_type": "stream",
     "text": [
      "<class 'pandas.core.frame.DataFrame'>\n",
      "RangeIndex: 800 entries, 0 to 799\n",
      "Data columns (total 10 columns):\n",
      " #   Column              Non-Null Count  Dtype \n",
      "---  ------              --------------  ----- \n",
      " 0   story_structure     800 non-null    object\n",
      " 1   infilled_story      800 non-null    object\n",
      " 2   question            800 non-null    object\n",
      " 3   answer              800 non-null    object\n",
      " 4   question_type       800 non-null    object\n",
      " 5   params              800 non-null    object\n",
      " 6   nth_order           800 non-null    int64 \n",
      " 7   is_interesting      800 non-null    bool  \n",
      " 8   story_type          800 non-null    object\n",
      " 9   story_structure_wn  800 non-null    object\n",
      "dtypes: bool(1), int64(1), object(8)\n",
      "memory usage: 57.2+ KB\n"
     ]
    }
   ],
   "source": [
    "dfe.info()"
   ]
  },
  {
   "cell_type": "code",
   "execution_count": 8,
   "metadata": {},
   "outputs": [],
   "source": [
    "dfs = df.groupby(['answer']).story.count().reset_index()"
   ]
  },
  {
   "cell_type": "code",
   "execution_count": 9,
   "metadata": {},
   "outputs": [
    {
     "data": {
      "text/html": [
       "<div>\n",
       "<style scoped>\n",
       "    .dataframe tbody tr th:only-of-type {\n",
       "        vertical-align: middle;\n",
       "    }\n",
       "\n",
       "    .dataframe tbody tr th {\n",
       "        vertical-align: top;\n",
       "    }\n",
       "\n",
       "    .dataframe thead th {\n",
       "        text-align: right;\n",
       "    }\n",
       "</style>\n",
       "<table border=\"1\" class=\"dataframe\">\n",
       "  <thead>\n",
       "    <tr style=\"text-align: right;\">\n",
       "      <th></th>\n",
       "      <th>answer</th>\n",
       "      <th>story</th>\n",
       "    </tr>\n",
       "  </thead>\n",
       "  <tbody>\n",
       "    <tr>\n",
       "      <th>0</th>\n",
       "      <td>blue_drawer</td>\n",
       "      <td>84</td>\n",
       "    </tr>\n",
       "    <tr>\n",
       "      <th>1</th>\n",
       "      <td>green_basket</td>\n",
       "      <td>82</td>\n",
       "    </tr>\n",
       "    <tr>\n",
       "      <th>2</th>\n",
       "      <td>red_drawer</td>\n",
       "      <td>80</td>\n",
       "    </tr>\n",
       "    <tr>\n",
       "      <th>3</th>\n",
       "      <td>red_bottle</td>\n",
       "      <td>79</td>\n",
       "    </tr>\n",
       "    <tr>\n",
       "      <th>4</th>\n",
       "      <td>green_bottle</td>\n",
       "      <td>77</td>\n",
       "    </tr>\n",
       "    <tr>\n",
       "      <th>5</th>\n",
       "      <td>green_box</td>\n",
       "      <td>77</td>\n",
       "    </tr>\n",
       "    <tr>\n",
       "      <th>6</th>\n",
       "      <td>blue_bucket</td>\n",
       "      <td>75</td>\n",
       "    </tr>\n",
       "    <tr>\n",
       "      <th>7</th>\n",
       "      <td>blue_treasure_chest</td>\n",
       "      <td>74</td>\n",
       "    </tr>\n",
       "    <tr>\n",
       "      <th>8</th>\n",
       "      <td>red_bucket</td>\n",
       "      <td>73</td>\n",
       "    </tr>\n",
       "    <tr>\n",
       "      <th>9</th>\n",
       "      <td>green_suitcase</td>\n",
       "      <td>73</td>\n",
       "    </tr>\n",
       "    <tr>\n",
       "      <th>10</th>\n",
       "      <td>blue_container</td>\n",
       "      <td>72</td>\n",
       "    </tr>\n",
       "    <tr>\n",
       "      <th>11</th>\n",
       "      <td>green_cupboard</td>\n",
       "      <td>69</td>\n",
       "    </tr>\n",
       "    <tr>\n",
       "      <th>12</th>\n",
       "      <td>blue_box</td>\n",
       "      <td>69</td>\n",
       "    </tr>\n",
       "    <tr>\n",
       "      <th>13</th>\n",
       "      <td>blue_bathtub</td>\n",
       "      <td>68</td>\n",
       "    </tr>\n",
       "    <tr>\n",
       "      <th>14</th>\n",
       "      <td>blue_basket</td>\n",
       "      <td>68</td>\n",
       "    </tr>\n",
       "    <tr>\n",
       "      <th>15</th>\n",
       "      <td>red_container</td>\n",
       "      <td>67</td>\n",
       "    </tr>\n",
       "    <tr>\n",
       "      <th>16</th>\n",
       "      <td>green_pantry</td>\n",
       "      <td>66</td>\n",
       "    </tr>\n",
       "    <tr>\n",
       "      <th>17</th>\n",
       "      <td>green_treasure_chest</td>\n",
       "      <td>65</td>\n",
       "    </tr>\n",
       "    <tr>\n",
       "      <th>18</th>\n",
       "      <td>blue_suitcase</td>\n",
       "      <td>65</td>\n",
       "    </tr>\n",
       "    <tr>\n",
       "      <th>19</th>\n",
       "      <td>red_suitcase</td>\n",
       "      <td>65</td>\n",
       "    </tr>\n",
       "  </tbody>\n",
       "</table>\n",
       "</div>"
      ],
      "text/plain": [
       "                  answer  story\n",
       "0            blue_drawer     84\n",
       "1           green_basket     82\n",
       "2             red_drawer     80\n",
       "3             red_bottle     79\n",
       "4           green_bottle     77\n",
       "5              green_box     77\n",
       "6            blue_bucket     75\n",
       "7    blue_treasure_chest     74\n",
       "8             red_bucket     73\n",
       "9         green_suitcase     73\n",
       "10        blue_container     72\n",
       "11        green_cupboard     69\n",
       "12              blue_box     69\n",
       "13          blue_bathtub     68\n",
       "14           blue_basket     68\n",
       "15         red_container     67\n",
       "16          green_pantry     66\n",
       "17  green_treasure_chest     65\n",
       "18         blue_suitcase     65\n",
       "19          red_suitcase     65"
      ]
     },
     "execution_count": 9,
     "metadata": {},
     "output_type": "execute_result"
    }
   ],
   "source": [
    "dfs = dfs.sort_values(by='story', ascending=False, ignore_index=True)\n",
    "dfs.head(20)"
   ]
  },
  {
   "cell_type": "code",
   "execution_count": 10,
   "metadata": {},
   "outputs": [
    {
     "data": {
      "text/plain": [
       "0    Where does Lily think Gracie thinks Jackson th...\n",
       "1    Where does Noah think Emily thinks Mila thinks...\n",
       "2          Where does Oliver really think the peas is?\n",
       "3    Where does Isabella think Amelia thinks the ap...\n",
       "4    Where does Mason think Olivia thinks Nathan th...\n",
       "5                            Where is the peas really?\n",
       "6    Where does Gracie think Jackson thinks the pum...\n",
       "7    Where does Isabella think Amelia thinks the on...\n",
       "8    Where does Isla think Elizabeth thinks the pin...\n",
       "9    Where does Alexander really think the broccoli...\n",
       "Name: question, dtype: object"
      ]
     },
     "execution_count": 10,
     "metadata": {},
     "output_type": "execute_result"
    }
   ],
   "source": [
    "df.question[:10]"
   ]
  },
  {
   "cell_type": "code",
   "execution_count": 11,
   "metadata": {},
   "outputs": [],
   "source": [
    "#SYSTEM_PROMPT = \"\"\"You are a helpful assistant. First, think through the question internally before providing the final answer. The reasoning process and answer are enclosed within <think> </think> and <answer> </answer> tags, respectively, i.e., <think> step by step reasoning here </think><answer> answer here </answer>\"\"\"\n",
    "\n",
    "SYSTEM_PROMPT = \"\"\"You are a helpful assistant. The assistant first thinks about the reasoning process in the mind and then provides the user with the answer. The reasoning process and answer are enclosed within <think> </think> and <answer> </answer> tags, respectively, i.e., <think> reasoning process here </think><answer> answer here </answer>.\"\"\""
   ]
  },
  {
   "cell_type": "code",
   "execution_count": 12,
   "metadata": {},
   "outputs": [],
   "source": [
    "XML_COT_FORMAT = \"\"\"Story: {}\\n Question:{}\"\"\""
   ]
  },
  {
   "cell_type": "code",
   "execution_count": 13,
   "metadata": {},
   "outputs": [],
   "source": [
    "def get_prompts(dft):\n",
    "    prompt = []\n",
    "    for i in range(len(dft)):\n",
    "        if dft['data_source'][i] == 'explore_tom':\n",
    "            prompt.append( [\n",
    "                    {'role': 'system', 'content': SYSTEM_PROMPT},\n",
    "                    {'role': 'user', 'content': XML_COT_FORMAT.format(dft['story_structure'][i], dft['question'][i])}\n",
    "                ])\n",
    "        else:\n",
    "            prompt.append( [\n",
    "                    {'role': 'system', 'content': SYSTEM_PROMPT},\n",
    "                    {'role': 'user', 'content': XML_COT_FORMAT.format(dft['story'][i], dft['question'][i])}\n",
    "                ])\n",
    "    return prompt"
   ]
  },
  {
   "cell_type": "code",
   "execution_count": 17,
   "metadata": {},
   "outputs": [],
   "source": [
    "prompts = get_prompts(df)\n",
    "df['prompt'] = prompts\n",
    "\n",
    "prompts = get_prompts(dfe)\n",
    "dfe['prompt'] = prompts\n",
    "\n",
    "prompts = get_prompts(dfh)\n",
    "dfh['prompt'] = prompts"
   ]
  },
  {
   "cell_type": "code",
   "execution_count": 18,
   "metadata": {},
   "outputs": [
    {
     "data": {
      "text/html": [
       "<div>\n",
       "<style scoped>\n",
       "    .dataframe tbody tr th:only-of-type {\n",
       "        vertical-align: middle;\n",
       "    }\n",
       "\n",
       "    .dataframe tbody tr th {\n",
       "        vertical-align: top;\n",
       "    }\n",
       "\n",
       "    .dataframe thead th {\n",
       "        text-align: right;\n",
       "    }\n",
       "</style>\n",
       "<table border=\"1\" class=\"dataframe\">\n",
       "  <thead>\n",
       "    <tr style=\"text-align: right;\">\n",
       "      <th></th>\n",
       "      <th>story_structure</th>\n",
       "      <th>infilled_story</th>\n",
       "      <th>question</th>\n",
       "      <th>answer</th>\n",
       "      <th>question_type</th>\n",
       "      <th>params</th>\n",
       "      <th>nth_order</th>\n",
       "      <th>is_interesting</th>\n",
       "      <th>story_type</th>\n",
       "      <th>story_structure_wn</th>\n",
       "      <th>data_source</th>\n",
       "      <th>prompt</th>\n",
       "    </tr>\n",
       "  </thead>\n",
       "  <tbody>\n",
       "    <tr>\n",
       "      <th>0</th>\n",
       "      <td>Elijah entered the multipurpose room. Bryce en...</td>\n",
       "      <td>The community center's multipurpose room, with...</td>\n",
       "      <td>In which container is the harmonica now?</td>\n",
       "      <td>wooden chest</td>\n",
       "      <td>ground_truth-container_location</td>\n",
       "      <td>(None, 'harmonica', 'ground_truth-container_lo...</td>\n",
       "      <td>-1</td>\n",
       "      <td>True</td>\n",
       "      <td>tomi+object-state</td>\n",
       "      <td>1 Elijah entered the multipurpose room\\n2 Bryc...</td>\n",
       "      <td>explore_tom</td>\n",
       "      <td>[{'role': 'system', 'content': 'You are a help...</td>\n",
       "    </tr>\n",
       "    <tr>\n",
       "      <th>1</th>\n",
       "      <td>Kennedy entered the operations room. Colton en...</td>\n",
       "      <td>Deep within a heavily fortified military base,...</td>\n",
       "      <td>In which room does Jessica think that Riley wi...</td>\n",
       "      <td>operations room</td>\n",
       "      <td>room_location-True</td>\n",
       "      <td>(['Jessica', 'Riley'], 'metal toolbox', 'room_...</td>\n",
       "      <td>2</td>\n",
       "      <td>False</td>\n",
       "      <td>tomi+info-exchange</td>\n",
       "      <td>1 Kennedy entered the operations room\\n2 Colto...</td>\n",
       "      <td>explore_tom</td>\n",
       "      <td>[{'role': 'system', 'content': 'You are a help...</td>\n",
       "    </tr>\n",
       "  </tbody>\n",
       "</table>\n",
       "</div>"
      ],
      "text/plain": [
       "                                     story_structure  \\\n",
       "0  Elijah entered the multipurpose room. Bryce en...   \n",
       "1  Kennedy entered the operations room. Colton en...   \n",
       "\n",
       "                                      infilled_story  \\\n",
       "0  The community center's multipurpose room, with...   \n",
       "1  Deep within a heavily fortified military base,...   \n",
       "\n",
       "                                            question           answer  \\\n",
       "0           In which container is the harmonica now?     wooden chest   \n",
       "1  In which room does Jessica think that Riley wi...  operations room   \n",
       "\n",
       "                     question_type  \\\n",
       "0  ground_truth-container_location   \n",
       "1               room_location-True   \n",
       "\n",
       "                                              params  nth_order  \\\n",
       "0  (None, 'harmonica', 'ground_truth-container_lo...         -1   \n",
       "1  (['Jessica', 'Riley'], 'metal toolbox', 'room_...          2   \n",
       "\n",
       "   is_interesting          story_type  \\\n",
       "0            True   tomi+object-state   \n",
       "1           False  tomi+info-exchange   \n",
       "\n",
       "                                  story_structure_wn  data_source  \\\n",
       "0  1 Elijah entered the multipurpose room\\n2 Bryc...  explore_tom   \n",
       "1  1 Kennedy entered the operations room\\n2 Colto...  explore_tom   \n",
       "\n",
       "                                              prompt  \n",
       "0  [{'role': 'system', 'content': 'You are a help...  \n",
       "1  [{'role': 'system', 'content': 'You are a help...  "
      ]
     },
     "execution_count": 18,
     "metadata": {},
     "output_type": "execute_result"
    }
   ],
   "source": [
    "dfe.head(2)"
   ]
  },
  {
   "cell_type": "code",
   "execution_count": 19,
   "metadata": {},
   "outputs": [
    {
     "data": {
      "text/html": [
       "<div>\n",
       "<style scoped>\n",
       "    .dataframe tbody tr th:only-of-type {\n",
       "        vertical-align: middle;\n",
       "    }\n",
       "\n",
       "    .dataframe tbody tr th {\n",
       "        vertical-align: top;\n",
       "    }\n",
       "\n",
       "    .dataframe thead th {\n",
       "        text-align: right;\n",
       "    }\n",
       "</style>\n",
       "<table border=\"1\" class=\"dataframe\">\n",
       "  <thead>\n",
       "    <tr style=\"text-align: right;\">\n",
       "      <th></th>\n",
       "      <th>deception</th>\n",
       "      <th>story_length</th>\n",
       "      <th>question_order</th>\n",
       "      <th>sample_id</th>\n",
       "      <th>story</th>\n",
       "      <th>question</th>\n",
       "      <th>choices</th>\n",
       "      <th>answer</th>\n",
       "      <th>question_old</th>\n",
       "      <th>answer_old</th>\n",
       "      <th>data_source</th>\n",
       "      <th>prompt</th>\n",
       "      <th>ability</th>\n",
       "      <th>reward_model</th>\n",
       "      <th>extra_info</th>\n",
       "    </tr>\n",
       "  </thead>\n",
       "  <tbody>\n",
       "    <tr>\n",
       "      <th>0</th>\n",
       "      <td>True</td>\n",
       "      <td>2</td>\n",
       "      <td>3</td>\n",
       "      <td>96</td>\n",
       "      <td>Lily, Hannah, Emma, Jackson and Gracie entered...</td>\n",
       "      <td>Where does Lily think Gracie thinks Jackson th...</td>\n",
       "      <td>A. green_drawer, B. red_container, C. blue_box...</td>\n",
       "      <td>green_cupboard</td>\n",
       "      <td>Where does Lily think Gracie thinks Jackson th...</td>\n",
       "      <td>green_cupboard</td>\n",
       "      <td>hi_tom</td>\n",
       "      <td>[{'role': 'system', 'content': 'You are a help...</td>\n",
       "      <td>theory_of_mind</td>\n",
       "      <td>{'ground_truth': 'green_cupboard', 'style': 'r...</td>\n",
       "      <td>{'deception': True, 'question_order': 3, 'stor...</td>\n",
       "    </tr>\n",
       "    <tr>\n",
       "      <th>1</th>\n",
       "      <td>False</td>\n",
       "      <td>1</td>\n",
       "      <td>3</td>\n",
       "      <td>29</td>\n",
       "      <td>Mila, Benjamin, Emily, Noah and Isabella enter...</td>\n",
       "      <td>Where does Noah think Emily thinks Mila thinks...</td>\n",
       "      <td>A. red_crate, B. red_bottle, C. blue_drawer, D...</td>\n",
       "      <td>red_crate</td>\n",
       "      <td>Where does Noah think Emily thinks Mila thinks...</td>\n",
       "      <td>red_crate</td>\n",
       "      <td>hi_tom</td>\n",
       "      <td>[{'role': 'system', 'content': 'You are a help...</td>\n",
       "      <td>theory_of_mind</td>\n",
       "      <td>{'ground_truth': 'red_crate', 'style': 'rule'}</td>\n",
       "      <td>{'deception': False, 'question_order': 3, 'sto...</td>\n",
       "    </tr>\n",
       "  </tbody>\n",
       "</table>\n",
       "</div>"
      ],
      "text/plain": [
       "   deception  story_length  question_order  sample_id  \\\n",
       "0       True             2               3         96   \n",
       "1      False             1               3         29   \n",
       "\n",
       "                                               story  \\\n",
       "0  Lily, Hannah, Emma, Jackson and Gracie entered...   \n",
       "1  Mila, Benjamin, Emily, Noah and Isabella enter...   \n",
       "\n",
       "                                            question  \\\n",
       "0  Where does Lily think Gracie thinks Jackson th...   \n",
       "1  Where does Noah think Emily thinks Mila thinks...   \n",
       "\n",
       "                                             choices          answer  \\\n",
       "0  A. green_drawer, B. red_container, C. blue_box...  green_cupboard   \n",
       "1  A. red_crate, B. red_bottle, C. blue_drawer, D...       red_crate   \n",
       "\n",
       "                                        question_old      answer_old  \\\n",
       "0  Where does Lily think Gracie thinks Jackson th...  green_cupboard   \n",
       "1  Where does Noah think Emily thinks Mila thinks...       red_crate   \n",
       "\n",
       "  data_source                                             prompt  \\\n",
       "0      hi_tom  [{'role': 'system', 'content': 'You are a help...   \n",
       "1      hi_tom  [{'role': 'system', 'content': 'You are a help...   \n",
       "\n",
       "          ability                                       reward_model  \\\n",
       "0  theory_of_mind  {'ground_truth': 'green_cupboard', 'style': 'r...   \n",
       "1  theory_of_mind     {'ground_truth': 'red_crate', 'style': 'rule'}   \n",
       "\n",
       "                                          extra_info  \n",
       "0  {'deception': True, 'question_order': 3, 'stor...  \n",
       "1  {'deception': False, 'question_order': 3, 'sto...  "
      ]
     },
     "execution_count": 19,
     "metadata": {},
     "output_type": "execute_result"
    }
   ],
   "source": [
    "df.head(2)"
   ]
  },
  {
   "cell_type": "code",
   "execution_count": 21,
   "metadata": {},
   "outputs": [],
   "source": [
    "col = ['prompt', 'answer', 'data_source']"
   ]
  },
  {
   "cell_type": "code",
   "execution_count": 30,
   "metadata": {},
   "outputs": [],
   "source": [
    "dfr = pd.concat([df.loc[:, col], dfe.loc[:, col]], ignore_index=True)\n",
    "dfr = dfr.sample(frac=1, replace=False, ignore_index=True)"
   ]
  },
  {
   "cell_type": "code",
   "execution_count": 31,
   "metadata": {},
   "outputs": [],
   "source": [
    "data = Dataset.from_pandas(dfr)"
   ]
  },
  {
   "cell_type": "code",
   "execution_count": 32,
   "metadata": {},
   "outputs": [
    {
     "data": {
      "text/plain": [
       "2800"
      ]
     },
     "execution_count": 32,
     "metadata": {},
     "output_type": "execute_result"
    }
   ],
   "source": [
    "len(data['prompt'])"
   ]
  },
  {
   "cell_type": "code",
   "execution_count": 33,
   "metadata": {},
   "outputs": [
    {
     "data": {
      "text/plain": [
       "<Axes: ylabel='Count'>"
      ]
     },
     "execution_count": 33,
     "metadata": {},
     "output_type": "execute_result"
    },
    {
     "data": {
      "image/png": "[encoded data removed]",
      "text/plain": [
       "<Figure size 400x200 with 1 Axes>"
      ]
     },
     "metadata": {},
     "output_type": "display_data"
    }
   ],
   "source": [
    "token_lengths = []\n",
    "for prompt_list in data['prompt']:\n",
    "    # Each prompt is a list of dictionaries, we want the 'content' of the first dict\n",
    "    # Tokenize the content\n",
    "    tokens = tokenizer.apply_chat_template(prompt_list)\n",
    "    token_lengths.append(len(tokens))\n",
    "\n",
    "token_lengths = np.array(token_lengths)\n",
    "_, ax = plt.subplots(1, 1, figsize=(4, 2))\n",
    "sns.histplot(token_lengths)"
   ]
  },
  {
   "cell_type": "code",
   "execution_count": 34,
   "metadata": {},
   "outputs": [
    {
     "data": {
      "text/plain": [
       "Dataset({\n",
       "    features: ['prompt', 'answer', 'data_source'],\n",
       "    num_rows: 2800\n",
       "})"
      ]
     },
     "execution_count": 34,
     "metadata": {},
     "output_type": "execute_result"
    }
   ],
   "source": [
    "data"
   ]
  },
  {
   "cell_type": "code",
   "execution_count": 35,
   "metadata": {},
   "outputs": [
    {
     "name": "stderr",
     "output_type": "stream",
     "text": [
      "Creating parquet from Arrow format: 100%|██████████| 3/3 [00:00<00:00, 541.74ba/s]\n"
     ]
    },
    {
     "data": {
      "text/plain": [
       "4007262"
      ]
     },
     "execution_count": 35,
     "metadata": {},
     "output_type": "execute_result"
    }
   ],
   "source": [
    "data.to_parquet('../data/train/ToM_train_HiEx.parquet')"
   ]
  },
  {
   "cell_type": "code",
   "execution_count": null,
   "metadata": {},
   "outputs": [],
   "source": []
  },
  {
   "cell_type": "code",
   "execution_count": null,
   "metadata": {},
   "outputs": [],
   "source": []
  }
 ],
 "metadata": {
  "kernelspec": {
   "display_name": "vllm",
   "language": "python",
   "name": "python3"
  },
  "language_info": {
   "codemirror_mode": {
    "name": "ipython",
    "version": 3
   },
   "file_extension": ".py",
   "mimetype": "text/x-python",
   "name": "python",
   "nbconvert_exporter": "python",
   "pygments_lexer": "ipython3",
   "version": "3.10.16"
  }
 },
 "nbformat": 4,
 "nbformat_minor": 2
}
