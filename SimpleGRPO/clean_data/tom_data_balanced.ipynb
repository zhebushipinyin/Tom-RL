{
 "cells": [
  {
   "cell_type": "code",
   "execution_count": 1,
   "metadata": {},
   "outputs": [
    {
     "name": "stderr",
     "output_type": "stream",
     "text": [
      "/home/yilong/miniconda3/envs/vllm/lib/python3.10/site-packages/tqdm/auto.py:21: TqdmWarning: IProgress not found. Please update jupyter and ipywidgets. See https://ipywidgets.readthedocs.io/en/stable/user_install.html\n",
      "  from .autonotebook import tqdm as notebook_tqdm\n"
     ]
    }
   ],
   "source": [
    "import json\n",
    "import argparse\n",
    "import numpy as np\n",
    "import pandas as pd\n",
    "import seaborn as sns\n",
    "from datasets import load_dataset, Dataset, load_from_disk\n",
    "import matplotlib.pyplot as plt \n",
    "from transformers import AutoTokenizer"
   ]
  },
  {
   "cell_type": "code",
   "execution_count": 2,
   "metadata": {},
   "outputs": [],
   "source": [
    "df = pd.read_parquet('../data/train/ToM_train_600.parquet')"
   ]
  },
  {
   "cell_type": "code",
   "execution_count": 3,
   "metadata": {},
   "outputs": [
    {
     "data": {
      "text/plain": [
       "600"
      ]
     },
     "execution_count": 3,
     "metadata": {},
     "output_type": "execute_result"
    }
   ],
   "source": [
    "len(df)"
   ]
  },
  {
   "cell_type": "code",
   "execution_count": 4,
   "metadata": {},
   "outputs": [],
   "source": [
    "tokenizer = AutoTokenizer.from_pretrained(\"Qwen/Qwen2.5-0.5B-Instruct\", trust_remote_code=True)"
   ]
  },
  {
   "cell_type": "code",
   "execution_count": 5,
   "metadata": {},
   "outputs": [
    {
     "name": "stdout",
     "output_type": "stream",
     "text": [
      "<class 'pandas.core.frame.DataFrame'>\n",
      "RangeIndex: 600 entries, 0 to 599\n",
      "Data columns (total 10 columns):\n",
      " #   Column              Non-Null Count  Dtype \n",
      "---  ------              --------------  ----- \n",
      " 0   story_structure     600 non-null    object\n",
      " 1   infilled_story      600 non-null    object\n",
      " 2   question            600 non-null    object\n",
      " 3   answer              600 non-null    object\n",
      " 4   question_type       600 non-null    object\n",
      " 5   params              600 non-null    object\n",
      " 6   nth_order           600 non-null    int64 \n",
      " 7   is_interesting      600 non-null    bool  \n",
      " 8   story_type          600 non-null    object\n",
      " 9   story_structure_wn  600 non-null    object\n",
      "dtypes: bool(1), int64(1), object(8)\n",
      "memory usage: 42.9+ KB\n"
     ]
    }
   ],
   "source": [
    "df.info()"
   ]
  },
  {
   "cell_type": "code",
   "execution_count": 8,
   "metadata": {},
   "outputs": [
    {
     "data": {
      "text/plain": [
       "story_type\n",
       "all                              45\n",
       "all+asymmetric                   27\n",
       "allbutfantom                     43\n",
       "allbutfantom+asymmetric          58\n",
       "tomi                             76\n",
       "tomi+asymmetric                  30\n",
       "tomi+info-exchange               45\n",
       "tomi+info-exchange+asymmetric    61\n",
       "tomi+object-state                62\n",
       "tomi+object-state+asymmetric     52\n",
       "tomi+room-changes                36\n",
       "tomi+room-changes+asymmetric     60\n",
       "tomi-object-state                 4\n",
       "tomi-object-state+asymmetric      1\n",
       "Name: params, dtype: int64"
      ]
     },
     "execution_count": 8,
     "metadata": {},
     "output_type": "execute_result"
    }
   ],
   "source": [
    "df.groupby(['story_type']).params.count()"
   ]
  },
  {
   "cell_type": "code",
   "execution_count": 9,
   "metadata": {},
   "outputs": [
    {
     "data": {
      "text/plain": [
       "is_interesting  nth_order\n",
       "False            1            12\n",
       "                 2            68\n",
       "True            -1           181\n",
       "                 1           133\n",
       "                 2           206\n",
       "Name: story_structure, dtype: int64"
      ]
     },
     "execution_count": 9,
     "metadata": {},
     "output_type": "execute_result"
    }
   ],
   "source": [
    "df.groupby(['is_interesting','nth_order']).story_structure.count()"
   ]
  },
  {
   "cell_type": "code",
   "execution_count": 14,
   "metadata": {},
   "outputs": [],
   "source": [
    "dfs = df.groupby(['story_structure']).answer.count().reset_index()"
   ]
  },
  {
   "cell_type": "code",
   "execution_count": 26,
   "metadata": {},
   "outputs": [
    {
     "data": {
      "text/plain": [
       "177"
      ]
     },
     "execution_count": 26,
     "metadata": {},
     "output_type": "execute_result"
    }
   ],
   "source": [
    "len(dfs)"
   ]
  },
  {
   "cell_type": "code",
   "execution_count": 25,
   "metadata": {},
   "outputs": [
    {
     "data": {
      "text/plain": [
       "177"
      ]
     },
     "execution_count": 25,
     "metadata": {},
     "output_type": "execute_result"
    }
   ],
   "source": [
    "len(df.groupby(['infilled_story']).answer.count().reset_index())"
   ]
  },
  {
   "cell_type": "code",
   "execution_count": 16,
   "metadata": {},
   "outputs": [
    {
     "data": {
      "text/plain": [
       "18"
      ]
     },
     "execution_count": 16,
     "metadata": {},
     "output_type": "execute_result"
    }
   ],
   "source": [
    "dfs.answer.max()"
   ]
  },
  {
   "cell_type": "code",
   "execution_count": 38,
   "metadata": {},
   "outputs": [],
   "source": [
    "df_grouped_ = df.groupby(\"story_structure\", as_index=False).agg({\"question\": list,\"answer\": list, \"infilled_story\": \"first\", 'story_structure_wn':'first', 'params':'count'})\n",
    "df_grouped = df_grouped_.reset_index()"
   ]
  },
  {
   "cell_type": "code",
   "execution_count": 39,
   "metadata": {},
   "outputs": [
    {
     "data": {
      "text/plain": [
       "params\n",
       "1     63\n",
       "2     39\n",
       "3     22\n",
       "4     16\n",
       "5      7\n",
       "6      4\n",
       "7      5\n",
       "8      8\n",
       "9      1\n",
       "10     2\n",
       "11     4\n",
       "15     1\n",
       "16     3\n",
       "17     1\n",
       "18     1\n",
       "Name: answer, dtype: int64"
      ]
     },
     "execution_count": 39,
     "metadata": {},
     "output_type": "execute_result"
    }
   ],
   "source": [
    "df_grouped.groupby('params').answer.count()"
   ]
  },
  {
   "cell_type": "code",
   "execution_count": 45,
   "metadata": {},
   "outputs": [],
   "source": [
    "dft = df_grouped.loc[df_grouped.params<7].copy()\n",
    "dft.index = range(len(dft))"
   ]
  },
  {
   "cell_type": "code",
   "execution_count": 152,
   "metadata": {},
   "outputs": [],
   "source": [
    "SYSTEM_PROMPT = \"\"\"You are a helpful assistant. First, think through the question internally before providing the final answer. The reasoning process and answer are enclosed within <think> </think> and <answer> </answer> tags, respectively, i.e., <think> step by step reasoning here </think><answer> answer here </answer>. For multiple questions, clearly answer each one sequentially, e.g., <answer>(1) answer 1 (2) answer 2 </answer>\"\"\""
   ]
  },
  {
   "cell_type": "code",
   "execution_count": 153,
   "metadata": {},
   "outputs": [],
   "source": [
    "XML_COT_FORMAT = \"\"\"Story: {}\\n Question:{}\"\"\""
   ]
  },
  {
   "cell_type": "code",
   "execution_count": 154,
   "metadata": {},
   "outputs": [
    {
     "data": {
      "text/plain": [
       "Index(['index', 'story_structure', 'question', 'answer', 'infilled_story',\n",
       "       'story_structure_wn', 'params'],\n",
       "      dtype='object')"
      ]
     },
     "execution_count": 154,
     "metadata": {},
     "output_type": "execute_result"
    }
   ],
   "source": [
    "dft.columns"
   ]
  },
  {
   "cell_type": "code",
   "execution_count": 155,
   "metadata": {},
   "outputs": [],
   "source": [
    "dfm = dft.melt(id_vars=['question', 'answer'], value_vars=['infilled_story', 'story_structure', 'story_structure_wn'], var_name='story_group',value_name='story')"
   ]
  },
  {
   "cell_type": "code",
   "execution_count": 156,
   "metadata": {},
   "outputs": [],
   "source": [
    "def get_prompts(dft):\n",
    "    prompt = []\n",
    "    for i in range(len(dft)):\n",
    "        if type(dft['answer'][i]) == str:\n",
    "            ans = eval(dft['answer'][i])\n",
    "        else:\n",
    "            ans = dft['answer'][i]\n",
    "        if len(ans)==1:\n",
    "            prompt.append( [\n",
    "                    {'role': 'system', 'content': SYSTEM_PROMPT},\n",
    "                    {'role': 'user', 'content': XML_COT_FORMAT.format(dft['story'][i], dft['question'][i][0])}\n",
    "                ])\n",
    "        else:\n",
    "            content = \"\"\"Story: {}\"\"\".format(dft['story'][i])\n",
    "            for k, q in enumerate(dft['question'][i]):\n",
    "                content+='\\nQuestion {}: {}'.format(k+1, q)\n",
    "            prompt.append( [\n",
    "                    {'role': 'system', 'content': SYSTEM_PROMPT},\n",
    "                    {'role': 'user', 'content': content}\n",
    "                ])\n",
    "    return prompt"
   ]
  },
  {
   "cell_type": "code",
   "execution_count": 157,
   "metadata": {},
   "outputs": [],
   "source": [
    "prompts = get_prompts(dfm)"
   ]
  },
  {
   "cell_type": "code",
   "execution_count": 158,
   "metadata": {},
   "outputs": [
    {
     "name": "stdout",
     "output_type": "stream",
     "text": [
      "Story: The dimly lit waiting lounge was quiet, with only the soft hum of the ventilation system and the occasional tick of the wall clock breaking the stillness. A metal file cabinet stood against one wall, while a few scattered chairs were arranged around a low coffee table, creating a sense of calm before a gathering storm. As Abigail entered the waiting lounge, the calm ambiance seemed almost palpable, with the faint hum of the ventilation system and the clock's gentle tick-tock providing a soothing background melody. Her gaze scanned the room, taking in the neatly arranged chairs and the metal file cabinet against the wall. In a hushed conversation with Jasmine, Abigail's soft voice came through, the words clear even if the context was discreetly veiled, as she whispered, \"I'm taking care of things in the waiting lounge now.\" With a quiet sense of purpose, Abigail placed the silver letter opener in the metal file cabinet, its new home within the waiting lounge a reflection of her organized nature. Gavin stepped into the serene atmosphere of the waiting lounge, where the faint hum of the ventilation system and the soft tick-tock of the clock greeted him. The soft hum of the ventilation system and the clock's gentle tick-tock were the only sounds remaining as Abigail exited the waiting lounge, her task finished and the room left in silence. Gavin carefully made his way to the metal file cabinet, and in a swift motion, retrieved the silver letter opener before making his way to the conference room to relocate it. His steps were purposeful, echoing through the hall as he left the silent waiting lounge behind, the metal file cabinet still standing quietly against the wall. Gavin's footsteps, which had recently echoed through the hallway on his way to the conference room, were no longer audible, indicating his departure from the area. Alexis was quietly brought up to speed by Gavin, who let him know the metal file cabinet's current location was the waiting lounge. This information gave Alexis a clearer understanding of how key items were spread throughout the building. Alexis lowered his voice to mention that Gavin's previous confirmation of the metal file cabinet's location in the waiting lounge had provided him with the clarity to inform Abigail of this crucial detail. As Alexis walked into the conference room, the space welcomed him with its formal arrangements and stern atmosphere, a stark contrast to his previous conversations. As Gavin's subtle voice faded into the background, Abigail took mental note that the silver letter opener had found its way into the conference room, a valuable piece of information. Alexis carefully placed the silver letter opener in the waiting lounge, realizing his goal of creating a central location for key items. The waiting lounge, with its soothing atmosphere and neatly arranged furniture, was now home to the letter opener once again.\n",
      "Question 1: In which room was the silver letter opener before Gavin moved the silver letter opener to the conference room, leaving the metal file cabinet in its original location?\n",
      "Question 2: In which room was the silver letter opener at the beginning?\n",
      "Question 3: In which room is the silver letter opener now?\n",
      "Question 4: In which room was the silver letter opener before Alexis moved the silver letter opener to the waiting lounge?\n"
     ]
    }
   ],
   "source": [
    "print(prompts[2][1]['content'])"
   ]
  },
  {
   "cell_type": "code",
   "execution_count": 159,
   "metadata": {},
   "outputs": [],
   "source": [
    "dfm['prompt'] = prompts"
   ]
  },
  {
   "cell_type": "code",
   "execution_count": 160,
   "metadata": {},
   "outputs": [],
   "source": [
    "import re\n",
    "\n",
    "def extract_ordered_answers(text, correct_answers):\n",
    "    \"\"\"\n",
    "    按照指定顺序从文本中提取正确答案\n",
    "    \n",
    "    Args:\n",
    "        text (str): 输入文本\n",
    "        correct_answers (list): 预期正确答案的列表（按顺序）\n",
    "    \n",
    "    Returns:\n",
    "        list: 解析出的答案列表，按正确答案的顺序排列\n",
    "    \"\"\"\n",
    "    # 按“。；\\n”分割文本为句子列表\n",
    "    sentences = re.split(r\"[。；;.\\n]\", text)\n",
    "    \n",
    "    extracted_answers = []\n",
    "    last_matched_index = -1  # 记录上一次匹配成功的索引，确保匹配顺序\n",
    "    \n",
    "    for correct_ai in correct_answers:\n",
    "        pattern = r\"\\b(?:in|at|on|inside)?\\s*(?:the\\s*)?\" + re.escape(correct_ai) + r\"\\b\"\n",
    "\n",
    "        # 只从上一次匹配成功的位置往后搜索\n",
    "        for i in range(last_matched_index + 1, len(sentences)):\n",
    "            if re.search(pattern, sentences[i], re.IGNORECASE):\n",
    "                extracted_answers.append(correct_ai)\n",
    "                last_matched_index = i  # 记录匹配成功的索引\n",
    "                break  # 只允许匹配一次，防止重复使用同一部分文本\n",
    "        \n",
    "    return extracted_answers"
   ]
  },
  {
   "cell_type": "code",
   "execution_count": 161,
   "metadata": {},
   "outputs": [
    {
     "data": {
      "text/plain": [
       "['waiting lounge']"
      ]
     },
     "execution_count": 161,
     "metadata": {},
     "output_type": "execute_result"
    }
   ],
   "source": [
    "extract_ordered_answers('(1) leather satchel . waiting lounge. (1) ', ['waiting lounge', 'waiting lounge', 'waiting lounge', 'conference room'])"
   ]
  },
  {
   "cell_type": "code",
   "execution_count": 162,
   "metadata": {},
   "outputs": [],
   "source": [
    "data = Dataset.from_pandas(dfm)"
   ]
  },
  {
   "cell_type": "code",
   "execution_count": 163,
   "metadata": {},
   "outputs": [
    {
     "data": {
      "text/plain": [
       "453"
      ]
     },
     "execution_count": 163,
     "metadata": {},
     "output_type": "execute_result"
    }
   ],
   "source": [
    "len(data['prompt'])"
   ]
  },
  {
   "cell_type": "code",
   "execution_count": 164,
   "metadata": {},
   "outputs": [
    {
     "data": {
      "text/plain": [
       "<Axes: ylabel='Count'>"
      ]
     },
     "execution_count": 164,
     "metadata": {},
     "output_type": "execute_result"
    },
    {
     "data": {
      "image/png": "[encoded data removed]",
      "text/plain": [
       "<Figure size 400x200 with 1 Axes>"
      ]
     },
     "metadata": {},
     "output_type": "display_data"
    }
   ],
   "source": [
    "token_lengths = []\n",
    "for prompt_list in data['prompt']:\n",
    "    # Each prompt is a list of dictionaries, we want the 'content' of the first dict\n",
    "    # Tokenize the content\n",
    "    tokens = tokenizer.apply_chat_template(prompt_list)\n",
    "    token_lengths.append(len(tokens))\n",
    "\n",
    "token_lengths = np.array(token_lengths)\n",
    "_, ax = plt.subplots(1, 1, figsize=(4, 2))\n",
    "sns.histplot(token_lengths)"
   ]
  },
  {
   "cell_type": "code",
   "execution_count": 165,
   "metadata": {},
   "outputs": [],
   "source": [
    "df_train_ = dfm.iloc[np.arange(len(token_lengths))[token_lengths<512]]\n",
    "df_train_.index = range(len(df_train_))"
   ]
  },
  {
   "cell_type": "code",
   "execution_count": 166,
   "metadata": {},
   "outputs": [],
   "source": [
    "data_train = Dataset.from_pandas(df_train_)"
   ]
  },
  {
   "cell_type": "code",
   "execution_count": 167,
   "metadata": {},
   "outputs": [
    {
     "data": {
      "text/plain": [
       "Dataset({\n",
       "    features: ['question', 'answer', 'story_group', 'story', 'prompt'],\n",
       "    num_rows: 405\n",
       "})"
      ]
     },
     "execution_count": 167,
     "metadata": {},
     "output_type": "execute_result"
    }
   ],
   "source": [
    "data_train"
   ]
  },
  {
   "cell_type": "code",
   "execution_count": 168,
   "metadata": {},
   "outputs": [
    {
     "name": "stderr",
     "output_type": "stream",
     "text": [
      "Creating parquet from Arrow format: 100%|██████████| 1/1 [00:00<00:00, 485.68ba/s]\n"
     ]
    },
    {
     "data": {
      "text/plain": [
       "992696"
      ]
     },
     "execution_count": 168,
     "metadata": {},
     "output_type": "execute_result"
    }
   ],
   "source": [
    "data_train.to_parquet('../data/train/ToM_train_multiquestion.parquet')"
   ]
  },
  {
   "cell_type": "code",
   "execution_count": null,
   "metadata": {},
   "outputs": [],
   "source": []
  },
  {
   "cell_type": "code",
   "execution_count": null,
   "metadata": {},
   "outputs": [],
   "source": []
  },
  {
   "cell_type": "code",
   "execution_count": null,
   "metadata": {},
   "outputs": [],
   "source": []
  },
  {
   "cell_type": "code",
   "execution_count": 144,
   "metadata": {},
   "outputs": [],
   "source": [
    "def extract_xml_answer(text: str) -> str:\n",
    "    answer_pattern = r'<answer>(.*?)</answer>'\n",
    "    matches = list(re.finditer(answer_pattern, text, re.DOTALL))\n",
    "    if not matches:\n",
    "        return None\n",
    "        \n",
    "    final_answer = matches[-1].group(1).strip()\n",
    "    return final_answer\n",
    "\n",
    "\n",
    "\n",
    "def normalize_answer(answer: str) -> str:\n",
    "    \"\"\"Normalizes the answer text for better comparison.\n",
    "    Args:\n",
    "        answer: Raw answer text\n",
    "    Returns:\n",
    "        Normalized answer text\n",
    "    \"\"\"\n",
    "    # Convert to lowercase\n",
    "    normalized = answer.lower()\n",
    "    # Remove extra whitespace\n",
    "    normalized = re.sub(r'\\s+', ' ', normalized).strip()\n",
    "    # Remove punctuation that doesn't affect meaning\n",
    "    normalized = re.sub(r'[.,;:!?]', '', normalized)\n",
    "    return normalized\n",
    "\n",
    "\n",
    "def extract_ordered_answers(text, correct_answers):\n",
    "    \"\"\"\n",
    "    按照指定顺序从文本中提取正确答案\n",
    "    \n",
    "    Args:\n",
    "        text (str): 输入文本\n",
    "        correct_answers (list): 预期正确答案的列表（按顺序）\n",
    "    \n",
    "    Returns:\n",
    "        list: 解析出的答案列表，按正确答案的顺序排列\n",
    "    \"\"\"\n",
    "    # 按“。；\\n”分割文本为句子列表\n",
    "    sentences = re.split(r\"[。；;.\\n]\", text)\n",
    "    sentences = [normalize_answer(s) for s in sentences]\n",
    "    extracted_answers = []\n",
    "    last_matched_index = -1  # 记录上一次匹配成功的索引，确保匹配顺序\n",
    "    \n",
    "    for correct_ai in correct_answers:\n",
    "        pattern = r\"\\b(?:in|at|on|inside)?\\s*(?:the\\s*)?\" + re.escape(correct_ai) + r\"\\b\"\n",
    "\n",
    "        # 只从上一次匹配成功的位置往后搜索\n",
    "        for i in range(last_matched_index + 1, len(sentences)):\n",
    "            if re.search(pattern, sentences[i], re.IGNORECASE):\n",
    "                extracted_answers.append(correct_ai)\n",
    "                last_matched_index = i  # 记录匹配成功的索引\n",
    "                break  # 只允许匹配一次，防止重复使用同一部分文本\n",
    "    return extracted_answers\n",
    "\n",
    "\n",
    "def reward_func_(response, answer):\n",
    "    pattern = r\"^<think>.*?</think>\\s*<answer>.*?</answer>$\"\n",
    "    match = re.match(pattern, response, re.DOTALL | re.MULTILINE)\n",
    "\n",
    "    if match:\n",
    "        response_ = extract_xml_answer(response)\n",
    "        if response_ is None:\n",
    "            return 0.5\n",
    "        norm_response = response_\n",
    "        norm_answer = [normalize_answer(each) for each in answer] \n",
    "        pred_status = extract_ordered_answers(norm_response, norm_answer)\n",
    "        print(pred_status, norm_answer)\n",
    "        if pred_status == norm_answer:\n",
    "            return 2\n",
    "        else:\n",
    "            return 0.5 + 0.05*len(pred_status)\n",
    "    else:\n",
    "        return 0"
   ]
  },
  {
   "cell_type": "code",
   "execution_count": 145,
   "metadata": {},
   "outputs": [
    {
     "data": {
      "text/plain": [
       "['airport terminal gate area', 'briefcase']"
      ]
     },
     "execution_count": 145,
     "metadata": {},
     "output_type": "execute_result"
    }
   ],
   "source": [
    "data_train['answer'][2]"
   ]
  },
  {
   "cell_type": "code",
   "execution_count": 146,
   "metadata": {},
   "outputs": [
    {
     "name": "stdout",
     "output_type": "stream",
     "text": [
      "In the bustling airport terminal, the bright fluorescent lights overhead illuminated rows of neatly lined seats, while sleek laptops and smartphones hummed quietly on laps and in hands. The constant murmur of distant conversations and the occasional jet taking off created a soothing background noise, setting the scene for another ordinary day of travel and transit. Through the throngs of people at the gate, Alexander expertly navigated, juggling his numerous belongings and precious little spare time, with each carefully calculated move a testament to his experience as a seasoned traveler. He passed unobtrusively by Dominic, a man moving against the tide of weary travelers, and an uncanny air of alertness surrounded him. With economical movements, Alexander had stowed his travel documents and belongings in remarkably little time. Opening the briefcase just long enough to pull out the leather wallet, he deposited it into a safer location - his backpack, which he zipped up firmly after a hasty final check. Swiftly distancing himself from the throngs of people at the gate, Dominic stepped into the winding corridors of the airport, the soft rush of air conditioning replacing the din of conversations. Alexander checked the time again, satisfied that his belongings were secure, and gave the duffel bag, now home to the leather wallet, a reassuring pat before he zipped it shut. Dominic made his way back into the tidal wave of weary travelers at the gate, subtly searching the crowd as his eyes roamed over rows of neatly lined seats and scattered luggage. As Dominic flowed through the crowd, his fingers made a brief stop at the briefcase, depositing the leather wallet inside before continuing on his path.\n"
     ]
    }
   ],
   "source": [
    "print(data_train['story'][2])"
   ]
  },
  {
   "cell_type": "code",
   "execution_count": 147,
   "metadata": {},
   "outputs": [],
   "source": [
    "answer = \"<think>think</think><answer>'airport terminal gate area'\\n (2) at the briefcase.</answer>\"\n",
    "answer_wrong = \"<think>think</think><answer>(2) at the  . 'airport terminal  area'\\n </answer>\"\n",
    "answer_p1 = \"<think>think</think><answer>'airport terminal gate area.</answer>\"\n",
    "answer_p2 = \"<think>think</think><answer>'airport terminal gate. briefcase</answer>\""
   ]
  },
  {
   "cell_type": "code",
   "execution_count": 148,
   "metadata": {},
   "outputs": [
    {
     "name": "stdout",
     "output_type": "stream",
     "text": [
      "['airport terminal gate area', 'briefcase'] ['airport terminal gate area', 'briefcase']\n"
     ]
    },
    {
     "data": {
      "text/plain": [
       "2"
      ]
     },
     "execution_count": 148,
     "metadata": {},
     "output_type": "execute_result"
    }
   ],
   "source": [
    "reward_func_(answer, data_train['answer'][2])"
   ]
  },
  {
   "cell_type": "code",
   "execution_count": 149,
   "metadata": {},
   "outputs": [
    {
     "name": "stdout",
     "output_type": "stream",
     "text": [
      "[] ['airport terminal gate area', 'briefcase']\n"
     ]
    },
    {
     "data": {
      "text/plain": [
       "0.5"
      ]
     },
     "execution_count": 149,
     "metadata": {},
     "output_type": "execute_result"
    }
   ],
   "source": [
    "reward_func_(answer_wrong, data_train['answer'][2])"
   ]
  },
  {
   "cell_type": "code",
   "execution_count": 150,
   "metadata": {},
   "outputs": [
    {
     "name": "stdout",
     "output_type": "stream",
     "text": [
      "['airport terminal gate area'] ['airport terminal gate area', 'briefcase']\n"
     ]
    },
    {
     "data": {
      "text/plain": [
       "0.55"
      ]
     },
     "execution_count": 150,
     "metadata": {},
     "output_type": "execute_result"
    }
   ],
   "source": [
    "reward_func_(answer_p1, data_train['answer'][2])"
   ]
  },
  {
   "cell_type": "code",
   "execution_count": 151,
   "metadata": {},
   "outputs": [
    {
     "name": "stdout",
     "output_type": "stream",
     "text": [
      "['briefcase'] ['airport terminal gate area', 'briefcase']\n"
     ]
    },
    {
     "data": {
      "text/plain": [
       "0.55"
      ]
     },
     "execution_count": 151,
     "metadata": {},
     "output_type": "execute_result"
    }
   ],
   "source": [
    "reward_func_(answer_p2, data_train['answer'][2])"
   ]
  },
  {
   "cell_type": "code",
   "execution_count": 173,
   "metadata": {},
   "outputs": [
    {
     "name": "stdout",
     "output_type": "stream",
     "text": [
      "['airport terminal gate area' 'arrangement room' 'art studio'\n",
      " 'back office' 'back office of the vet shop'\n",
      " 'back room of the coffee shop' 'back room of the game store'\n",
      " 'back room of the pub' 'back room of the thrift store' 'backpack'\n",
      " 'backstage lounge' 'backstage production office' 'backstage tent'\n",
      " 'ballroom' 'black leather wallet' 'black plastic storage bin' 'briefcase'\n",
      " 'briefing room' 'canvas backpack' 'canvas bag' 'canvas duffel bag'\n",
      " 'canvas tote bag' 'cardboard box' 'cardboard envelope'\n",
      " 'cardboard evidence box' 'cardboard file box' 'cardboard storage box'\n",
      " 'cemetery maintenance office' 'chapel' 'collaborative study room'\n",
      " 'community room' 'conference room' 'conservation lab'\n",
      " 'consulate meeting room' 'consulate reception area' 'consultation room'\n",
      " 'control room' 'crew lounge' 'desk drawer' \"diner's back room\"\n",
      " 'employee break room' 'evidence storage room' 'fabric pouch'\n",
      " 'festival merchandise booth' 'galley' 'grand ballroom' 'green room'\n",
      " 'guitar case' 'hospital conference room' 'hospital staff lounge'\n",
      " 'hospital supply closet' 'hostel dorm' 'hotel suite' 'jail dayroom'\n",
      " 'leather briefcase' 'leather pouch' 'leather satchel' 'leather wallet'\n",
      " 'library study room' 'lunchbox' 'main bar area' 'main coffee shop area'\n",
      " 'main dining area' 'main information tent' 'main inspection area'\n",
      " 'main sales floor' 'main tent' 'metal file cabinet'\n",
      " 'metal file cabinet drawer' 'metal locker' 'metal lunchbox' 'metal safe'\n",
      " 'metal toolbox' 'multipurpose room' 'nylon backpack' 'operations center'\n",
      " 'operations room' 'outdoor garden' 'planning room' 'plastic bin'\n",
      " 'plastic storage bin' 'plastic toolbox' 'press box' 'production room'\n",
      " 'reception hall' 'satin clutch' 'security control room'\n",
      " \"stadium's main office\" 'staff room' 'storage bin' 'storage gallery'\n",
      " 'storage trailer' 'storage warehouse' 'student lounge'\n",
      " 'theater backstage' 'ticket office' 'toolbox' 'university cafeteria'\n",
      " 'velvet case' 'velvet pouch' 'visitor center' 'waiting area'\n",
      " 'waiting lounge' 'waiting room' 'wooden box' 'wooden chest'\n",
      " 'wooden crate' 'wooden desk drawer' 'wooden drawer' 'wooden jewelry box']\n"
     ]
    }
   ],
   "source": [
    "print(np.unique(df.answer))"
   ]
  },
  {
   "cell_type": "code",
   "execution_count": null,
   "metadata": {},
   "outputs": [],
   "source": []
  }
 ],
 "metadata": {
  "kernelspec": {
   "display_name": "vllm",
   "language": "python",
   "name": "python3"
  },
  "language_info": {
   "codemirror_mode": {
    "name": "ipython",
    "version": 3
   },
   "file_extension": ".py",
   "mimetype": "text/x-python",
   "name": "python",
   "nbconvert_exporter": "python",
   "pygments_lexer": "ipython3",
   "version": "3.10.16"
  }
 },
 "nbformat": 4,
 "nbformat_minor": 2
}
