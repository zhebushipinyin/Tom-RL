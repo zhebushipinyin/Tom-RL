{
 "cells": [
  {
   "cell_type": "code",
   "execution_count": 1,
   "metadata": {},
   "outputs": [
    {
     "name": "stderr",
     "output_type": "stream",
     "text": [
      "/home/yilong/miniconda3/envs/vllm/lib/python3.10/site-packages/tqdm/auto.py:21: TqdmWarning: IProgress not found. Please update jupyter and ipywidgets. See https://ipywidgets.readthedocs.io/en/stable/user_install.html\n",
      "  from .autonotebook import tqdm as notebook_tqdm\n"
     ]
    }
   ],
   "source": [
    "import json\n",
    "import argparse\n",
    "import numpy as np\n",
    "import pandas as pd\n",
    "import seaborn as sns\n",
    "from datasets import load_dataset, Dataset, load_from_disk\n",
    "import matplotlib.pyplot as plt \n",
    "from transformers import AutoTokenizer"
   ]
  },
  {
   "cell_type": "code",
   "execution_count": 2,
   "metadata": {},
   "outputs": [],
   "source": [
    "df = pd.read_parquet('../data/train/ToM_train_600.parquet')"
   ]
  },
  {
   "cell_type": "code",
   "execution_count": 3,
   "metadata": {},
   "outputs": [
    {
     "data": {
      "text/plain": [
       "600"
      ]
     },
     "execution_count": 3,
     "metadata": {},
     "output_type": "execute_result"
    }
   ],
   "source": [
    "len(df)"
   ]
  },
  {
   "cell_type": "code",
   "execution_count": 4,
   "metadata": {},
   "outputs": [],
   "source": [
    "tokenizer = AutoTokenizer.from_pretrained(\"Qwen/Qwen2.5-0.5B-Instruct\", trust_remote_code=True)"
   ]
  },
  {
   "cell_type": "code",
   "execution_count": 5,
   "metadata": {},
   "outputs": [
    {
     "name": "stdout",
     "output_type": "stream",
     "text": [
      "<class 'pandas.core.frame.DataFrame'>\n",
      "RangeIndex: 600 entries, 0 to 599\n",
      "Data columns (total 10 columns):\n",
      " #   Column              Non-Null Count  Dtype \n",
      "---  ------              --------------  ----- \n",
      " 0   story_structure     600 non-null    object\n",
      " 1   infilled_story      600 non-null    object\n",
      " 2   question            600 non-null    object\n",
      " 3   answer              600 non-null    object\n",
      " 4   question_type       600 non-null    object\n",
      " 5   params              600 non-null    object\n",
      " 6   nth_order           600 non-null    int64 \n",
      " 7   is_interesting      600 non-null    bool  \n",
      " 8   story_type          600 non-null    object\n",
      " 9   story_structure_wn  600 non-null    object\n",
      "dtypes: bool(1), int64(1), object(8)\n",
      "memory usage: 42.9+ KB\n"
     ]
    }
   ],
   "source": [
    "df.info()"
   ]
  },
  {
   "cell_type": "code",
   "execution_count": 6,
   "metadata": {},
   "outputs": [
    {
     "data": {
      "text/plain": [
       "story_type\n",
       "all                              45\n",
       "all+asymmetric                   27\n",
       "allbutfantom                     43\n",
       "allbutfantom+asymmetric          58\n",
       "tomi                             76\n",
       "tomi+asymmetric                  30\n",
       "tomi+info-exchange               45\n",
       "tomi+info-exchange+asymmetric    61\n",
       "tomi+object-state                62\n",
       "tomi+object-state+asymmetric     52\n",
       "tomi+room-changes                36\n",
       "tomi+room-changes+asymmetric     60\n",
       "tomi-object-state                 4\n",
       "tomi-object-state+asymmetric      1\n",
       "Name: params, dtype: int64"
      ]
     },
     "execution_count": 6,
     "metadata": {},
     "output_type": "execute_result"
    }
   ],
   "source": [
    "df.groupby(['story_type']).params.count()"
   ]
  },
  {
   "cell_type": "code",
   "execution_count": 7,
   "metadata": {},
   "outputs": [
    {
     "data": {
      "text/plain": [
       "is_interesting  nth_order\n",
       "False            1            12\n",
       "                 2            68\n",
       "True            -1           181\n",
       "                 1           133\n",
       "                 2           206\n",
       "Name: story_structure, dtype: int64"
      ]
     },
     "execution_count": 7,
     "metadata": {},
     "output_type": "execute_result"
    }
   ],
   "source": [
    "df.groupby(['is_interesting','nth_order']).story_structure.count()"
   ]
  },
  {
   "cell_type": "code",
   "execution_count": 14,
   "metadata": {},
   "outputs": [],
   "source": [
    "dfs = df.groupby(['answer']).infilled_story.count().reset_index()"
   ]
  },
  {
   "cell_type": "code",
   "execution_count": 20,
   "metadata": {},
   "outputs": [
    {
     "data": {
      "text/html": [
       "<div>\n",
       "<style scoped>\n",
       "    .dataframe tbody tr th:only-of-type {\n",
       "        vertical-align: middle;\n",
       "    }\n",
       "\n",
       "    .dataframe tbody tr th {\n",
       "        vertical-align: top;\n",
       "    }\n",
       "\n",
       "    .dataframe thead th {\n",
       "        text-align: right;\n",
       "    }\n",
       "</style>\n",
       "<table border=\"1\" class=\"dataframe\">\n",
       "  <thead>\n",
       "    <tr style=\"text-align: right;\">\n",
       "      <th></th>\n",
       "      <th>answer</th>\n",
       "      <th>infilled_story</th>\n",
       "    </tr>\n",
       "  </thead>\n",
       "  <tbody>\n",
       "    <tr>\n",
       "      <th>0</th>\n",
       "      <td>plastic storage bin</td>\n",
       "      <td>96</td>\n",
       "    </tr>\n",
       "    <tr>\n",
       "      <th>1</th>\n",
       "      <td>cardboard box</td>\n",
       "      <td>46</td>\n",
       "    </tr>\n",
       "    <tr>\n",
       "      <th>2</th>\n",
       "      <td>wooden chest</td>\n",
       "      <td>41</td>\n",
       "    </tr>\n",
       "    <tr>\n",
       "      <th>3</th>\n",
       "      <td>canvas duffel bag</td>\n",
       "      <td>22</td>\n",
       "    </tr>\n",
       "    <tr>\n",
       "      <th>4</th>\n",
       "      <td>wooden box</td>\n",
       "      <td>20</td>\n",
       "    </tr>\n",
       "    <tr>\n",
       "      <th>5</th>\n",
       "      <td>metal toolbox</td>\n",
       "      <td>19</td>\n",
       "    </tr>\n",
       "    <tr>\n",
       "      <th>6</th>\n",
       "      <td>leather pouch</td>\n",
       "      <td>17</td>\n",
       "    </tr>\n",
       "    <tr>\n",
       "      <th>7</th>\n",
       "      <td>toolbox</td>\n",
       "      <td>16</td>\n",
       "    </tr>\n",
       "    <tr>\n",
       "      <th>8</th>\n",
       "      <td>wooden desk drawer</td>\n",
       "      <td>15</td>\n",
       "    </tr>\n",
       "    <tr>\n",
       "      <th>9</th>\n",
       "      <td>canvas bag</td>\n",
       "      <td>15</td>\n",
       "    </tr>\n",
       "    <tr>\n",
       "      <th>10</th>\n",
       "      <td>plastic bin</td>\n",
       "      <td>14</td>\n",
       "    </tr>\n",
       "    <tr>\n",
       "      <th>11</th>\n",
       "      <td>metal file cabinet drawer</td>\n",
       "      <td>13</td>\n",
       "    </tr>\n",
       "    <tr>\n",
       "      <th>12</th>\n",
       "      <td>leather briefcase</td>\n",
       "      <td>13</td>\n",
       "    </tr>\n",
       "    <tr>\n",
       "      <th>13</th>\n",
       "      <td>plastic toolbox</td>\n",
       "      <td>12</td>\n",
       "    </tr>\n",
       "    <tr>\n",
       "      <th>14</th>\n",
       "      <td>leather satchel</td>\n",
       "      <td>12</td>\n",
       "    </tr>\n",
       "    <tr>\n",
       "      <th>15</th>\n",
       "      <td>conference room</td>\n",
       "      <td>9</td>\n",
       "    </tr>\n",
       "    <tr>\n",
       "      <th>16</th>\n",
       "      <td>metal file cabinet</td>\n",
       "      <td>9</td>\n",
       "    </tr>\n",
       "    <tr>\n",
       "      <th>17</th>\n",
       "      <td>storage bin</td>\n",
       "      <td>9</td>\n",
       "    </tr>\n",
       "    <tr>\n",
       "      <th>18</th>\n",
       "      <td>control room</td>\n",
       "      <td>7</td>\n",
       "    </tr>\n",
       "    <tr>\n",
       "      <th>19</th>\n",
       "      <td>canvas tote bag</td>\n",
       "      <td>7</td>\n",
       "    </tr>\n",
       "  </tbody>\n",
       "</table>\n",
       "</div>"
      ],
      "text/plain": [
       "                       answer  infilled_story\n",
       "0         plastic storage bin              96\n",
       "1               cardboard box              46\n",
       "2                wooden chest              41\n",
       "3           canvas duffel bag              22\n",
       "4                  wooden box              20\n",
       "5               metal toolbox              19\n",
       "6               leather pouch              17\n",
       "7                     toolbox              16\n",
       "8          wooden desk drawer              15\n",
       "9                  canvas bag              15\n",
       "10                plastic bin              14\n",
       "11  metal file cabinet drawer              13\n",
       "12          leather briefcase              13\n",
       "13            plastic toolbox              12\n",
       "14            leather satchel              12\n",
       "15            conference room               9\n",
       "16         metal file cabinet               9\n",
       "17                storage bin               9\n",
       "18               control room               7\n",
       "19            canvas tote bag               7"
      ]
     },
     "execution_count": 20,
     "metadata": {},
     "output_type": "execute_result"
    }
   ],
   "source": [
    "dfs = dfs.sort_values(by='infilled_story', ascending=False, ignore_index=True)\n",
    "dfs.head(20)"
   ]
  },
  {
   "cell_type": "code",
   "execution_count": 37,
   "metadata": {},
   "outputs": [
    {
     "name": "stderr",
     "output_type": "stream",
     "text": [
      "/tmp/ipykernel_109123/480587486.py:2: DeprecationWarning: DataFrameGroupBy.apply operated on the grouping columns. This behavior is deprecated, and in a future version of pandas the grouping columns will be excluded from the operation. Either pass `include_groups=False` to exclude the groupings or explicitly select the grouping columns after groupby to silence this warning.\n",
      "  lambda g: g.groupby(\"question_type\", group_keys=False).apply(\n",
      "/tmp/ipykernel_109123/480587486.py:2: DeprecationWarning: DataFrameGroupBy.apply operated on the grouping columns. This behavior is deprecated, and in a future version of pandas the grouping columns will be excluded from the operation. Either pass `include_groups=False` to exclude the groupings or explicitly select the grouping columns after groupby to silence this warning.\n",
      "  lambda g: g.groupby(\"question_type\", group_keys=False).apply(\n",
      "/tmp/ipykernel_109123/480587486.py:2: DeprecationWarning: DataFrameGroupBy.apply operated on the grouping columns. This behavior is deprecated, and in a future version of pandas the grouping columns will be excluded from the operation. Either pass `include_groups=False` to exclude the groupings or explicitly select the grouping columns after groupby to silence this warning.\n",
      "  lambda g: g.groupby(\"question_type\", group_keys=False).apply(\n",
      "/tmp/ipykernel_109123/480587486.py:1: DeprecationWarning: DataFrameGroupBy.apply operated on the grouping columns. This behavior is deprecated, and in a future version of pandas the grouping columns will be excluded from the operation. Either pass `include_groups=False` to exclude the groupings or explicitly select the grouping columns after groupby to silence this warning.\n",
      "  df_filtered = df.groupby(\"nth_order\", group_keys=False).apply(\n"
     ]
    }
   ],
   "source": [
    "df_filtered = df.groupby(\"nth_order\", group_keys=False).apply(\n",
    "    lambda g: g.groupby(\"question_type\", group_keys=False).apply(\n",
    "        lambda x: x if len(x) <= 10 else x.sample(10, random_state=42)\n",
    "    )\n",
    ")\n",
    "\n",
    "df_filtered = df_filtered.reset_index(drop=True)"
   ]
  },
  {
   "cell_type": "code",
   "execution_count": 39,
   "metadata": {},
   "outputs": [
    {
     "data": {
      "text/plain": [
       "116"
      ]
     },
     "execution_count": 39,
     "metadata": {},
     "output_type": "execute_result"
    }
   ],
   "source": [
    "#df_filtered.groupby(['answer']).infilled_story.count().reset_index()\n",
    "len(df_filtered)"
   ]
  },
  {
   "cell_type": "code",
   "execution_count": 40,
   "metadata": {},
   "outputs": [],
   "source": [
    "dft = df_filtered.copy()\n",
    "dft.index = range(len(dft))"
   ]
  },
  {
   "cell_type": "code",
   "execution_count": 41,
   "metadata": {},
   "outputs": [],
   "source": [
    "#SYSTEM_PROMPT = \"\"\"You are a helpful assistant. First, think through the question internally before providing the final answer. The reasoning process and answer are enclosed within <think> </think> and <answer> </answer> tags, respectively, i.e., <think> step by step reasoning here </think><answer> answer here </answer>\"\"\"\n",
    "\n",
    "SYSTEM_PROMPT = \"\"\"You are a helpful assistant. The assistant first thinks about the reasoning process in the mind and then provides the user with the answer. The reasoning process and answer are enclosed within <think> </think> and <answer> </answer> tags, respectively, i.e., <think> reasoning process here </think><answer> answer here </answer>.\"\"\""
   ]
  },
  {
   "cell_type": "code",
   "execution_count": 42,
   "metadata": {},
   "outputs": [],
   "source": [
    "XML_COT_FORMAT = \"\"\"Story: {}\\n Question:{}\"\"\""
   ]
  },
  {
   "cell_type": "code",
   "execution_count": 43,
   "metadata": {},
   "outputs": [
    {
     "data": {
      "text/plain": [
       "Index(['story_structure', 'infilled_story', 'question', 'answer',\n",
       "       'question_type', 'params', 'nth_order', 'is_interesting', 'story_type',\n",
       "       'story_structure_wn'],\n",
       "      dtype='object')"
      ]
     },
     "execution_count": 43,
     "metadata": {},
     "output_type": "execute_result"
    }
   ],
   "source": [
    "dft.columns"
   ]
  },
  {
   "cell_type": "code",
   "execution_count": 44,
   "metadata": {},
   "outputs": [],
   "source": [
    "dfm = dft.melt(id_vars=['question', 'answer'], value_vars=['infilled_story', 'story_structure', 'story_structure_wn'], var_name='story_group',value_name='story')"
   ]
  },
  {
   "cell_type": "code",
   "execution_count": 45,
   "metadata": {},
   "outputs": [],
   "source": [
    "def get_prompts(dft):\n",
    "    prompt = []\n",
    "    for i in range(len(dft)):\n",
    "        prompt.append( [\n",
    "                {'role': 'system', 'content': SYSTEM_PROMPT},\n",
    "                {'role': 'user', 'content': XML_COT_FORMAT.format(dft['story'][i], dft['question'][i])}\n",
    "            ])\n",
    "    return prompt"
   ]
  },
  {
   "cell_type": "code",
   "execution_count": 46,
   "metadata": {},
   "outputs": [],
   "source": [
    "prompts = get_prompts(dfm)"
   ]
  },
  {
   "cell_type": "code",
   "execution_count": 47,
   "metadata": {},
   "outputs": [
    {
     "name": "stdout",
     "output_type": "stream",
     "text": [
      "You are a helpful assistant. The assistant first thinks about the reasoning process in the mind and then provides the user with the answer. The reasoning process and answer are enclosed within <think> </think> and <answer> </answer> tags, respectively, i.e., <think> reasoning process here </think><answer> answer here </answer>.\n"
     ]
    }
   ],
   "source": [
    "print(prompts[2][0]['content'])"
   ]
  },
  {
   "cell_type": "code",
   "execution_count": 48,
   "metadata": {},
   "outputs": [
    {
     "name": "stdout",
     "output_type": "stream",
     "text": [
      "Story: A warm, golden light streamed through the stained-glass windows of the chapel, illuminating the polished pews and quiet spaces within the funeral home. The arrangement room, a space dedicated to the careful preparation and planning of tributes, stood adjacent to the chapel, its door slightly ajar. Taylor entered the chapel, its tranquil ambiance a soothing balm for her busy morning, and began a methodical check of the seating, the altar, and every delicate flower arrangement. Each item was scrutinized, her hands instinctively adjusting a stray petal or straightening a candle. As they walked side by side, Taylor found an opportune moment to share her thoughts with Dominic on the carefully curated casket in a soft, yet clear tone. Taylor carefully placed the silver locket in the safety of the leather wallet, its soft creak a reassuring sound in the chapel's quiet atmosphere. The chapel's serene atmosphere was briefly broken by the soft sound of Taylor moving an item to the adjacent room. As she settled the silver locket into its newly assigned place, the leather wallet stayed behind, its task fulfilled. With her task in the arrangement room now complete, Taylor re-crossed the threshold back into the chapel, the sounds of her gentle moments there now gone. Taylor leaned in momentarily, her voice barely above a whisper as she told Landon the silver locket's new location, freeing him to focus on other aspects of the funeral service. The brief exchange was all Landon needed to continue his preparations. The arrangement room's door swung shut behind Landon, enveloping him in the quiet, methodical world of funeral preparation, where every petal and every fold held deep significance. Taylor's soft footsteps echoed through the room as she moved to join him, her eyes locked intently on the casket's dignified beauty. A low murmur rose from Taylor's side of the chapel, that barely audible whisper growing into the undertaken's awareness of Landon's present whereabouts, \"He is now in the arrangement room.\" As the leather wallet remained carefully shut behind her in the chapel, Taylor had already carefully moved the silver locket into the wooden box, its resting place now in the adjacent arrangement room.\n",
      " Question:In which container is the silver locket now?\n"
     ]
    }
   ],
   "source": [
    "print(prompts[2][1]['content'])"
   ]
  },
  {
   "cell_type": "code",
   "execution_count": 49,
   "metadata": {},
   "outputs": [],
   "source": [
    "dfm['prompt'] = prompts"
   ]
  },
  {
   "cell_type": "code",
   "execution_count": 50,
   "metadata": {},
   "outputs": [],
   "source": [
    "data = Dataset.from_pandas(dfm)"
   ]
  },
  {
   "cell_type": "code",
   "execution_count": 51,
   "metadata": {},
   "outputs": [
    {
     "data": {
      "text/plain": [
       "['leather briefcase',\n",
       " 'guitar case',\n",
       " 'wooden box',\n",
       " 'canvas duffel bag',\n",
       " 'canvas duffel bag',\n",
       " 'wooden desk drawer',\n",
       " 'guitar case',\n",
       " 'leather satchel',\n",
       " 'leather satchel',\n",
       " 'metal file cabinet',\n",
       " 'operations room',\n",
       " 'staff room',\n",
       " 'press box',\n",
       " 'waiting lounge',\n",
       " 'university cafeteria',\n",
       " 'storage gallery',\n",
       " 'storage warehouse',\n",
       " 'main bar area',\n",
       " 'backstage production office',\n",
       " 'arrangement room',\n",
       " 'metal toolbox',\n",
       " 'metal toolbox',\n",
       " 'leather pouch',\n",
       " 'metal lunchbox',\n",
       " 'wooden desk drawer',\n",
       " 'leather briefcase',\n",
       " 'leather pouch',\n",
       " 'plastic storage bin',\n",
       " 'leather briefcase',\n",
       " 'wooden drawer',\n",
       " 'briefing room',\n",
       " 'control room',\n",
       " 'employee break room',\n",
       " 'chapel',\n",
       " 'security control room',\n",
       " 'control room',\n",
       " \"stadium's main office\",\n",
       " 'art studio',\n",
       " 'galley',\n",
       " 'back office',\n",
       " 'metal toolbox',\n",
       " 'black plastic storage bin',\n",
       " 'metal file cabinet',\n",
       " 'cardboard envelope',\n",
       " 'leather satchel',\n",
       " 'plastic storage bin',\n",
       " 'leather pouch',\n",
       " 'metal toolbox',\n",
       " 'metal toolbox',\n",
       " 'cardboard file box',\n",
       " 'waiting lounge',\n",
       " 'ballroom',\n",
       " 'hotel suite',\n",
       " 'galley',\n",
       " 'control room',\n",
       " 'conference room',\n",
       " 'desk drawer',\n",
       " 'canvas bag',\n",
       " 'wooden chest',\n",
       " 'storage bin',\n",
       " 'canvas duffel bag',\n",
       " 'wooden chest',\n",
       " 'cardboard box',\n",
       " 'leather briefcase',\n",
       " 'plastic storage bin',\n",
       " 'canvas duffel bag',\n",
       " 'wooden chest',\n",
       " 'toolbox',\n",
       " 'wooden crate',\n",
       " 'leather pouch',\n",
       " 'leather pouch',\n",
       " 'canvas bag',\n",
       " 'metal file cabinet drawer',\n",
       " 'cardboard box',\n",
       " 'desk drawer',\n",
       " 'plastic storage bin',\n",
       " 'wooden box',\n",
       " 'cardboard box',\n",
       " 'cardboard box',\n",
       " 'lunchbox',\n",
       " 'canvas duffel bag',\n",
       " 'plastic toolbox',\n",
       " 'satin clutch',\n",
       " 'cardboard box',\n",
       " 'storage bin',\n",
       " 'plastic storage bin',\n",
       " 'toolbox',\n",
       " 'plastic storage bin',\n",
       " 'metal toolbox',\n",
       " 'canvas duffel bag',\n",
       " 'leather pouch',\n",
       " 'cardboard box',\n",
       " 'cardboard box',\n",
       " 'canvas backpack',\n",
       " 'toolbox',\n",
       " 'metal toolbox',\n",
       " 'storage gallery',\n",
       " 'storage gallery',\n",
       " 'conference room',\n",
       " 'storage gallery',\n",
       " 'grand ballroom',\n",
       " 'green room',\n",
       " 'green room',\n",
       " 'waiting area',\n",
       " 'storage gallery',\n",
       " 'waiting area',\n",
       " 'outdoor garden',\n",
       " 'community room',\n",
       " 'backstage tent',\n",
       " 'outdoor garden',\n",
       " 'back room of the pub',\n",
       " 'briefing room',\n",
       " 'backstage tent',\n",
       " 'hospital staff lounge',\n",
       " 'operations center',\n",
       " 'conference room',\n",
       " 'leather briefcase',\n",
       " 'guitar case',\n",
       " 'wooden box',\n",
       " 'canvas duffel bag',\n",
       " 'canvas duffel bag',\n",
       " 'wooden desk drawer',\n",
       " 'guitar case',\n",
       " 'leather satchel',\n",
       " 'leather satchel',\n",
       " 'metal file cabinet',\n",
       " 'operations room',\n",
       " 'staff room',\n",
       " 'press box',\n",
       " 'waiting lounge',\n",
       " 'university cafeteria',\n",
       " 'storage gallery',\n",
       " 'storage warehouse',\n",
       " 'main bar area',\n",
       " 'backstage production office',\n",
       " 'arrangement room',\n",
       " 'metal toolbox',\n",
       " 'metal toolbox',\n",
       " 'leather pouch',\n",
       " 'metal lunchbox',\n",
       " 'wooden desk drawer',\n",
       " 'leather briefcase',\n",
       " 'leather pouch',\n",
       " 'plastic storage bin',\n",
       " 'leather briefcase',\n",
       " 'wooden drawer',\n",
       " 'briefing room',\n",
       " 'control room',\n",
       " 'employee break room',\n",
       " 'chapel',\n",
       " 'security control room',\n",
       " 'control room',\n",
       " \"stadium's main office\",\n",
       " 'art studio',\n",
       " 'galley',\n",
       " 'back office',\n",
       " 'metal toolbox',\n",
       " 'black plastic storage bin',\n",
       " 'metal file cabinet',\n",
       " 'cardboard envelope',\n",
       " 'leather satchel',\n",
       " 'plastic storage bin',\n",
       " 'leather pouch',\n",
       " 'metal toolbox',\n",
       " 'metal toolbox',\n",
       " 'cardboard file box',\n",
       " 'waiting lounge',\n",
       " 'ballroom',\n",
       " 'hotel suite',\n",
       " 'galley',\n",
       " 'control room',\n",
       " 'conference room',\n",
       " 'desk drawer',\n",
       " 'canvas bag',\n",
       " 'wooden chest',\n",
       " 'storage bin',\n",
       " 'canvas duffel bag',\n",
       " 'wooden chest',\n",
       " 'cardboard box',\n",
       " 'leather briefcase',\n",
       " 'plastic storage bin',\n",
       " 'canvas duffel bag',\n",
       " 'wooden chest',\n",
       " 'toolbox',\n",
       " 'wooden crate',\n",
       " 'leather pouch',\n",
       " 'leather pouch',\n",
       " 'canvas bag',\n",
       " 'metal file cabinet drawer',\n",
       " 'cardboard box',\n",
       " 'desk drawer',\n",
       " 'plastic storage bin',\n",
       " 'wooden box',\n",
       " 'cardboard box',\n",
       " 'cardboard box',\n",
       " 'lunchbox',\n",
       " 'canvas duffel bag',\n",
       " 'plastic toolbox',\n",
       " 'satin clutch',\n",
       " 'cardboard box',\n",
       " 'storage bin',\n",
       " 'plastic storage bin',\n",
       " 'toolbox',\n",
       " 'plastic storage bin',\n",
       " 'metal toolbox',\n",
       " 'canvas duffel bag',\n",
       " 'leather pouch',\n",
       " 'cardboard box',\n",
       " 'cardboard box',\n",
       " 'canvas backpack',\n",
       " 'toolbox',\n",
       " 'metal toolbox',\n",
       " 'storage gallery',\n",
       " 'storage gallery',\n",
       " 'conference room',\n",
       " 'storage gallery',\n",
       " 'grand ballroom',\n",
       " 'green room',\n",
       " 'green room',\n",
       " 'waiting area',\n",
       " 'storage gallery',\n",
       " 'waiting area',\n",
       " 'outdoor garden',\n",
       " 'community room',\n",
       " 'backstage tent',\n",
       " 'outdoor garden',\n",
       " 'back room of the pub',\n",
       " 'briefing room',\n",
       " 'backstage tent',\n",
       " 'hospital staff lounge',\n",
       " 'operations center',\n",
       " 'conference room',\n",
       " 'leather briefcase',\n",
       " 'guitar case',\n",
       " 'wooden box',\n",
       " 'canvas duffel bag',\n",
       " 'canvas duffel bag',\n",
       " 'wooden desk drawer',\n",
       " 'guitar case',\n",
       " 'leather satchel',\n",
       " 'leather satchel',\n",
       " 'metal file cabinet',\n",
       " 'operations room',\n",
       " 'staff room',\n",
       " 'press box',\n",
       " 'waiting lounge',\n",
       " 'university cafeteria',\n",
       " 'storage gallery',\n",
       " 'storage warehouse',\n",
       " 'main bar area',\n",
       " 'backstage production office',\n",
       " 'arrangement room',\n",
       " 'metal toolbox',\n",
       " 'metal toolbox',\n",
       " 'leather pouch',\n",
       " 'metal lunchbox',\n",
       " 'wooden desk drawer',\n",
       " 'leather briefcase',\n",
       " 'leather pouch',\n",
       " 'plastic storage bin',\n",
       " 'leather briefcase',\n",
       " 'wooden drawer',\n",
       " 'briefing room',\n",
       " 'control room',\n",
       " 'employee break room',\n",
       " 'chapel',\n",
       " 'security control room',\n",
       " 'control room',\n",
       " \"stadium's main office\",\n",
       " 'art studio',\n",
       " 'galley',\n",
       " 'back office',\n",
       " 'metal toolbox',\n",
       " 'black plastic storage bin',\n",
       " 'metal file cabinet',\n",
       " 'cardboard envelope',\n",
       " 'leather satchel',\n",
       " 'plastic storage bin',\n",
       " 'leather pouch',\n",
       " 'metal toolbox',\n",
       " 'metal toolbox',\n",
       " 'cardboard file box',\n",
       " 'waiting lounge',\n",
       " 'ballroom',\n",
       " 'hotel suite',\n",
       " 'galley',\n",
       " 'control room',\n",
       " 'conference room',\n",
       " 'desk drawer',\n",
       " 'canvas bag',\n",
       " 'wooden chest',\n",
       " 'storage bin',\n",
       " 'canvas duffel bag',\n",
       " 'wooden chest',\n",
       " 'cardboard box',\n",
       " 'leather briefcase',\n",
       " 'plastic storage bin',\n",
       " 'canvas duffel bag',\n",
       " 'wooden chest',\n",
       " 'toolbox',\n",
       " 'wooden crate',\n",
       " 'leather pouch',\n",
       " 'leather pouch',\n",
       " 'canvas bag',\n",
       " 'metal file cabinet drawer',\n",
       " 'cardboard box',\n",
       " 'desk drawer',\n",
       " 'plastic storage bin',\n",
       " 'wooden box',\n",
       " 'cardboard box',\n",
       " 'cardboard box',\n",
       " 'lunchbox',\n",
       " 'canvas duffel bag',\n",
       " 'plastic toolbox',\n",
       " 'satin clutch',\n",
       " 'cardboard box',\n",
       " 'storage bin',\n",
       " 'plastic storage bin',\n",
       " 'toolbox',\n",
       " 'plastic storage bin',\n",
       " 'metal toolbox',\n",
       " 'canvas duffel bag',\n",
       " 'leather pouch',\n",
       " 'cardboard box',\n",
       " 'cardboard box',\n",
       " 'canvas backpack',\n",
       " 'toolbox',\n",
       " 'metal toolbox',\n",
       " 'storage gallery',\n",
       " 'storage gallery',\n",
       " 'conference room',\n",
       " 'storage gallery',\n",
       " 'grand ballroom',\n",
       " 'green room',\n",
       " 'green room',\n",
       " 'waiting area',\n",
       " 'storage gallery',\n",
       " 'waiting area',\n",
       " 'outdoor garden',\n",
       " 'community room',\n",
       " 'backstage tent',\n",
       " 'outdoor garden',\n",
       " 'back room of the pub',\n",
       " 'briefing room',\n",
       " 'backstage tent',\n",
       " 'hospital staff lounge',\n",
       " 'operations center',\n",
       " 'conference room']"
      ]
     },
     "execution_count": 51,
     "metadata": {},
     "output_type": "execute_result"
    }
   ],
   "source": [
    "data['answer']"
   ]
  },
  {
   "cell_type": "code",
   "execution_count": 52,
   "metadata": {},
   "outputs": [
    {
     "data": {
      "text/plain": [
       "348"
      ]
     },
     "execution_count": 52,
     "metadata": {},
     "output_type": "execute_result"
    }
   ],
   "source": [
    "len(data['prompt'])"
   ]
  },
  {
   "cell_type": "code",
   "execution_count": 53,
   "metadata": {},
   "outputs": [
    {
     "data": {
      "text/plain": [
       "<Axes: ylabel='Count'>"
      ]
     },
     "execution_count": 53,
     "metadata": {},
     "output_type": "execute_result"
    },
    {
     "data": {
      "image/png": "[encoded data removed]",
      "text/plain": [
       "<Figure size 400x200 with 1 Axes>"
      ]
     },
     "metadata": {},
     "output_type": "display_data"
    }
   ],
   "source": [
    "token_lengths = []\n",
    "for prompt_list in data['prompt']:\n",
    "    # Each prompt is a list of dictionaries, we want the 'content' of the first dict\n",
    "    # Tokenize the content\n",
    "    tokens = tokenizer.apply_chat_template(prompt_list)\n",
    "    token_lengths.append(len(tokens))\n",
    "\n",
    "token_lengths = np.array(token_lengths)\n",
    "_, ax = plt.subplots(1, 1, figsize=(4, 2))\n",
    "sns.histplot(token_lengths)"
   ]
  },
  {
   "cell_type": "code",
   "execution_count": 54,
   "metadata": {},
   "outputs": [],
   "source": [
    "df_train_ = dfm.iloc[np.arange(len(token_lengths))[token_lengths<512]]\n",
    "df_train_.index = range(len(df_train_))"
   ]
  },
  {
   "cell_type": "code",
   "execution_count": 55,
   "metadata": {},
   "outputs": [],
   "source": [
    "data_train = Dataset.from_pandas(df_train_)"
   ]
  },
  {
   "cell_type": "code",
   "execution_count": 56,
   "metadata": {},
   "outputs": [
    {
     "data": {
      "text/plain": [
       "Dataset({\n",
       "    features: ['question', 'answer', 'story_group', 'story', 'prompt'],\n",
       "    num_rows: 304\n",
       "})"
      ]
     },
     "execution_count": 56,
     "metadata": {},
     "output_type": "execute_result"
    }
   ],
   "source": [
    "data_train"
   ]
  },
  {
   "cell_type": "code",
   "execution_count": 57,
   "metadata": {},
   "outputs": [
    {
     "name": "stderr",
     "output_type": "stream",
     "text": [
      "Creating parquet from Arrow format: 100%|██████████| 1/1 [00:00<00:00, 252.43ba/s]\n"
     ]
    },
    {
     "data": {
      "text/plain": [
       "720478"
      ]
     },
     "execution_count": 57,
     "metadata": {},
     "output_type": "execute_result"
    }
   ],
   "source": [
    "data_train.to_parquet('../data/train/ToM_train_single_question_no_step.parquet')"
   ]
  },
  {
   "cell_type": "code",
   "execution_count": 30,
   "metadata": {},
   "outputs": [],
   "source": [
    "import re"
   ]
  },
  {
   "cell_type": "code",
   "execution_count": 31,
   "metadata": {},
   "outputs": [],
   "source": [
    "def extract_xml_answer(text: str) -> str:\n",
    "    answer_pattern = r'<answer>(.*?)</answer>'\n",
    "    matches = list(re.finditer(answer_pattern, text, re.DOTALL))\n",
    "    if not matches:\n",
    "        return None\n",
    "        \n",
    "    final_answer = matches[-1].group(1).strip()\n",
    "    return final_answer\n",
    "\n",
    "\n",
    "\n",
    "def normalize_answer(answer: str) -> str:\n",
    "    \"\"\"Normalizes the answer text for better comparison.\n",
    "    Args:\n",
    "        answer: Raw answer text\n",
    "    Returns:\n",
    "        Normalized answer text\n",
    "    \"\"\"\n",
    "    # Convert to lowercase\n",
    "    normalized = answer.lower()\n",
    "    # Remove extra whitespace\n",
    "    normalized = re.sub(r'\\s+', ' ', normalized).strip()\n",
    "    # Remove punctuation that doesn't affect meaning\n",
    "    normalized = re.sub(r'[.,;:!?]', '', normalized)\n",
    "    return normalized\n",
    "\n",
    "\n",
    "\n",
    "\n",
    "def reward_func_(response, answer):\n",
    "    pattern = r\"^<think>.*?</think>\\s*<answer>.*?</answer>$\"\n",
    "    match = re.match(pattern, response, re.DOTALL | re.MULTILINE)\n",
    "    \n",
    "    if match:\n",
    "        response_ = extract_xml_answer(response)\n",
    "        norm_response = normalize_answer(response_)\n",
    "        norm_answer = normalize_answer(answer)\n",
    "        ans_pattern = r\"\\b(?:in|at|on|inside)?\\s*(?:the\\s*)?\" + re.escape(norm_answer) + r\"\\b$\"\n",
    "        match = re.match(ans_pattern, norm_response, re.DOTALL | re.MULTILINE)\n",
    "        if match:\n",
    "            return 2\n",
    "        else:\n",
    "            return 0.5\n",
    "    else:\n",
    "        return 0\n"
   ]
  },
  {
   "cell_type": "code",
   "execution_count": 32,
   "metadata": {},
   "outputs": [],
   "source": [
    "answer = \"<think>think</think><answer>airport terminal gate</answer>\"\n",
    "answer_wrong = \"<think>think</think><answer>(2) at the  . 'airport gate'\\n </answer>\"\n",
    "answer_p1 = \"<think>think</think><answer>'airport terminal gate area.</answer>\"\n",
    "answer_p2 = \"<think>think</think><answer>in airport terminal gate.</answer>\""
   ]
  },
  {
   "cell_type": "code",
   "execution_count": 33,
   "metadata": {},
   "outputs": [
    {
     "data": {
      "text/plain": [
       "2"
      ]
     },
     "execution_count": 33,
     "metadata": {},
     "output_type": "execute_result"
    }
   ],
   "source": [
    "reward_func_(answer, 'airport terminal gate')"
   ]
  },
  {
   "cell_type": "code",
   "execution_count": 34,
   "metadata": {},
   "outputs": [
    {
     "data": {
      "text/plain": [
       "0.5"
      ]
     },
     "execution_count": 34,
     "metadata": {},
     "output_type": "execute_result"
    }
   ],
   "source": [
    "reward_func_(answer_wrong, 'airport terminal gate')"
   ]
  },
  {
   "cell_type": "code",
   "execution_count": 35,
   "metadata": {},
   "outputs": [
    {
     "data": {
      "text/plain": [
       "0.5"
      ]
     },
     "execution_count": 35,
     "metadata": {},
     "output_type": "execute_result"
    }
   ],
   "source": [
    "reward_func_(answer_p1, 'airport terminal gate')"
   ]
  },
  {
   "cell_type": "code",
   "execution_count": 36,
   "metadata": {},
   "outputs": [
    {
     "data": {
      "text/plain": [
       "2"
      ]
     },
     "execution_count": 36,
     "metadata": {},
     "output_type": "execute_result"
    }
   ],
   "source": [
    "reward_func_(answer_p2, 'airport terminal gate')"
   ]
  },
  {
   "cell_type": "code",
   "execution_count": null,
   "metadata": {},
   "outputs": [],
   "source": []
  }
 ],
 "metadata": {
  "kernelspec": {
   "display_name": "vllm",
   "language": "python",
   "name": "vllm"
  },
  "language_info": {
   "codemirror_mode": {
    "name": "ipython",
    "version": 3
   },
   "file_extension": ".py",
   "mimetype": "text/x-python",
   "name": "python",
   "nbconvert_exporter": "python",
   "pygments_lexer": "ipython3",
   "version": "3.10.16"
  }
 },
 "nbformat": 4,
 "nbformat_minor": 2
}
