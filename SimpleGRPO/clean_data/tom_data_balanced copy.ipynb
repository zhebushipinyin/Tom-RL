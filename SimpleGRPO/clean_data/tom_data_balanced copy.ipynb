{
 "cells": [
  {
   "cell_type": "code",
   "execution_count": 1,
   "metadata": {},
   "outputs": [
    {
     "name": "stderr",
     "output_type": "stream",
     "text": [
      "/home/yilong/miniconda3/envs/vllm/lib/python3.10/site-packages/tqdm/auto.py:21: TqdmWarning: IProgress not found. Please update jupyter and ipywidgets. See https://ipywidgets.readthedocs.io/en/stable/user_install.html\n",
      "  from .autonotebook import tqdm as notebook_tqdm\n"
     ]
    }
   ],
   "source": [
    "import json\n",
    "import argparse\n",
    "import numpy as np\n",
    "import pandas as pd\n",
    "import seaborn as sns\n",
    "from datasets import load_dataset, Dataset, load_from_disk\n",
    "import matplotlib.pyplot as plt \n",
    "from transformers import AutoTokenizer"
   ]
  },
  {
   "cell_type": "code",
   "execution_count": 2,
   "metadata": {},
   "outputs": [],
   "source": [
    "df = pd.read_parquet('../data/tom/exploretom/train.parquet')\n",
    "dft = pd.read_parquet('../data/tom/exploretom/test.parquet')"
   ]
  },
  {
   "cell_type": "code",
   "execution_count": 44,
   "metadata": {},
   "outputs": [
    {
     "data": {
      "text/plain": [
       "10647"
      ]
     },
     "execution_count": 44,
     "metadata": {},
     "output_type": "execute_result"
    }
   ],
   "source": [
    "len(df)"
   ]
  },
  {
   "cell_type": "code",
   "execution_count": 3,
   "metadata": {},
   "outputs": [],
   "source": [
    "tokenizer = AutoTokenizer.from_pretrained(\"Qwen/Qwen2.5-0.5B-Instruct\", trust_remote_code=True)"
   ]
  },
  {
   "cell_type": "code",
   "execution_count": 4,
   "metadata": {},
   "outputs": [
    {
     "data": {
      "text/plain": [
       "2662"
      ]
     },
     "execution_count": 4,
     "metadata": {},
     "output_type": "execute_result"
    }
   ],
   "source": [
    "len(dft)"
   ]
  },
  {
   "cell_type": "code",
   "execution_count": 5,
   "metadata": {},
   "outputs": [
    {
     "name": "stdout",
     "output_type": "stream",
     "text": [
      "<class 'pandas.core.frame.DataFrame'>\n",
      "RangeIndex: 10647 entries, 0 to 10646\n",
      "Data columns (total 23 columns):\n",
      " #   Column                                   Non-Null Count  Dtype  \n",
      "---  ------                                   --------------  -----  \n",
      " 0   story_structure                          10647 non-null  object \n",
      " 1   infilled_story                           10647 non-null  object \n",
      " 2   question                                 10647 non-null  object \n",
      " 3   expected_answer                          10647 non-null  object \n",
      " 4   qprop=params                             10647 non-null  object \n",
      " 5   qprop=nth_order                          10647 non-null  int64  \n",
      " 6   qprop=non_unique_mental_state            10647 non-null  bool   \n",
      " 7   sprop=is_false_belief_story_1st          10647 non-null  bool   \n",
      " 8   sprop=is_false_belief_story_1st_and_2nd  10647 non-null  bool   \n",
      " 9   sprop=story_accuracy_1st_raw             10647 non-null  float64\n",
      " 10  sprop=story_accuracy_1st_infilled        10647 non-null  float64\n",
      " 11  sprop=global_idx                         10647 non-null  int64  \n",
      " 12  param=story_type                         10647 non-null  object \n",
      " 13  param=num_stories_total                  10647 non-null  int64  \n",
      " 14  param=max_sentences                      10647 non-null  int64  \n",
      " 15  param=num_people                         10647 non-null  int64  \n",
      " 16  param=num_moves                          10647 non-null  int64  \n",
      " 17  param=num_rooms                          10647 non-null  int64  \n",
      " 18  data_source                              10647 non-null  object \n",
      " 19  prompt                                   10647 non-null  object \n",
      " 20  ability                                  10647 non-null  object \n",
      " 21  reward_model                             10647 non-null  object \n",
      " 22  extra_info                               10647 non-null  object \n",
      "dtypes: bool(3), float64(2), int64(7), object(11)\n",
      "memory usage: 1.7+ MB\n"
     ]
    }
   ],
   "source": [
    "df.info()"
   ]
  },
  {
   "cell_type": "code",
   "execution_count": 23,
   "metadata": {},
   "outputs": [
    {
     "data": {
      "text/plain": [
       "param=story_type\n",
       "all                               707\n",
       "all+asymmetric                    701\n",
       "allbutfantom                      132\n",
       "allbutfantom+asymmetric           143\n",
       "fantom-private                   1109\n",
       "fantom-private+asymmetric         804\n",
       "fantom-public                    1361\n",
       "fantom-public+asymmetric         1043\n",
       "tomi                              825\n",
       "tomi+asymmetric                   497\n",
       "tomi+info-exchange                408\n",
       "tomi+info-exchange+asymmetric     299\n",
       "tomi+object-state                 701\n",
       "tomi+object-state+asymmetric      469\n",
       "tomi+room-changes                 122\n",
       "tomi+room-changes+asymmetric      122\n",
       "tomi-object-state                 817\n",
       "tomi-object-state+asymmetric      387\n",
       "Name: prompt, dtype: int64"
      ]
     },
     "execution_count": 23,
     "metadata": {},
     "output_type": "execute_result"
    }
   ],
   "source": [
    "df.groupby(['param=story_type']).prompt.count()"
   ]
  },
  {
   "cell_type": "code",
   "execution_count": 46,
   "metadata": {},
   "outputs": [
    {
     "data": {
      "text/plain": [
       "qprop=non_unique_mental_state  qprop=nth_order\n",
       "False                           1                 1302\n",
       "                                2                 4111\n",
       "True                           -1                  669\n",
       "                                1                 1322\n",
       "                                2                 3243\n",
       "Name: story_structure, dtype: int64"
      ]
     },
     "execution_count": 46,
     "metadata": {},
     "output_type": "execute_result"
    }
   ],
   "source": [
    "df.groupby(['qprop=non_unique_mental_state','qprop=nth_order']).story_structure.count()"
   ]
  },
  {
   "cell_type": "markdown",
   "metadata": {},
   "source": [
    "# Clean data"
   ]
  },
  {
   "cell_type": "markdown",
   "metadata": {},
   "source": [
    "## Check Answer"
   ]
  },
  {
   "cell_type": "code",
   "execution_count": 25,
   "metadata": {},
   "outputs": [
    {
     "data": {
      "text/html": [
       "<div>\n",
       "<style scoped>\n",
       "    .dataframe tbody tr th:only-of-type {\n",
       "        vertical-align: middle;\n",
       "    }\n",
       "\n",
       "    .dataframe tbody tr th {\n",
       "        vertical-align: top;\n",
       "    }\n",
       "\n",
       "    .dataframe thead th {\n",
       "        text-align: right;\n",
       "    }\n",
       "</style>\n",
       "<table border=\"1\" class=\"dataframe\">\n",
       "  <thead>\n",
       "    <tr style=\"text-align: right;\">\n",
       "      <th></th>\n",
       "      <th>expected_answer</th>\n",
       "      <th>question</th>\n",
       "    </tr>\n",
       "  </thead>\n",
       "  <tbody>\n",
       "    <tr>\n",
       "      <th>138</th>\n",
       "      <td>yes</td>\n",
       "      <td>0.220626</td>\n",
       "    </tr>\n",
       "    <tr>\n",
       "      <th>49</th>\n",
       "      <td>does not know about it</td>\n",
       "      <td>0.195360</td>\n",
       "    </tr>\n",
       "    <tr>\n",
       "      <th>67</th>\n",
       "      <td>knows about it</td>\n",
       "      <td>0.157885</td>\n",
       "    </tr>\n",
       "    <tr>\n",
       "      <th>97</th>\n",
       "      <td>no</td>\n",
       "      <td>0.039917</td>\n",
       "    </tr>\n",
       "    <tr>\n",
       "      <th>105</th>\n",
       "      <td>plastic storage bin</td>\n",
       "      <td>0.023763</td>\n",
       "    </tr>\n",
       "    <tr>\n",
       "      <th>100</th>\n",
       "      <td>operations room</td>\n",
       "      <td>0.020569</td>\n",
       "    </tr>\n",
       "    <tr>\n",
       "      <th>26</th>\n",
       "      <td>cardboard box</td>\n",
       "      <td>0.020381</td>\n",
       "    </tr>\n",
       "    <tr>\n",
       "      <th>94</th>\n",
       "      <td>metal toolbox</td>\n",
       "      <td>0.014746</td>\n",
       "    </tr>\n",
       "    <tr>\n",
       "      <th>133</th>\n",
       "      <td>wooden chest</td>\n",
       "      <td>0.014182</td>\n",
       "    </tr>\n",
       "    <tr>\n",
       "      <th>41</th>\n",
       "      <td>consulate meeting room</td>\n",
       "      <td>0.011177</td>\n",
       "    </tr>\n",
       "    <tr>\n",
       "      <th>58</th>\n",
       "      <td>green room</td>\n",
       "      <td>0.011083</td>\n",
       "    </tr>\n",
       "    <tr>\n",
       "      <th>23</th>\n",
       "      <td>canvas duffel bag</td>\n",
       "      <td>0.010519</td>\n",
       "    </tr>\n",
       "    <tr>\n",
       "      <th>99</th>\n",
       "      <td>operations center</td>\n",
       "      <td>0.009862</td>\n",
       "    </tr>\n",
       "    <tr>\n",
       "      <th>39</th>\n",
       "      <td>conference room</td>\n",
       "      <td>0.009204</td>\n",
       "    </tr>\n",
       "    <tr>\n",
       "      <th>44</th>\n",
       "      <td>control room</td>\n",
       "      <td>0.008829</td>\n",
       "    </tr>\n",
       "  </tbody>\n",
       "</table>\n",
       "</div>"
      ],
      "text/plain": [
       "            expected_answer  question\n",
       "138                     yes  0.220626\n",
       "49   does not know about it  0.195360\n",
       "67           knows about it  0.157885\n",
       "97                       no  0.039917\n",
       "105     plastic storage bin  0.023763\n",
       "100         operations room  0.020569\n",
       "26            cardboard box  0.020381\n",
       "94            metal toolbox  0.014746\n",
       "133            wooden chest  0.014182\n",
       "41   consulate meeting room  0.011177\n",
       "58               green room  0.011083\n",
       "23        canvas duffel bag  0.010519\n",
       "99        operations center  0.009862\n",
       "39          conference room  0.009204\n",
       "44             control room  0.008829"
      ]
     },
     "execution_count": 25,
     "metadata": {},
     "output_type": "execute_result"
    }
   ],
   "source": [
    "ans_freq = (df.groupby('expected_answer').question.count()/len(df)).reset_index()\n",
    "ans_freq.sort_values(by='question', inplace=True, ascending=False)\n",
    "ans_freq.head(15)"
   ]
  },
  {
   "cell_type": "code",
   "execution_count": 26,
   "metadata": {},
   "outputs": [
    {
     "data": {
      "text/plain": [
       "139"
      ]
     },
     "execution_count": 26,
     "metadata": {},
     "output_type": "execute_result"
    }
   ],
   "source": [
    "len(ans_freq)"
   ]
  },
  {
   "cell_type": "code",
   "execution_count": 16,
   "metadata": {},
   "outputs": [],
   "source": [
    "out_list = ['yes', 'does not know about it', 'knows about it', 'no']"
   ]
  },
  {
   "cell_type": "code",
   "execution_count": 22,
   "metadata": {},
   "outputs": [
    {
     "data": {
      "text/plain": [
       "qprop=non_unique_mental_state  qprop=nth_order\n",
       "False                          1                   913\n",
       "                               2                  1315\n",
       "True                           1                  1216\n",
       "                               2                  3091\n",
       "Name: prompt, dtype: int64"
      ]
     },
     "execution_count": 22,
     "metadata": {},
     "output_type": "execute_result"
    }
   ],
   "source": [
    "df.loc[df.expected_answer.isin(out_list)].groupby(['qprop=non_unique_mental_state','qprop=nth_order']).prompt.count()"
   ]
  },
  {
   "cell_type": "code",
   "execution_count": 27,
   "metadata": {},
   "outputs": [
    {
     "data": {
      "text/plain": [
       "<Axes: xlabel='sprop=story_accuracy_1st_infilled', ylabel='Count'>"
      ]
     },
     "execution_count": 27,
     "metadata": {},
     "output_type": "execute_result"
    },
    {
     "data": {
      "image/png": "[encoded data removed]",
      "text/plain": [
       "<Figure size 400x200 with 1 Axes>"
      ]
     },
     "metadata": {},
     "output_type": "display_data"
    },
    {
     "data": {
      "image/png": "[encoded data removed]",
      "text/plain": [
       "<Figure size 400x200 with 1 Axes>"
      ]
     },
     "metadata": {},
     "output_type": "display_data"
    }
   ],
   "source": [
    "_, ax = plt.subplots(1, 1, figsize=(4, 2))\n",
    "sns.histplot(x=df['sprop=story_accuracy_1st_raw'], ax=ax)\n",
    "\n",
    "_, ax = plt.subplots(1, 1, figsize=(4, 2))\n",
    "sns.histplot(x=df['sprop=story_accuracy_1st_infilled'], ax=ax)"
   ]
  },
  {
   "cell_type": "markdown",
   "metadata": {},
   "source": [
    "Remove answer"
   ]
  },
  {
   "cell_type": "code",
   "execution_count": null,
   "metadata": {},
   "outputs": [],
   "source": [
    "df_ = df.loc[~df.expected_answer.isin(out_list)]\n",
    "df_train = pd.concat([df_, df_], ignore_index=True)\n",
    "df_train['story'] = np.concatenate([df_.infilled_story.values, df_.story_structure.values])\n",
    "df_train['story_type']=['infilled_story']*len(df_)+ ['story_structure']*len(df_)\n",
    "df_train = df_train.sample(frac=1, random_state=42)\n",
    "df_train = df_train.loc[df_train['sprop=story_accuracy_1st_raw']<0.8]\n",
    "df_train.index = range(len(df_train))\n",
    "df_train = df_train.drop(columns=['infilled_story', 'story_structure'])\n",
    "df_train = df_train.rename(columns={'expected_answer':'answer'})"
   ]
  },
  {
   "cell_type": "code",
   "execution_count": 49,
   "metadata": {},
   "outputs": [],
   "source": [
    "df_test = pd.concat([dft, dft], ignore_index=True)\n",
    "df_test['story'] = np.concatenate([dft.infilled_story.values, dft.story_structure.values])\n",
    "df_test['story_type']=['infilled_story']*len(dft)+ ['story_structure']*len(dft)\n",
    "df_test = df_test.drop(columns=['infilled_story', 'story_structure'])\n",
    "df_test.index = range(len(df_test))\n",
    "df_test = df_test.rename(columns={'expected_answer':'answer'})\n",
    "dft = dft.rename(columns={'expected_answer':'answer'})"
   ]
  },
  {
   "cell_type": "code",
   "execution_count": 32,
   "metadata": {},
   "outputs": [
    {
     "data": {
      "text/plain": [
       "7958"
      ]
     },
     "execution_count": 32,
     "metadata": {},
     "output_type": "execute_result"
    }
   ],
   "source": [
    "len(df_train)"
   ]
  },
  {
   "cell_type": "code",
   "execution_count": 31,
   "metadata": {},
   "outputs": [
    {
     "data": {
      "text/plain": [
       "0.37372029679721985"
      ]
     },
     "execution_count": 31,
     "metadata": {},
     "output_type": "execute_result"
    }
   ],
   "source": [
    "0.5*len(df_train)/len(df)"
   ]
  },
  {
   "cell_type": "code",
   "execution_count": 33,
   "metadata": {},
   "outputs": [
    {
     "data": {
      "text/html": [
       "<div>\n",
       "<style scoped>\n",
       "    .dataframe tbody tr th:only-of-type {\n",
       "        vertical-align: middle;\n",
       "    }\n",
       "\n",
       "    .dataframe tbody tr th {\n",
       "        vertical-align: top;\n",
       "    }\n",
       "\n",
       "    .dataframe thead th {\n",
       "        text-align: right;\n",
       "    }\n",
       "</style>\n",
       "<table border=\"1\" class=\"dataframe\">\n",
       "  <thead>\n",
       "    <tr style=\"text-align: right;\">\n",
       "      <th></th>\n",
       "      <th>qprop=params</th>\n",
       "      <th>param=num_people</th>\n",
       "      <th>data_source</th>\n",
       "    </tr>\n",
       "  </thead>\n",
       "  <tbody>\n",
       "    <tr>\n",
       "      <th>0</th>\n",
       "      <td>(None, 'bag of gourmet coffee beans', 'ground_...</td>\n",
       "      <td>2</td>\n",
       "      <td>2</td>\n",
       "    </tr>\n",
       "    <tr>\n",
       "      <th>1</th>\n",
       "      <td>(None, 'bag of gourmet coffee beans', 'memory-...</td>\n",
       "      <td>2</td>\n",
       "      <td>2</td>\n",
       "    </tr>\n",
       "  </tbody>\n",
       "</table>\n",
       "</div>"
      ],
      "text/plain": [
       "                                        qprop=params  param=num_people  \\\n",
       "0  (None, 'bag of gourmet coffee beans', 'ground_...                 2   \n",
       "1  (None, 'bag of gourmet coffee beans', 'memory-...                 2   \n",
       "\n",
       "   data_source  \n",
       "0            2  \n",
       "1            2  "
      ]
     },
     "execution_count": 33,
     "metadata": {},
     "output_type": "execute_result"
    }
   ],
   "source": [
    "dfi = df_train.groupby(['qprop=params','param=num_people']).data_source.count().reset_index()\n",
    "dfi.head(2)"
   ]
  },
  {
   "cell_type": "code",
   "execution_count": 35,
   "metadata": {},
   "outputs": [
    {
     "data": {
      "text/plain": [
       "18"
      ]
     },
     "execution_count": 35,
     "metadata": {},
     "output_type": "execute_result"
    }
   ],
   "source": [
    "dfi.data_source.max()"
   ]
  },
  {
   "cell_type": "code",
   "execution_count": 43,
   "metadata": {},
   "outputs": [
    {
     "data": {
      "text/plain": [
       "qprop=non_unique_mental_state  qprop=nth_order\n",
       "False                           1                  722\n",
       "                                2                 5460\n",
       "True                           -1                 1294\n",
       "                                1                  198\n",
       "                                2                  284\n",
       "Name: story, dtype: int64"
      ]
     },
     "execution_count": 43,
     "metadata": {},
     "output_type": "execute_result"
    }
   ],
   "source": [
    "df_train.groupby(['qprop=non_unique_mental_state','qprop=nth_order']).story.count()"
   ]
  },
  {
   "cell_type": "code",
   "execution_count": null,
   "metadata": {},
   "outputs": [],
   "source": []
  },
  {
   "cell_type": "code",
   "execution_count": 47,
   "metadata": {},
   "outputs": [],
   "source": [
    "SYSTEM_PROMPT = \"\"\"You are a helpful assistant. The assistant first thinks about the question in the mind and then provides the user with the final answer. The reasoning process and answer are enclosed within <think> </think> and <answer> </answer> tags, respectively, i.e., <think> step by step reasoning here </think><answer> answer here </answer>.\"\"\"\n",
    "\n",
    "XML_COT_FORMAT = \"\"\"Story: {}\\n Question:{}\"\"\""
   ]
  },
  {
   "cell_type": "code",
   "execution_count": 50,
   "metadata": {},
   "outputs": [],
   "source": [
    "def generate_prompt(x, i):\n",
    "    data = { # type: ignore\n",
    "            'prompt': [\n",
    "                {'role': 'system', 'content': SYSTEM_PROMPT},\n",
    "                {'role': 'user', 'content': XML_COT_FORMAT.format(x['story'], x['question'])}\n",
    "            ],\n",
    "            'answer': x['answer']\n",
    "        }\n",
    "    return data"
   ]
  },
  {
   "cell_type": "code",
   "execution_count": 51,
   "metadata": {},
   "outputs": [],
   "source": [
    "data = Dataset.from_pandas(df_train)\n",
    "test_data = Dataset.from_pandas(df_test)"
   ]
  },
  {
   "cell_type": "code",
   "execution_count": 52,
   "metadata": {},
   "outputs": [
    {
     "name": "stderr",
     "output_type": "stream",
     "text": [
      "Map:   0%|          | 0/7958 [00:00<?, ? examples/s]"
     ]
    },
    {
     "name": "stderr",
     "output_type": "stream",
     "text": [
      "Map: 100%|██████████| 7958/7958 [00:00<00:00, 11801.31 examples/s]\n",
      "Map: 100%|██████████| 5324/5324 [00:00<00:00, 11400.83 examples/s]\n"
     ]
    }
   ],
   "source": [
    "data = data.map(generate_prompt, with_indices=True)\n",
    "test_data = test_data.map(generate_prompt, with_indices=True)"
   ]
  },
  {
   "cell_type": "code",
   "execution_count": 53,
   "metadata": {},
   "outputs": [
    {
     "data": {
      "text/plain": [
       "7958"
      ]
     },
     "execution_count": 53,
     "metadata": {},
     "output_type": "execute_result"
    }
   ],
   "source": [
    "len(data['prompt'])"
   ]
  },
  {
   "cell_type": "code",
   "execution_count": 54,
   "metadata": {},
   "outputs": [
    {
     "data": {
      "text/plain": [
       "<Axes: ylabel='Count'>"
      ]
     },
     "execution_count": 54,
     "metadata": {},
     "output_type": "execute_result"
    },
    {
     "data": {
      "image/png": "[encoded data removed]",
      "text/plain": [
       "<Figure size 400x200 with 1 Axes>"
      ]
     },
     "metadata": {},
     "output_type": "display_data"
    }
   ],
   "source": [
    "token_lengths = []\n",
    "for prompt_list in data['prompt']:\n",
    "    # Each prompt is a list of dictionaries, we want the 'content' of the first dict\n",
    "    # Tokenize the content\n",
    "    tokens = tokenizer.apply_chat_template(prompt_list)\n",
    "    token_lengths.append(len(tokens))\n",
    "\n",
    "token_lengths = np.array(token_lengths)\n",
    "_, ax = plt.subplots(1, 1, figsize=(4, 2))\n",
    "sns.histplot(token_lengths)"
   ]
  },
  {
   "cell_type": "code",
   "execution_count": 55,
   "metadata": {},
   "outputs": [
    {
     "data": {
      "text/plain": [
       "7958"
      ]
     },
     "execution_count": 55,
     "metadata": {},
     "output_type": "execute_result"
    }
   ],
   "source": [
    "len(token_lengths)"
   ]
  },
  {
   "cell_type": "code",
   "execution_count": 56,
   "metadata": {},
   "outputs": [
    {
     "data": {
      "text/plain": [
       "293.0"
      ]
     },
     "execution_count": 56,
     "metadata": {},
     "output_type": "execute_result"
    }
   ],
   "source": [
    "np.median(token_lengths)"
   ]
  },
  {
   "cell_type": "code",
   "execution_count": 57,
   "metadata": {},
   "outputs": [],
   "source": [
    "df_train_ = df_train.iloc[np.arange(len(token_lengths))[token_lengths<384]]\n",
    "df_train_.index = range(len(df_train_))"
   ]
  },
  {
   "cell_type": "code",
   "execution_count": 58,
   "metadata": {},
   "outputs": [],
   "source": [
    "df_train_full_tom = df_train_.loc[df_train_['qprop=non_unique_mental_state']==True].copy()\n",
    "df_train_full_tom.index = range(len(df_train_full_tom))\n",
    "\n",
    "df_train_no_tom = df_train_.loc[df_train_['qprop=non_unique_mental_state']==False].copy()\n",
    "df_train_no_tom.index = range(len(df_train_no_tom))"
   ]
  },
  {
   "cell_type": "code",
   "execution_count": 59,
   "metadata": {},
   "outputs": [
    {
     "name": "stdout",
     "output_type": "stream",
     "text": [
      "0.43974757164323275 0.44829945507565505\n"
     ]
    }
   ],
   "source": [
    "print(df_train_['sprop=story_accuracy_1st_infilled'].mean(), df_train['sprop=story_accuracy_1st_infilled'].mean())"
   ]
  },
  {
   "cell_type": "code",
   "execution_count": 60,
   "metadata": {},
   "outputs": [
    {
     "data": {
      "text/plain": [
       "5324"
      ]
     },
     "execution_count": 60,
     "metadata": {},
     "output_type": "execute_result"
    }
   ],
   "source": [
    "len(df_train_)"
   ]
  },
  {
   "cell_type": "code",
   "execution_count": 61,
   "metadata": {},
   "outputs": [
    {
     "name": "stderr",
     "output_type": "stream",
     "text": [
      "Map: 100%|██████████| 5324/5324 [00:00<00:00, 11652.69 examples/s]\n",
      "Map: 100%|██████████| 1118/1118 [00:00<00:00, 12746.81 examples/s]\n",
      "Map: 100%|██████████| 4206/4206 [00:00<00:00, 11023.39 examples/s]\n"
     ]
    }
   ],
   "source": [
    "data_train = Dataset.from_pandas(df_train_)\n",
    "data_train = data_train.map(generate_prompt, with_indices=True)\n",
    "\n",
    "data_train_full_tom = Dataset.from_pandas(df_train_full_tom)\n",
    "data_train_full_tom = data_train_full_tom.map(generate_prompt, with_indices=True)\n",
    "\n",
    "data_train_no_tom = Dataset.from_pandas(df_train_no_tom)\n",
    "data_train_no_tom = data_train_no_tom.map(generate_prompt, with_indices=True)"
   ]
  },
  {
   "cell_type": "code",
   "execution_count": 62,
   "metadata": {},
   "outputs": [
    {
     "data": {
      "text/plain": [
       "Dataset({\n",
       "    features: ['question', 'answer', 'qprop=params', 'qprop=nth_order', 'qprop=non_unique_mental_state', 'sprop=is_false_belief_story_1st', 'sprop=is_false_belief_story_1st_and_2nd', 'sprop=story_accuracy_1st_raw', 'sprop=story_accuracy_1st_infilled', 'sprop=global_idx', 'param=story_type', 'param=num_stories_total', 'param=max_sentences', 'param=num_people', 'param=num_moves', 'param=num_rooms', 'data_source', 'prompt', 'ability', 'reward_model', 'extra_info', 'story', 'story_type'],\n",
       "    num_rows: 5324\n",
       "})"
      ]
     },
     "execution_count": 62,
     "metadata": {},
     "output_type": "execute_result"
    }
   ],
   "source": [
    "data_train"
   ]
  },
  {
   "cell_type": "code",
   "execution_count": 64,
   "metadata": {},
   "outputs": [
    {
     "name": "stderr",
     "output_type": "stream",
     "text": [
      "Creating parquet from Arrow format: 100%|██████████| 6/6 [00:00<00:00, 228.92ba/s]\n",
      "Creating parquet from Arrow format: 100%|██████████| 6/6 [00:00<00:00, 339.39ba/s]\n"
     ]
    },
    {
     "data": {
      "text/plain": [
       "15879144"
      ]
     },
     "execution_count": 64,
     "metadata": {},
     "output_type": "execute_result"
    }
   ],
   "source": [
    "test_data.to_parquet('cleaned_data/cleaned_test.parquet')\n",
    "data_train.to_parquet('cleaned_data/cleaned_train_384token.parquet')"
   ]
  },
  {
   "cell_type": "code",
   "execution_count": 65,
   "metadata": {},
   "outputs": [
    {
     "name": "stderr",
     "output_type": "stream",
     "text": [
      "Creating parquet from Arrow format: 100%|██████████| 2/2 [00:00<00:00, 425.62ba/s]\n",
      "Creating parquet from Arrow format: 100%|██████████| 5/5 [00:00<00:00, 350.61ba/s]\n"
     ]
    },
    {
     "data": {
      "text/plain": [
       "12427189"
      ]
     },
     "execution_count": 65,
     "metadata": {},
     "output_type": "execute_result"
    }
   ],
   "source": [
    "data_train_full_tom.to_parquet('cleaned_data/cleaned_train_ft_384.parquet')\n",
    "data_train_no_tom.to_parquet('cleaned_data/cleaned_train_nt_384.parquet')"
   ]
  },
  {
   "cell_type": "markdown",
   "metadata": {},
   "source": [
    "## Create Balanced Data"
   ]
  },
  {
   "cell_type": "code",
   "execution_count": 66,
   "metadata": {},
   "outputs": [],
   "source": [
    "dfnt = pd.DataFrame(data_train_no_tom)\n",
    "dfft = pd.DataFrame(data_train_full_tom)"
   ]
  },
  {
   "cell_type": "code",
   "execution_count": 68,
   "metadata": {},
   "outputs": [
    {
     "name": "stdout",
     "output_type": "stream",
     "text": [
      "1118\n"
     ]
    }
   ],
   "source": [
    "print(len(dfft))"
   ]
  },
  {
   "cell_type": "code",
   "execution_count": 72,
   "metadata": {},
   "outputs": [],
   "source": [
    "FT = 1118\n",
    "NT = 1200-FT"
   ]
  },
  {
   "cell_type": "code",
   "execution_count": 74,
   "metadata": {},
   "outputs": [
    {
     "data": {
      "text/html": [
       "<div>\n",
       "<style scoped>\n",
       "    .dataframe tbody tr th:only-of-type {\n",
       "        vertical-align: middle;\n",
       "    }\n",
       "\n",
       "    .dataframe tbody tr th {\n",
       "        vertical-align: top;\n",
       "    }\n",
       "\n",
       "    .dataframe thead th {\n",
       "        text-align: right;\n",
       "    }\n",
       "</style>\n",
       "<table border=\"1\" class=\"dataframe\">\n",
       "  <thead>\n",
       "    <tr style=\"text-align: right;\">\n",
       "      <th></th>\n",
       "      <th>ability</th>\n",
       "      <th>story</th>\n",
       "      <th>answer</th>\n",
       "      <th>prompt</th>\n",
       "    </tr>\n",
       "  </thead>\n",
       "  <tbody>\n",
       "    <tr>\n",
       "      <th>0</th>\n",
       "      <td>theory_of_mind</td>\n",
       "      <td>Kaitlyn entered the operations room. Kaitlyn m...</td>\n",
       "      <td>plastic storage bin</td>\n",
       "      <td>[{'content': 'You are a helpful assistant. The...</td>\n",
       "    </tr>\n",
       "    <tr>\n",
       "      <th>1</th>\n",
       "      <td>theory_of_mind</td>\n",
       "      <td>The student lounge was quiet, its worn couches...</td>\n",
       "      <td>canvas tote bag</td>\n",
       "      <td>[{'content': 'You are a helpful assistant. The...</td>\n",
       "    </tr>\n",
       "  </tbody>\n",
       "</table>\n",
       "</div>"
      ],
      "text/plain": [
       "          ability                                              story  \\\n",
       "0  theory_of_mind  Kaitlyn entered the operations room. Kaitlyn m...   \n",
       "1  theory_of_mind  The student lounge was quiet, its worn couches...   \n",
       "\n",
       "                answer                                             prompt  \n",
       "0  plastic storage bin  [{'content': 'You are a helpful assistant. The...  \n",
       "1      canvas tote bag  [{'content': 'You are a helpful assistant. The...  "
      ]
     },
     "execution_count": 74,
     "metadata": {},
     "output_type": "execute_result"
    }
   ],
   "source": [
    "dfn = dfnt.sample(n = NT, replace=False, ignore_index=True, random_state=42)\n",
    "df = pd.concat([dfn.loc[:, ['ability', 'story', 'answer', 'prompt']], dfft.loc[:, ['ability', 'story', 'answer', 'prompt']] ])\n",
    "df = df.sample(frac=1, replace=False, ignore_index=True)\n",
    "df.head(2)"
   ]
  },
  {
   "cell_type": "code",
   "execution_count": 76,
   "metadata": {},
   "outputs": [
    {
     "name": "stderr",
     "output_type": "stream",
     "text": [
      "Creating parquet from Arrow format: 100%|██████████| 2/2 [00:00<00:00, 709.70ba/s]\n"
     ]
    },
    {
     "data": {
      "text/plain": [
       "2398241"
      ]
     },
     "execution_count": 76,
     "metadata": {},
     "output_type": "execute_result"
    }
   ],
   "source": [
    "data =Dataset.from_pandas(df)\n",
    "data.to_parquet('cleaned_data/ToM_train_1.2k.parquet')"
   ]
  },
  {
   "cell_type": "code",
   "execution_count": null,
   "metadata": {},
   "outputs": [],
   "source": []
  }
 ],
 "metadata": {
  "kernelspec": {
   "display_name": "vllm",
   "language": "python",
   "name": "vllm"
  },
  "language_info": {
   "codemirror_mode": {
    "name": "ipython",
    "version": 3
   },
   "file_extension": ".py",
   "mimetype": "text/x-python",
   "name": "python",
   "nbconvert_exporter": "python",
   "pygments_lexer": "ipython3",
   "version": "3.10.16"
  }
 },
 "nbformat": 4,
 "nbformat_minor": 2
}
